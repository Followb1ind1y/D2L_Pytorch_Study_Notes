{
  "nbformat": 4,
  "nbformat_minor": 0,
  "metadata": {
    "colab": {
      "provenance": [],
      "authorship_tag": "ABX9TyMP/Bw5IxtWJrSVhYtZy7ld",
      "include_colab_link": true
    },
    "kernelspec": {
      "name": "python3",
      "display_name": "Python 3"
    },
    "language_info": {
      "name": "python"
    }
  },
  "cells": [
    {
      "cell_type": "markdown",
      "metadata": {
        "id": "view-in-github",
        "colab_type": "text"
      },
      "source": [
        "<a href=\"https://colab.research.google.com/github/Followb1ind1y/D2L_Pytorch_Study_Notes/blob/main/04_D2L_Linear_Neural_Networks_for_Classification.ipynb\" target=\"_parent\"><img src=\"https://colab.research.google.com/assets/colab-badge.svg\" alt=\"Open In Colab\"/></a>"
      ]
    },
    {
      "cell_type": "markdown",
      "source": [
        "# **Dive into Deep Learning 中文学习笔记**\n",
        "# **4. 用于分类的线性神经网络（Linear Neural Networks for Classification）**"
      ],
      "metadata": {
        "id": "ozqbg11CdAgB"
      }
    },
    {
      "cell_type": "markdown",
      "source": [
        "## **4.1. Softmax回归 （Softmax Regression）**"
      ],
      "metadata": {
        "id": "RFJA9Hdg-Lbi"
      }
    },
    {
      "cell_type": "markdown",
      "source": [
        "### **4.1.1. 分类问题（Classification）**\n",
        "\n",
        "让我们考虑一个简单的图像分类问题，其输入图像的高和宽均为2像素，且色彩为灰度。这样每个像素值都可以用一个标量表示。我们将图像中的 4 像素分别记为 $x_{1},x_{2},x_{3},x_{4}$ 。假设训练数据集中图像的真实标签为狗、猫或鸡（假设可以用4像素表示出这3种动物），这些标签分别对应离散值$y_{1},y_{2},y_{3}$。\n",
        "\n",
        "我们通常使用离散的数值来表示类别，例如 $y_{1}=1,y_{2}=2,y_{3}=3$。如此，一张图像的标签为1、2 和 3 这 3 个数值中的一个。虽然我们仍然可以使用回归模型来进行建模，并将预测值就近定点化到1、2 和 3 这3个离散值之一，但这种连续值到离散值的转化通常会影响到分类质量。因此我们一般使用更加适合离散值输出的模型来解决分类问题。\n",
        "\n",
        "一般来说，分类问题并不伴随着类别之间的自然排序。幸运的是，统计学家很早就发明了一种表示分类数据的简单方法：**独热编码（*one-hot encoding*）**。独热编码是一个具有与我们的类别一样多的分量的向量。在我们的例子中，一个标签 $y$ 将是一个三维向量，其中 $(1, 0, 0)$ 对应于 \"猫\"， $(0, 1, 0)$ 对应于 \"鸡\"，而 $(0, 0, 1)$ 对应于 \"狗\"。\n",
        "\n",
        "$$y \\in \\{(1, 0, 0), (0, 1, 0), (0, 0, 1)\\}.$$"
      ],
      "metadata": {
        "id": "r88CPA5E3vE_"
      }
    },
    {
      "cell_type": "markdown",
      "source": [
        "**4.1.1.1. 线性模型（Linear Model）**\n",
        "\n",
        "softmax 回归跟线性回归一样将输入特征与权重做线性叠加。与线性回归的一个主要不同在于，softmax 回归的**输出值个数等于标签里的类别数**。因为一共有4种特征和3种输出动物类别，所以权重包含 12 个标量（带下标的 $w$）、偏差包含 3 个标量（带下标的 $b$），且对每个输入计算 $o_{1},o_{2},o_{3}$ 这 3 个输出：\n",
        "\n",
        "$$\n",
        "\\begin{aligned}\n",
        "o_1 &= x_1 w_{11} + x_2 w_{12} + x_3 w_{13} + x_4 w_{14} + b_1,\\\\\n",
        "o_2 &= x_1 w_{21} + x_2 w_{22} + x_3 w_{23} + x_4 w_{24} + b_2,\\\\\n",
        "o_3 &= x_1 w_{31} + x_2 w_{32} + x_3 w_{33} + x_4 w_{34} + b_3.\n",
        "\\end{aligned}\n",
        "$$\n",
        "\n",
        "softmax回归同线性回归一样，也是一个单层神经网络。由于每个输出 $o_{1},o_{2},o_{3}$ 的计算都要依赖于所有的输入 $x_{1},x_{2},x_{3},x_{4}$，softmax 回归的输出层也是一个 **全连接层（*fully connected layer*）**。\n",
        "\n",
        "<center><img src=\"https://drive.google.com/uc?export=view&id=11XSSTN2oC4wIboGgNdbR1Bh0laCFw5RL\" width=450px /></center>\n",
        "\n",
        "\n",
        "为了更简洁的记号，我们使用向量和矩阵。$\\mathbf{o} = \\mathbf{W} \\mathbf{x} + \\mathbf{b}$ 更适用于数学和代码。请注意，我们把所有的权重都集中到一个 $\\mathbf{o} = \\mathbf{W} \\mathbf{x} + \\mathbf{b}$ 的矩阵中，把所有的偏差 $\\mathbf{b} \\in \\mathbb{R}^3$ 集中到一个向量中。"
      ],
      "metadata": {
        "id": "omjDDSVr4QyS"
      }
    },
    {
      "cell_type": "markdown",
      "source": [
        "**4.1.1.2. Softmax函数（The Softmax）**\n",
        "\n",
        "虽然事实证明，将分类作为一个向量值回归问题，效果出奇的好，但它还是有以下不足之处：\n",
        "\n",
        "* 不能保证 输出 $o_i$ 的总和为1，而这是我们期望的概率的表现。\n",
        "* 不能保证输出 $o_i$ 甚至是非负的，即使它们的输出相加为1，或者不超过1。\n",
        "\n",
        "实现这一目标（并确保非负性）的一种方法是使用指数函数 $P(y = i) \\propto \\exp o_i$。这确实满足了条件类概率随着 $o_i$ 的增加而增加的要求，它是单调的，而且所有概率都是非负的。然后，我们可以通过将这些值除以它们的总和，使它们加起来等于1。这个过程被称为 **归一化（*normalization*）**。把这两部分放在一起，我们就得到了 Softmax 函数：\n",
        "\n",
        "$$\\hat{\\mathbf{y}} = \\mathrm{softmax}(\\mathbf{o}) \\quad \\text{where}\\quad \\hat{y}_i = \\frac{\\exp(o_i)}{\\sum_j \\exp(o_j)}.$$\n",
        "\n",
        "请注意，$o$ 的最大坐标对应于根据 $\\hat{y}$ 的最大可能的类别。此外，由于 softmax 操作保留了其参数之间的排序，我们不需要计算 softmax 来确定哪个类被分配了最高的概率。\n",
        "\n",
        "$$\\operatorname*{argmax}_j \\hat y_j = \\operatorname*{argmax}_j o_j$$"
      ],
      "metadata": {
        "id": "OdcQmkXB6etl"
      }
    },
    {
      "cell_type": "markdown",
      "source": [
        "**4.1.1.3. 矢量化（Vectorization）**\n",
        "\n",
        "为了提高计算效率，我们可以将单样本分类通过矢量计算来表达。在上面的图像分类问题中，假设softmax回归的权重和偏差参数分别为\n",
        "\n",
        "$$\n",
        "W = \n",
        "\\begin{bmatrix}\n",
        "    w_{11} & w_{12} & w_{13} \\\\\n",
        "    w_{21} & w_{22} & w_{23} \\\\\n",
        "    w_{31} & w_{32} & w_{33} \\\\\n",
        "    w_{41} & w_{42} & w_{43}\n",
        "\\end{bmatrix},\\quad\n",
        "b = \n",
        "\\begin{bmatrix}\n",
        "    b_1 & b_2 & b_3\n",
        "\\end{bmatrix},\n",
        "$$\n",
        "\n",
        "设高和宽分别为2个像素的图像样本 $i$ 的特征为\n",
        "\n",
        "$$x^{(i)} = \\begin{bmatrix}x_1^{(i)} & x_2^{(i)} & x_3^{(i)} & x_4^{(i)}\\end{bmatrix},$$\n",
        "\n",
        "输出层的输出为\n",
        "\n",
        "$${o}^{(i)} = \\begin{bmatrix}o_1^{(i)} & o_2^{(i)} & o_3^{(i)}\\end{bmatrix},$$\n",
        "\n",
        "预测为狗、猫或鸡的概率分布为\n",
        "\n",
        "$$\\hat{y}^{(i)} = \\begin{bmatrix}\\hat{y}_1^{(i)} & \\hat{y}_2^{(i)} & \\hat{y}_3^{(i)}\\end{bmatrix}.$$\n",
        "\n",
        "\n",
        "softmax 回归对样本 $i$ 分类的矢量计算表达式为\n",
        "\n",
        "$$ \\begin{aligned} o^{(i)} &= x^{(i)} \\mathbf{W} + b, \\\\ \\hat{y}^{(i)} & = \\mathrm{softmax}(o^{(i)}). \\end{aligned} $$"
      ],
      "metadata": {
        "id": "D-fA-Ji6mEf1"
      }
    },
    {
      "cell_type": "markdown",
      "source": [
        "### **4.1.2. 损失函数（Loss Function）**\n",
        "\n",
        "现在我们有一个从特征 $x$ 到概率 $\\hat{y}$ 的映射，我们需要一种方法来优化这个映射的准确性。我们将依靠 **最大似然估计（*maximum likelihood estimation*）**，这与我们在为平均平方误差损失提供概率性理由时遇到的概念相同。"
      ],
      "metadata": {
        "id": "QyFJ5KUhmg_4"
      }
    },
    {
      "cell_type": "markdown",
      "source": [
        "**4.1.2.1. 对数似然方程（Log-Likelihood）**\n",
        "\n",
        "Softmax 函数给出了一个向量 $\\hat{\\mathbf{y}}$，我们可以将其解释为在任何输入 $\\mathbf{x}$ 的情况下，每个类别的（估计）条件概率，例如 $\\hat{y}_1$ = $P(y=\\text{cat} \\mid \\mathbf{x})$。我们假设对于一个具有特征 $\\mathbf{X}$ 的数据集，标签 $\\mathbf{Y}$ 是用一个独热编码的标签向量来表示。我们可以通过检查在给定特征的情况下，根据我们的模型，实际类别的可能性有多大来比较估计值和现实。\n",
        "\n",
        "$$\n",
        "P(\\mathbf{Y} \\mid \\mathbf{X}) = \\prod_{i=1}^n P(\\mathbf{y}^{(i)} \\mid \\mathbf{x}^{(i)}).\n",
        "$$\n",
        "\n",
        "我们被允许使用因子化，因为我们假设每个标签是独立地从其各自的分布  $P(\\mathbf{y}\\mid\\mathbf{x}^{(i)})$ 中抽取的。由于最大化项的乘积是很尴尬的，我们采取负对数的方式来得到最小化负对数可能性的等效问题。\n",
        "\n",
        "$$\n",
        "-\\log P(\\mathbf{Y} \\mid \\mathbf{X}) = \\sum_{i=1}^n -\\log P(\\mathbf{y}^{(i)} \\mid \\mathbf{x}^{(i)})\n",
        "= \\sum_{i=1}^n l(\\mathbf{y}^{(i)}, \\hat{\\mathbf{y}}^{(i)}),\n",
        "$$\n",
        "\n",
        "其中，对于任何一对标签 $\\mathbf{y}$ 和模型预测 $\\hat{\\mathbf{y}}$ 在 $q$ 类上，损失函数 $l$ 为\n",
        "\n",
        "$$ l(\\mathbf{y}, \\hat{\\mathbf{y}}) = - \\sum_{j=1}^q y_j \\log \\hat{y}_j. $$\n",
        "\n",
        "这个损失函数通常被称为 **交叉熵损失（*cross-entropy loss*）**。其中 $y_{j}$ 为非 0 即 1 的元素，并且其中只有一个元素为 1， 其余全为 0。也就是说，**交叉熵只关心对正确类别的预测概率**，因为只要其值足够大，就可以确保分类结果正确。**最小化交叉熵损失函数等价于最大化训练数据集所有标签类别的联合预测概率**。\n"
      ],
      "metadata": {
        "id": "xXML-NcinPTg"
      }
    },
    {
      "cell_type": "markdown",
      "source": [
        "**4.1.2.2. Softmax 函数和交叉熵损失（Softmax and Cross-Entropy Loss）**\n",
        "\n",
        "将 softmax 插入交叉熵损失，并使用 softmax 的定义，我们得到了：\n",
        "\n",
        "$$\n",
        "\\begin{aligned}\n",
        "l(\\mathbf{y}, \\hat{\\mathbf{y}}) &=  - \\sum_{j=1}^q y_j \\log \\frac{\\exp(o_j)}{\\sum_{k=1}^q \\exp(o_k)} \\\\\n",
        "&= \\sum_{j=1}^q y_j \\log \\sum_{k=1}^q \\exp(o_k) - \\sum_{j=1}^q y_j o_j \\\\\n",
        "&= \\log \\sum_{k=1}^q \\exp(o_k) - \\sum_{j=1}^q y_j o_j.\n",
        "\\end{aligned}\n",
        "$$"
      ],
      "metadata": {
        "id": "WyT6N-u0n10K"
      }
    },
    {
      "cell_type": "markdown",
      "source": [
        "### **4.1.3. 信息论基础知识（Information Theory Basics）**\n",
        "\n",
        "**信息理论（*Information theory*）**处理的是编码、解码、传输和操纵信息（也称为数据）的问题。"
      ],
      "metadata": {
        "id": "o4NUG6Tlotqj"
      }
    },
    {
      "cell_type": "markdown",
      "source": [
        "**4.1.3.1. 熵（Entropy）**\n",
        "\n",
        "信息理论的核心思想是**量化数据中包含的信息量**。这给我们压缩数据的能力带来了限制。对于一个分布 $P$，其 **熵（*entropy*）** 定义为：\n",
        "\n",
        "$$H[P] = \\sum_j - P(j) \\log P(j).$$\n"
      ],
      "metadata": {
        "id": "2kimYfYso7V5"
      }
    },
    {
      "cell_type": "markdown",
      "source": [
        "**4.1.3.2. 惊讶值（Surprisal）**\n",
        "\n",
        "想象一下，我们有一个我们想要压缩的数据流。如果我们总是很容易预测下一个事件，那么这个数据就很容易压缩。\n",
        "\n",
        "然而，如果我们不能完美地预测每个事件，那么我们有时可能会感到惊讶。当被我们赋予较低概率的一个事件发生时，我们的惊讶会更大。Claude Shannon 用 $\\log \\frac{1}{P(j)} = -\\log P(j)$ 来量化在观察到一个事件 $j$ 时的 **惊讶程度（*surprisal*）**，他给它分配了一个（主观的）概率 $P(j)$。那么，熵就是当人们分配了真正符合数据生成过程的正确概率时的 **预期惊讶值（*expected surprisal*）**。"
      ],
      "metadata": {
        "id": "jQBa2QJupeHU"
      }
    },
    {
      "cell_type": "markdown",
      "source": [
        "**4.1.3.3. 重新审视交叉熵（Cross-Entropy Revisited）**\n",
        "\n",
        "从 $P$ 到 $Q$ 的交叉熵，表示为 $H(P, Q)$，是具有主观概率 $Q$ 的观察者在看到根据概率 $P$ 实际生成的数据时的预期惊讶值。这由  $H(P, Q) \\stackrel{\\mathrm{def}}{=} \\sum_j - P(j) \\log Q(j)$ 得出。当 $P=Q$ 时，交叉熵达到最低可能。在这种情况下，从 $P$ 到 $Q$ 的交叉熵是 $H(P, P)= H(P)$ 。\n",
        "\n",
        "简而言之，我们可以从两个方面来考虑交叉熵分类的目标：(i) 将观察到的数据的可能性最大化；(ii) 将我们传达标签所需的惊讶程度（以及由此产生的比特数）最小化。"
      ],
      "metadata": {
        "id": "pbWfAmzeqSak"
      }
    },
    {
      "cell_type": "markdown",
      "source": [
        "## **4.2. 图像分类数据集（The Image Classification Dataset）**"
      ],
      "metadata": {
        "id": "jU_WZ-q5CgKv"
      }
    },
    {
      "cell_type": "markdown",
      "source": [
        "### **4.2.1. 加载数据集（Loading the Dataset）**"
      ],
      "metadata": {
        "id": "9P7dpSW_CmK9"
      }
    },
    {
      "cell_type": "code",
      "source": [
        "%matplotlib inline\n",
        "import time\n",
        "import torch\n",
        "import torchvision\n",
        "from torch import nn\n",
        "from torch.nn import functional as F\n",
        "from torchvision import transforms\n",
        "from d2l import torch as d2l\n",
        "\n",
        "d2l.use_svg_display()"
      ],
      "metadata": {
        "id": "dUz9Q9K59ucS"
      },
      "execution_count": null,
      "outputs": []
    },
    {
      "cell_type": "code",
      "source": [
        "class FashionMNIST(d2l.DataModule):\n",
        "    def __init__(self, batch_size=64, resize=(28, 28)):\n",
        "        super().__init__()\n",
        "        self.save_hyperparameters()\n",
        "        trans = transforms.Compose([transforms.Resize(resize),\n",
        "                                    transforms.ToTensor()])\n",
        "        self.train = torchvision.datasets.FashionMNIST(\n",
        "            root=self.root, train=True, transform=trans, download=True)\n",
        "        self.val = torchvision.datasets.FashionMNIST(\n",
        "            root=self.root, train=False, transform=trans, download=True)"
      ],
      "metadata": {
        "id": "VTAbZtm8CsIC"
      },
      "execution_count": 3,
      "outputs": []
    },
    {
      "cell_type": "markdown",
      "source": [
        "`Fashion-MNIST` 由 10 个类别的图像组成，每个类别在训练数据集中由 6,000 张图像代表，在测试数据集中由 1,000 张代表。测试数据集被用来评估模型的性能（它不能被用来训练）。因此，训练集和测试集分别包含 60,000 和 10,000 张图像。"
      ],
      "metadata": {
        "id": "5VSGuHx0DH7F"
      }
    },
    {
      "cell_type": "code",
      "source": [
        "data = FashionMNIST(resize=(32, 32))"
      ],
      "metadata": {
        "id": "vSiO-hpQC_nx"
      },
      "execution_count": null,
      "outputs": []
    },
    {
      "cell_type": "code",
      "source": [
        "len(data.train), len(data.val)"
      ],
      "metadata": {
        "colab": {
          "base_uri": "https://localhost:8080/"
        },
        "id": "QqkU-e4ZDJd_",
        "outputId": "f590b749-4668-4bfd-a351-ff5e913db1b0"
      },
      "execution_count": 5,
      "outputs": [
        {
          "output_type": "execute_result",
          "data": {
            "text/plain": [
              "(60000, 10000)"
            ]
          },
          "metadata": {},
          "execution_count": 5
        }
      ]
    },
    {
      "cell_type": "markdown",
      "source": [
        "这些图像是灰度的，并在上面的分辨率中放大到 $32 \\times 32$ 像素。这与最初的 `MNIST` 数据集相似，后者由（二进制）黑白图像组成。但请注意，大多数现代图像数据有 3 个通道（红、绿、蓝），高光谱图像可以有超过 100 个通道。按照惯例，我们将图像存储为一个 $c \\times h \\times w$ 张量，其中 $c$ 是颜色通道的数量，$h$ 是高度，$w$ 是宽度。\n"
      ],
      "metadata": {
        "id": "tzrY1vHYDmMt"
      }
    },
    {
      "cell_type": "code",
      "source": [
        "data.train[0][0].shape"
      ],
      "metadata": {
        "colab": {
          "base_uri": "https://localhost:8080/"
        },
        "id": "XhtPlgE2DPSI",
        "outputId": "49e80fc9-2987-4b2e-9414-221f4e58b071"
      },
      "execution_count": 6,
      "outputs": [
        {
          "output_type": "execute_result",
          "data": {
            "text/plain": [
              "torch.Size([1, 32, 32])"
            ]
          },
          "metadata": {},
          "execution_count": 6
        }
      ]
    },
    {
      "cell_type": "markdown",
      "source": [
        "`Fashion-MNIST` 的类别有人类可以理解的名称。下面的函数将数字标签和其名称之间进行转换。"
      ],
      "metadata": {
        "id": "3qzVewo8Dunr"
      }
    },
    {
      "cell_type": "code",
      "source": [
        "@d2l.add_to_class(FashionMNIST)\n",
        "def text_labels(self, indices):\n",
        "    \"\"\"Return text labels.\"\"\"\n",
        "    labels = ['t-shirt', 'trouser', 'pullover', 'dress', 'coat',\n",
        "              'sandal', 'shirt', 'sneaker', 'bag', 'ankle boot']\n",
        "    return [labels[int(i)] for i in indices]"
      ],
      "metadata": {
        "id": "M38DxtSHDpF-"
      },
      "execution_count": 7,
      "outputs": []
    },
    {
      "cell_type": "markdown",
      "source": [
        "### **4.2.2. 读取一个迷你批次（Reading a Minibatch）**\n",
        "\n",
        "为了使我们在读取训练集和测试集时更容易，我们使用内置的数据迭代器，而不是从头开始创建一个。回顾一下，在每次迭代中，数据迭代器都会读取一个大小为 `batch_size` 的迷你批数据。我们还为训练数据迭代器随机地打乱了一下输入图片。在实践中，数据读取经常是训练的性能瓶颈，特别当模型较简单或者计算硬件性能较高时。PyTorch 的 `DataLoader` 中一个很方便的功能是允许使用多进程来加速数据读取。这里我们通过参数 `num_workers` 来设置4个进程读取数据。"
      ],
      "metadata": {
        "id": "IFeRb0x-D6X1"
      }
    },
    {
      "cell_type": "code",
      "source": [
        "@d2l.add_to_class(FashionMNIST)\n",
        "def get_dataloader(self, train):\n",
        "    data = self.train if train else self.val\n",
        "    return torch.utils.data.DataLoader(data, self.batch_size, shuffle=train,\n",
        "                                       num_workers=self.num_workers)"
      ],
      "metadata": {
        "id": "lBzBXvbEDv9c"
      },
      "execution_count": 8,
      "outputs": []
    },
    {
      "cell_type": "code",
      "source": [
        "X, y = next(iter(data.train_dataloader()))\n",
        "print(X.shape, X.dtype, y.shape, y.dtype)"
      ],
      "metadata": {
        "id": "cq7ej6wSEVfs"
      },
      "execution_count": null,
      "outputs": []
    },
    {
      "cell_type": "code",
      "source": [
        "tic = time.time()\n",
        "for X, y in data.train_dataloader():\n",
        "    continue\n",
        "f'{time.time() - tic:.2f} sec'"
      ],
      "metadata": {
        "colab": {
          "base_uri": "https://localhost:8080/",
          "height": 35
        },
        "id": "Il-C7Vi7EgpI",
        "outputId": "4e57e2be-a867-4b19-9366-d7b71630a42f"
      },
      "execution_count": 10,
      "outputs": [
        {
          "output_type": "execute_result",
          "data": {
            "text/plain": [
              "'12.45 sec'"
            ],
            "application/vnd.google.colaboratory.intrinsic+json": {
              "type": "string"
            }
          },
          "metadata": {},
          "execution_count": 10
        }
      ]
    },
    {
      "cell_type": "markdown",
      "source": [
        "### **4.2.3. 可视化（Visualization）**"
      ],
      "metadata": {
        "id": "wnxku4ISFr5M"
      }
    },
    {
      "cell_type": "code",
      "source": [
        "def show_images(imgs, num_rows, num_cols, titles=None, scale=1.5):\n",
        "    \"\"\"Plot a list of images.\"\"\"\n",
        "    raise NotImplementedError"
      ],
      "metadata": {
        "id": "JAswrL5sE5eW"
      },
      "execution_count": 11,
      "outputs": []
    },
    {
      "cell_type": "code",
      "source": [
        "@d2l.add_to_class(FashionMNIST)\n",
        "def visualize(self, batch, nrows=1, ncols=8, labels=[]):\n",
        "    X, y = batch\n",
        "    if not labels:\n",
        "        labels = self.text_labels(y)\n",
        "    d2l.show_images(X.squeeze(1), nrows, ncols, titles=labels)\n",
        "batch = next(iter(data.val_dataloader()))\n",
        "data.visualize(batch)"
      ],
      "metadata": {
        "id": "TPAOuFdGFwX-"
      },
      "execution_count": null,
      "outputs": []
    },
    {
      "cell_type": "markdown",
      "source": [
        "##**4.3. 基础分类模型（The Base Classification Model）**"
      ],
      "metadata": {
        "id": "3dBx4_6JGLr6"
      }
    },
    {
      "cell_type": "markdown",
      "source": [
        "### **4.3.1. 分类器（The Classifier Class）**\n",
        "\n",
        "我们在下面定义分类器类（`Classifier` class）。在 `validation_step` 中，我们报告一个验证批次的损失值和分类准确度。我们为每一个 `num_val_batches` 批次进行一个更新。这样做的好处是在整个验证数据上产生平均的损失和准确率。如果最后一批包含较少的例子，这些平均数并不完全正确，但我们忽略了这个微小的差异，以保持代码的简单。"
      ],
      "metadata": {
        "id": "Z3kMJwBSGjEw"
      }
    },
    {
      "cell_type": "code",
      "source": [
        "class Classifier(d2l.Module):\n",
        "    def validation_step(self, batch):\n",
        "        Y_hat = self(*batch[:-1])\n",
        "        self.plot('loss', self.loss(Y_hat, batch[-1]), train=False)\n",
        "        self.plot('acc', self.accuracy(Y_hat, batch[-1]), train=False)"
      ],
      "metadata": {
        "id": "x3AKFIGoF5p6"
      },
      "execution_count": 13,
      "outputs": []
    },
    {
      "cell_type": "markdown",
      "source": [
        "默认情况下，我们使用小批次随机梯度下降优化器。"
      ],
      "metadata": {
        "id": "AWL32Aw6Gv0C"
      }
    },
    {
      "cell_type": "code",
      "source": [
        "@d2l.add_to_class(d2l.Module)\n",
        "def configure_optimizers(self):\n",
        "    return torch.optim.SGD(self.parameters(), lr=self.lr)"
      ],
      "metadata": {
        "id": "u0C8_ZmSGrix"
      },
      "execution_count": 14,
      "outputs": []
    },
    {
      "cell_type": "markdown",
      "source": [
        "### **4.3.2. 准确率（Accuracy）**\n",
        "\n",
        "**准确率（*accuracy*）** 是所有预测中正确的部分。尽管直接优化准确率可能很困难（**它是不可分的**），但它往往是我们最关心的性能指标。它通常是基准中的相关数量。因此，我们几乎总是在训练分类器时报告它。"
      ],
      "metadata": {
        "id": "ZPD81w5lG0V-"
      }
    },
    {
      "cell_type": "code",
      "source": [
        "@d2l.add_to_class(Classifier)\n",
        "def accuracy(self, Y_hat, Y, averaged=True):\n",
        "    \"\"\"Compute the number of correct predictions.\"\"\"\n",
        "    Y_hat = Y_hat.reshape((-1, Y_hat.shape[-1]))\n",
        "    preds = Y_hat.argmax(axis=1).type(Y.dtype)\n",
        "    compare = (preds == Y.reshape(-1)).type(torch.float32)\n",
        "    return compare.mean() if averaged else compare"
      ],
      "metadata": {
        "id": "2N2_yYdGGyLT"
      },
      "execution_count": 15,
      "outputs": []
    },
    {
      "cell_type": "markdown",
      "source": [
        "## **4.4. Softmax回归的从零开始实现 (Softmax Regression Implementation from Scratch)**"
      ],
      "metadata": {
        "id": "67I5foXSHgRa"
      }
    },
    {
      "cell_type": "markdown",
      "source": [
        "### **4.4.1. Softmax函数（The Softmax）**\n",
        "\n",
        "\n",
        "给定一个矩阵 $X$，我们可以对所有元素求和（默认情况下），或者只对同一轴（`axis`）上的元素求和。轴变量（`axis`）可以让我们计算行和列的总和："
      ],
      "metadata": {
        "id": "j65GSVQoMaQH"
      }
    },
    {
      "cell_type": "code",
      "source": [
        "X = torch.tensor([[1.0, 2.0, 3.0], [4.0, 5.0, 6.0]])\n",
        "X.sum(0, keepdims=True), X.sum(1, keepdims=True)"
      ],
      "metadata": {
        "colab": {
          "base_uri": "https://localhost:8080/"
        },
        "id": "zE3qY3o8HTTj",
        "outputId": "3f67bb6b-8407-4a29-9782-02ec461ee43d"
      },
      "execution_count": 16,
      "outputs": [
        {
          "output_type": "execute_result",
          "data": {
            "text/plain": [
              "(tensor([[5., 7., 9.]]), tensor([[ 6.],\n",
              "         [15.]]))"
            ]
          },
          "metadata": {},
          "execution_count": 16
        }
      ]
    },
    {
      "cell_type": "markdown",
      "source": [
        "计算softmax需要三个步骤。(i) 对每项进行指数化；(ii) 对每行进行求和，以计算每个例子的归一化常数；(iii) 每行除以其归一化常数，确保结果的和为1。\n",
        "\n",
        "$$\\mathrm{softmax}(\\mathbf{X})_{ij} = \\frac{\\exp(\\mathbf{X}_{ij})}{\\sum_k \\exp(\\mathbf{X}_{ik})}.$$\n"
      ],
      "metadata": {
        "id": "iCX51JOGM52F"
      }
    },
    {
      "cell_type": "code",
      "source": [
        "def softmax(X):\n",
        "    X_exp = torch.exp(X)\n",
        "    partition = X_exp.sum(1, keepdims=True)\n",
        "    return X_exp / partition  # The broadcasting mechanism is applied here"
      ],
      "metadata": {
        "id": "wpuE3bxtMm5U"
      },
      "execution_count": 17,
      "outputs": []
    },
    {
      "cell_type": "markdown",
      "source": [
        "对于任何输入的 $X$，我们把每个元素变成一个非负数。每一行的总和都是1，这是概率的要求。"
      ],
      "metadata": {
        "id": "7nq8-O_7NGxd"
      }
    },
    {
      "cell_type": "code",
      "source": [
        "X = torch.rand((2, 5))\n",
        "X_prob = softmax(X)\n",
        "X_prob, X_prob.sum(1)"
      ],
      "metadata": {
        "colab": {
          "base_uri": "https://localhost:8080/"
        },
        "id": "lMpmRAvmNAE8",
        "outputId": "67baafc3-5c3b-4627-ed7d-6b14ae5c69ea"
      },
      "execution_count": 18,
      "outputs": [
        {
          "output_type": "execute_result",
          "data": {
            "text/plain": [
              "(tensor([[0.1679, 0.2994, 0.2653, 0.1415, 0.1259],\n",
              "         [0.1512, 0.1721, 0.1404, 0.2629, 0.2734]]), tensor([1.0000, 1.0000]))"
            ]
          },
          "metadata": {},
          "execution_count": 18
        }
      ]
    },
    {
      "cell_type": "markdown",
      "source": [
        "### **4.4.2. 模型（The Model）**\n",
        "\n",
        "与我们的线性回归例子一样，每个实例将由一个固定长度的向量表示。由于这里的原始数据由 $28 \\times 28$ 像素的图像组成，（我们把每张图像压扁，把它们当作长度为 784 的向量。）\n",
        "\n",
        "在 softmax 回归中，我们的网络输出的数量应该与类的数量相等。(由于我们的数据集有 10 个类，我们的网络的输出维度为 10 ）。因此，我们的权重构成了一个 $784 \\times 10$ 的矩阵，再加上一个 $1 \\times 10$ 维的行向量作为偏差。与线性回归一样，我们用高斯噪声初始化权重 `W`。偏差被初始化为零。\n"
      ],
      "metadata": {
        "id": "BkDyQUAyNOkY"
      }
    },
    {
      "cell_type": "code",
      "source": [
        "class SoftmaxRegressionScratch(d2l.Classifier):\n",
        "    def __init__(self, num_inputs, num_outputs, lr, sigma=0.01):\n",
        "        super().__init__()\n",
        "        self.save_hyperparameters()\n",
        "        self.W = torch.normal(0, sigma, size=(num_inputs, num_outputs),\n",
        "                              requires_grad=True)\n",
        "        self.b = torch.zeros(num_outputs, requires_grad=True)\n",
        "\n",
        "    def parameters(self):\n",
        "        return [self.W, self.b]"
      ],
      "metadata": {
        "id": "fufg7h9PNIJ2"
      },
      "execution_count": 19,
      "outputs": []
    },
    {
      "cell_type": "markdown",
      "source": [
        "下面的代码定义了网络如何将每个输入映射到输出。请注意，在将数据传递给我们的模型之前，我们用 `reshape` 将批处理中的每张 $28 \\times 28$ 像素的图像平铺成一个矢量。\n"
      ],
      "metadata": {
        "id": "092z4xwvNuhW"
      }
    },
    {
      "cell_type": "code",
      "source": [
        "@d2l.add_to_class(SoftmaxRegressionScratch)\n",
        "def forward(self, X):\n",
        "    return softmax(torch.matmul(X.reshape((-1, self.W.shape[0])), self.W) + self.b)"
      ],
      "metadata": {
        "id": "NrdTqqmFNoCJ"
      },
      "execution_count": 20,
      "outputs": []
    },
    {
      "cell_type": "markdown",
      "source": [
        "### **4.4.3. 交叉熵损失（The Cross-Entropy Loss）**\n",
        "\n",
        "接下来我们需要实现交叉熵损失函数。这可能是所有深度学习中最常见的损失函数。目前，深度学习在分类问题上的应用远远超过了那些被视为回归问题的应用。\n",
        "\n",
        "我们创建了样本数据 `y_hat`，其中有 2 个预测概率的例子，涉及 3 个类和它们相应的标签 `y`，正确的标签分别是 0 和 2（即第一和第三类）。使用 `y` 作为 `y_hat` 中概率的索引，我们可以有效地挑选出他们。\n"
      ],
      "metadata": {
        "id": "S1FTI00KN_sr"
      }
    },
    {
      "cell_type": "code",
      "source": [
        "y = torch.tensor([0, 2])\n",
        "y_hat = torch.tensor([[0.1, 0.3, 0.6], [0.3, 0.2, 0.5]])\n",
        "y_hat[[0, 1], y]"
      ],
      "metadata": {
        "colab": {
          "base_uri": "https://localhost:8080/"
        },
        "id": "Bf1-R-I7NwIH",
        "outputId": "e791f5e3-7b74-4623-f4fa-02fabc252f51"
      },
      "execution_count": 21,
      "outputs": [
        {
          "output_type": "execute_result",
          "data": {
            "text/plain": [
              "tensor([0.1000, 0.5000])"
            ]
          },
          "metadata": {},
          "execution_count": 21
        }
      ]
    },
    {
      "cell_type": "markdown",
      "source": [
        "现在我们可以通过对所选概率的对数取平均值来实现交叉熵损失函数。"
      ],
      "metadata": {
        "id": "lmQQVztvPZX4"
      }
    },
    {
      "cell_type": "code",
      "source": [
        "def cross_entropy(y_hat, y):\n",
        "    return - torch.log(y_hat[list(range(len(y_hat))), y]).mean()\n",
        "\n",
        "cross_entropy(y_hat, y)"
      ],
      "metadata": {
        "colab": {
          "base_uri": "https://localhost:8080/"
        },
        "id": "lf6Tz_p_PXBy",
        "outputId": "278edf87-9044-45ef-beae-f249450c5b4a"
      },
      "execution_count": 22,
      "outputs": [
        {
          "output_type": "execute_result",
          "data": {
            "text/plain": [
              "tensor(1.4979)"
            ]
          },
          "metadata": {},
          "execution_count": 22
        }
      ]
    },
    {
      "cell_type": "code",
      "source": [
        "@d2l.add_to_class(SoftmaxRegressionScratch)\n",
        "def loss(self, y_hat, y):\n",
        "    return cross_entropy(y_hat, y)"
      ],
      "metadata": {
        "id": "9--HyHy3PbzM"
      },
      "execution_count": 23,
      "outputs": []
    },
    {
      "cell_type": "markdown",
      "source": [
        "###**4.4.4. 训练（Training）**"
      ],
      "metadata": {
        "id": "_P1OnHA7Pisx"
      }
    },
    {
      "cell_type": "code",
      "source": [
        "data = d2l.FashionMNIST(batch_size=256)\n",
        "model = SoftmaxRegressionScratch(num_inputs=784, num_outputs=10, lr=0.1)\n",
        "trainer = d2l.Trainer(max_epochs=10)\n",
        "trainer.fit(model, data)"
      ],
      "metadata": {
        "colab": {
          "base_uri": "https://localhost:8080/",
          "height": 262
        },
        "id": "nfnnvMUJPdzU",
        "outputId": "ec57084b-c7a1-4c10-bca0-ff383a148204"
      },
      "execution_count": 24,
      "outputs": [
        {
          "output_type": "display_data",
          "data": {
            "text/plain": [
              "<Figure size 252x180 with 1 Axes>"
            ],
            "image/svg+xml": "<?xml version=\"1.0\" encoding=\"utf-8\" standalone=\"no\"?>\n<!DOCTYPE svg PUBLIC \"-//W3C//DTD SVG 1.1//EN\"\n  \"http://www.w3.org/Graphics/SVG/1.1/DTD/svg11.dtd\">\n<!-- Created with matplotlib (https://matplotlib.org/) -->\n<svg height=\"180.65625pt\" version=\"1.1\" viewBox=\"0 0 238.965625 180.65625\" width=\"238.965625pt\" xmlns=\"http://www.w3.org/2000/svg\" xmlns:xlink=\"http://www.w3.org/1999/xlink\">\n <defs>\n  <style type=\"text/css\">\n*{stroke-linecap:butt;stroke-linejoin:round;}\n  </style>\n </defs>\n <g id=\"figure_1\">\n  <g id=\"patch_1\">\n   <path d=\"M 0 180.65625 \nL 238.965625 180.65625 \nL 238.965625 0 \nL 0 0 \nz\n\" style=\"fill:none;\"/>\n  </g>\n  <g id=\"axes_1\">\n   <g id=\"patch_2\">\n    <path d=\"M 30.103125 143.1 \nL 225.403125 143.1 \nL 225.403125 7.2 \nL 30.103125 7.2 \nz\n\" style=\"fill:#ffffff;\"/>\n   </g>\n   <g id=\"matplotlib.axis_1\">\n    <g id=\"xtick_1\">\n     <g id=\"line2d_1\">\n      <defs>\n       <path d=\"M 0 0 \nL 0 3.5 \n\" id=\"m75c67fcd06\" style=\"stroke:#000000;stroke-width:0.8;\"/>\n      </defs>\n      <g>\n       <use style=\"stroke:#000000;stroke-width:0.8;\" x=\"30.103125\" xlink:href=\"#m75c67fcd06\" y=\"143.1\"/>\n      </g>\n     </g>\n     <g id=\"text_1\">\n      <!-- 0 -->\n      <defs>\n       <path d=\"M 31.78125 66.40625 \nQ 24.171875 66.40625 20.328125 58.90625 \nQ 16.5 51.421875 16.5 36.375 \nQ 16.5 21.390625 20.328125 13.890625 \nQ 24.171875 6.390625 31.78125 6.390625 \nQ 39.453125 6.390625 43.28125 13.890625 \nQ 47.125 21.390625 47.125 36.375 \nQ 47.125 51.421875 43.28125 58.90625 \nQ 39.453125 66.40625 31.78125 66.40625 \nz\nM 31.78125 74.21875 \nQ 44.046875 74.21875 50.515625 64.515625 \nQ 56.984375 54.828125 56.984375 36.375 \nQ 56.984375 17.96875 50.515625 8.265625 \nQ 44.046875 -1.421875 31.78125 -1.421875 \nQ 19.53125 -1.421875 13.0625 8.265625 \nQ 6.59375 17.96875 6.59375 36.375 \nQ 6.59375 54.828125 13.0625 64.515625 \nQ 19.53125 74.21875 31.78125 74.21875 \nz\n\" id=\"DejaVuSans-48\"/>\n      </defs>\n      <g transform=\"translate(26.921875 157.698438)scale(0.1 -0.1)\">\n       <use xlink:href=\"#DejaVuSans-48\"/>\n      </g>\n     </g>\n    </g>\n    <g id=\"xtick_2\">\n     <g id=\"line2d_2\">\n      <g>\n       <use style=\"stroke:#000000;stroke-width:0.8;\" x=\"69.163125\" xlink:href=\"#m75c67fcd06\" y=\"143.1\"/>\n      </g>\n     </g>\n     <g id=\"text_2\">\n      <!-- 2 -->\n      <defs>\n       <path d=\"M 19.1875 8.296875 \nL 53.609375 8.296875 \nL 53.609375 0 \nL 7.328125 0 \nL 7.328125 8.296875 \nQ 12.9375 14.109375 22.625 23.890625 \nQ 32.328125 33.6875 34.8125 36.53125 \nQ 39.546875 41.84375 41.421875 45.53125 \nQ 43.3125 49.21875 43.3125 52.78125 \nQ 43.3125 58.59375 39.234375 62.25 \nQ 35.15625 65.921875 28.609375 65.921875 \nQ 23.96875 65.921875 18.8125 64.3125 \nQ 13.671875 62.703125 7.8125 59.421875 \nL 7.8125 69.390625 \nQ 13.765625 71.78125 18.9375 73 \nQ 24.125 74.21875 28.421875 74.21875 \nQ 39.75 74.21875 46.484375 68.546875 \nQ 53.21875 62.890625 53.21875 53.421875 \nQ 53.21875 48.921875 51.53125 44.890625 \nQ 49.859375 40.875 45.40625 35.40625 \nQ 44.1875 33.984375 37.640625 27.21875 \nQ 31.109375 20.453125 19.1875 8.296875 \nz\n\" id=\"DejaVuSans-50\"/>\n      </defs>\n      <g transform=\"translate(65.981875 157.698438)scale(0.1 -0.1)\">\n       <use xlink:href=\"#DejaVuSans-50\"/>\n      </g>\n     </g>\n    </g>\n    <g id=\"xtick_3\">\n     <g id=\"line2d_3\">\n      <g>\n       <use style=\"stroke:#000000;stroke-width:0.8;\" x=\"108.223125\" xlink:href=\"#m75c67fcd06\" y=\"143.1\"/>\n      </g>\n     </g>\n     <g id=\"text_3\">\n      <!-- 4 -->\n      <defs>\n       <path d=\"M 37.796875 64.3125 \nL 12.890625 25.390625 \nL 37.796875 25.390625 \nz\nM 35.203125 72.90625 \nL 47.609375 72.90625 \nL 47.609375 25.390625 \nL 58.015625 25.390625 \nL 58.015625 17.1875 \nL 47.609375 17.1875 \nL 47.609375 0 \nL 37.796875 0 \nL 37.796875 17.1875 \nL 4.890625 17.1875 \nL 4.890625 26.703125 \nz\n\" id=\"DejaVuSans-52\"/>\n      </defs>\n      <g transform=\"translate(105.041875 157.698438)scale(0.1 -0.1)\">\n       <use xlink:href=\"#DejaVuSans-52\"/>\n      </g>\n     </g>\n    </g>\n    <g id=\"xtick_4\">\n     <g id=\"line2d_4\">\n      <g>\n       <use style=\"stroke:#000000;stroke-width:0.8;\" x=\"147.283125\" xlink:href=\"#m75c67fcd06\" y=\"143.1\"/>\n      </g>\n     </g>\n     <g id=\"text_4\">\n      <!-- 6 -->\n      <defs>\n       <path d=\"M 33.015625 40.375 \nQ 26.375 40.375 22.484375 35.828125 \nQ 18.609375 31.296875 18.609375 23.390625 \nQ 18.609375 15.53125 22.484375 10.953125 \nQ 26.375 6.390625 33.015625 6.390625 \nQ 39.65625 6.390625 43.53125 10.953125 \nQ 47.40625 15.53125 47.40625 23.390625 \nQ 47.40625 31.296875 43.53125 35.828125 \nQ 39.65625 40.375 33.015625 40.375 \nz\nM 52.59375 71.296875 \nL 52.59375 62.3125 \nQ 48.875 64.0625 45.09375 64.984375 \nQ 41.3125 65.921875 37.59375 65.921875 \nQ 27.828125 65.921875 22.671875 59.328125 \nQ 17.53125 52.734375 16.796875 39.40625 \nQ 19.671875 43.65625 24.015625 45.921875 \nQ 28.375 48.1875 33.59375 48.1875 \nQ 44.578125 48.1875 50.953125 41.515625 \nQ 57.328125 34.859375 57.328125 23.390625 \nQ 57.328125 12.15625 50.6875 5.359375 \nQ 44.046875 -1.421875 33.015625 -1.421875 \nQ 20.359375 -1.421875 13.671875 8.265625 \nQ 6.984375 17.96875 6.984375 36.375 \nQ 6.984375 53.65625 15.1875 63.9375 \nQ 23.390625 74.21875 37.203125 74.21875 \nQ 40.921875 74.21875 44.703125 73.484375 \nQ 48.484375 72.75 52.59375 71.296875 \nz\n\" id=\"DejaVuSans-54\"/>\n      </defs>\n      <g transform=\"translate(144.101875 157.698438)scale(0.1 -0.1)\">\n       <use xlink:href=\"#DejaVuSans-54\"/>\n      </g>\n     </g>\n    </g>\n    <g id=\"xtick_5\">\n     <g id=\"line2d_5\">\n      <g>\n       <use style=\"stroke:#000000;stroke-width:0.8;\" x=\"186.343125\" xlink:href=\"#m75c67fcd06\" y=\"143.1\"/>\n      </g>\n     </g>\n     <g id=\"text_5\">\n      <!-- 8 -->\n      <defs>\n       <path d=\"M 31.78125 34.625 \nQ 24.75 34.625 20.71875 30.859375 \nQ 16.703125 27.09375 16.703125 20.515625 \nQ 16.703125 13.921875 20.71875 10.15625 \nQ 24.75 6.390625 31.78125 6.390625 \nQ 38.8125 6.390625 42.859375 10.171875 \nQ 46.921875 13.96875 46.921875 20.515625 \nQ 46.921875 27.09375 42.890625 30.859375 \nQ 38.875 34.625 31.78125 34.625 \nz\nM 21.921875 38.8125 \nQ 15.578125 40.375 12.03125 44.71875 \nQ 8.5 49.078125 8.5 55.328125 \nQ 8.5 64.0625 14.71875 69.140625 \nQ 20.953125 74.21875 31.78125 74.21875 \nQ 42.671875 74.21875 48.875 69.140625 \nQ 55.078125 64.0625 55.078125 55.328125 \nQ 55.078125 49.078125 51.53125 44.71875 \nQ 48 40.375 41.703125 38.8125 \nQ 48.828125 37.15625 52.796875 32.3125 \nQ 56.78125 27.484375 56.78125 20.515625 \nQ 56.78125 9.90625 50.3125 4.234375 \nQ 43.84375 -1.421875 31.78125 -1.421875 \nQ 19.734375 -1.421875 13.25 4.234375 \nQ 6.78125 9.90625 6.78125 20.515625 \nQ 6.78125 27.484375 10.78125 32.3125 \nQ 14.796875 37.15625 21.921875 38.8125 \nz\nM 18.3125 54.390625 \nQ 18.3125 48.734375 21.84375 45.5625 \nQ 25.390625 42.390625 31.78125 42.390625 \nQ 38.140625 42.390625 41.71875 45.5625 \nQ 45.3125 48.734375 45.3125 54.390625 \nQ 45.3125 60.0625 41.71875 63.234375 \nQ 38.140625 66.40625 31.78125 66.40625 \nQ 25.390625 66.40625 21.84375 63.234375 \nQ 18.3125 60.0625 18.3125 54.390625 \nz\n\" id=\"DejaVuSans-56\"/>\n      </defs>\n      <g transform=\"translate(183.161875 157.698438)scale(0.1 -0.1)\">\n       <use xlink:href=\"#DejaVuSans-56\"/>\n      </g>\n     </g>\n    </g>\n    <g id=\"xtick_6\">\n     <g id=\"line2d_6\">\n      <g>\n       <use style=\"stroke:#000000;stroke-width:0.8;\" x=\"225.403125\" xlink:href=\"#m75c67fcd06\" y=\"143.1\"/>\n      </g>\n     </g>\n     <g id=\"text_6\">\n      <!-- 10 -->\n      <defs>\n       <path d=\"M 12.40625 8.296875 \nL 28.515625 8.296875 \nL 28.515625 63.921875 \nL 10.984375 60.40625 \nL 10.984375 69.390625 \nL 28.421875 72.90625 \nL 38.28125 72.90625 \nL 38.28125 8.296875 \nL 54.390625 8.296875 \nL 54.390625 0 \nL 12.40625 0 \nz\n\" id=\"DejaVuSans-49\"/>\n      </defs>\n      <g transform=\"translate(219.040625 157.698438)scale(0.1 -0.1)\">\n       <use xlink:href=\"#DejaVuSans-49\"/>\n       <use x=\"63.623047\" xlink:href=\"#DejaVuSans-48\"/>\n      </g>\n     </g>\n    </g>\n    <g id=\"text_7\">\n     <!-- epoch -->\n     <defs>\n      <path d=\"M 56.203125 29.59375 \nL 56.203125 25.203125 \nL 14.890625 25.203125 \nQ 15.484375 15.921875 20.484375 11.0625 \nQ 25.484375 6.203125 34.421875 6.203125 \nQ 39.59375 6.203125 44.453125 7.46875 \nQ 49.3125 8.734375 54.109375 11.28125 \nL 54.109375 2.78125 \nQ 49.265625 0.734375 44.1875 -0.34375 \nQ 39.109375 -1.421875 33.890625 -1.421875 \nQ 20.796875 -1.421875 13.15625 6.1875 \nQ 5.515625 13.8125 5.515625 26.8125 \nQ 5.515625 40.234375 12.765625 48.109375 \nQ 20.015625 56 32.328125 56 \nQ 43.359375 56 49.78125 48.890625 \nQ 56.203125 41.796875 56.203125 29.59375 \nz\nM 47.21875 32.234375 \nQ 47.125 39.59375 43.09375 43.984375 \nQ 39.0625 48.390625 32.421875 48.390625 \nQ 24.90625 48.390625 20.390625 44.140625 \nQ 15.875 39.890625 15.1875 32.171875 \nz\n\" id=\"DejaVuSans-101\"/>\n      <path d=\"M 18.109375 8.203125 \nL 18.109375 -20.796875 \nL 9.078125 -20.796875 \nL 9.078125 54.6875 \nL 18.109375 54.6875 \nL 18.109375 46.390625 \nQ 20.953125 51.265625 25.265625 53.625 \nQ 29.59375 56 35.59375 56 \nQ 45.5625 56 51.78125 48.09375 \nQ 58.015625 40.1875 58.015625 27.296875 \nQ 58.015625 14.40625 51.78125 6.484375 \nQ 45.5625 -1.421875 35.59375 -1.421875 \nQ 29.59375 -1.421875 25.265625 0.953125 \nQ 20.953125 3.328125 18.109375 8.203125 \nz\nM 48.6875 27.296875 \nQ 48.6875 37.203125 44.609375 42.84375 \nQ 40.53125 48.484375 33.40625 48.484375 \nQ 26.265625 48.484375 22.1875 42.84375 \nQ 18.109375 37.203125 18.109375 27.296875 \nQ 18.109375 17.390625 22.1875 11.75 \nQ 26.265625 6.109375 33.40625 6.109375 \nQ 40.53125 6.109375 44.609375 11.75 \nQ 48.6875 17.390625 48.6875 27.296875 \nz\n\" id=\"DejaVuSans-112\"/>\n      <path d=\"M 30.609375 48.390625 \nQ 23.390625 48.390625 19.1875 42.75 \nQ 14.984375 37.109375 14.984375 27.296875 \nQ 14.984375 17.484375 19.15625 11.84375 \nQ 23.34375 6.203125 30.609375 6.203125 \nQ 37.796875 6.203125 41.984375 11.859375 \nQ 46.1875 17.53125 46.1875 27.296875 \nQ 46.1875 37.015625 41.984375 42.703125 \nQ 37.796875 48.390625 30.609375 48.390625 \nz\nM 30.609375 56 \nQ 42.328125 56 49.015625 48.375 \nQ 55.71875 40.765625 55.71875 27.296875 \nQ 55.71875 13.875 49.015625 6.21875 \nQ 42.328125 -1.421875 30.609375 -1.421875 \nQ 18.84375 -1.421875 12.171875 6.21875 \nQ 5.515625 13.875 5.515625 27.296875 \nQ 5.515625 40.765625 12.171875 48.375 \nQ 18.84375 56 30.609375 56 \nz\n\" id=\"DejaVuSans-111\"/>\n      <path d=\"M 48.78125 52.59375 \nL 48.78125 44.1875 \nQ 44.96875 46.296875 41.140625 47.34375 \nQ 37.3125 48.390625 33.40625 48.390625 \nQ 24.65625 48.390625 19.8125 42.84375 \nQ 14.984375 37.3125 14.984375 27.296875 \nQ 14.984375 17.28125 19.8125 11.734375 \nQ 24.65625 6.203125 33.40625 6.203125 \nQ 37.3125 6.203125 41.140625 7.25 \nQ 44.96875 8.296875 48.78125 10.40625 \nL 48.78125 2.09375 \nQ 45.015625 0.34375 40.984375 -0.53125 \nQ 36.96875 -1.421875 32.421875 -1.421875 \nQ 20.0625 -1.421875 12.78125 6.34375 \nQ 5.515625 14.109375 5.515625 27.296875 \nQ 5.515625 40.671875 12.859375 48.328125 \nQ 20.21875 56 33.015625 56 \nQ 37.15625 56 41.109375 55.140625 \nQ 45.0625 54.296875 48.78125 52.59375 \nz\n\" id=\"DejaVuSans-99\"/>\n      <path d=\"M 54.890625 33.015625 \nL 54.890625 0 \nL 45.90625 0 \nL 45.90625 32.71875 \nQ 45.90625 40.484375 42.875 44.328125 \nQ 39.84375 48.1875 33.796875 48.1875 \nQ 26.515625 48.1875 22.3125 43.546875 \nQ 18.109375 38.921875 18.109375 30.90625 \nL 18.109375 0 \nL 9.078125 0 \nL 9.078125 75.984375 \nL 18.109375 75.984375 \nL 18.109375 46.1875 \nQ 21.34375 51.125 25.703125 53.5625 \nQ 30.078125 56 35.796875 56 \nQ 45.21875 56 50.046875 50.171875 \nQ 54.890625 44.34375 54.890625 33.015625 \nz\n\" id=\"DejaVuSans-104\"/>\n     </defs>\n     <g transform=\"translate(112.525 171.376563)scale(0.1 -0.1)\">\n      <use xlink:href=\"#DejaVuSans-101\"/>\n      <use x=\"61.523438\" xlink:href=\"#DejaVuSans-112\"/>\n      <use x=\"125\" xlink:href=\"#DejaVuSans-111\"/>\n      <use x=\"186.181641\" xlink:href=\"#DejaVuSans-99\"/>\n      <use x=\"241.162109\" xlink:href=\"#DejaVuSans-104\"/>\n     </g>\n    </g>\n   </g>\n   <g id=\"matplotlib.axis_2\">\n    <g id=\"ytick_1\">\n     <g id=\"line2d_7\">\n      <defs>\n       <path d=\"M 0 0 \nL -3.5 0 \n\" id=\"m616ddfc7c9\" style=\"stroke:#000000;stroke-width:0.8;\"/>\n      </defs>\n      <g>\n       <use style=\"stroke:#000000;stroke-width:0.8;\" x=\"30.103125\" xlink:href=\"#m616ddfc7c9\" y=\"122.338106\"/>\n      </g>\n     </g>\n     <g id=\"text_8\">\n      <!-- 0.5 -->\n      <defs>\n       <path d=\"M 10.6875 12.40625 \nL 21 12.40625 \nL 21 0 \nL 10.6875 0 \nz\n\" id=\"DejaVuSans-46\"/>\n       <path d=\"M 10.796875 72.90625 \nL 49.515625 72.90625 \nL 49.515625 64.59375 \nL 19.828125 64.59375 \nL 19.828125 46.734375 \nQ 21.96875 47.46875 24.109375 47.828125 \nQ 26.265625 48.1875 28.421875 48.1875 \nQ 40.625 48.1875 47.75 41.5 \nQ 54.890625 34.8125 54.890625 23.390625 \nQ 54.890625 11.625 47.5625 5.09375 \nQ 40.234375 -1.421875 26.90625 -1.421875 \nQ 22.3125 -1.421875 17.546875 -0.640625 \nQ 12.796875 0.140625 7.71875 1.703125 \nL 7.71875 11.625 \nQ 12.109375 9.234375 16.796875 8.0625 \nQ 21.484375 6.890625 26.703125 6.890625 \nQ 35.15625 6.890625 40.078125 11.328125 \nQ 45.015625 15.765625 45.015625 23.390625 \nQ 45.015625 31 40.078125 35.4375 \nQ 35.15625 39.890625 26.703125 39.890625 \nQ 22.75 39.890625 18.8125 39.015625 \nQ 14.890625 38.140625 10.796875 36.28125 \nz\n\" id=\"DejaVuSans-53\"/>\n      </defs>\n      <g transform=\"translate(7.2 126.137325)scale(0.1 -0.1)\">\n       <use xlink:href=\"#DejaVuSans-48\"/>\n       <use x=\"63.623047\" xlink:href=\"#DejaVuSans-46\"/>\n       <use x=\"95.410156\" xlink:href=\"#DejaVuSans-53\"/>\n      </g>\n     </g>\n    </g>\n    <g id=\"ytick_2\">\n     <g id=\"line2d_8\">\n      <g>\n       <use style=\"stroke:#000000;stroke-width:0.8;\" x=\"30.103125\" xlink:href=\"#m616ddfc7c9\" y=\"96.645692\"/>\n      </g>\n     </g>\n     <g id=\"text_9\">\n      <!-- 0.6 -->\n      <g transform=\"translate(7.2 100.444911)scale(0.1 -0.1)\">\n       <use xlink:href=\"#DejaVuSans-48\"/>\n       <use x=\"63.623047\" xlink:href=\"#DejaVuSans-46\"/>\n       <use x=\"95.410156\" xlink:href=\"#DejaVuSans-54\"/>\n      </g>\n     </g>\n    </g>\n    <g id=\"ytick_3\">\n     <g id=\"line2d_9\">\n      <g>\n       <use style=\"stroke:#000000;stroke-width:0.8;\" x=\"30.103125\" xlink:href=\"#m616ddfc7c9\" y=\"70.953278\"/>\n      </g>\n     </g>\n     <g id=\"text_10\">\n      <!-- 0.7 -->\n      <defs>\n       <path d=\"M 8.203125 72.90625 \nL 55.078125 72.90625 \nL 55.078125 68.703125 \nL 28.609375 0 \nL 18.3125 0 \nL 43.21875 64.59375 \nL 8.203125 64.59375 \nz\n\" id=\"DejaVuSans-55\"/>\n      </defs>\n      <g transform=\"translate(7.2 74.752496)scale(0.1 -0.1)\">\n       <use xlink:href=\"#DejaVuSans-48\"/>\n       <use x=\"63.623047\" xlink:href=\"#DejaVuSans-46\"/>\n       <use x=\"95.410156\" xlink:href=\"#DejaVuSans-55\"/>\n      </g>\n     </g>\n    </g>\n    <g id=\"ytick_4\">\n     <g id=\"line2d_10\">\n      <g>\n       <use style=\"stroke:#000000;stroke-width:0.8;\" x=\"30.103125\" xlink:href=\"#m616ddfc7c9\" y=\"45.260863\"/>\n      </g>\n     </g>\n     <g id=\"text_11\">\n      <!-- 0.8 -->\n      <g transform=\"translate(7.2 49.060082)scale(0.1 -0.1)\">\n       <use xlink:href=\"#DejaVuSans-48\"/>\n       <use x=\"63.623047\" xlink:href=\"#DejaVuSans-46\"/>\n       <use x=\"95.410156\" xlink:href=\"#DejaVuSans-56\"/>\n      </g>\n     </g>\n    </g>\n    <g id=\"ytick_5\">\n     <g id=\"line2d_11\">\n      <g>\n       <use style=\"stroke:#000000;stroke-width:0.8;\" x=\"30.103125\" xlink:href=\"#m616ddfc7c9\" y=\"19.568449\"/>\n      </g>\n     </g>\n     <g id=\"text_12\">\n      <!-- 0.9 -->\n      <defs>\n       <path d=\"M 10.984375 1.515625 \nL 10.984375 10.5 \nQ 14.703125 8.734375 18.5 7.8125 \nQ 22.3125 6.890625 25.984375 6.890625 \nQ 35.75 6.890625 40.890625 13.453125 \nQ 46.046875 20.015625 46.78125 33.40625 \nQ 43.953125 29.203125 39.59375 26.953125 \nQ 35.25 24.703125 29.984375 24.703125 \nQ 19.046875 24.703125 12.671875 31.3125 \nQ 6.296875 37.9375 6.296875 49.421875 \nQ 6.296875 60.640625 12.9375 67.421875 \nQ 19.578125 74.21875 30.609375 74.21875 \nQ 43.265625 74.21875 49.921875 64.515625 \nQ 56.59375 54.828125 56.59375 36.375 \nQ 56.59375 19.140625 48.40625 8.859375 \nQ 40.234375 -1.421875 26.421875 -1.421875 \nQ 22.703125 -1.421875 18.890625 -0.6875 \nQ 15.09375 0.046875 10.984375 1.515625 \nz\nM 30.609375 32.421875 \nQ 37.25 32.421875 41.125 36.953125 \nQ 45.015625 41.5 45.015625 49.421875 \nQ 45.015625 57.28125 41.125 61.84375 \nQ 37.25 66.40625 30.609375 66.40625 \nQ 23.96875 66.40625 20.09375 61.84375 \nQ 16.21875 57.28125 16.21875 49.421875 \nQ 16.21875 41.5 20.09375 36.953125 \nQ 23.96875 32.421875 30.609375 32.421875 \nz\n\" id=\"DejaVuSans-57\"/>\n      </defs>\n      <g transform=\"translate(7.2 23.367667)scale(0.1 -0.1)\">\n       <use xlink:href=\"#DejaVuSans-48\"/>\n       <use x=\"63.623047\" xlink:href=\"#DejaVuSans-46\"/>\n       <use x=\"95.410156\" xlink:href=\"#DejaVuSans-57\"/>\n      </g>\n     </g>\n    </g>\n   </g>\n   <g id=\"line2d_12\">\n    <path clip-path=\"url(#p71288cf679)\" d=\"M 34.923295 13.377273 \n\" style=\"fill:none;stroke:#1f77b4;stroke-linecap:square;stroke-width:1.5;\"/>\n   </g>\n   <g id=\"line2d_13\">\n    <path clip-path=\"url(#p71288cf679)\" d=\"M 34.923295 13.377273 \nL 44.646742 84.303474 \n\" style=\"fill:none;stroke:#1f77b4;stroke-linecap:square;stroke-width:1.5;\"/>\n   </g>\n   <g id=\"line2d_14\">\n    <path clip-path=\"url(#p71288cf679)\" d=\"M 34.923295 13.377273 \nL 44.646742 84.303474 \n\" style=\"fill:none;stroke:#1f77b4;stroke-linecap:square;stroke-width:1.5;\"/>\n   </g>\n   <g id=\"line2d_15\">\n    <path clip-path=\"url(#p71288cf679)\" d=\"M 49.633125 88.744386 \n\" style=\"fill:none;stroke:#ff7f0e;stroke-dasharray:5.55,2.4;stroke-dashoffset:0;stroke-width:1.5;\"/>\n   </g>\n   <g id=\"line2d_16\"/>\n   <g id=\"line2d_17\">\n    <path clip-path=\"url(#p71288cf679)\" d=\"M 34.923295 13.377273 \nL 44.646742 84.303474 \n\" style=\"fill:none;stroke:#1f77b4;stroke-linecap:square;stroke-width:1.5;\"/>\n   </g>\n   <g id=\"line2d_18\">\n    <path clip-path=\"url(#p71288cf679)\" d=\"M 49.633125 88.744386 \n\" style=\"fill:none;stroke:#ff7f0e;stroke-dasharray:5.55,2.4;stroke-dashoffset:0;stroke-width:1.5;\"/>\n   </g>\n   <g id=\"line2d_19\">\n    <path clip-path=\"url(#p71288cf679)\" d=\"M 49.633125 47.669527 \n\" style=\"fill:none;stroke:#2ca02c;stroke-dasharray:9.6,2.4,1.5,2.4;stroke-dashoffset:0;stroke-width:1.5;\"/>\n   </g>\n   <g id=\"line2d_20\">\n    <path clip-path=\"url(#p71288cf679)\" d=\"M 34.923295 13.377273 \nL 44.646742 84.303474 \nL 54.370189 100.977447 \n\" style=\"fill:none;stroke:#1f77b4;stroke-linecap:square;stroke-width:1.5;\"/>\n   </g>\n   <g id=\"line2d_21\">\n    <path clip-path=\"url(#p71288cf679)\" d=\"M 49.633125 88.744386 \n\" style=\"fill:none;stroke:#ff7f0e;stroke-dasharray:5.55,2.4;stroke-dashoffset:0;stroke-width:1.5;\"/>\n   </g>\n   <g id=\"line2d_22\">\n    <path clip-path=\"url(#p71288cf679)\" d=\"M 49.633125 47.669527 \n\" style=\"fill:none;stroke:#2ca02c;stroke-dasharray:9.6,2.4,1.5,2.4;stroke-dashoffset:0;stroke-width:1.5;\"/>\n   </g>\n   <g id=\"line2d_23\">\n    <path clip-path=\"url(#p71288cf679)\" d=\"M 34.923295 13.377273 \nL 44.646742 84.303474 \nL 54.370189 100.977447 \nL 64.093636 107.305075 \n\" style=\"fill:none;stroke:#1f77b4;stroke-linecap:square;stroke-width:1.5;\"/>\n   </g>\n   <g id=\"line2d_24\">\n    <path clip-path=\"url(#p71288cf679)\" d=\"M 49.633125 88.744386 \n\" style=\"fill:none;stroke:#ff7f0e;stroke-dasharray:5.55,2.4;stroke-dashoffset:0;stroke-width:1.5;\"/>\n   </g>\n   <g id=\"line2d_25\">\n    <path clip-path=\"url(#p71288cf679)\" d=\"M 49.633125 47.669527 \n\" style=\"fill:none;stroke:#2ca02c;stroke-dasharray:9.6,2.4,1.5,2.4;stroke-dashoffset:0;stroke-width:1.5;\"/>\n   </g>\n   <g id=\"line2d_26\">\n    <path clip-path=\"url(#p71288cf679)\" d=\"M 34.923295 13.377273 \nL 44.646742 84.303474 \nL 54.370189 100.977447 \nL 64.093636 107.305075 \n\" style=\"fill:none;stroke:#1f77b4;stroke-linecap:square;stroke-width:1.5;\"/>\n   </g>\n   <g id=\"line2d_27\">\n    <path clip-path=\"url(#p71288cf679)\" d=\"M 49.633125 88.744386 \nL 69.163125 107.678819 \n\" style=\"fill:none;stroke:#ff7f0e;stroke-dasharray:5.55,2.4;stroke-dashoffset:0;stroke-width:1.5;\"/>\n   </g>\n   <g id=\"line2d_28\">\n    <path clip-path=\"url(#p71288cf679)\" d=\"M 49.633125 47.669527 \n\" style=\"fill:none;stroke:#2ca02c;stroke-dasharray:9.6,2.4,1.5,2.4;stroke-dashoffset:0;stroke-width:1.5;\"/>\n   </g>\n   <g id=\"line2d_29\">\n    <path clip-path=\"url(#p71288cf679)\" d=\"M 34.923295 13.377273 \nL 44.646742 84.303474 \nL 54.370189 100.977447 \nL 64.093636 107.305075 \n\" style=\"fill:none;stroke:#1f77b4;stroke-linecap:square;stroke-width:1.5;\"/>\n   </g>\n   <g id=\"line2d_30\">\n    <path clip-path=\"url(#p71288cf679)\" d=\"M 49.633125 88.744386 \nL 69.163125 107.678819 \n\" style=\"fill:none;stroke:#ff7f0e;stroke-dasharray:5.55,2.4;stroke-dashoffset:0;stroke-width:1.5;\"/>\n   </g>\n   <g id=\"line2d_31\">\n    <path clip-path=\"url(#p71288cf679)\" d=\"M 49.633125 47.669527 \nL 69.163125 41.246423 \n\" style=\"fill:none;stroke:#2ca02c;stroke-dasharray:9.6,2.4,1.5,2.4;stroke-dashoffset:0;stroke-width:1.5;\"/>\n   </g>\n   <g id=\"line2d_32\">\n    <path clip-path=\"url(#p71288cf679)\" d=\"M 34.923295 13.377273 \nL 44.646742 84.303474 \nL 54.370189 100.977447 \nL 64.093636 107.305075 \nL 73.817082 113.362162 \n\" style=\"fill:none;stroke:#1f77b4;stroke-linecap:square;stroke-width:1.5;\"/>\n   </g>\n   <g id=\"line2d_33\">\n    <path clip-path=\"url(#p71288cf679)\" d=\"M 49.633125 88.744386 \nL 69.163125 107.678819 \n\" style=\"fill:none;stroke:#ff7f0e;stroke-dasharray:5.55,2.4;stroke-dashoffset:0;stroke-width:1.5;\"/>\n   </g>\n   <g id=\"line2d_34\">\n    <path clip-path=\"url(#p71288cf679)\" d=\"M 49.633125 47.669527 \nL 69.163125 41.246423 \n\" style=\"fill:none;stroke:#2ca02c;stroke-dasharray:9.6,2.4,1.5,2.4;stroke-dashoffset:0;stroke-width:1.5;\"/>\n   </g>\n   <g id=\"line2d_35\">\n    <path clip-path=\"url(#p71288cf679)\" d=\"M 34.923295 13.377273 \nL 44.646742 84.303474 \nL 54.370189 100.977447 \nL 64.093636 107.305075 \nL 73.817082 113.362162 \nL 83.540529 118.351262 \n\" style=\"fill:none;stroke:#1f77b4;stroke-linecap:square;stroke-width:1.5;\"/>\n   </g>\n   <g id=\"line2d_36\">\n    <path clip-path=\"url(#p71288cf679)\" d=\"M 49.633125 88.744386 \nL 69.163125 107.678819 \n\" style=\"fill:none;stroke:#ff7f0e;stroke-dasharray:5.55,2.4;stroke-dashoffset:0;stroke-width:1.5;\"/>\n   </g>\n   <g id=\"line2d_37\">\n    <path clip-path=\"url(#p71288cf679)\" d=\"M 49.633125 47.669527 \nL 69.163125 41.246423 \n\" style=\"fill:none;stroke:#2ca02c;stroke-dasharray:9.6,2.4,1.5,2.4;stroke-dashoffset:0;stroke-width:1.5;\"/>\n   </g>\n   <g id=\"line2d_38\">\n    <path clip-path=\"url(#p71288cf679)\" d=\"M 34.923295 13.377273 \nL 44.646742 84.303474 \nL 54.370189 100.977447 \nL 64.093636 107.305075 \nL 73.817082 113.362162 \nL 83.540529 118.351262 \n\" style=\"fill:none;stroke:#1f77b4;stroke-linecap:square;stroke-width:1.5;\"/>\n   </g>\n   <g id=\"line2d_39\">\n    <path clip-path=\"url(#p71288cf679)\" d=\"M 49.633125 88.744386 \nL 69.163125 107.678819 \nL 88.693125 115.139866 \n\" style=\"fill:none;stroke:#ff7f0e;stroke-dasharray:5.55,2.4;stroke-dashoffset:0;stroke-width:1.5;\"/>\n   </g>\n   <g id=\"line2d_40\">\n    <path clip-path=\"url(#p71288cf679)\" d=\"M 49.633125 47.669527 \nL 69.163125 41.246423 \n\" style=\"fill:none;stroke:#2ca02c;stroke-dasharray:9.6,2.4,1.5,2.4;stroke-dashoffset:0;stroke-width:1.5;\"/>\n   </g>\n   <g id=\"line2d_41\">\n    <path clip-path=\"url(#p71288cf679)\" d=\"M 34.923295 13.377273 \nL 44.646742 84.303474 \nL 54.370189 100.977447 \nL 64.093636 107.305075 \nL 73.817082 113.362162 \nL 83.540529 118.351262 \n\" style=\"fill:none;stroke:#1f77b4;stroke-linecap:square;stroke-width:1.5;\"/>\n   </g>\n   <g id=\"line2d_42\">\n    <path clip-path=\"url(#p71288cf679)\" d=\"M 49.633125 88.744386 \nL 69.163125 107.678819 \nL 88.693125 115.139866 \n\" style=\"fill:none;stroke:#ff7f0e;stroke-dasharray:5.55,2.4;stroke-dashoffset:0;stroke-width:1.5;\"/>\n   </g>\n   <g id=\"line2d_43\">\n    <path clip-path=\"url(#p71288cf679)\" d=\"M 49.633125 47.669527 \nL 69.163125 41.246423 \nL 88.693125 39.465016 \n\" style=\"fill:none;stroke:#2ca02c;stroke-dasharray:9.6,2.4,1.5,2.4;stroke-dashoffset:0;stroke-width:1.5;\"/>\n   </g>\n   <g id=\"line2d_44\">\n    <path clip-path=\"url(#p71288cf679)\" d=\"M 34.923295 13.377273 \nL 44.646742 84.303474 \nL 54.370189 100.977447 \nL 64.093636 107.305075 \nL 73.817082 113.362162 \nL 83.540529 118.351262 \nL 93.263976 121.355928 \n\" style=\"fill:none;stroke:#1f77b4;stroke-linecap:square;stroke-width:1.5;\"/>\n   </g>\n   <g id=\"line2d_45\">\n    <path clip-path=\"url(#p71288cf679)\" d=\"M 49.633125 88.744386 \nL 69.163125 107.678819 \nL 88.693125 115.139866 \n\" style=\"fill:none;stroke:#ff7f0e;stroke-dasharray:5.55,2.4;stroke-dashoffset:0;stroke-width:1.5;\"/>\n   </g>\n   <g id=\"line2d_46\">\n    <path clip-path=\"url(#p71288cf679)\" d=\"M 49.633125 47.669527 \nL 69.163125 41.246423 \nL 88.693125 39.465016 \n\" style=\"fill:none;stroke:#2ca02c;stroke-dasharray:9.6,2.4,1.5,2.4;stroke-dashoffset:0;stroke-width:1.5;\"/>\n   </g>\n   <g id=\"line2d_47\">\n    <path clip-path=\"url(#p71288cf679)\" d=\"M 34.923295 13.377273 \nL 44.646742 84.303474 \nL 54.370189 100.977447 \nL 64.093636 107.305075 \nL 73.817082 113.362162 \nL 83.540529 118.351262 \nL 93.263976 121.355928 \nL 102.987423 122.708318 \n\" style=\"fill:none;stroke:#1f77b4;stroke-linecap:square;stroke-width:1.5;\"/>\n   </g>\n   <g id=\"line2d_48\">\n    <path clip-path=\"url(#p71288cf679)\" d=\"M 49.633125 88.744386 \nL 69.163125 107.678819 \nL 88.693125 115.139866 \n\" style=\"fill:none;stroke:#ff7f0e;stroke-dasharray:5.55,2.4;stroke-dashoffset:0;stroke-width:1.5;\"/>\n   </g>\n   <g id=\"line2d_49\">\n    <path clip-path=\"url(#p71288cf679)\" d=\"M 49.633125 47.669527 \nL 69.163125 41.246423 \nL 88.693125 39.465016 \n\" style=\"fill:none;stroke:#2ca02c;stroke-dasharray:9.6,2.4,1.5,2.4;stroke-dashoffset:0;stroke-width:1.5;\"/>\n   </g>\n   <g id=\"line2d_50\">\n    <path clip-path=\"url(#p71288cf679)\" d=\"M 34.923295 13.377273 \nL 44.646742 84.303474 \nL 54.370189 100.977447 \nL 64.093636 107.305075 \nL 73.817082 113.362162 \nL 83.540529 118.351262 \nL 93.263976 121.355928 \nL 102.987423 122.708318 \n\" style=\"fill:none;stroke:#1f77b4;stroke-linecap:square;stroke-width:1.5;\"/>\n   </g>\n   <g id=\"line2d_51\">\n    <path clip-path=\"url(#p71288cf679)\" d=\"M 49.633125 88.744386 \nL 69.163125 107.678819 \nL 88.693125 115.139866 \nL 108.223125 117.138894 \n\" style=\"fill:none;stroke:#ff7f0e;stroke-dasharray:5.55,2.4;stroke-dashoffset:0;stroke-width:1.5;\"/>\n   </g>\n   <g id=\"line2d_52\">\n    <path clip-path=\"url(#p71288cf679)\" d=\"M 49.633125 47.669527 \nL 69.163125 41.246423 \nL 88.693125 39.465016 \n\" style=\"fill:none;stroke:#2ca02c;stroke-dasharray:9.6,2.4,1.5,2.4;stroke-dashoffset:0;stroke-width:1.5;\"/>\n   </g>\n   <g id=\"line2d_53\">\n    <path clip-path=\"url(#p71288cf679)\" d=\"M 34.923295 13.377273 \nL 44.646742 84.303474 \nL 54.370189 100.977447 \nL 64.093636 107.305075 \nL 73.817082 113.362162 \nL 83.540529 118.351262 \nL 93.263976 121.355928 \nL 102.987423 122.708318 \n\" style=\"fill:none;stroke:#1f77b4;stroke-linecap:square;stroke-width:1.5;\"/>\n   </g>\n   <g id=\"line2d_54\">\n    <path clip-path=\"url(#p71288cf679)\" d=\"M 49.633125 88.744386 \nL 69.163125 107.678819 \nL 88.693125 115.139866 \nL 108.223125 117.138894 \n\" style=\"fill:none;stroke:#ff7f0e;stroke-dasharray:5.55,2.4;stroke-dashoffset:0;stroke-width:1.5;\"/>\n   </g>\n   <g id=\"line2d_55\">\n    <path clip-path=\"url(#p71288cf679)\" d=\"M 49.633125 47.669527 \nL 69.163125 41.246423 \nL 88.693125 39.465016 \nL 108.223125 39.816279 \n\" style=\"fill:none;stroke:#2ca02c;stroke-dasharray:9.6,2.4,1.5,2.4;stroke-dashoffset:0;stroke-width:1.5;\"/>\n   </g>\n   <g id=\"line2d_56\">\n    <path clip-path=\"url(#p71288cf679)\" d=\"M 34.923295 13.377273 \nL 44.646742 84.303474 \nL 54.370189 100.977447 \nL 64.093636 107.305075 \nL 73.817082 113.362162 \nL 83.540529 118.351262 \nL 93.263976 121.355928 \nL 102.987423 122.708318 \nL 112.71087 125.452347 \n\" style=\"fill:none;stroke:#1f77b4;stroke-linecap:square;stroke-width:1.5;\"/>\n   </g>\n   <g id=\"line2d_57\">\n    <path clip-path=\"url(#p71288cf679)\" d=\"M 49.633125 88.744386 \nL 69.163125 107.678819 \nL 88.693125 115.139866 \nL 108.223125 117.138894 \n\" style=\"fill:none;stroke:#ff7f0e;stroke-dasharray:5.55,2.4;stroke-dashoffset:0;stroke-width:1.5;\"/>\n   </g>\n   <g id=\"line2d_58\">\n    <path clip-path=\"url(#p71288cf679)\" d=\"M 49.633125 47.669527 \nL 69.163125 41.246423 \nL 88.693125 39.465016 \nL 108.223125 39.816279 \n\" style=\"fill:none;stroke:#2ca02c;stroke-dasharray:9.6,2.4,1.5,2.4;stroke-dashoffset:0;stroke-width:1.5;\"/>\n   </g>\n   <g id=\"line2d_59\">\n    <path clip-path=\"url(#p71288cf679)\" d=\"M 34.923295 13.377273 \nL 44.646742 84.303474 \nL 54.370189 100.977447 \nL 64.093636 107.305075 \nL 73.817082 113.362162 \nL 83.540529 118.351262 \nL 93.263976 121.355928 \nL 102.987423 122.708318 \nL 112.71087 125.452347 \nL 122.434316 127.503838 \n\" style=\"fill:none;stroke:#1f77b4;stroke-linecap:square;stroke-width:1.5;\"/>\n   </g>\n   <g id=\"line2d_60\">\n    <path clip-path=\"url(#p71288cf679)\" d=\"M 49.633125 88.744386 \nL 69.163125 107.678819 \nL 88.693125 115.139866 \nL 108.223125 117.138894 \n\" style=\"fill:none;stroke:#ff7f0e;stroke-dasharray:5.55,2.4;stroke-dashoffset:0;stroke-width:1.5;\"/>\n   </g>\n   <g id=\"line2d_61\">\n    <path clip-path=\"url(#p71288cf679)\" d=\"M 49.633125 47.669527 \nL 69.163125 41.246423 \nL 88.693125 39.465016 \nL 108.223125 39.816279 \n\" style=\"fill:none;stroke:#2ca02c;stroke-dasharray:9.6,2.4,1.5,2.4;stroke-dashoffset:0;stroke-width:1.5;\"/>\n   </g>\n   <g id=\"line2d_62\">\n    <path clip-path=\"url(#p71288cf679)\" d=\"M 34.923295 13.377273 \nL 44.646742 84.303474 \nL 54.370189 100.977447 \nL 64.093636 107.305075 \nL 73.817082 113.362162 \nL 83.540529 118.351262 \nL 93.263976 121.355928 \nL 102.987423 122.708318 \nL 112.71087 125.452347 \nL 122.434316 127.503838 \n\" style=\"fill:none;stroke:#1f77b4;stroke-linecap:square;stroke-width:1.5;\"/>\n   </g>\n   <g id=\"line2d_63\">\n    <path clip-path=\"url(#p71288cf679)\" d=\"M 49.633125 88.744386 \nL 69.163125 107.678819 \nL 88.693125 115.139866 \nL 108.223125 117.138894 \nL 127.753125 119.612588 \n\" style=\"fill:none;stroke:#ff7f0e;stroke-dasharray:5.55,2.4;stroke-dashoffset:0;stroke-width:1.5;\"/>\n   </g>\n   <g id=\"line2d_64\">\n    <path clip-path=\"url(#p71288cf679)\" d=\"M 49.633125 47.669527 \nL 69.163125 41.246423 \nL 88.693125 39.465016 \nL 108.223125 39.816279 \n\" style=\"fill:none;stroke:#2ca02c;stroke-dasharray:9.6,2.4,1.5,2.4;stroke-dashoffset:0;stroke-width:1.5;\"/>\n   </g>\n   <g id=\"line2d_65\">\n    <path clip-path=\"url(#p71288cf679)\" d=\"M 34.923295 13.377273 \nL 44.646742 84.303474 \nL 54.370189 100.977447 \nL 64.093636 107.305075 \nL 73.817082 113.362162 \nL 83.540529 118.351262 \nL 93.263976 121.355928 \nL 102.987423 122.708318 \nL 112.71087 125.452347 \nL 122.434316 127.503838 \n\" style=\"fill:none;stroke:#1f77b4;stroke-linecap:square;stroke-width:1.5;\"/>\n   </g>\n   <g id=\"line2d_66\">\n    <path clip-path=\"url(#p71288cf679)\" d=\"M 49.633125 88.744386 \nL 69.163125 107.678819 \nL 88.693125 115.139866 \nL 108.223125 117.138894 \nL 127.753125 119.612588 \n\" style=\"fill:none;stroke:#ff7f0e;stroke-dasharray:5.55,2.4;stroke-dashoffset:0;stroke-width:1.5;\"/>\n   </g>\n   <g id=\"line2d_67\">\n    <path clip-path=\"url(#p71288cf679)\" d=\"M 49.633125 47.669527 \nL 69.163125 41.246423 \nL 88.693125 39.465016 \nL 108.223125 39.816279 \nL 127.753125 39.138842 \n\" style=\"fill:none;stroke:#2ca02c;stroke-dasharray:9.6,2.4,1.5,2.4;stroke-dashoffset:0;stroke-width:1.5;\"/>\n   </g>\n   <g id=\"line2d_68\">\n    <path clip-path=\"url(#p71288cf679)\" d=\"M 34.923295 13.377273 \nL 44.646742 84.303474 \nL 54.370189 100.977447 \nL 64.093636 107.305075 \nL 73.817082 113.362162 \nL 83.540529 118.351262 \nL 93.263976 121.355928 \nL 102.987423 122.708318 \nL 112.71087 125.452347 \nL 122.434316 127.503838 \nL 132.157763 129.694092 \n\" style=\"fill:none;stroke:#1f77b4;stroke-linecap:square;stroke-width:1.5;\"/>\n   </g>\n   <g id=\"line2d_69\">\n    <path clip-path=\"url(#p71288cf679)\" d=\"M 49.633125 88.744386 \nL 69.163125 107.678819 \nL 88.693125 115.139866 \nL 108.223125 117.138894 \nL 127.753125 119.612588 \n\" style=\"fill:none;stroke:#ff7f0e;stroke-dasharray:5.55,2.4;stroke-dashoffset:0;stroke-width:1.5;\"/>\n   </g>\n   <g id=\"line2d_70\">\n    <path clip-path=\"url(#p71288cf679)\" d=\"M 49.633125 47.669527 \nL 69.163125 41.246423 \nL 88.693125 39.465016 \nL 108.223125 39.816279 \nL 127.753125 39.138842 \n\" style=\"fill:none;stroke:#2ca02c;stroke-dasharray:9.6,2.4,1.5,2.4;stroke-dashoffset:0;stroke-width:1.5;\"/>\n   </g>\n   <g id=\"line2d_71\">\n    <path clip-path=\"url(#p71288cf679)\" d=\"M 34.923295 13.377273 \nL 44.646742 84.303474 \nL 54.370189 100.977447 \nL 64.093636 107.305075 \nL 73.817082 113.362162 \nL 83.540529 118.351262 \nL 93.263976 121.355928 \nL 102.987423 122.708318 \nL 112.71087 125.452347 \nL 122.434316 127.503838 \nL 132.157763 129.694092 \nL 141.88121 127.982782 \n\" style=\"fill:none;stroke:#1f77b4;stroke-linecap:square;stroke-width:1.5;\"/>\n   </g>\n   <g id=\"line2d_72\">\n    <path clip-path=\"url(#p71288cf679)\" d=\"M 49.633125 88.744386 \nL 69.163125 107.678819 \nL 88.693125 115.139866 \nL 108.223125 117.138894 \nL 127.753125 119.612588 \n\" style=\"fill:none;stroke:#ff7f0e;stroke-dasharray:5.55,2.4;stroke-dashoffset:0;stroke-width:1.5;\"/>\n   </g>\n   <g id=\"line2d_73\">\n    <path clip-path=\"url(#p71288cf679)\" d=\"M 49.633125 47.669527 \nL 69.163125 41.246423 \nL 88.693125 39.465016 \nL 108.223125 39.816279 \nL 127.753125 39.138842 \n\" style=\"fill:none;stroke:#2ca02c;stroke-dasharray:9.6,2.4,1.5,2.4;stroke-dashoffset:0;stroke-width:1.5;\"/>\n   </g>\n   <g id=\"line2d_74\">\n    <path clip-path=\"url(#p71288cf679)\" d=\"M 34.923295 13.377273 \nL 44.646742 84.303474 \nL 54.370189 100.977447 \nL 64.093636 107.305075 \nL 73.817082 113.362162 \nL 83.540529 118.351262 \nL 93.263976 121.355928 \nL 102.987423 122.708318 \nL 112.71087 125.452347 \nL 122.434316 127.503838 \nL 132.157763 129.694092 \nL 141.88121 127.982782 \n\" style=\"fill:none;stroke:#1f77b4;stroke-linecap:square;stroke-width:1.5;\"/>\n   </g>\n   <g id=\"line2d_75\">\n    <path clip-path=\"url(#p71288cf679)\" d=\"M 49.633125 88.744386 \nL 69.163125 107.678819 \nL 88.693125 115.139866 \nL 108.223125 117.138894 \nL 127.753125 119.612588 \nL 147.283125 122.809211 \n\" style=\"fill:none;stroke:#ff7f0e;stroke-dasharray:5.55,2.4;stroke-dashoffset:0;stroke-width:1.5;\"/>\n   </g>\n   <g id=\"line2d_76\">\n    <path clip-path=\"url(#p71288cf679)\" d=\"M 49.633125 47.669527 \nL 69.163125 41.246423 \nL 88.693125 39.465016 \nL 108.223125 39.816279 \nL 127.753125 39.138842 \n\" style=\"fill:none;stroke:#2ca02c;stroke-dasharray:9.6,2.4,1.5,2.4;stroke-dashoffset:0;stroke-width:1.5;\"/>\n   </g>\n   <g id=\"line2d_77\">\n    <path clip-path=\"url(#p71288cf679)\" d=\"M 34.923295 13.377273 \nL 44.646742 84.303474 \nL 54.370189 100.977447 \nL 64.093636 107.305075 \nL 73.817082 113.362162 \nL 83.540529 118.351262 \nL 93.263976 121.355928 \nL 102.987423 122.708318 \nL 112.71087 125.452347 \nL 122.434316 127.503838 \nL 132.157763 129.694092 \nL 141.88121 127.982782 \n\" style=\"fill:none;stroke:#1f77b4;stroke-linecap:square;stroke-width:1.5;\"/>\n   </g>\n   <g id=\"line2d_78\">\n    <path clip-path=\"url(#p71288cf679)\" d=\"M 49.633125 88.744386 \nL 69.163125 107.678819 \nL 88.693125 115.139866 \nL 108.223125 117.138894 \nL 127.753125 119.612588 \nL 147.283125 122.809211 \n\" style=\"fill:none;stroke:#ff7f0e;stroke-dasharray:5.55,2.4;stroke-dashoffset:0;stroke-width:1.5;\"/>\n   </g>\n   <g id=\"line2d_79\">\n    <path clip-path=\"url(#p71288cf679)\" d=\"M 49.633125 47.669527 \nL 69.163125 41.246423 \nL 88.693125 39.465016 \nL 108.223125 39.816279 \nL 127.753125 39.138842 \nL 147.283125 37.959601 \n\" style=\"fill:none;stroke:#2ca02c;stroke-dasharray:9.6,2.4,1.5,2.4;stroke-dashoffset:0;stroke-width:1.5;\"/>\n   </g>\n   <g id=\"line2d_80\">\n    <path clip-path=\"url(#p71288cf679)\" d=\"M 34.923295 13.377273 \nL 44.646742 84.303474 \nL 54.370189 100.977447 \nL 64.093636 107.305075 \nL 73.817082 113.362162 \nL 83.540529 118.351262 \nL 93.263976 121.355928 \nL 102.987423 122.708318 \nL 112.71087 125.452347 \nL 122.434316 127.503838 \nL 132.157763 129.694092 \nL 141.88121 127.982782 \nL 151.604657 131.919173 \n\" style=\"fill:none;stroke:#1f77b4;stroke-linecap:square;stroke-width:1.5;\"/>\n   </g>\n   <g id=\"line2d_81\">\n    <path clip-path=\"url(#p71288cf679)\" d=\"M 49.633125 88.744386 \nL 69.163125 107.678819 \nL 88.693125 115.139866 \nL 108.223125 117.138894 \nL 127.753125 119.612588 \nL 147.283125 122.809211 \n\" style=\"fill:none;stroke:#ff7f0e;stroke-dasharray:5.55,2.4;stroke-dashoffset:0;stroke-width:1.5;\"/>\n   </g>\n   <g id=\"line2d_82\">\n    <path clip-path=\"url(#p71288cf679)\" d=\"M 49.633125 47.669527 \nL 69.163125 41.246423 \nL 88.693125 39.465016 \nL 108.223125 39.816279 \nL 127.753125 39.138842 \nL 147.283125 37.959601 \n\" style=\"fill:none;stroke:#2ca02c;stroke-dasharray:9.6,2.4,1.5,2.4;stroke-dashoffset:0;stroke-width:1.5;\"/>\n   </g>\n   <g id=\"line2d_83\">\n    <path clip-path=\"url(#p71288cf679)\" d=\"M 34.923295 13.377273 \nL 44.646742 84.303474 \nL 54.370189 100.977447 \nL 64.093636 107.305075 \nL 73.817082 113.362162 \nL 83.540529 118.351262 \nL 93.263976 121.355928 \nL 102.987423 122.708318 \nL 112.71087 125.452347 \nL 122.434316 127.503838 \nL 132.157763 129.694092 \nL 141.88121 127.982782 \nL 151.604657 131.919173 \nL 161.328104 130.87388 \n\" style=\"fill:none;stroke:#1f77b4;stroke-linecap:square;stroke-width:1.5;\"/>\n   </g>\n   <g id=\"line2d_84\">\n    <path clip-path=\"url(#p71288cf679)\" d=\"M 49.633125 88.744386 \nL 69.163125 107.678819 \nL 88.693125 115.139866 \nL 108.223125 117.138894 \nL 127.753125 119.612588 \nL 147.283125 122.809211 \n\" style=\"fill:none;stroke:#ff7f0e;stroke-dasharray:5.55,2.4;stroke-dashoffset:0;stroke-width:1.5;\"/>\n   </g>\n   <g id=\"line2d_85\">\n    <path clip-path=\"url(#p71288cf679)\" d=\"M 49.633125 47.669527 \nL 69.163125 41.246423 \nL 88.693125 39.465016 \nL 108.223125 39.816279 \nL 127.753125 39.138842 \nL 147.283125 37.959601 \n\" style=\"fill:none;stroke:#2ca02c;stroke-dasharray:9.6,2.4,1.5,2.4;stroke-dashoffset:0;stroke-width:1.5;\"/>\n   </g>\n   <g id=\"line2d_86\">\n    <path clip-path=\"url(#p71288cf679)\" d=\"M 34.923295 13.377273 \nL 44.646742 84.303474 \nL 54.370189 100.977447 \nL 64.093636 107.305075 \nL 73.817082 113.362162 \nL 83.540529 118.351262 \nL 93.263976 121.355928 \nL 102.987423 122.708318 \nL 112.71087 125.452347 \nL 122.434316 127.503838 \nL 132.157763 129.694092 \nL 141.88121 127.982782 \nL 151.604657 131.919173 \nL 161.328104 130.87388 \n\" style=\"fill:none;stroke:#1f77b4;stroke-linecap:square;stroke-width:1.5;\"/>\n   </g>\n   <g id=\"line2d_87\">\n    <path clip-path=\"url(#p71288cf679)\" d=\"M 49.633125 88.744386 \nL 69.163125 107.678819 \nL 88.693125 115.139866 \nL 108.223125 117.138894 \nL 127.753125 119.612588 \nL 147.283125 122.809211 \nL 166.813125 123.116198 \n\" style=\"fill:none;stroke:#ff7f0e;stroke-dasharray:5.55,2.4;stroke-dashoffset:0;stroke-width:1.5;\"/>\n   </g>\n   <g id=\"line2d_88\">\n    <path clip-path=\"url(#p71288cf679)\" d=\"M 49.633125 47.669527 \nL 69.163125 41.246423 \nL 88.693125 39.465016 \nL 108.223125 39.816279 \nL 127.753125 39.138842 \nL 147.283125 37.959601 \n\" style=\"fill:none;stroke:#2ca02c;stroke-dasharray:9.6,2.4,1.5,2.4;stroke-dashoffset:0;stroke-width:1.5;\"/>\n   </g>\n   <g id=\"line2d_89\">\n    <path clip-path=\"url(#p71288cf679)\" d=\"M 34.923295 13.377273 \nL 44.646742 84.303474 \nL 54.370189 100.977447 \nL 64.093636 107.305075 \nL 73.817082 113.362162 \nL 83.540529 118.351262 \nL 93.263976 121.355928 \nL 102.987423 122.708318 \nL 112.71087 125.452347 \nL 122.434316 127.503838 \nL 132.157763 129.694092 \nL 141.88121 127.982782 \nL 151.604657 131.919173 \nL 161.328104 130.87388 \n\" style=\"fill:none;stroke:#1f77b4;stroke-linecap:square;stroke-width:1.5;\"/>\n   </g>\n   <g id=\"line2d_90\">\n    <path clip-path=\"url(#p71288cf679)\" d=\"M 49.633125 88.744386 \nL 69.163125 107.678819 \nL 88.693125 115.139866 \nL 108.223125 117.138894 \nL 127.753125 119.612588 \nL 147.283125 122.809211 \nL 166.813125 123.116198 \n\" style=\"fill:none;stroke:#ff7f0e;stroke-dasharray:5.55,2.4;stroke-dashoffset:0;stroke-width:1.5;\"/>\n   </g>\n   <g id=\"line2d_91\">\n    <path clip-path=\"url(#p71288cf679)\" d=\"M 49.633125 47.669527 \nL 69.163125 41.246423 \nL 88.693125 39.465016 \nL 108.223125 39.816279 \nL 127.753125 39.138842 \nL 147.283125 37.959601 \nL 166.813125 37.758879 \n\" style=\"fill:none;stroke:#2ca02c;stroke-dasharray:9.6,2.4,1.5,2.4;stroke-dashoffset:0;stroke-width:1.5;\"/>\n   </g>\n   <g id=\"line2d_92\">\n    <path clip-path=\"url(#p71288cf679)\" d=\"M 34.923295 13.377273 \nL 44.646742 84.303474 \nL 54.370189 100.977447 \nL 64.093636 107.305075 \nL 73.817082 113.362162 \nL 83.540529 118.351262 \nL 93.263976 121.355928 \nL 102.987423 122.708318 \nL 112.71087 125.452347 \nL 122.434316 127.503838 \nL 132.157763 129.694092 \nL 141.88121 127.982782 \nL 151.604657 131.919173 \nL 161.328104 130.87388 \nL 171.051551 133.130085 \n\" style=\"fill:none;stroke:#1f77b4;stroke-linecap:square;stroke-width:1.5;\"/>\n   </g>\n   <g id=\"line2d_93\">\n    <path clip-path=\"url(#p71288cf679)\" d=\"M 49.633125 88.744386 \nL 69.163125 107.678819 \nL 88.693125 115.139866 \nL 108.223125 117.138894 \nL 127.753125 119.612588 \nL 147.283125 122.809211 \nL 166.813125 123.116198 \n\" style=\"fill:none;stroke:#ff7f0e;stroke-dasharray:5.55,2.4;stroke-dashoffset:0;stroke-width:1.5;\"/>\n   </g>\n   <g id=\"line2d_94\">\n    <path clip-path=\"url(#p71288cf679)\" d=\"M 49.633125 47.669527 \nL 69.163125 41.246423 \nL 88.693125 39.465016 \nL 108.223125 39.816279 \nL 127.753125 39.138842 \nL 147.283125 37.959601 \nL 166.813125 37.758879 \n\" style=\"fill:none;stroke:#2ca02c;stroke-dasharray:9.6,2.4,1.5,2.4;stroke-dashoffset:0;stroke-width:1.5;\"/>\n   </g>\n   <g id=\"line2d_95\">\n    <path clip-path=\"url(#p71288cf679)\" d=\"M 34.923295 13.377273 \nL 44.646742 84.303474 \nL 54.370189 100.977447 \nL 64.093636 107.305075 \nL 73.817082 113.362162 \nL 83.540529 118.351262 \nL 93.263976 121.355928 \nL 102.987423 122.708318 \nL 112.71087 125.452347 \nL 122.434316 127.503838 \nL 132.157763 129.694092 \nL 141.88121 127.982782 \nL 151.604657 131.919173 \nL 161.328104 130.87388 \nL 171.051551 133.130085 \nL 180.774997 133.947525 \n\" style=\"fill:none;stroke:#1f77b4;stroke-linecap:square;stroke-width:1.5;\"/>\n   </g>\n   <g id=\"line2d_96\">\n    <path clip-path=\"url(#p71288cf679)\" d=\"M 49.633125 88.744386 \nL 69.163125 107.678819 \nL 88.693125 115.139866 \nL 108.223125 117.138894 \nL 127.753125 119.612588 \nL 147.283125 122.809211 \nL 166.813125 123.116198 \n\" style=\"fill:none;stroke:#ff7f0e;stroke-dasharray:5.55,2.4;stroke-dashoffset:0;stroke-width:1.5;\"/>\n   </g>\n   <g id=\"line2d_97\">\n    <path clip-path=\"url(#p71288cf679)\" d=\"M 49.633125 47.669527 \nL 69.163125 41.246423 \nL 88.693125 39.465016 \nL 108.223125 39.816279 \nL 127.753125 39.138842 \nL 147.283125 37.959601 \nL 166.813125 37.758879 \n\" style=\"fill:none;stroke:#2ca02c;stroke-dasharray:9.6,2.4,1.5,2.4;stroke-dashoffset:0;stroke-width:1.5;\"/>\n   </g>\n   <g id=\"line2d_98\">\n    <path clip-path=\"url(#p71288cf679)\" d=\"M 34.923295 13.377273 \nL 44.646742 84.303474 \nL 54.370189 100.977447 \nL 64.093636 107.305075 \nL 73.817082 113.362162 \nL 83.540529 118.351262 \nL 93.263976 121.355928 \nL 102.987423 122.708318 \nL 112.71087 125.452347 \nL 122.434316 127.503838 \nL 132.157763 129.694092 \nL 141.88121 127.982782 \nL 151.604657 131.919173 \nL 161.328104 130.87388 \nL 171.051551 133.130085 \nL 180.774997 133.947525 \n\" style=\"fill:none;stroke:#1f77b4;stroke-linecap:square;stroke-width:1.5;\"/>\n   </g>\n   <g id=\"line2d_99\">\n    <path clip-path=\"url(#p71288cf679)\" d=\"M 49.633125 88.744386 \nL 69.163125 107.678819 \nL 88.693125 115.139866 \nL 108.223125 117.138894 \nL 127.753125 119.612588 \nL 147.283125 122.809211 \nL 166.813125 123.116198 \nL 186.343125 121.315481 \n\" style=\"fill:none;stroke:#ff7f0e;stroke-dasharray:5.55,2.4;stroke-dashoffset:0;stroke-width:1.5;\"/>\n   </g>\n   <g id=\"line2d_100\">\n    <path clip-path=\"url(#p71288cf679)\" d=\"M 49.633125 47.669527 \nL 69.163125 41.246423 \nL 88.693125 39.465016 \nL 108.223125 39.816279 \nL 127.753125 39.138842 \nL 147.283125 37.959601 \nL 166.813125 37.758879 \n\" style=\"fill:none;stroke:#2ca02c;stroke-dasharray:9.6,2.4,1.5,2.4;stroke-dashoffset:0;stroke-width:1.5;\"/>\n   </g>\n   <g id=\"line2d_101\">\n    <path clip-path=\"url(#p71288cf679)\" d=\"M 34.923295 13.377273 \nL 44.646742 84.303474 \nL 54.370189 100.977447 \nL 64.093636 107.305075 \nL 73.817082 113.362162 \nL 83.540529 118.351262 \nL 93.263976 121.355928 \nL 102.987423 122.708318 \nL 112.71087 125.452347 \nL 122.434316 127.503838 \nL 132.157763 129.694092 \nL 141.88121 127.982782 \nL 151.604657 131.919173 \nL 161.328104 130.87388 \nL 171.051551 133.130085 \nL 180.774997 133.947525 \n\" style=\"fill:none;stroke:#1f77b4;stroke-linecap:square;stroke-width:1.5;\"/>\n   </g>\n   <g id=\"line2d_102\">\n    <path clip-path=\"url(#p71288cf679)\" d=\"M 49.633125 88.744386 \nL 69.163125 107.678819 \nL 88.693125 115.139866 \nL 108.223125 117.138894 \nL 127.753125 119.612588 \nL 147.283125 122.809211 \nL 166.813125 123.116198 \nL 186.343125 121.315481 \n\" style=\"fill:none;stroke:#ff7f0e;stroke-dasharray:5.55,2.4;stroke-dashoffset:0;stroke-width:1.5;\"/>\n   </g>\n   <g id=\"line2d_103\">\n    <path clip-path=\"url(#p71288cf679)\" d=\"M 49.633125 47.669527 \nL 69.163125 41.246423 \nL 88.693125 39.465016 \nL 108.223125 39.816279 \nL 127.753125 39.138842 \nL 147.283125 37.959601 \nL 166.813125 37.758879 \nL 186.343125 39.615557 \n\" style=\"fill:none;stroke:#2ca02c;stroke-dasharray:9.6,2.4,1.5,2.4;stroke-dashoffset:0;stroke-width:1.5;\"/>\n   </g>\n   <g id=\"line2d_104\">\n    <path clip-path=\"url(#p71288cf679)\" d=\"M 34.923295 13.377273 \nL 44.646742 84.303474 \nL 54.370189 100.977447 \nL 64.093636 107.305075 \nL 73.817082 113.362162 \nL 83.540529 118.351262 \nL 93.263976 121.355928 \nL 102.987423 122.708318 \nL 112.71087 125.452347 \nL 122.434316 127.503838 \nL 132.157763 129.694092 \nL 141.88121 127.982782 \nL 151.604657 131.919173 \nL 161.328104 130.87388 \nL 171.051551 133.130085 \nL 180.774997 133.947525 \nL 190.498444 132.975725 \n\" style=\"fill:none;stroke:#1f77b4;stroke-linecap:square;stroke-width:1.5;\"/>\n   </g>\n   <g id=\"line2d_105\">\n    <path clip-path=\"url(#p71288cf679)\" d=\"M 49.633125 88.744386 \nL 69.163125 107.678819 \nL 88.693125 115.139866 \nL 108.223125 117.138894 \nL 127.753125 119.612588 \nL 147.283125 122.809211 \nL 166.813125 123.116198 \nL 186.343125 121.315481 \n\" style=\"fill:none;stroke:#ff7f0e;stroke-dasharray:5.55,2.4;stroke-dashoffset:0;stroke-width:1.5;\"/>\n   </g>\n   <g id=\"line2d_106\">\n    <path clip-path=\"url(#p71288cf679)\" d=\"M 49.633125 47.669527 \nL 69.163125 41.246423 \nL 88.693125 39.465016 \nL 108.223125 39.816279 \nL 127.753125 39.138842 \nL 147.283125 37.959601 \nL 166.813125 37.758879 \nL 186.343125 39.615557 \n\" style=\"fill:none;stroke:#2ca02c;stroke-dasharray:9.6,2.4,1.5,2.4;stroke-dashoffset:0;stroke-width:1.5;\"/>\n   </g>\n   <g id=\"line2d_107\">\n    <path clip-path=\"url(#p71288cf679)\" d=\"M 34.923295 13.377273 \nL 44.646742 84.303474 \nL 54.370189 100.977447 \nL 64.093636 107.305075 \nL 73.817082 113.362162 \nL 83.540529 118.351262 \nL 93.263976 121.355928 \nL 102.987423 122.708318 \nL 112.71087 125.452347 \nL 122.434316 127.503838 \nL 132.157763 129.694092 \nL 141.88121 127.982782 \nL 151.604657 131.919173 \nL 161.328104 130.87388 \nL 171.051551 133.130085 \nL 180.774997 133.947525 \nL 190.498444 132.975725 \nL 200.221891 135.53706 \n\" style=\"fill:none;stroke:#1f77b4;stroke-linecap:square;stroke-width:1.5;\"/>\n   </g>\n   <g id=\"line2d_108\">\n    <path clip-path=\"url(#p71288cf679)\" d=\"M 49.633125 88.744386 \nL 69.163125 107.678819 \nL 88.693125 115.139866 \nL 108.223125 117.138894 \nL 127.753125 119.612588 \nL 147.283125 122.809211 \nL 166.813125 123.116198 \nL 186.343125 121.315481 \n\" style=\"fill:none;stroke:#ff7f0e;stroke-dasharray:5.55,2.4;stroke-dashoffset:0;stroke-width:1.5;\"/>\n   </g>\n   <g id=\"line2d_109\">\n    <path clip-path=\"url(#p71288cf679)\" d=\"M 49.633125 47.669527 \nL 69.163125 41.246423 \nL 88.693125 39.465016 \nL 108.223125 39.816279 \nL 127.753125 39.138842 \nL 147.283125 37.959601 \nL 166.813125 37.758879 \nL 186.343125 39.615557 \n\" style=\"fill:none;stroke:#2ca02c;stroke-dasharray:9.6,2.4,1.5,2.4;stroke-dashoffset:0;stroke-width:1.5;\"/>\n   </g>\n   <g id=\"line2d_110\">\n    <path clip-path=\"url(#p71288cf679)\" d=\"M 34.923295 13.377273 \nL 44.646742 84.303474 \nL 54.370189 100.977447 \nL 64.093636 107.305075 \nL 73.817082 113.362162 \nL 83.540529 118.351262 \nL 93.263976 121.355928 \nL 102.987423 122.708318 \nL 112.71087 125.452347 \nL 122.434316 127.503838 \nL 132.157763 129.694092 \nL 141.88121 127.982782 \nL 151.604657 131.919173 \nL 161.328104 130.87388 \nL 171.051551 133.130085 \nL 180.774997 133.947525 \nL 190.498444 132.975725 \nL 200.221891 135.53706 \n\" style=\"fill:none;stroke:#1f77b4;stroke-linecap:square;stroke-width:1.5;\"/>\n   </g>\n   <g id=\"line2d_111\">\n    <path clip-path=\"url(#p71288cf679)\" d=\"M 49.633125 88.744386 \nL 69.163125 107.678819 \nL 88.693125 115.139866 \nL 108.223125 117.138894 \nL 127.753125 119.612588 \nL 147.283125 122.809211 \nL 166.813125 123.116198 \nL 186.343125 121.315481 \nL 205.873125 125.745184 \n\" style=\"fill:none;stroke:#ff7f0e;stroke-dasharray:5.55,2.4;stroke-dashoffset:0;stroke-width:1.5;\"/>\n   </g>\n   <g id=\"line2d_112\">\n    <path clip-path=\"url(#p71288cf679)\" d=\"M 49.633125 47.669527 \nL 69.163125 41.246423 \nL 88.693125 39.465016 \nL 108.223125 39.816279 \nL 127.753125 39.138842 \nL 147.283125 37.959601 \nL 166.813125 37.758879 \nL 186.343125 39.615557 \n\" style=\"fill:none;stroke:#2ca02c;stroke-dasharray:9.6,2.4,1.5,2.4;stroke-dashoffset:0;stroke-width:1.5;\"/>\n   </g>\n   <g id=\"line2d_113\">\n    <path clip-path=\"url(#p71288cf679)\" d=\"M 34.923295 13.377273 \nL 44.646742 84.303474 \nL 54.370189 100.977447 \nL 64.093636 107.305075 \nL 73.817082 113.362162 \nL 83.540529 118.351262 \nL 93.263976 121.355928 \nL 102.987423 122.708318 \nL 112.71087 125.452347 \nL 122.434316 127.503838 \nL 132.157763 129.694092 \nL 141.88121 127.982782 \nL 151.604657 131.919173 \nL 161.328104 130.87388 \nL 171.051551 133.130085 \nL 180.774997 133.947525 \nL 190.498444 132.975725 \nL 200.221891 135.53706 \n\" style=\"fill:none;stroke:#1f77b4;stroke-linecap:square;stroke-width:1.5;\"/>\n   </g>\n   <g id=\"line2d_114\">\n    <path clip-path=\"url(#p71288cf679)\" d=\"M 49.633125 88.744386 \nL 69.163125 107.678819 \nL 88.693125 115.139866 \nL 108.223125 117.138894 \nL 127.753125 119.612588 \nL 147.283125 122.809211 \nL 166.813125 123.116198 \nL 186.343125 121.315481 \nL 205.873125 125.745184 \n\" style=\"fill:none;stroke:#ff7f0e;stroke-dasharray:5.55,2.4;stroke-dashoffset:0;stroke-width:1.5;\"/>\n   </g>\n   <g id=\"line2d_115\">\n    <path clip-path=\"url(#p71288cf679)\" d=\"M 49.633125 47.669527 \nL 69.163125 41.246423 \nL 88.693125 39.465016 \nL 108.223125 39.816279 \nL 127.753125 39.138842 \nL 147.283125 37.959601 \nL 166.813125 37.758879 \nL 186.343125 39.615557 \nL 205.873125 38.210503 \n\" style=\"fill:none;stroke:#2ca02c;stroke-dasharray:9.6,2.4,1.5,2.4;stroke-dashoffset:0;stroke-width:1.5;\"/>\n   </g>\n   <g id=\"line2d_116\">\n    <path clip-path=\"url(#p71288cf679)\" d=\"M 34.923295 13.377273 \nL 44.646742 84.303474 \nL 54.370189 100.977447 \nL 64.093636 107.305075 \nL 73.817082 113.362162 \nL 83.540529 118.351262 \nL 93.263976 121.355928 \nL 102.987423 122.708318 \nL 112.71087 125.452347 \nL 122.434316 127.503838 \nL 132.157763 129.694092 \nL 141.88121 127.982782 \nL 151.604657 131.919173 \nL 161.328104 130.87388 \nL 171.051551 133.130085 \nL 180.774997 133.947525 \nL 190.498444 132.975725 \nL 200.221891 135.53706 \nL 209.945338 136.922727 \n\" style=\"fill:none;stroke:#1f77b4;stroke-linecap:square;stroke-width:1.5;\"/>\n   </g>\n   <g id=\"line2d_117\">\n    <path clip-path=\"url(#p71288cf679)\" d=\"M 49.633125 88.744386 \nL 69.163125 107.678819 \nL 88.693125 115.139866 \nL 108.223125 117.138894 \nL 127.753125 119.612588 \nL 147.283125 122.809211 \nL 166.813125 123.116198 \nL 186.343125 121.315481 \nL 205.873125 125.745184 \n\" style=\"fill:none;stroke:#ff7f0e;stroke-dasharray:5.55,2.4;stroke-dashoffset:0;stroke-width:1.5;\"/>\n   </g>\n   <g id=\"line2d_118\">\n    <path clip-path=\"url(#p71288cf679)\" d=\"M 49.633125 47.669527 \nL 69.163125 41.246423 \nL 88.693125 39.465016 \nL 108.223125 39.816279 \nL 127.753125 39.138842 \nL 147.283125 37.959601 \nL 166.813125 37.758879 \nL 186.343125 39.615557 \nL 205.873125 38.210503 \n\" style=\"fill:none;stroke:#2ca02c;stroke-dasharray:9.6,2.4,1.5,2.4;stroke-dashoffset:0;stroke-width:1.5;\"/>\n   </g>\n   <g id=\"line2d_119\">\n    <path clip-path=\"url(#p71288cf679)\" d=\"M 34.923295 13.377273 \nL 44.646742 84.303474 \nL 54.370189 100.977447 \nL 64.093636 107.305075 \nL 73.817082 113.362162 \nL 83.540529 118.351262 \nL 93.263976 121.355928 \nL 102.987423 122.708318 \nL 112.71087 125.452347 \nL 122.434316 127.503838 \nL 132.157763 129.694092 \nL 141.88121 127.982782 \nL 151.604657 131.919173 \nL 161.328104 130.87388 \nL 171.051551 133.130085 \nL 180.774997 133.947525 \nL 190.498444 132.975725 \nL 200.221891 135.53706 \nL 209.945338 136.922727 \nL 219.668785 135.120109 \n\" style=\"fill:none;stroke:#1f77b4;stroke-linecap:square;stroke-width:1.5;\"/>\n   </g>\n   <g id=\"line2d_120\">\n    <path clip-path=\"url(#p71288cf679)\" d=\"M 49.633125 88.744386 \nL 69.163125 107.678819 \nL 88.693125 115.139866 \nL 108.223125 117.138894 \nL 127.753125 119.612588 \nL 147.283125 122.809211 \nL 166.813125 123.116198 \nL 186.343125 121.315481 \nL 205.873125 125.745184 \n\" style=\"fill:none;stroke:#ff7f0e;stroke-dasharray:5.55,2.4;stroke-dashoffset:0;stroke-width:1.5;\"/>\n   </g>\n   <g id=\"line2d_121\">\n    <path clip-path=\"url(#p71288cf679)\" d=\"M 49.633125 47.669527 \nL 69.163125 41.246423 \nL 88.693125 39.465016 \nL 108.223125 39.816279 \nL 127.753125 39.138842 \nL 147.283125 37.959601 \nL 166.813125 37.758879 \nL 186.343125 39.615557 \nL 205.873125 38.210503 \n\" style=\"fill:none;stroke:#2ca02c;stroke-dasharray:9.6,2.4,1.5,2.4;stroke-dashoffset:0;stroke-width:1.5;\"/>\n   </g>\n   <g id=\"line2d_122\">\n    <path clip-path=\"url(#p71288cf679)\" d=\"M 34.923295 13.377273 \nL 44.646742 84.303474 \nL 54.370189 100.977447 \nL 64.093636 107.305075 \nL 73.817082 113.362162 \nL 83.540529 118.351262 \nL 93.263976 121.355928 \nL 102.987423 122.708318 \nL 112.71087 125.452347 \nL 122.434316 127.503838 \nL 132.157763 129.694092 \nL 141.88121 127.982782 \nL 151.604657 131.919173 \nL 161.328104 130.87388 \nL 171.051551 133.130085 \nL 180.774997 133.947525 \nL 190.498444 132.975725 \nL 200.221891 135.53706 \nL 209.945338 136.922727 \nL 219.668785 135.120109 \n\" style=\"fill:none;stroke:#1f77b4;stroke-linecap:square;stroke-width:1.5;\"/>\n   </g>\n   <g id=\"line2d_123\">\n    <path clip-path=\"url(#p71288cf679)\" d=\"M 49.633125 88.744386 \nL 69.163125 107.678819 \nL 88.693125 115.139866 \nL 108.223125 117.138894 \nL 127.753125 119.612588 \nL 147.283125 122.809211 \nL 166.813125 123.116198 \nL 186.343125 121.315481 \nL 205.873125 125.745184 \nL 225.403125 127.977315 \n\" style=\"fill:none;stroke:#ff7f0e;stroke-dasharray:5.55,2.4;stroke-dashoffset:0;stroke-width:1.5;\"/>\n   </g>\n   <g id=\"line2d_124\">\n    <path clip-path=\"url(#p71288cf679)\" d=\"M 49.633125 47.669527 \nL 69.163125 41.246423 \nL 88.693125 39.465016 \nL 108.223125 39.816279 \nL 127.753125 39.138842 \nL 147.283125 37.959601 \nL 166.813125 37.758879 \nL 186.343125 39.615557 \nL 205.873125 38.210503 \n\" style=\"fill:none;stroke:#2ca02c;stroke-dasharray:9.6,2.4,1.5,2.4;stroke-dashoffset:0;stroke-width:1.5;\"/>\n   </g>\n   <g id=\"line2d_125\">\n    <path clip-path=\"url(#p71288cf679)\" d=\"M 34.923295 13.377273 \nL 44.646742 84.303474 \nL 54.370189 100.977447 \nL 64.093636 107.305075 \nL 73.817082 113.362162 \nL 83.540529 118.351262 \nL 93.263976 121.355928 \nL 102.987423 122.708318 \nL 112.71087 125.452347 \nL 122.434316 127.503838 \nL 132.157763 129.694092 \nL 141.88121 127.982782 \nL 151.604657 131.919173 \nL 161.328104 130.87388 \nL 171.051551 133.130085 \nL 180.774997 133.947525 \nL 190.498444 132.975725 \nL 200.221891 135.53706 \nL 209.945338 136.922727 \nL 219.668785 135.120109 \n\" style=\"fill:none;stroke:#1f77b4;stroke-linecap:square;stroke-width:1.5;\"/>\n   </g>\n   <g id=\"line2d_126\">\n    <path clip-path=\"url(#p71288cf679)\" d=\"M 49.633125 88.744386 \nL 69.163125 107.678819 \nL 88.693125 115.139866 \nL 108.223125 117.138894 \nL 127.753125 119.612588 \nL 147.283125 122.809211 \nL 166.813125 123.116198 \nL 186.343125 121.315481 \nL 205.873125 125.745184 \nL 225.403125 127.977315 \n\" style=\"fill:none;stroke:#ff7f0e;stroke-dasharray:5.55,2.4;stroke-dashoffset:0;stroke-width:1.5;\"/>\n   </g>\n   <g id=\"line2d_127\">\n    <path clip-path=\"url(#p71288cf679)\" d=\"M 49.633125 47.669527 \nL 69.163125 41.246423 \nL 88.693125 39.465016 \nL 108.223125 39.816279 \nL 127.753125 39.138842 \nL 147.283125 37.959601 \nL 166.813125 37.758879 \nL 186.343125 39.615557 \nL 205.873125 38.210503 \nL 225.403125 37.407615 \n\" style=\"fill:none;stroke:#2ca02c;stroke-dasharray:9.6,2.4,1.5,2.4;stroke-dashoffset:0;stroke-width:1.5;\"/>\n   </g>\n   <g id=\"patch_3\">\n    <path d=\"M 30.103125 143.1 \nL 30.103125 7.2 \n\" style=\"fill:none;stroke:#000000;stroke-linecap:square;stroke-linejoin:miter;stroke-width:0.8;\"/>\n   </g>\n   <g id=\"patch_4\">\n    <path d=\"M 225.403125 143.1 \nL 225.403125 7.2 \n\" style=\"fill:none;stroke:#000000;stroke-linecap:square;stroke-linejoin:miter;stroke-width:0.8;\"/>\n   </g>\n   <g id=\"patch_5\">\n    <path d=\"M 30.103125 143.1 \nL 225.403125 143.1 \n\" style=\"fill:none;stroke:#000000;stroke-linecap:square;stroke-linejoin:miter;stroke-width:0.8;\"/>\n   </g>\n   <g id=\"patch_6\">\n    <path d=\"M 30.103125 7.2 \nL 225.403125 7.2 \n\" style=\"fill:none;stroke:#000000;stroke-linecap:square;stroke-linejoin:miter;stroke-width:0.8;\"/>\n   </g>\n   <g id=\"legend_1\">\n    <g id=\"patch_7\">\n     <path d=\"M 138.8125 99.084375 \nL 218.403125 99.084375 \nQ 220.403125 99.084375 220.403125 97.084375 \nL 220.403125 53.215625 \nQ 220.403125 51.215625 218.403125 51.215625 \nL 138.8125 51.215625 \nQ 136.8125 51.215625 136.8125 53.215625 \nL 136.8125 97.084375 \nQ 136.8125 99.084375 138.8125 99.084375 \nz\n\" style=\"fill:#ffffff;opacity:0.8;stroke:#cccccc;stroke-linejoin:miter;\"/>\n    </g>\n    <g id=\"line2d_128\">\n     <path d=\"M 140.8125 59.314062 \nL 160.8125 59.314062 \n\" style=\"fill:none;stroke:#1f77b4;stroke-linecap:square;stroke-width:1.5;\"/>\n    </g>\n    <g id=\"line2d_129\"/>\n    <g id=\"text_13\">\n     <!-- train_loss -->\n     <defs>\n      <path d=\"M 18.3125 70.21875 \nL 18.3125 54.6875 \nL 36.8125 54.6875 \nL 36.8125 47.703125 \nL 18.3125 47.703125 \nL 18.3125 18.015625 \nQ 18.3125 11.328125 20.140625 9.421875 \nQ 21.96875 7.515625 27.59375 7.515625 \nL 36.8125 7.515625 \nL 36.8125 0 \nL 27.59375 0 \nQ 17.1875 0 13.234375 3.875 \nQ 9.28125 7.765625 9.28125 18.015625 \nL 9.28125 47.703125 \nL 2.6875 47.703125 \nL 2.6875 54.6875 \nL 9.28125 54.6875 \nL 9.28125 70.21875 \nz\n\" id=\"DejaVuSans-116\"/>\n      <path d=\"M 41.109375 46.296875 \nQ 39.59375 47.171875 37.8125 47.578125 \nQ 36.03125 48 33.890625 48 \nQ 26.265625 48 22.1875 43.046875 \nQ 18.109375 38.09375 18.109375 28.8125 \nL 18.109375 0 \nL 9.078125 0 \nL 9.078125 54.6875 \nL 18.109375 54.6875 \nL 18.109375 46.1875 \nQ 20.953125 51.171875 25.484375 53.578125 \nQ 30.03125 56 36.53125 56 \nQ 37.453125 56 38.578125 55.875 \nQ 39.703125 55.765625 41.0625 55.515625 \nz\n\" id=\"DejaVuSans-114\"/>\n      <path d=\"M 34.28125 27.484375 \nQ 23.390625 27.484375 19.1875 25 \nQ 14.984375 22.515625 14.984375 16.5 \nQ 14.984375 11.71875 18.140625 8.90625 \nQ 21.296875 6.109375 26.703125 6.109375 \nQ 34.1875 6.109375 38.703125 11.40625 \nQ 43.21875 16.703125 43.21875 25.484375 \nL 43.21875 27.484375 \nz\nM 52.203125 31.203125 \nL 52.203125 0 \nL 43.21875 0 \nL 43.21875 8.296875 \nQ 40.140625 3.328125 35.546875 0.953125 \nQ 30.953125 -1.421875 24.3125 -1.421875 \nQ 15.921875 -1.421875 10.953125 3.296875 \nQ 6 8.015625 6 15.921875 \nQ 6 25.140625 12.171875 29.828125 \nQ 18.359375 34.515625 30.609375 34.515625 \nL 43.21875 34.515625 \nL 43.21875 35.40625 \nQ 43.21875 41.609375 39.140625 45 \nQ 35.0625 48.390625 27.6875 48.390625 \nQ 23 48.390625 18.546875 47.265625 \nQ 14.109375 46.140625 10.015625 43.890625 \nL 10.015625 52.203125 \nQ 14.9375 54.109375 19.578125 55.046875 \nQ 24.21875 56 28.609375 56 \nQ 40.484375 56 46.34375 49.84375 \nQ 52.203125 43.703125 52.203125 31.203125 \nz\n\" id=\"DejaVuSans-97\"/>\n      <path d=\"M 9.421875 54.6875 \nL 18.40625 54.6875 \nL 18.40625 0 \nL 9.421875 0 \nz\nM 9.421875 75.984375 \nL 18.40625 75.984375 \nL 18.40625 64.59375 \nL 9.421875 64.59375 \nz\n\" id=\"DejaVuSans-105\"/>\n      <path d=\"M 54.890625 33.015625 \nL 54.890625 0 \nL 45.90625 0 \nL 45.90625 32.71875 \nQ 45.90625 40.484375 42.875 44.328125 \nQ 39.84375 48.1875 33.796875 48.1875 \nQ 26.515625 48.1875 22.3125 43.546875 \nQ 18.109375 38.921875 18.109375 30.90625 \nL 18.109375 0 \nL 9.078125 0 \nL 9.078125 54.6875 \nL 18.109375 54.6875 \nL 18.109375 46.1875 \nQ 21.34375 51.125 25.703125 53.5625 \nQ 30.078125 56 35.796875 56 \nQ 45.21875 56 50.046875 50.171875 \nQ 54.890625 44.34375 54.890625 33.015625 \nz\n\" id=\"DejaVuSans-110\"/>\n      <path d=\"M 50.984375 -16.609375 \nL 50.984375 -23.578125 \nL -0.984375 -23.578125 \nL -0.984375 -16.609375 \nz\n\" id=\"DejaVuSans-95\"/>\n      <path d=\"M 9.421875 75.984375 \nL 18.40625 75.984375 \nL 18.40625 0 \nL 9.421875 0 \nz\n\" id=\"DejaVuSans-108\"/>\n      <path d=\"M 44.28125 53.078125 \nL 44.28125 44.578125 \nQ 40.484375 46.53125 36.375 47.5 \nQ 32.28125 48.484375 27.875 48.484375 \nQ 21.1875 48.484375 17.84375 46.4375 \nQ 14.5 44.390625 14.5 40.28125 \nQ 14.5 37.15625 16.890625 35.375 \nQ 19.28125 33.59375 26.515625 31.984375 \nL 29.59375 31.296875 \nQ 39.15625 29.25 43.1875 25.515625 \nQ 47.21875 21.78125 47.21875 15.09375 \nQ 47.21875 7.46875 41.1875 3.015625 \nQ 35.15625 -1.421875 24.609375 -1.421875 \nQ 20.21875 -1.421875 15.453125 -0.5625 \nQ 10.6875 0.296875 5.421875 2 \nL 5.421875 11.28125 \nQ 10.40625 8.6875 15.234375 7.390625 \nQ 20.0625 6.109375 24.8125 6.109375 \nQ 31.15625 6.109375 34.5625 8.28125 \nQ 37.984375 10.453125 37.984375 14.40625 \nQ 37.984375 18.0625 35.515625 20.015625 \nQ 33.0625 21.96875 24.703125 23.78125 \nL 21.578125 24.515625 \nQ 13.234375 26.265625 9.515625 29.90625 \nQ 5.8125 33.546875 5.8125 39.890625 \nQ 5.8125 47.609375 11.28125 51.796875 \nQ 16.75 56 26.8125 56 \nQ 31.78125 56 36.171875 55.265625 \nQ 40.578125 54.546875 44.28125 53.078125 \nz\n\" id=\"DejaVuSans-115\"/>\n     </defs>\n     <g transform=\"translate(168.8125 62.814062)scale(0.1 -0.1)\">\n      <use xlink:href=\"#DejaVuSans-116\"/>\n      <use x=\"39.208984\" xlink:href=\"#DejaVuSans-114\"/>\n      <use x=\"80.322266\" xlink:href=\"#DejaVuSans-97\"/>\n      <use x=\"141.601562\" xlink:href=\"#DejaVuSans-105\"/>\n      <use x=\"169.384766\" xlink:href=\"#DejaVuSans-110\"/>\n      <use x=\"232.763672\" xlink:href=\"#DejaVuSans-95\"/>\n      <use x=\"282.763672\" xlink:href=\"#DejaVuSans-108\"/>\n      <use x=\"310.546875\" xlink:href=\"#DejaVuSans-111\"/>\n      <use x=\"371.728516\" xlink:href=\"#DejaVuSans-115\"/>\n      <use x=\"423.828125\" xlink:href=\"#DejaVuSans-115\"/>\n     </g>\n    </g>\n    <g id=\"line2d_130\">\n     <path d=\"M 140.8125 74.270312 \nL 160.8125 74.270312 \n\" style=\"fill:none;stroke:#ff7f0e;stroke-dasharray:5.55,2.4;stroke-dashoffset:0;stroke-width:1.5;\"/>\n    </g>\n    <g id=\"line2d_131\"/>\n    <g id=\"text_14\">\n     <!-- val_loss -->\n     <defs>\n      <path d=\"M 2.984375 54.6875 \nL 12.5 54.6875 \nL 29.59375 8.796875 \nL 46.6875 54.6875 \nL 56.203125 54.6875 \nL 35.6875 0 \nL 23.484375 0 \nz\n\" id=\"DejaVuSans-118\"/>\n     </defs>\n     <g transform=\"translate(168.8125 77.770312)scale(0.1 -0.1)\">\n      <use xlink:href=\"#DejaVuSans-118\"/>\n      <use x=\"59.179688\" xlink:href=\"#DejaVuSans-97\"/>\n      <use x=\"120.458984\" xlink:href=\"#DejaVuSans-108\"/>\n      <use x=\"148.242188\" xlink:href=\"#DejaVuSans-95\"/>\n      <use x=\"198.242188\" xlink:href=\"#DejaVuSans-108\"/>\n      <use x=\"226.025391\" xlink:href=\"#DejaVuSans-111\"/>\n      <use x=\"287.207031\" xlink:href=\"#DejaVuSans-115\"/>\n      <use x=\"339.306641\" xlink:href=\"#DejaVuSans-115\"/>\n     </g>\n    </g>\n    <g id=\"line2d_132\">\n     <path d=\"M 140.8125 89.226562 \nL 160.8125 89.226562 \n\" style=\"fill:none;stroke:#2ca02c;stroke-dasharray:9.6,2.4,1.5,2.4;stroke-dashoffset:0;stroke-width:1.5;\"/>\n    </g>\n    <g id=\"line2d_133\"/>\n    <g id=\"text_15\">\n     <!-- val_acc -->\n     <g transform=\"translate(168.8125 92.726562)scale(0.1 -0.1)\">\n      <use xlink:href=\"#DejaVuSans-118\"/>\n      <use x=\"59.179688\" xlink:href=\"#DejaVuSans-97\"/>\n      <use x=\"120.458984\" xlink:href=\"#DejaVuSans-108\"/>\n      <use x=\"148.242188\" xlink:href=\"#DejaVuSans-95\"/>\n      <use x=\"198.242188\" xlink:href=\"#DejaVuSans-97\"/>\n      <use x=\"259.521484\" xlink:href=\"#DejaVuSans-99\"/>\n      <use x=\"314.501953\" xlink:href=\"#DejaVuSans-99\"/>\n     </g>\n    </g>\n   </g>\n  </g>\n </g>\n <defs>\n  <clipPath id=\"p71288cf679\">\n   <rect height=\"135.9\" width=\"195.3\" x=\"30.103125\" y=\"7.2\"/>\n  </clipPath>\n </defs>\n</svg>\n"
          },
          "metadata": {
            "needs_background": "light"
          }
        }
      ]
    },
    {
      "cell_type": "markdown",
      "source": [
        "### **4.4.5. 预测（Prediction）**"
      ],
      "metadata": {
        "id": "Lrl0ifAYPpg8"
      }
    },
    {
      "cell_type": "code",
      "source": [
        "X, y = next(iter(data.val_dataloader()))\n",
        "preds = model(X).argmax(axis=1)\n",
        "preds.shape"
      ],
      "metadata": {
        "colab": {
          "base_uri": "https://localhost:8080/"
        },
        "id": "bqgeYmdcPo_5",
        "outputId": "4ff2457a-bd09-4dc2-9374-95dd635f4560"
      },
      "execution_count": 25,
      "outputs": [
        {
          "output_type": "execute_result",
          "data": {
            "text/plain": [
              "torch.Size([256])"
            ]
          },
          "metadata": {},
          "execution_count": 25
        }
      ]
    },
    {
      "cell_type": "markdown",
      "source": [
        "我们对我们标记错误的图像更感兴趣。我们通过比较它们的实际标签（文本输出的第一行）和模型的预测（文本输出的第二行），将它们可视化。"
      ],
      "metadata": {
        "id": "iLXFO0iRPyHq"
      }
    },
    {
      "cell_type": "code",
      "source": [
        "wrong = preds.type(y.dtype) != y\n",
        "X, y, preds = X[wrong], y[wrong], preds[wrong]\n",
        "labels = [a+'\\n'+b for a, b in zip(\n",
        "    data.text_labels(y), data.text_labels(preds))]\n",
        "data.visualize([X, y], labels=labels)"
      ],
      "metadata": {
        "id": "_qOLlLVUPybm"
      },
      "execution_count": null,
      "outputs": []
    },
    {
      "cell_type": "markdown",
      "source": [
        "##**4.5. Softmax回归的简洁实现（Concise Implementation of Softmax Regression）**"
      ],
      "metadata": {
        "id": "bBSjqUVCQJ6L"
      }
    },
    {
      "cell_type": "markdown",
      "source": [
        "### **4.5.1. 定义模型（Defining the Model）**\n",
        "\n",
        "我们使用 `Flatten` 层将四阶张量 `X` 转换为二阶，保持沿第一轴的维度不变。"
      ],
      "metadata": {
        "id": "wnj_IY9oQYRb"
      }
    },
    {
      "cell_type": "code",
      "source": [
        "class SoftmaxRegression(d2l.Classifier):\n",
        "    def __init__(self, num_outputs, lr):\n",
        "        super().__init__()\n",
        "        self.save_hyperparameters()\n",
        "        self.net = nn.Sequential(nn.Flatten(),\n",
        "                                 nn.LazyLinear(num_outputs))\n",
        "    def forward(self, X):\n",
        "        return self.net(X)"
      ],
      "metadata": {
        "id": "zcdG1jkvQF2E"
      },
      "execution_count": 27,
      "outputs": []
    },
    {
      "cell_type": "markdown",
      "source": [
        "### **4.5.2. 重新定义Softmax函数（Softmax Revisited）**"
      ],
      "metadata": {
        "id": "SecFoeSBQsEx"
      }
    },
    {
      "cell_type": "code",
      "source": [
        "@d2l.add_to_class(d2l.Classifier)\n",
        "def loss(self, Y_hat, Y, averaged=True):\n",
        "    Y_hat = Y_hat.reshape((-1, Y_hat.shape[-1]))\n",
        "    Y = Y.reshape((-1,))\n",
        "    return F.cross_entropy(\n",
        "        Y_hat, Y, reduction='mean' if averaged else 'none')"
      ],
      "metadata": {
        "id": "CHB_cJ4KQn_o"
      },
      "execution_count": 28,
      "outputs": []
    },
    {
      "cell_type": "markdown",
      "source": [
        "### **4.5.3. 训练（Training）**"
      ],
      "metadata": {
        "id": "vBAnfEwGRjPo"
      }
    },
    {
      "cell_type": "code",
      "source": [
        "data = d2l.FashionMNIST(batch_size=256)\n",
        "model = SoftmaxRegression(num_outputs=10, lr=0.1)\n",
        "trainer = d2l.Trainer(max_epochs=10)\n",
        "trainer.fit(model, data)"
      ],
      "metadata": {
        "colab": {
          "base_uri": "https://localhost:8080/",
          "height": 262
        },
        "id": "QFFTX-XlRgLc",
        "outputId": "7e48a3ac-834c-48c6-b3b2-4f7143f4e43c"
      },
      "execution_count": 29,
      "outputs": [
        {
          "output_type": "display_data",
          "data": {
            "text/plain": [
              "<Figure size 252x180 with 1 Axes>"
            ],
            "image/svg+xml": "<?xml version=\"1.0\" encoding=\"utf-8\" standalone=\"no\"?>\n<!DOCTYPE svg PUBLIC \"-//W3C//DTD SVG 1.1//EN\"\n  \"http://www.w3.org/Graphics/SVG/1.1/DTD/svg11.dtd\">\n<!-- Created with matplotlib (https://matplotlib.org/) -->\n<svg height=\"180.65625pt\" version=\"1.1\" viewBox=\"0 0 238.965625 180.65625\" width=\"238.965625pt\" xmlns=\"http://www.w3.org/2000/svg\" xmlns:xlink=\"http://www.w3.org/1999/xlink\">\n <defs>\n  <style type=\"text/css\">\n*{stroke-linecap:butt;stroke-linejoin:round;}\n  </style>\n </defs>\n <g id=\"figure_1\">\n  <g id=\"patch_1\">\n   <path d=\"M 0 180.65625 \nL 238.965625 180.65625 \nL 238.965625 0 \nL 0 0 \nz\n\" style=\"fill:none;\"/>\n  </g>\n  <g id=\"axes_1\">\n   <g id=\"patch_2\">\n    <path d=\"M 30.103125 143.1 \nL 225.403125 143.1 \nL 225.403125 7.2 \nL 30.103125 7.2 \nz\n\" style=\"fill:#ffffff;\"/>\n   </g>\n   <g id=\"matplotlib.axis_1\">\n    <g id=\"xtick_1\">\n     <g id=\"line2d_1\">\n      <defs>\n       <path d=\"M 0 0 \nL 0 3.5 \n\" id=\"m7593ac4fd9\" style=\"stroke:#000000;stroke-width:0.8;\"/>\n      </defs>\n      <g>\n       <use style=\"stroke:#000000;stroke-width:0.8;\" x=\"30.103125\" xlink:href=\"#m7593ac4fd9\" y=\"143.1\"/>\n      </g>\n     </g>\n     <g id=\"text_1\">\n      <!-- 0 -->\n      <defs>\n       <path d=\"M 31.78125 66.40625 \nQ 24.171875 66.40625 20.328125 58.90625 \nQ 16.5 51.421875 16.5 36.375 \nQ 16.5 21.390625 20.328125 13.890625 \nQ 24.171875 6.390625 31.78125 6.390625 \nQ 39.453125 6.390625 43.28125 13.890625 \nQ 47.125 21.390625 47.125 36.375 \nQ 47.125 51.421875 43.28125 58.90625 \nQ 39.453125 66.40625 31.78125 66.40625 \nz\nM 31.78125 74.21875 \nQ 44.046875 74.21875 50.515625 64.515625 \nQ 56.984375 54.828125 56.984375 36.375 \nQ 56.984375 17.96875 50.515625 8.265625 \nQ 44.046875 -1.421875 31.78125 -1.421875 \nQ 19.53125 -1.421875 13.0625 8.265625 \nQ 6.59375 17.96875 6.59375 36.375 \nQ 6.59375 54.828125 13.0625 64.515625 \nQ 19.53125 74.21875 31.78125 74.21875 \nz\n\" id=\"DejaVuSans-48\"/>\n      </defs>\n      <g transform=\"translate(26.921875 157.698438)scale(0.1 -0.1)\">\n       <use xlink:href=\"#DejaVuSans-48\"/>\n      </g>\n     </g>\n    </g>\n    <g id=\"xtick_2\">\n     <g id=\"line2d_2\">\n      <g>\n       <use style=\"stroke:#000000;stroke-width:0.8;\" x=\"69.163125\" xlink:href=\"#m7593ac4fd9\" y=\"143.1\"/>\n      </g>\n     </g>\n     <g id=\"text_2\">\n      <!-- 2 -->\n      <defs>\n       <path d=\"M 19.1875 8.296875 \nL 53.609375 8.296875 \nL 53.609375 0 \nL 7.328125 0 \nL 7.328125 8.296875 \nQ 12.9375 14.109375 22.625 23.890625 \nQ 32.328125 33.6875 34.8125 36.53125 \nQ 39.546875 41.84375 41.421875 45.53125 \nQ 43.3125 49.21875 43.3125 52.78125 \nQ 43.3125 58.59375 39.234375 62.25 \nQ 35.15625 65.921875 28.609375 65.921875 \nQ 23.96875 65.921875 18.8125 64.3125 \nQ 13.671875 62.703125 7.8125 59.421875 \nL 7.8125 69.390625 \nQ 13.765625 71.78125 18.9375 73 \nQ 24.125 74.21875 28.421875 74.21875 \nQ 39.75 74.21875 46.484375 68.546875 \nQ 53.21875 62.890625 53.21875 53.421875 \nQ 53.21875 48.921875 51.53125 44.890625 \nQ 49.859375 40.875 45.40625 35.40625 \nQ 44.1875 33.984375 37.640625 27.21875 \nQ 31.109375 20.453125 19.1875 8.296875 \nz\n\" id=\"DejaVuSans-50\"/>\n      </defs>\n      <g transform=\"translate(65.981875 157.698438)scale(0.1 -0.1)\">\n       <use xlink:href=\"#DejaVuSans-50\"/>\n      </g>\n     </g>\n    </g>\n    <g id=\"xtick_3\">\n     <g id=\"line2d_3\">\n      <g>\n       <use style=\"stroke:#000000;stroke-width:0.8;\" x=\"108.223125\" xlink:href=\"#m7593ac4fd9\" y=\"143.1\"/>\n      </g>\n     </g>\n     <g id=\"text_3\">\n      <!-- 4 -->\n      <defs>\n       <path d=\"M 37.796875 64.3125 \nL 12.890625 25.390625 \nL 37.796875 25.390625 \nz\nM 35.203125 72.90625 \nL 47.609375 72.90625 \nL 47.609375 25.390625 \nL 58.015625 25.390625 \nL 58.015625 17.1875 \nL 47.609375 17.1875 \nL 47.609375 0 \nL 37.796875 0 \nL 37.796875 17.1875 \nL 4.890625 17.1875 \nL 4.890625 26.703125 \nz\n\" id=\"DejaVuSans-52\"/>\n      </defs>\n      <g transform=\"translate(105.041875 157.698438)scale(0.1 -0.1)\">\n       <use xlink:href=\"#DejaVuSans-52\"/>\n      </g>\n     </g>\n    </g>\n    <g id=\"xtick_4\">\n     <g id=\"line2d_4\">\n      <g>\n       <use style=\"stroke:#000000;stroke-width:0.8;\" x=\"147.283125\" xlink:href=\"#m7593ac4fd9\" y=\"143.1\"/>\n      </g>\n     </g>\n     <g id=\"text_4\">\n      <!-- 6 -->\n      <defs>\n       <path d=\"M 33.015625 40.375 \nQ 26.375 40.375 22.484375 35.828125 \nQ 18.609375 31.296875 18.609375 23.390625 \nQ 18.609375 15.53125 22.484375 10.953125 \nQ 26.375 6.390625 33.015625 6.390625 \nQ 39.65625 6.390625 43.53125 10.953125 \nQ 47.40625 15.53125 47.40625 23.390625 \nQ 47.40625 31.296875 43.53125 35.828125 \nQ 39.65625 40.375 33.015625 40.375 \nz\nM 52.59375 71.296875 \nL 52.59375 62.3125 \nQ 48.875 64.0625 45.09375 64.984375 \nQ 41.3125 65.921875 37.59375 65.921875 \nQ 27.828125 65.921875 22.671875 59.328125 \nQ 17.53125 52.734375 16.796875 39.40625 \nQ 19.671875 43.65625 24.015625 45.921875 \nQ 28.375 48.1875 33.59375 48.1875 \nQ 44.578125 48.1875 50.953125 41.515625 \nQ 57.328125 34.859375 57.328125 23.390625 \nQ 57.328125 12.15625 50.6875 5.359375 \nQ 44.046875 -1.421875 33.015625 -1.421875 \nQ 20.359375 -1.421875 13.671875 8.265625 \nQ 6.984375 17.96875 6.984375 36.375 \nQ 6.984375 53.65625 15.1875 63.9375 \nQ 23.390625 74.21875 37.203125 74.21875 \nQ 40.921875 74.21875 44.703125 73.484375 \nQ 48.484375 72.75 52.59375 71.296875 \nz\n\" id=\"DejaVuSans-54\"/>\n      </defs>\n      <g transform=\"translate(144.101875 157.698438)scale(0.1 -0.1)\">\n       <use xlink:href=\"#DejaVuSans-54\"/>\n      </g>\n     </g>\n    </g>\n    <g id=\"xtick_5\">\n     <g id=\"line2d_5\">\n      <g>\n       <use style=\"stroke:#000000;stroke-width:0.8;\" x=\"186.343125\" xlink:href=\"#m7593ac4fd9\" y=\"143.1\"/>\n      </g>\n     </g>\n     <g id=\"text_5\">\n      <!-- 8 -->\n      <defs>\n       <path d=\"M 31.78125 34.625 \nQ 24.75 34.625 20.71875 30.859375 \nQ 16.703125 27.09375 16.703125 20.515625 \nQ 16.703125 13.921875 20.71875 10.15625 \nQ 24.75 6.390625 31.78125 6.390625 \nQ 38.8125 6.390625 42.859375 10.171875 \nQ 46.921875 13.96875 46.921875 20.515625 \nQ 46.921875 27.09375 42.890625 30.859375 \nQ 38.875 34.625 31.78125 34.625 \nz\nM 21.921875 38.8125 \nQ 15.578125 40.375 12.03125 44.71875 \nQ 8.5 49.078125 8.5 55.328125 \nQ 8.5 64.0625 14.71875 69.140625 \nQ 20.953125 74.21875 31.78125 74.21875 \nQ 42.671875 74.21875 48.875 69.140625 \nQ 55.078125 64.0625 55.078125 55.328125 \nQ 55.078125 49.078125 51.53125 44.71875 \nQ 48 40.375 41.703125 38.8125 \nQ 48.828125 37.15625 52.796875 32.3125 \nQ 56.78125 27.484375 56.78125 20.515625 \nQ 56.78125 9.90625 50.3125 4.234375 \nQ 43.84375 -1.421875 31.78125 -1.421875 \nQ 19.734375 -1.421875 13.25 4.234375 \nQ 6.78125 9.90625 6.78125 20.515625 \nQ 6.78125 27.484375 10.78125 32.3125 \nQ 14.796875 37.15625 21.921875 38.8125 \nz\nM 18.3125 54.390625 \nQ 18.3125 48.734375 21.84375 45.5625 \nQ 25.390625 42.390625 31.78125 42.390625 \nQ 38.140625 42.390625 41.71875 45.5625 \nQ 45.3125 48.734375 45.3125 54.390625 \nQ 45.3125 60.0625 41.71875 63.234375 \nQ 38.140625 66.40625 31.78125 66.40625 \nQ 25.390625 66.40625 21.84375 63.234375 \nQ 18.3125 60.0625 18.3125 54.390625 \nz\n\" id=\"DejaVuSans-56\"/>\n      </defs>\n      <g transform=\"translate(183.161875 157.698438)scale(0.1 -0.1)\">\n       <use xlink:href=\"#DejaVuSans-56\"/>\n      </g>\n     </g>\n    </g>\n    <g id=\"xtick_6\">\n     <g id=\"line2d_6\">\n      <g>\n       <use style=\"stroke:#000000;stroke-width:0.8;\" x=\"225.403125\" xlink:href=\"#m7593ac4fd9\" y=\"143.1\"/>\n      </g>\n     </g>\n     <g id=\"text_6\">\n      <!-- 10 -->\n      <defs>\n       <path d=\"M 12.40625 8.296875 \nL 28.515625 8.296875 \nL 28.515625 63.921875 \nL 10.984375 60.40625 \nL 10.984375 69.390625 \nL 28.421875 72.90625 \nL 38.28125 72.90625 \nL 38.28125 8.296875 \nL 54.390625 8.296875 \nL 54.390625 0 \nL 12.40625 0 \nz\n\" id=\"DejaVuSans-49\"/>\n      </defs>\n      <g transform=\"translate(219.040625 157.698438)scale(0.1 -0.1)\">\n       <use xlink:href=\"#DejaVuSans-49\"/>\n       <use x=\"63.623047\" xlink:href=\"#DejaVuSans-48\"/>\n      </g>\n     </g>\n    </g>\n    <g id=\"text_7\">\n     <!-- epoch -->\n     <defs>\n      <path d=\"M 56.203125 29.59375 \nL 56.203125 25.203125 \nL 14.890625 25.203125 \nQ 15.484375 15.921875 20.484375 11.0625 \nQ 25.484375 6.203125 34.421875 6.203125 \nQ 39.59375 6.203125 44.453125 7.46875 \nQ 49.3125 8.734375 54.109375 11.28125 \nL 54.109375 2.78125 \nQ 49.265625 0.734375 44.1875 -0.34375 \nQ 39.109375 -1.421875 33.890625 -1.421875 \nQ 20.796875 -1.421875 13.15625 6.1875 \nQ 5.515625 13.8125 5.515625 26.8125 \nQ 5.515625 40.234375 12.765625 48.109375 \nQ 20.015625 56 32.328125 56 \nQ 43.359375 56 49.78125 48.890625 \nQ 56.203125 41.796875 56.203125 29.59375 \nz\nM 47.21875 32.234375 \nQ 47.125 39.59375 43.09375 43.984375 \nQ 39.0625 48.390625 32.421875 48.390625 \nQ 24.90625 48.390625 20.390625 44.140625 \nQ 15.875 39.890625 15.1875 32.171875 \nz\n\" id=\"DejaVuSans-101\"/>\n      <path d=\"M 18.109375 8.203125 \nL 18.109375 -20.796875 \nL 9.078125 -20.796875 \nL 9.078125 54.6875 \nL 18.109375 54.6875 \nL 18.109375 46.390625 \nQ 20.953125 51.265625 25.265625 53.625 \nQ 29.59375 56 35.59375 56 \nQ 45.5625 56 51.78125 48.09375 \nQ 58.015625 40.1875 58.015625 27.296875 \nQ 58.015625 14.40625 51.78125 6.484375 \nQ 45.5625 -1.421875 35.59375 -1.421875 \nQ 29.59375 -1.421875 25.265625 0.953125 \nQ 20.953125 3.328125 18.109375 8.203125 \nz\nM 48.6875 27.296875 \nQ 48.6875 37.203125 44.609375 42.84375 \nQ 40.53125 48.484375 33.40625 48.484375 \nQ 26.265625 48.484375 22.1875 42.84375 \nQ 18.109375 37.203125 18.109375 27.296875 \nQ 18.109375 17.390625 22.1875 11.75 \nQ 26.265625 6.109375 33.40625 6.109375 \nQ 40.53125 6.109375 44.609375 11.75 \nQ 48.6875 17.390625 48.6875 27.296875 \nz\n\" id=\"DejaVuSans-112\"/>\n      <path d=\"M 30.609375 48.390625 \nQ 23.390625 48.390625 19.1875 42.75 \nQ 14.984375 37.109375 14.984375 27.296875 \nQ 14.984375 17.484375 19.15625 11.84375 \nQ 23.34375 6.203125 30.609375 6.203125 \nQ 37.796875 6.203125 41.984375 11.859375 \nQ 46.1875 17.53125 46.1875 27.296875 \nQ 46.1875 37.015625 41.984375 42.703125 \nQ 37.796875 48.390625 30.609375 48.390625 \nz\nM 30.609375 56 \nQ 42.328125 56 49.015625 48.375 \nQ 55.71875 40.765625 55.71875 27.296875 \nQ 55.71875 13.875 49.015625 6.21875 \nQ 42.328125 -1.421875 30.609375 -1.421875 \nQ 18.84375 -1.421875 12.171875 6.21875 \nQ 5.515625 13.875 5.515625 27.296875 \nQ 5.515625 40.765625 12.171875 48.375 \nQ 18.84375 56 30.609375 56 \nz\n\" id=\"DejaVuSans-111\"/>\n      <path d=\"M 48.78125 52.59375 \nL 48.78125 44.1875 \nQ 44.96875 46.296875 41.140625 47.34375 \nQ 37.3125 48.390625 33.40625 48.390625 \nQ 24.65625 48.390625 19.8125 42.84375 \nQ 14.984375 37.3125 14.984375 27.296875 \nQ 14.984375 17.28125 19.8125 11.734375 \nQ 24.65625 6.203125 33.40625 6.203125 \nQ 37.3125 6.203125 41.140625 7.25 \nQ 44.96875 8.296875 48.78125 10.40625 \nL 48.78125 2.09375 \nQ 45.015625 0.34375 40.984375 -0.53125 \nQ 36.96875 -1.421875 32.421875 -1.421875 \nQ 20.0625 -1.421875 12.78125 6.34375 \nQ 5.515625 14.109375 5.515625 27.296875 \nQ 5.515625 40.671875 12.859375 48.328125 \nQ 20.21875 56 33.015625 56 \nQ 37.15625 56 41.109375 55.140625 \nQ 45.0625 54.296875 48.78125 52.59375 \nz\n\" id=\"DejaVuSans-99\"/>\n      <path d=\"M 54.890625 33.015625 \nL 54.890625 0 \nL 45.90625 0 \nL 45.90625 32.71875 \nQ 45.90625 40.484375 42.875 44.328125 \nQ 39.84375 48.1875 33.796875 48.1875 \nQ 26.515625 48.1875 22.3125 43.546875 \nQ 18.109375 38.921875 18.109375 30.90625 \nL 18.109375 0 \nL 9.078125 0 \nL 9.078125 75.984375 \nL 18.109375 75.984375 \nL 18.109375 46.1875 \nQ 21.34375 51.125 25.703125 53.5625 \nQ 30.078125 56 35.796875 56 \nQ 45.21875 56 50.046875 50.171875 \nQ 54.890625 44.34375 54.890625 33.015625 \nz\n\" id=\"DejaVuSans-104\"/>\n     </defs>\n     <g transform=\"translate(112.525 171.376563)scale(0.1 -0.1)\">\n      <use xlink:href=\"#DejaVuSans-101\"/>\n      <use x=\"61.523438\" xlink:href=\"#DejaVuSans-112\"/>\n      <use x=\"125\" xlink:href=\"#DejaVuSans-111\"/>\n      <use x=\"186.181641\" xlink:href=\"#DejaVuSans-99\"/>\n      <use x=\"241.162109\" xlink:href=\"#DejaVuSans-104\"/>\n     </g>\n    </g>\n   </g>\n   <g id=\"matplotlib.axis_2\">\n    <g id=\"ytick_1\">\n     <g id=\"line2d_7\">\n      <defs>\n       <path d=\"M 0 0 \nL -3.5 0 \n\" id=\"m9775a348a5\" style=\"stroke:#000000;stroke-width:0.8;\"/>\n      </defs>\n      <g>\n       <use style=\"stroke:#000000;stroke-width:0.8;\" x=\"30.103125\" xlink:href=\"#m9775a348a5\" y=\"122.519125\"/>\n      </g>\n     </g>\n     <g id=\"text_8\">\n      <!-- 0.5 -->\n      <defs>\n       <path d=\"M 10.6875 12.40625 \nL 21 12.40625 \nL 21 0 \nL 10.6875 0 \nz\n\" id=\"DejaVuSans-46\"/>\n       <path d=\"M 10.796875 72.90625 \nL 49.515625 72.90625 \nL 49.515625 64.59375 \nL 19.828125 64.59375 \nL 19.828125 46.734375 \nQ 21.96875 47.46875 24.109375 47.828125 \nQ 26.265625 48.1875 28.421875 48.1875 \nQ 40.625 48.1875 47.75 41.5 \nQ 54.890625 34.8125 54.890625 23.390625 \nQ 54.890625 11.625 47.5625 5.09375 \nQ 40.234375 -1.421875 26.90625 -1.421875 \nQ 22.3125 -1.421875 17.546875 -0.640625 \nQ 12.796875 0.140625 7.71875 1.703125 \nL 7.71875 11.625 \nQ 12.109375 9.234375 16.796875 8.0625 \nQ 21.484375 6.890625 26.703125 6.890625 \nQ 35.15625 6.890625 40.078125 11.328125 \nQ 45.015625 15.765625 45.015625 23.390625 \nQ 45.015625 31 40.078125 35.4375 \nQ 35.15625 39.890625 26.703125 39.890625 \nQ 22.75 39.890625 18.8125 39.015625 \nQ 14.890625 38.140625 10.796875 36.28125 \nz\n\" id=\"DejaVuSans-53\"/>\n      </defs>\n      <g transform=\"translate(7.2 126.318344)scale(0.1 -0.1)\">\n       <use xlink:href=\"#DejaVuSans-48\"/>\n       <use x=\"63.623047\" xlink:href=\"#DejaVuSans-46\"/>\n       <use x=\"95.410156\" xlink:href=\"#DejaVuSans-53\"/>\n      </g>\n     </g>\n    </g>\n    <g id=\"ytick_2\">\n     <g id=\"line2d_8\">\n      <g>\n       <use style=\"stroke:#000000;stroke-width:0.8;\" x=\"30.103125\" xlink:href=\"#m9775a348a5\" y=\"97.309382\"/>\n      </g>\n     </g>\n     <g id=\"text_9\">\n      <!-- 0.6 -->\n      <g transform=\"translate(7.2 101.108601)scale(0.1 -0.1)\">\n       <use xlink:href=\"#DejaVuSans-48\"/>\n       <use x=\"63.623047\" xlink:href=\"#DejaVuSans-46\"/>\n       <use x=\"95.410156\" xlink:href=\"#DejaVuSans-54\"/>\n      </g>\n     </g>\n    </g>\n    <g id=\"ytick_3\">\n     <g id=\"line2d_9\">\n      <g>\n       <use style=\"stroke:#000000;stroke-width:0.8;\" x=\"30.103125\" xlink:href=\"#m9775a348a5\" y=\"72.099639\"/>\n      </g>\n     </g>\n     <g id=\"text_10\">\n      <!-- 0.7 -->\n      <defs>\n       <path d=\"M 8.203125 72.90625 \nL 55.078125 72.90625 \nL 55.078125 68.703125 \nL 28.609375 0 \nL 18.3125 0 \nL 43.21875 64.59375 \nL 8.203125 64.59375 \nz\n\" id=\"DejaVuSans-55\"/>\n      </defs>\n      <g transform=\"translate(7.2 75.898858)scale(0.1 -0.1)\">\n       <use xlink:href=\"#DejaVuSans-48\"/>\n       <use x=\"63.623047\" xlink:href=\"#DejaVuSans-46\"/>\n       <use x=\"95.410156\" xlink:href=\"#DejaVuSans-55\"/>\n      </g>\n     </g>\n    </g>\n    <g id=\"ytick_4\">\n     <g id=\"line2d_10\">\n      <g>\n       <use style=\"stroke:#000000;stroke-width:0.8;\" x=\"30.103125\" xlink:href=\"#m9775a348a5\" y=\"46.889896\"/>\n      </g>\n     </g>\n     <g id=\"text_11\">\n      <!-- 0.8 -->\n      <g transform=\"translate(7.2 50.689115)scale(0.1 -0.1)\">\n       <use xlink:href=\"#DejaVuSans-48\"/>\n       <use x=\"63.623047\" xlink:href=\"#DejaVuSans-46\"/>\n       <use x=\"95.410156\" xlink:href=\"#DejaVuSans-56\"/>\n      </g>\n     </g>\n    </g>\n    <g id=\"ytick_5\">\n     <g id=\"line2d_11\">\n      <g>\n       <use style=\"stroke:#000000;stroke-width:0.8;\" x=\"30.103125\" xlink:href=\"#m9775a348a5\" y=\"21.680153\"/>\n      </g>\n     </g>\n     <g id=\"text_12\">\n      <!-- 0.9 -->\n      <defs>\n       <path d=\"M 10.984375 1.515625 \nL 10.984375 10.5 \nQ 14.703125 8.734375 18.5 7.8125 \nQ 22.3125 6.890625 25.984375 6.890625 \nQ 35.75 6.890625 40.890625 13.453125 \nQ 46.046875 20.015625 46.78125 33.40625 \nQ 43.953125 29.203125 39.59375 26.953125 \nQ 35.25 24.703125 29.984375 24.703125 \nQ 19.046875 24.703125 12.671875 31.3125 \nQ 6.296875 37.9375 6.296875 49.421875 \nQ 6.296875 60.640625 12.9375 67.421875 \nQ 19.578125 74.21875 30.609375 74.21875 \nQ 43.265625 74.21875 49.921875 64.515625 \nQ 56.59375 54.828125 56.59375 36.375 \nQ 56.59375 19.140625 48.40625 8.859375 \nQ 40.234375 -1.421875 26.421875 -1.421875 \nQ 22.703125 -1.421875 18.890625 -0.6875 \nQ 15.09375 0.046875 10.984375 1.515625 \nz\nM 30.609375 32.421875 \nQ 37.25 32.421875 41.125 36.953125 \nQ 45.015625 41.5 45.015625 49.421875 \nQ 45.015625 57.28125 41.125 61.84375 \nQ 37.25 66.40625 30.609375 66.40625 \nQ 23.96875 66.40625 20.09375 61.84375 \nQ 16.21875 57.28125 16.21875 49.421875 \nQ 16.21875 41.5 20.09375 36.953125 \nQ 23.96875 32.421875 30.609375 32.421875 \nz\n\" id=\"DejaVuSans-57\"/>\n      </defs>\n      <g transform=\"translate(7.2 25.479372)scale(0.1 -0.1)\">\n       <use xlink:href=\"#DejaVuSans-48\"/>\n       <use x=\"63.623047\" xlink:href=\"#DejaVuSans-46\"/>\n       <use x=\"95.410156\" xlink:href=\"#DejaVuSans-57\"/>\n      </g>\n     </g>\n    </g>\n   </g>\n   <g id=\"line2d_12\">\n    <path clip-path=\"url(#p0daf29c4ae)\" d=\"M 34.923295 13.377273 \n\" style=\"fill:none;stroke:#1f77b4;stroke-linecap:square;stroke-width:1.5;\"/>\n   </g>\n   <g id=\"line2d_13\">\n    <path clip-path=\"url(#p0daf29c4ae)\" d=\"M 34.923295 13.377273 \nL 44.646742 84.931095 \n\" style=\"fill:none;stroke:#1f77b4;stroke-linecap:square;stroke-width:1.5;\"/>\n   </g>\n   <g id=\"line2d_14\">\n    <path clip-path=\"url(#p0daf29c4ae)\" d=\"M 34.923295 13.377273 \nL 44.646742 84.931095 \n\" style=\"fill:none;stroke:#1f77b4;stroke-linecap:square;stroke-width:1.5;\"/>\n   </g>\n   <g id=\"line2d_15\">\n    <path clip-path=\"url(#p0daf29c4ae)\" d=\"M 49.633125 83.415769 \n\" style=\"fill:none;stroke:#ff7f0e;stroke-dasharray:5.55,2.4;stroke-dashoffset:0;stroke-width:1.5;\"/>\n   </g>\n   <g id=\"line2d_16\"/>\n   <g id=\"line2d_17\">\n    <path clip-path=\"url(#p0daf29c4ae)\" d=\"M 34.923295 13.377273 \nL 44.646742 84.931095 \n\" style=\"fill:none;stroke:#1f77b4;stroke-linecap:square;stroke-width:1.5;\"/>\n   </g>\n   <g id=\"line2d_18\">\n    <path clip-path=\"url(#p0daf29c4ae)\" d=\"M 49.633125 83.415769 \n\" style=\"fill:none;stroke:#ff7f0e;stroke-dasharray:5.55,2.4;stroke-dashoffset:0;stroke-width:1.5;\"/>\n   </g>\n   <g id=\"line2d_19\">\n    <path clip-path=\"url(#p0daf29c4ae)\" d=\"M 49.633125 51.838293 \n\" style=\"fill:none;stroke:#2ca02c;stroke-dasharray:9.6,2.4,1.5,2.4;stroke-dashoffset:0;stroke-width:1.5;\"/>\n   </g>\n   <g id=\"line2d_20\">\n    <path clip-path=\"url(#p0daf29c4ae)\" d=\"M 34.923295 13.377273 \nL 44.646742 84.931095 \nL 54.370189 100.706707 \n\" style=\"fill:none;stroke:#1f77b4;stroke-linecap:square;stroke-width:1.5;\"/>\n   </g>\n   <g id=\"line2d_21\">\n    <path clip-path=\"url(#p0daf29c4ae)\" d=\"M 49.633125 83.415769 \n\" style=\"fill:none;stroke:#ff7f0e;stroke-dasharray:5.55,2.4;stroke-dashoffset:0;stroke-width:1.5;\"/>\n   </g>\n   <g id=\"line2d_22\">\n    <path clip-path=\"url(#p0daf29c4ae)\" d=\"M 49.633125 51.838293 \n\" style=\"fill:none;stroke:#2ca02c;stroke-dasharray:9.6,2.4,1.5,2.4;stroke-dashoffset:0;stroke-width:1.5;\"/>\n   </g>\n   <g id=\"line2d_23\">\n    <path clip-path=\"url(#p0daf29c4ae)\" d=\"M 34.923295 13.377273 \nL 44.646742 84.931095 \nL 54.370189 100.706707 \nL 64.093636 108.138967 \n\" style=\"fill:none;stroke:#1f77b4;stroke-linecap:square;stroke-width:1.5;\"/>\n   </g>\n   <g id=\"line2d_24\">\n    <path clip-path=\"url(#p0daf29c4ae)\" d=\"M 49.633125 83.415769 \n\" style=\"fill:none;stroke:#ff7f0e;stroke-dasharray:5.55,2.4;stroke-dashoffset:0;stroke-width:1.5;\"/>\n   </g>\n   <g id=\"line2d_25\">\n    <path clip-path=\"url(#p0daf29c4ae)\" d=\"M 49.633125 51.838293 \n\" style=\"fill:none;stroke:#2ca02c;stroke-dasharray:9.6,2.4,1.5,2.4;stroke-dashoffset:0;stroke-width:1.5;\"/>\n   </g>\n   <g id=\"line2d_26\">\n    <path clip-path=\"url(#p0daf29c4ae)\" d=\"M 34.923295 13.377273 \nL 44.646742 84.931095 \nL 54.370189 100.706707 \nL 64.093636 108.138967 \n\" style=\"fill:none;stroke:#1f77b4;stroke-linecap:square;stroke-width:1.5;\"/>\n   </g>\n   <g id=\"line2d_27\">\n    <path clip-path=\"url(#p0daf29c4ae)\" d=\"M 49.633125 83.415769 \nL 69.163125 107.01155 \n\" style=\"fill:none;stroke:#ff7f0e;stroke-dasharray:5.55,2.4;stroke-dashoffset:0;stroke-width:1.5;\"/>\n   </g>\n   <g id=\"line2d_28\">\n    <path clip-path=\"url(#p0daf29c4ae)\" d=\"M 49.633125 51.838293 \n\" style=\"fill:none;stroke:#2ca02c;stroke-dasharray:9.6,2.4,1.5,2.4;stroke-dashoffset:0;stroke-width:1.5;\"/>\n   </g>\n   <g id=\"line2d_29\">\n    <path clip-path=\"url(#p0daf29c4ae)\" d=\"M 34.923295 13.377273 \nL 44.646742 84.931095 \nL 54.370189 100.706707 \nL 64.093636 108.138967 \n\" style=\"fill:none;stroke:#1f77b4;stroke-linecap:square;stroke-width:1.5;\"/>\n   </g>\n   <g id=\"line2d_30\">\n    <path clip-path=\"url(#p0daf29c4ae)\" d=\"M 49.633125 83.415769 \nL 69.163125 107.01155 \n\" style=\"fill:none;stroke:#ff7f0e;stroke-dasharray:5.55,2.4;stroke-dashoffset:0;stroke-width:1.5;\"/>\n   </g>\n   <g id=\"line2d_31\">\n    <path clip-path=\"url(#p0daf29c4ae)\" d=\"M 49.633125 51.838293 \nL 69.163125 43.418633 \n\" style=\"fill:none;stroke:#2ca02c;stroke-dasharray:9.6,2.4,1.5,2.4;stroke-dashoffset:0;stroke-width:1.5;\"/>\n   </g>\n   <g id=\"line2d_32\">\n    <path clip-path=\"url(#p0daf29c4ae)\" d=\"M 34.923295 13.377273 \nL 44.646742 84.931095 \nL 54.370189 100.706707 \nL 64.093636 108.138967 \nL 73.817082 113.65037 \n\" style=\"fill:none;stroke:#1f77b4;stroke-linecap:square;stroke-width:1.5;\"/>\n   </g>\n   <g id=\"line2d_33\">\n    <path clip-path=\"url(#p0daf29c4ae)\" d=\"M 49.633125 83.415769 \nL 69.163125 107.01155 \n\" style=\"fill:none;stroke:#ff7f0e;stroke-dasharray:5.55,2.4;stroke-dashoffset:0;stroke-width:1.5;\"/>\n   </g>\n   <g id=\"line2d_34\">\n    <path clip-path=\"url(#p0daf29c4ae)\" d=\"M 49.633125 51.838293 \nL 69.163125 43.418633 \n\" style=\"fill:none;stroke:#2ca02c;stroke-dasharray:9.6,2.4,1.5,2.4;stroke-dashoffset:0;stroke-width:1.5;\"/>\n   </g>\n   <g id=\"line2d_35\">\n    <path clip-path=\"url(#p0daf29c4ae)\" d=\"M 34.923295 13.377273 \nL 44.646742 84.931095 \nL 54.370189 100.706707 \nL 64.093636 108.138967 \nL 73.817082 113.65037 \nL 83.540529 118.399206 \n\" style=\"fill:none;stroke:#1f77b4;stroke-linecap:square;stroke-width:1.5;\"/>\n   </g>\n   <g id=\"line2d_36\">\n    <path clip-path=\"url(#p0daf29c4ae)\" d=\"M 49.633125 83.415769 \nL 69.163125 107.01155 \n\" style=\"fill:none;stroke:#ff7f0e;stroke-dasharray:5.55,2.4;stroke-dashoffset:0;stroke-width:1.5;\"/>\n   </g>\n   <g id=\"line2d_37\">\n    <path clip-path=\"url(#p0daf29c4ae)\" d=\"M 49.633125 51.838293 \nL 69.163125 43.418633 \n\" style=\"fill:none;stroke:#2ca02c;stroke-dasharray:9.6,2.4,1.5,2.4;stroke-dashoffset:0;stroke-width:1.5;\"/>\n   </g>\n   <g id=\"line2d_38\">\n    <path clip-path=\"url(#p0daf29c4ae)\" d=\"M 34.923295 13.377273 \nL 44.646742 84.931095 \nL 54.370189 100.706707 \nL 64.093636 108.138967 \nL 73.817082 113.65037 \nL 83.540529 118.399206 \n\" style=\"fill:none;stroke:#1f77b4;stroke-linecap:square;stroke-width:1.5;\"/>\n   </g>\n   <g id=\"line2d_39\">\n    <path clip-path=\"url(#p0daf29c4ae)\" d=\"M 49.633125 83.415769 \nL 69.163125 107.01155 \nL 88.693125 112.843418 \n\" style=\"fill:none;stroke:#ff7f0e;stroke-dasharray:5.55,2.4;stroke-dashoffset:0;stroke-width:1.5;\"/>\n   </g>\n   <g id=\"line2d_40\">\n    <path clip-path=\"url(#p0daf29c4ae)\" d=\"M 49.633125 51.838293 \nL 69.163125 43.418633 \n\" style=\"fill:none;stroke:#2ca02c;stroke-dasharray:9.6,2.4,1.5,2.4;stroke-dashoffset:0;stroke-width:1.5;\"/>\n   </g>\n   <g id=\"line2d_41\">\n    <path clip-path=\"url(#p0daf29c4ae)\" d=\"M 34.923295 13.377273 \nL 44.646742 84.931095 \nL 54.370189 100.706707 \nL 64.093636 108.138967 \nL 73.817082 113.65037 \nL 83.540529 118.399206 \n\" style=\"fill:none;stroke:#1f77b4;stroke-linecap:square;stroke-width:1.5;\"/>\n   </g>\n   <g id=\"line2d_42\">\n    <path clip-path=\"url(#p0daf29c4ae)\" d=\"M 49.633125 83.415769 \nL 69.163125 107.01155 \nL 88.693125 112.843418 \n\" style=\"fill:none;stroke:#ff7f0e;stroke-dasharray:5.55,2.4;stroke-dashoffset:0;stroke-width:1.5;\"/>\n   </g>\n   <g id=\"line2d_43\">\n    <path clip-path=\"url(#p0daf29c4ae)\" d=\"M 49.633125 51.838293 \nL 69.163125 43.418633 \nL 88.693125 42.950874 \n\" style=\"fill:none;stroke:#2ca02c;stroke-dasharray:9.6,2.4,1.5,2.4;stroke-dashoffset:0;stroke-width:1.5;\"/>\n   </g>\n   <g id=\"line2d_44\">\n    <path clip-path=\"url(#p0daf29c4ae)\" d=\"M 34.923295 13.377273 \nL 44.646742 84.931095 \nL 54.370189 100.706707 \nL 64.093636 108.138967 \nL 73.817082 113.65037 \nL 83.540529 118.399206 \nL 93.263976 119.629971 \n\" style=\"fill:none;stroke:#1f77b4;stroke-linecap:square;stroke-width:1.5;\"/>\n   </g>\n   <g id=\"line2d_45\">\n    <path clip-path=\"url(#p0daf29c4ae)\" d=\"M 49.633125 83.415769 \nL 69.163125 107.01155 \nL 88.693125 112.843418 \n\" style=\"fill:none;stroke:#ff7f0e;stroke-dasharray:5.55,2.4;stroke-dashoffset:0;stroke-width:1.5;\"/>\n   </g>\n   <g id=\"line2d_46\">\n    <path clip-path=\"url(#p0daf29c4ae)\" d=\"M 49.633125 51.838293 \nL 69.163125 43.418633 \nL 88.693125 42.950874 \n\" style=\"fill:none;stroke:#2ca02c;stroke-dasharray:9.6,2.4,1.5,2.4;stroke-dashoffset:0;stroke-width:1.5;\"/>\n   </g>\n   <g id=\"line2d_47\">\n    <path clip-path=\"url(#p0daf29c4ae)\" d=\"M 34.923295 13.377273 \nL 44.646742 84.931095 \nL 54.370189 100.706707 \nL 64.093636 108.138967 \nL 73.817082 113.65037 \nL 83.540529 118.399206 \nL 93.263976 119.629971 \nL 102.987423 124.071921 \n\" style=\"fill:none;stroke:#1f77b4;stroke-linecap:square;stroke-width:1.5;\"/>\n   </g>\n   <g id=\"line2d_48\">\n    <path clip-path=\"url(#p0daf29c4ae)\" d=\"M 49.633125 83.415769 \nL 69.163125 107.01155 \nL 88.693125 112.843418 \n\" style=\"fill:none;stroke:#ff7f0e;stroke-dasharray:5.55,2.4;stroke-dashoffset:0;stroke-width:1.5;\"/>\n   </g>\n   <g id=\"line2d_49\">\n    <path clip-path=\"url(#p0daf29c4ae)\" d=\"M 49.633125 51.838293 \nL 69.163125 43.418633 \nL 88.693125 42.950874 \n\" style=\"fill:none;stroke:#2ca02c;stroke-dasharray:9.6,2.4,1.5,2.4;stroke-dashoffset:0;stroke-width:1.5;\"/>\n   </g>\n   <g id=\"line2d_50\">\n    <path clip-path=\"url(#p0daf29c4ae)\" d=\"M 34.923295 13.377273 \nL 44.646742 84.931095 \nL 54.370189 100.706707 \nL 64.093636 108.138967 \nL 73.817082 113.65037 \nL 83.540529 118.399206 \nL 93.263976 119.629971 \nL 102.987423 124.071921 \n\" style=\"fill:none;stroke:#1f77b4;stroke-linecap:square;stroke-width:1.5;\"/>\n   </g>\n   <g id=\"line2d_51\">\n    <path clip-path=\"url(#p0daf29c4ae)\" d=\"M 49.633125 83.415769 \nL 69.163125 107.01155 \nL 88.693125 112.843418 \nL 108.223125 113.787068 \n\" style=\"fill:none;stroke:#ff7f0e;stroke-dasharray:5.55,2.4;stroke-dashoffset:0;stroke-width:1.5;\"/>\n   </g>\n   <g id=\"line2d_52\">\n    <path clip-path=\"url(#p0daf29c4ae)\" d=\"M 49.633125 51.838293 \nL 69.163125 43.418633 \nL 88.693125 42.950874 \n\" style=\"fill:none;stroke:#2ca02c;stroke-dasharray:9.6,2.4,1.5,2.4;stroke-dashoffset:0;stroke-width:1.5;\"/>\n   </g>\n   <g id=\"line2d_53\">\n    <path clip-path=\"url(#p0daf29c4ae)\" d=\"M 34.923295 13.377273 \nL 44.646742 84.931095 \nL 54.370189 100.706707 \nL 64.093636 108.138967 \nL 73.817082 113.65037 \nL 83.540529 118.399206 \nL 93.263976 119.629971 \nL 102.987423 124.071921 \n\" style=\"fill:none;stroke:#1f77b4;stroke-linecap:square;stroke-width:1.5;\"/>\n   </g>\n   <g id=\"line2d_54\">\n    <path clip-path=\"url(#p0daf29c4ae)\" d=\"M 49.633125 83.415769 \nL 69.163125 107.01155 \nL 88.693125 112.843418 \nL 108.223125 113.787068 \n\" style=\"fill:none;stroke:#ff7f0e;stroke-dasharray:5.55,2.4;stroke-dashoffset:0;stroke-width:1.5;\"/>\n   </g>\n   <g id=\"line2d_55\">\n    <path clip-path=\"url(#p0daf29c4ae)\" d=\"M 49.633125 51.838293 \nL 69.163125 43.418633 \nL 88.693125 42.950874 \nL 108.223125 43.197063 \n\" style=\"fill:none;stroke:#2ca02c;stroke-dasharray:9.6,2.4,1.5,2.4;stroke-dashoffset:0;stroke-width:1.5;\"/>\n   </g>\n   <g id=\"line2d_56\">\n    <path clip-path=\"url(#p0daf29c4ae)\" d=\"M 34.923295 13.377273 \nL 44.646742 84.931095 \nL 54.370189 100.706707 \nL 64.093636 108.138967 \nL 73.817082 113.65037 \nL 83.540529 118.399206 \nL 93.263976 119.629971 \nL 102.987423 124.071921 \nL 112.71087 124.801434 \n\" style=\"fill:none;stroke:#1f77b4;stroke-linecap:square;stroke-width:1.5;\"/>\n   </g>\n   <g id=\"line2d_57\">\n    <path clip-path=\"url(#p0daf29c4ae)\" d=\"M 49.633125 83.415769 \nL 69.163125 107.01155 \nL 88.693125 112.843418 \nL 108.223125 113.787068 \n\" style=\"fill:none;stroke:#ff7f0e;stroke-dasharray:5.55,2.4;stroke-dashoffset:0;stroke-width:1.5;\"/>\n   </g>\n   <g id=\"line2d_58\">\n    <path clip-path=\"url(#p0daf29c4ae)\" d=\"M 49.633125 51.838293 \nL 69.163125 43.418633 \nL 88.693125 42.950874 \nL 108.223125 43.197063 \n\" style=\"fill:none;stroke:#2ca02c;stroke-dasharray:9.6,2.4,1.5,2.4;stroke-dashoffset:0;stroke-width:1.5;\"/>\n   </g>\n   <g id=\"line2d_59\">\n    <path clip-path=\"url(#p0daf29c4ae)\" d=\"M 34.923295 13.377273 \nL 44.646742 84.931095 \nL 54.370189 100.706707 \nL 64.093636 108.138967 \nL 73.817082 113.65037 \nL 83.540529 118.399206 \nL 93.263976 119.629971 \nL 102.987423 124.071921 \nL 112.71087 124.801434 \nL 122.434316 127.373366 \n\" style=\"fill:none;stroke:#1f77b4;stroke-linecap:square;stroke-width:1.5;\"/>\n   </g>\n   <g id=\"line2d_60\">\n    <path clip-path=\"url(#p0daf29c4ae)\" d=\"M 49.633125 83.415769 \nL 69.163125 107.01155 \nL 88.693125 112.843418 \nL 108.223125 113.787068 \n\" style=\"fill:none;stroke:#ff7f0e;stroke-dasharray:5.55,2.4;stroke-dashoffset:0;stroke-width:1.5;\"/>\n   </g>\n   <g id=\"line2d_61\">\n    <path clip-path=\"url(#p0daf29c4ae)\" d=\"M 49.633125 51.838293 \nL 69.163125 43.418633 \nL 88.693125 42.950874 \nL 108.223125 43.197063 \n\" style=\"fill:none;stroke:#2ca02c;stroke-dasharray:9.6,2.4,1.5,2.4;stroke-dashoffset:0;stroke-width:1.5;\"/>\n   </g>\n   <g id=\"line2d_62\">\n    <path clip-path=\"url(#p0daf29c4ae)\" d=\"M 34.923295 13.377273 \nL 44.646742 84.931095 \nL 54.370189 100.706707 \nL 64.093636 108.138967 \nL 73.817082 113.65037 \nL 83.540529 118.399206 \nL 93.263976 119.629971 \nL 102.987423 124.071921 \nL 112.71087 124.801434 \nL 122.434316 127.373366 \n\" style=\"fill:none;stroke:#1f77b4;stroke-linecap:square;stroke-width:1.5;\"/>\n   </g>\n   <g id=\"line2d_63\">\n    <path clip-path=\"url(#p0daf29c4ae)\" d=\"M 49.633125 83.415769 \nL 69.163125 107.01155 \nL 88.693125 112.843418 \nL 108.223125 113.787068 \nL 127.753125 119.779218 \n\" style=\"fill:none;stroke:#ff7f0e;stroke-dasharray:5.55,2.4;stroke-dashoffset:0;stroke-width:1.5;\"/>\n   </g>\n   <g id=\"line2d_64\">\n    <path clip-path=\"url(#p0daf29c4ae)\" d=\"M 49.633125 51.838293 \nL 69.163125 43.418633 \nL 88.693125 42.950874 \nL 108.223125 43.197063 \n\" style=\"fill:none;stroke:#2ca02c;stroke-dasharray:9.6,2.4,1.5,2.4;stroke-dashoffset:0;stroke-width:1.5;\"/>\n   </g>\n   <g id=\"line2d_65\">\n    <path clip-path=\"url(#p0daf29c4ae)\" d=\"M 34.923295 13.377273 \nL 44.646742 84.931095 \nL 54.370189 100.706707 \nL 64.093636 108.138967 \nL 73.817082 113.65037 \nL 83.540529 118.399206 \nL 93.263976 119.629971 \nL 102.987423 124.071921 \nL 112.71087 124.801434 \nL 122.434316 127.373366 \n\" style=\"fill:none;stroke:#1f77b4;stroke-linecap:square;stroke-width:1.5;\"/>\n   </g>\n   <g id=\"line2d_66\">\n    <path clip-path=\"url(#p0daf29c4ae)\" d=\"M 49.633125 83.415769 \nL 69.163125 107.01155 \nL 88.693125 112.843418 \nL 108.223125 113.787068 \nL 127.753125 119.779218 \n\" style=\"fill:none;stroke:#ff7f0e;stroke-dasharray:5.55,2.4;stroke-dashoffset:0;stroke-width:1.5;\"/>\n   </g>\n   <g id=\"line2d_67\">\n    <path clip-path=\"url(#p0daf29c4ae)\" d=\"M 49.633125 51.838293 \nL 69.163125 43.418633 \nL 88.693125 42.950874 \nL 108.223125 43.197063 \nL 127.753125 41.202933 \n\" style=\"fill:none;stroke:#2ca02c;stroke-dasharray:9.6,2.4,1.5,2.4;stroke-dashoffset:0;stroke-width:1.5;\"/>\n   </g>\n   <g id=\"line2d_68\">\n    <path clip-path=\"url(#p0daf29c4ae)\" d=\"M 34.923295 13.377273 \nL 44.646742 84.931095 \nL 54.370189 100.706707 \nL 64.093636 108.138967 \nL 73.817082 113.65037 \nL 83.540529 118.399206 \nL 93.263976 119.629971 \nL 102.987423 124.071921 \nL 112.71087 124.801434 \nL 122.434316 127.373366 \nL 132.157763 128.532203 \n\" style=\"fill:none;stroke:#1f77b4;stroke-linecap:square;stroke-width:1.5;\"/>\n   </g>\n   <g id=\"line2d_69\">\n    <path clip-path=\"url(#p0daf29c4ae)\" d=\"M 49.633125 83.415769 \nL 69.163125 107.01155 \nL 88.693125 112.843418 \nL 108.223125 113.787068 \nL 127.753125 119.779218 \n\" style=\"fill:none;stroke:#ff7f0e;stroke-dasharray:5.55,2.4;stroke-dashoffset:0;stroke-width:1.5;\"/>\n   </g>\n   <g id=\"line2d_70\">\n    <path clip-path=\"url(#p0daf29c4ae)\" d=\"M 49.633125 51.838293 \nL 69.163125 43.418633 \nL 88.693125 42.950874 \nL 108.223125 43.197063 \nL 127.753125 41.202933 \n\" style=\"fill:none;stroke:#2ca02c;stroke-dasharray:9.6,2.4,1.5,2.4;stroke-dashoffset:0;stroke-width:1.5;\"/>\n   </g>\n   <g id=\"line2d_71\">\n    <path clip-path=\"url(#p0daf29c4ae)\" d=\"M 34.923295 13.377273 \nL 44.646742 84.931095 \nL 54.370189 100.706707 \nL 64.093636 108.138967 \nL 73.817082 113.65037 \nL 83.540529 118.399206 \nL 93.263976 119.629971 \nL 102.987423 124.071921 \nL 112.71087 124.801434 \nL 122.434316 127.373366 \nL 132.157763 128.532203 \nL 141.88121 129.054488 \n\" style=\"fill:none;stroke:#1f77b4;stroke-linecap:square;stroke-width:1.5;\"/>\n   </g>\n   <g id=\"line2d_72\">\n    <path clip-path=\"url(#p0daf29c4ae)\" d=\"M 49.633125 83.415769 \nL 69.163125 107.01155 \nL 88.693125 112.843418 \nL 108.223125 113.787068 \nL 127.753125 119.779218 \n\" style=\"fill:none;stroke:#ff7f0e;stroke-dasharray:5.55,2.4;stroke-dashoffset:0;stroke-width:1.5;\"/>\n   </g>\n   <g id=\"line2d_73\">\n    <path clip-path=\"url(#p0daf29c4ae)\" d=\"M 49.633125 51.838293 \nL 69.163125 43.418633 \nL 88.693125 42.950874 \nL 108.223125 43.197063 \nL 127.753125 41.202933 \n\" style=\"fill:none;stroke:#2ca02c;stroke-dasharray:9.6,2.4,1.5,2.4;stroke-dashoffset:0;stroke-width:1.5;\"/>\n   </g>\n   <g id=\"line2d_74\">\n    <path clip-path=\"url(#p0daf29c4ae)\" d=\"M 34.923295 13.377273 \nL 44.646742 84.931095 \nL 54.370189 100.706707 \nL 64.093636 108.138967 \nL 73.817082 113.65037 \nL 83.540529 118.399206 \nL 93.263976 119.629971 \nL 102.987423 124.071921 \nL 112.71087 124.801434 \nL 122.434316 127.373366 \nL 132.157763 128.532203 \nL 141.88121 129.054488 \n\" style=\"fill:none;stroke:#1f77b4;stroke-linecap:square;stroke-width:1.5;\"/>\n   </g>\n   <g id=\"line2d_75\">\n    <path clip-path=\"url(#p0daf29c4ae)\" d=\"M 49.633125 83.415769 \nL 69.163125 107.01155 \nL 88.693125 112.843418 \nL 108.223125 113.787068 \nL 127.753125 119.779218 \nL 147.283125 122.519246 \n\" style=\"fill:none;stroke:#ff7f0e;stroke-dasharray:5.55,2.4;stroke-dashoffset:0;stroke-width:1.5;\"/>\n   </g>\n   <g id=\"line2d_76\">\n    <path clip-path=\"url(#p0daf29c4ae)\" d=\"M 49.633125 51.838293 \nL 69.163125 43.418633 \nL 88.693125 42.950874 \nL 108.223125 43.197063 \nL 127.753125 41.202933 \n\" style=\"fill:none;stroke:#2ca02c;stroke-dasharray:9.6,2.4,1.5,2.4;stroke-dashoffset:0;stroke-width:1.5;\"/>\n   </g>\n   <g id=\"line2d_77\">\n    <path clip-path=\"url(#p0daf29c4ae)\" d=\"M 34.923295 13.377273 \nL 44.646742 84.931095 \nL 54.370189 100.706707 \nL 64.093636 108.138967 \nL 73.817082 113.65037 \nL 83.540529 118.399206 \nL 93.263976 119.629971 \nL 102.987423 124.071921 \nL 112.71087 124.801434 \nL 122.434316 127.373366 \nL 132.157763 128.532203 \nL 141.88121 129.054488 \n\" style=\"fill:none;stroke:#1f77b4;stroke-linecap:square;stroke-width:1.5;\"/>\n   </g>\n   <g id=\"line2d_78\">\n    <path clip-path=\"url(#p0daf29c4ae)\" d=\"M 49.633125 83.415769 \nL 69.163125 107.01155 \nL 88.693125 112.843418 \nL 108.223125 113.787068 \nL 127.753125 119.779218 \nL 147.283125 122.519246 \n\" style=\"fill:none;stroke:#ff7f0e;stroke-dasharray:5.55,2.4;stroke-dashoffset:0;stroke-width:1.5;\"/>\n   </g>\n   <g id=\"line2d_79\">\n    <path clip-path=\"url(#p0daf29c4ae)\" d=\"M 49.633125 51.838293 \nL 69.163125 43.418633 \nL 88.693125 42.950874 \nL 108.223125 43.197063 \nL 127.753125 41.202933 \nL 147.283125 39.873513 \n\" style=\"fill:none;stroke:#2ca02c;stroke-dasharray:9.6,2.4,1.5,2.4;stroke-dashoffset:0;stroke-width:1.5;\"/>\n   </g>\n   <g id=\"line2d_80\">\n    <path clip-path=\"url(#p0daf29c4ae)\" d=\"M 34.923295 13.377273 \nL 44.646742 84.931095 \nL 54.370189 100.706707 \nL 64.093636 108.138967 \nL 73.817082 113.65037 \nL 83.540529 118.399206 \nL 93.263976 119.629971 \nL 102.987423 124.071921 \nL 112.71087 124.801434 \nL 122.434316 127.373366 \nL 132.157763 128.532203 \nL 141.88121 129.054488 \nL 151.604657 129.522933 \n\" style=\"fill:none;stroke:#1f77b4;stroke-linecap:square;stroke-width:1.5;\"/>\n   </g>\n   <g id=\"line2d_81\">\n    <path clip-path=\"url(#p0daf29c4ae)\" d=\"M 49.633125 83.415769 \nL 69.163125 107.01155 \nL 88.693125 112.843418 \nL 108.223125 113.787068 \nL 127.753125 119.779218 \nL 147.283125 122.519246 \n\" style=\"fill:none;stroke:#ff7f0e;stroke-dasharray:5.55,2.4;stroke-dashoffset:0;stroke-width:1.5;\"/>\n   </g>\n   <g id=\"line2d_82\">\n    <path clip-path=\"url(#p0daf29c4ae)\" d=\"M 49.633125 51.838293 \nL 69.163125 43.418633 \nL 88.693125 42.950874 \nL 108.223125 43.197063 \nL 127.753125 41.202933 \nL 147.283125 39.873513 \n\" style=\"fill:none;stroke:#2ca02c;stroke-dasharray:9.6,2.4,1.5,2.4;stroke-dashoffset:0;stroke-width:1.5;\"/>\n   </g>\n   <g id=\"line2d_83\">\n    <path clip-path=\"url(#p0daf29c4ae)\" d=\"M 34.923295 13.377273 \nL 44.646742 84.931095 \nL 54.370189 100.706707 \nL 64.093636 108.138967 \nL 73.817082 113.65037 \nL 83.540529 118.399206 \nL 93.263976 119.629971 \nL 102.987423 124.071921 \nL 112.71087 124.801434 \nL 122.434316 127.373366 \nL 132.157763 128.532203 \nL 141.88121 129.054488 \nL 151.604657 129.522933 \nL 161.328104 132.799739 \n\" style=\"fill:none;stroke:#1f77b4;stroke-linecap:square;stroke-width:1.5;\"/>\n   </g>\n   <g id=\"line2d_84\">\n    <path clip-path=\"url(#p0daf29c4ae)\" d=\"M 49.633125 83.415769 \nL 69.163125 107.01155 \nL 88.693125 112.843418 \nL 108.223125 113.787068 \nL 127.753125 119.779218 \nL 147.283125 122.519246 \n\" style=\"fill:none;stroke:#ff7f0e;stroke-dasharray:5.55,2.4;stroke-dashoffset:0;stroke-width:1.5;\"/>\n   </g>\n   <g id=\"line2d_85\">\n    <path clip-path=\"url(#p0daf29c4ae)\" d=\"M 49.633125 51.838293 \nL 69.163125 43.418633 \nL 88.693125 42.950874 \nL 108.223125 43.197063 \nL 127.753125 41.202933 \nL 147.283125 39.873513 \n\" style=\"fill:none;stroke:#2ca02c;stroke-dasharray:9.6,2.4,1.5,2.4;stroke-dashoffset:0;stroke-width:1.5;\"/>\n   </g>\n   <g id=\"line2d_86\">\n    <path clip-path=\"url(#p0daf29c4ae)\" d=\"M 34.923295 13.377273 \nL 44.646742 84.931095 \nL 54.370189 100.706707 \nL 64.093636 108.138967 \nL 73.817082 113.65037 \nL 83.540529 118.399206 \nL 93.263976 119.629971 \nL 102.987423 124.071921 \nL 112.71087 124.801434 \nL 122.434316 127.373366 \nL 132.157763 128.532203 \nL 141.88121 129.054488 \nL 151.604657 129.522933 \nL 161.328104 132.799739 \n\" style=\"fill:none;stroke:#1f77b4;stroke-linecap:square;stroke-width:1.5;\"/>\n   </g>\n   <g id=\"line2d_87\">\n    <path clip-path=\"url(#p0daf29c4ae)\" d=\"M 49.633125 83.415769 \nL 69.163125 107.01155 \nL 88.693125 112.843418 \nL 108.223125 113.787068 \nL 127.753125 119.779218 \nL 147.283125 122.519246 \nL 166.813125 123.948719 \n\" style=\"fill:none;stroke:#ff7f0e;stroke-dasharray:5.55,2.4;stroke-dashoffset:0;stroke-width:1.5;\"/>\n   </g>\n   <g id=\"line2d_88\">\n    <path clip-path=\"url(#p0daf29c4ae)\" d=\"M 49.633125 51.838293 \nL 69.163125 43.418633 \nL 88.693125 42.950874 \nL 108.223125 43.197063 \nL 127.753125 41.202933 \nL 147.283125 39.873513 \n\" style=\"fill:none;stroke:#2ca02c;stroke-dasharray:9.6,2.4,1.5,2.4;stroke-dashoffset:0;stroke-width:1.5;\"/>\n   </g>\n   <g id=\"line2d_89\">\n    <path clip-path=\"url(#p0daf29c4ae)\" d=\"M 34.923295 13.377273 \nL 44.646742 84.931095 \nL 54.370189 100.706707 \nL 64.093636 108.138967 \nL 73.817082 113.65037 \nL 83.540529 118.399206 \nL 93.263976 119.629971 \nL 102.987423 124.071921 \nL 112.71087 124.801434 \nL 122.434316 127.373366 \nL 132.157763 128.532203 \nL 141.88121 129.054488 \nL 151.604657 129.522933 \nL 161.328104 132.799739 \n\" style=\"fill:none;stroke:#1f77b4;stroke-linecap:square;stroke-width:1.5;\"/>\n   </g>\n   <g id=\"line2d_90\">\n    <path clip-path=\"url(#p0daf29c4ae)\" d=\"M 49.633125 83.415769 \nL 69.163125 107.01155 \nL 88.693125 112.843418 \nL 108.223125 113.787068 \nL 127.753125 119.779218 \nL 147.283125 122.519246 \nL 166.813125 123.948719 \n\" style=\"fill:none;stroke:#ff7f0e;stroke-dasharray:5.55,2.4;stroke-dashoffset:0;stroke-width:1.5;\"/>\n   </g>\n   <g id=\"line2d_91\">\n    <path clip-path=\"url(#p0daf29c4ae)\" d=\"M 49.633125 51.838293 \nL 69.163125 43.418633 \nL 88.693125 42.950874 \nL 108.223125 43.197063 \nL 127.753125 41.202933 \nL 147.283125 39.873513 \nL 166.813125 39.627324 \n\" style=\"fill:none;stroke:#2ca02c;stroke-dasharray:9.6,2.4,1.5,2.4;stroke-dashoffset:0;stroke-width:1.5;\"/>\n   </g>\n   <g id=\"line2d_92\">\n    <path clip-path=\"url(#p0daf29c4ae)\" d=\"M 34.923295 13.377273 \nL 44.646742 84.931095 \nL 54.370189 100.706707 \nL 64.093636 108.138967 \nL 73.817082 113.65037 \nL 83.540529 118.399206 \nL 93.263976 119.629971 \nL 102.987423 124.071921 \nL 112.71087 124.801434 \nL 122.434316 127.373366 \nL 132.157763 128.532203 \nL 141.88121 129.054488 \nL 151.604657 129.522933 \nL 161.328104 132.799739 \nL 171.051551 131.63178 \n\" style=\"fill:none;stroke:#1f77b4;stroke-linecap:square;stroke-width:1.5;\"/>\n   </g>\n   <g id=\"line2d_93\">\n    <path clip-path=\"url(#p0daf29c4ae)\" d=\"M 49.633125 83.415769 \nL 69.163125 107.01155 \nL 88.693125 112.843418 \nL 108.223125 113.787068 \nL 127.753125 119.779218 \nL 147.283125 122.519246 \nL 166.813125 123.948719 \n\" style=\"fill:none;stroke:#ff7f0e;stroke-dasharray:5.55,2.4;stroke-dashoffset:0;stroke-width:1.5;\"/>\n   </g>\n   <g id=\"line2d_94\">\n    <path clip-path=\"url(#p0daf29c4ae)\" d=\"M 49.633125 51.838293 \nL 69.163125 43.418633 \nL 88.693125 42.950874 \nL 108.223125 43.197063 \nL 127.753125 41.202933 \nL 147.283125 39.873513 \nL 166.813125 39.627324 \n\" style=\"fill:none;stroke:#2ca02c;stroke-dasharray:9.6,2.4,1.5,2.4;stroke-dashoffset:0;stroke-width:1.5;\"/>\n   </g>\n   <g id=\"line2d_95\">\n    <path clip-path=\"url(#p0daf29c4ae)\" d=\"M 34.923295 13.377273 \nL 44.646742 84.931095 \nL 54.370189 100.706707 \nL 64.093636 108.138967 \nL 73.817082 113.65037 \nL 83.540529 118.399206 \nL 93.263976 119.629971 \nL 102.987423 124.071921 \nL 112.71087 124.801434 \nL 122.434316 127.373366 \nL 132.157763 128.532203 \nL 141.88121 129.054488 \nL 151.604657 129.522933 \nL 161.328104 132.799739 \nL 171.051551 131.63178 \nL 180.774997 133.931573 \n\" style=\"fill:none;stroke:#1f77b4;stroke-linecap:square;stroke-width:1.5;\"/>\n   </g>\n   <g id=\"line2d_96\">\n    <path clip-path=\"url(#p0daf29c4ae)\" d=\"M 49.633125 83.415769 \nL 69.163125 107.01155 \nL 88.693125 112.843418 \nL 108.223125 113.787068 \nL 127.753125 119.779218 \nL 147.283125 122.519246 \nL 166.813125 123.948719 \n\" style=\"fill:none;stroke:#ff7f0e;stroke-dasharray:5.55,2.4;stroke-dashoffset:0;stroke-width:1.5;\"/>\n   </g>\n   <g id=\"line2d_97\">\n    <path clip-path=\"url(#p0daf29c4ae)\" d=\"M 49.633125 51.838293 \nL 69.163125 43.418633 \nL 88.693125 42.950874 \nL 108.223125 43.197063 \nL 127.753125 41.202933 \nL 147.283125 39.873513 \nL 166.813125 39.627324 \n\" style=\"fill:none;stroke:#2ca02c;stroke-dasharray:9.6,2.4,1.5,2.4;stroke-dashoffset:0;stroke-width:1.5;\"/>\n   </g>\n   <g id=\"line2d_98\">\n    <path clip-path=\"url(#p0daf29c4ae)\" d=\"M 34.923295 13.377273 \nL 44.646742 84.931095 \nL 54.370189 100.706707 \nL 64.093636 108.138967 \nL 73.817082 113.65037 \nL 83.540529 118.399206 \nL 93.263976 119.629971 \nL 102.987423 124.071921 \nL 112.71087 124.801434 \nL 122.434316 127.373366 \nL 132.157763 128.532203 \nL 141.88121 129.054488 \nL 151.604657 129.522933 \nL 161.328104 132.799739 \nL 171.051551 131.63178 \nL 180.774997 133.931573 \n\" style=\"fill:none;stroke:#1f77b4;stroke-linecap:square;stroke-width:1.5;\"/>\n   </g>\n   <g id=\"line2d_99\">\n    <path clip-path=\"url(#p0daf29c4ae)\" d=\"M 49.633125 83.415769 \nL 69.163125 107.01155 \nL 88.693125 112.843418 \nL 108.223125 113.787068 \nL 127.753125 119.779218 \nL 147.283125 122.519246 \nL 166.813125 123.948719 \nL 186.343125 125.75183 \n\" style=\"fill:none;stroke:#ff7f0e;stroke-dasharray:5.55,2.4;stroke-dashoffset:0;stroke-width:1.5;\"/>\n   </g>\n   <g id=\"line2d_100\">\n    <path clip-path=\"url(#p0daf29c4ae)\" d=\"M 49.633125 51.838293 \nL 69.163125 43.418633 \nL 88.693125 42.950874 \nL 108.223125 43.197063 \nL 127.753125 41.202933 \nL 147.283125 39.873513 \nL 166.813125 39.627324 \n\" style=\"fill:none;stroke:#2ca02c;stroke-dasharray:9.6,2.4,1.5,2.4;stroke-dashoffset:0;stroke-width:1.5;\"/>\n   </g>\n   <g id=\"line2d_101\">\n    <path clip-path=\"url(#p0daf29c4ae)\" d=\"M 34.923295 13.377273 \nL 44.646742 84.931095 \nL 54.370189 100.706707 \nL 64.093636 108.138967 \nL 73.817082 113.65037 \nL 83.540529 118.399206 \nL 93.263976 119.629971 \nL 102.987423 124.071921 \nL 112.71087 124.801434 \nL 122.434316 127.373366 \nL 132.157763 128.532203 \nL 141.88121 129.054488 \nL 151.604657 129.522933 \nL 161.328104 132.799739 \nL 171.051551 131.63178 \nL 180.774997 133.931573 \n\" style=\"fill:none;stroke:#1f77b4;stroke-linecap:square;stroke-width:1.5;\"/>\n   </g>\n   <g id=\"line2d_102\">\n    <path clip-path=\"url(#p0daf29c4ae)\" d=\"M 49.633125 83.415769 \nL 69.163125 107.01155 \nL 88.693125 112.843418 \nL 108.223125 113.787068 \nL 127.753125 119.779218 \nL 147.283125 122.519246 \nL 166.813125 123.948719 \nL 186.343125 125.75183 \n\" style=\"fill:none;stroke:#ff7f0e;stroke-dasharray:5.55,2.4;stroke-dashoffset:0;stroke-width:1.5;\"/>\n   </g>\n   <g id=\"line2d_103\">\n    <path clip-path=\"url(#p0daf29c4ae)\" d=\"M 49.633125 51.838293 \nL 69.163125 43.418633 \nL 88.693125 42.950874 \nL 108.223125 43.197063 \nL 127.753125 41.202933 \nL 147.283125 39.873513 \nL 166.813125 39.627324 \nL 186.343125 39.208803 \n\" style=\"fill:none;stroke:#2ca02c;stroke-dasharray:9.6,2.4,1.5,2.4;stroke-dashoffset:0;stroke-width:1.5;\"/>\n   </g>\n   <g id=\"line2d_104\">\n    <path clip-path=\"url(#p0daf29c4ae)\" d=\"M 34.923295 13.377273 \nL 44.646742 84.931095 \nL 54.370189 100.706707 \nL 64.093636 108.138967 \nL 73.817082 113.65037 \nL 83.540529 118.399206 \nL 93.263976 119.629971 \nL 102.987423 124.071921 \nL 112.71087 124.801434 \nL 122.434316 127.373366 \nL 132.157763 128.532203 \nL 141.88121 129.054488 \nL 151.604657 129.522933 \nL 161.328104 132.799739 \nL 171.051551 131.63178 \nL 180.774997 133.931573 \nL 190.498444 134.131124 \n\" style=\"fill:none;stroke:#1f77b4;stroke-linecap:square;stroke-width:1.5;\"/>\n   </g>\n   <g id=\"line2d_105\">\n    <path clip-path=\"url(#p0daf29c4ae)\" d=\"M 49.633125 83.415769 \nL 69.163125 107.01155 \nL 88.693125 112.843418 \nL 108.223125 113.787068 \nL 127.753125 119.779218 \nL 147.283125 122.519246 \nL 166.813125 123.948719 \nL 186.343125 125.75183 \n\" style=\"fill:none;stroke:#ff7f0e;stroke-dasharray:5.55,2.4;stroke-dashoffset:0;stroke-width:1.5;\"/>\n   </g>\n   <g id=\"line2d_106\">\n    <path clip-path=\"url(#p0daf29c4ae)\" d=\"M 49.633125 51.838293 \nL 69.163125 43.418633 \nL 88.693125 42.950874 \nL 108.223125 43.197063 \nL 127.753125 41.202933 \nL 147.283125 39.873513 \nL 166.813125 39.627324 \nL 186.343125 39.208803 \n\" style=\"fill:none;stroke:#2ca02c;stroke-dasharray:9.6,2.4,1.5,2.4;stroke-dashoffset:0;stroke-width:1.5;\"/>\n   </g>\n   <g id=\"line2d_107\">\n    <path clip-path=\"url(#p0daf29c4ae)\" d=\"M 34.923295 13.377273 \nL 44.646742 84.931095 \nL 54.370189 100.706707 \nL 64.093636 108.138967 \nL 73.817082 113.65037 \nL 83.540529 118.399206 \nL 93.263976 119.629971 \nL 102.987423 124.071921 \nL 112.71087 124.801434 \nL 122.434316 127.373366 \nL 132.157763 128.532203 \nL 141.88121 129.054488 \nL 151.604657 129.522933 \nL 161.328104 132.799739 \nL 171.051551 131.63178 \nL 180.774997 133.931573 \nL 190.498444 134.131124 \nL 200.221891 134.904366 \n\" style=\"fill:none;stroke:#1f77b4;stroke-linecap:square;stroke-width:1.5;\"/>\n   </g>\n   <g id=\"line2d_108\">\n    <path clip-path=\"url(#p0daf29c4ae)\" d=\"M 49.633125 83.415769 \nL 69.163125 107.01155 \nL 88.693125 112.843418 \nL 108.223125 113.787068 \nL 127.753125 119.779218 \nL 147.283125 122.519246 \nL 166.813125 123.948719 \nL 186.343125 125.75183 \n\" style=\"fill:none;stroke:#ff7f0e;stroke-dasharray:5.55,2.4;stroke-dashoffset:0;stroke-width:1.5;\"/>\n   </g>\n   <g id=\"line2d_109\">\n    <path clip-path=\"url(#p0daf29c4ae)\" d=\"M 49.633125 51.838293 \nL 69.163125 43.418633 \nL 88.693125 42.950874 \nL 108.223125 43.197063 \nL 127.753125 41.202933 \nL 147.283125 39.873513 \nL 166.813125 39.627324 \nL 186.343125 39.208803 \n\" style=\"fill:none;stroke:#2ca02c;stroke-dasharray:9.6,2.4,1.5,2.4;stroke-dashoffset:0;stroke-width:1.5;\"/>\n   </g>\n   <g id=\"line2d_110\">\n    <path clip-path=\"url(#p0daf29c4ae)\" d=\"M 34.923295 13.377273 \nL 44.646742 84.931095 \nL 54.370189 100.706707 \nL 64.093636 108.138967 \nL 73.817082 113.65037 \nL 83.540529 118.399206 \nL 93.263976 119.629971 \nL 102.987423 124.071921 \nL 112.71087 124.801434 \nL 122.434316 127.373366 \nL 132.157763 128.532203 \nL 141.88121 129.054488 \nL 151.604657 129.522933 \nL 161.328104 132.799739 \nL 171.051551 131.63178 \nL 180.774997 133.931573 \nL 190.498444 134.131124 \nL 200.221891 134.904366 \n\" style=\"fill:none;stroke:#1f77b4;stroke-linecap:square;stroke-width:1.5;\"/>\n   </g>\n   <g id=\"line2d_111\">\n    <path clip-path=\"url(#p0daf29c4ae)\" d=\"M 49.633125 83.415769 \nL 69.163125 107.01155 \nL 88.693125 112.843418 \nL 108.223125 113.787068 \nL 127.753125 119.779218 \nL 147.283125 122.519246 \nL 166.813125 123.948719 \nL 186.343125 125.75183 \nL 205.873125 128.020816 \n\" style=\"fill:none;stroke:#ff7f0e;stroke-dasharray:5.55,2.4;stroke-dashoffset:0;stroke-width:1.5;\"/>\n   </g>\n   <g id=\"line2d_112\">\n    <path clip-path=\"url(#p0daf29c4ae)\" d=\"M 49.633125 51.838293 \nL 69.163125 43.418633 \nL 88.693125 42.950874 \nL 108.223125 43.197063 \nL 127.753125 41.202933 \nL 147.283125 39.873513 \nL 166.813125 39.627324 \nL 186.343125 39.208803 \n\" style=\"fill:none;stroke:#2ca02c;stroke-dasharray:9.6,2.4,1.5,2.4;stroke-dashoffset:0;stroke-width:1.5;\"/>\n   </g>\n   <g id=\"line2d_113\">\n    <path clip-path=\"url(#p0daf29c4ae)\" d=\"M 34.923295 13.377273 \nL 44.646742 84.931095 \nL 54.370189 100.706707 \nL 64.093636 108.138967 \nL 73.817082 113.65037 \nL 83.540529 118.399206 \nL 93.263976 119.629971 \nL 102.987423 124.071921 \nL 112.71087 124.801434 \nL 122.434316 127.373366 \nL 132.157763 128.532203 \nL 141.88121 129.054488 \nL 151.604657 129.522933 \nL 161.328104 132.799739 \nL 171.051551 131.63178 \nL 180.774997 133.931573 \nL 190.498444 134.131124 \nL 200.221891 134.904366 \n\" style=\"fill:none;stroke:#1f77b4;stroke-linecap:square;stroke-width:1.5;\"/>\n   </g>\n   <g id=\"line2d_114\">\n    <path clip-path=\"url(#p0daf29c4ae)\" d=\"M 49.633125 83.415769 \nL 69.163125 107.01155 \nL 88.693125 112.843418 \nL 108.223125 113.787068 \nL 127.753125 119.779218 \nL 147.283125 122.519246 \nL 166.813125 123.948719 \nL 186.343125 125.75183 \nL 205.873125 128.020816 \n\" style=\"fill:none;stroke:#ff7f0e;stroke-dasharray:5.55,2.4;stroke-dashoffset:0;stroke-width:1.5;\"/>\n   </g>\n   <g id=\"line2d_115\">\n    <path clip-path=\"url(#p0daf29c4ae)\" d=\"M 49.633125 51.838293 \nL 69.163125 43.418633 \nL 88.693125 42.950874 \nL 108.223125 43.197063 \nL 127.753125 41.202933 \nL 147.283125 39.873513 \nL 166.813125 39.627324 \nL 186.343125 39.208803 \nL 205.873125 38.667187 \n\" style=\"fill:none;stroke:#2ca02c;stroke-dasharray:9.6,2.4,1.5,2.4;stroke-dashoffset:0;stroke-width:1.5;\"/>\n   </g>\n   <g id=\"line2d_116\">\n    <path clip-path=\"url(#p0daf29c4ae)\" d=\"M 34.923295 13.377273 \nL 44.646742 84.931095 \nL 54.370189 100.706707 \nL 64.093636 108.138967 \nL 73.817082 113.65037 \nL 83.540529 118.399206 \nL 93.263976 119.629971 \nL 102.987423 124.071921 \nL 112.71087 124.801434 \nL 122.434316 127.373366 \nL 132.157763 128.532203 \nL 141.88121 129.054488 \nL 151.604657 129.522933 \nL 161.328104 132.799739 \nL 171.051551 131.63178 \nL 180.774997 133.931573 \nL 190.498444 134.131124 \nL 200.221891 134.904366 \nL 209.945338 134.651654 \n\" style=\"fill:none;stroke:#1f77b4;stroke-linecap:square;stroke-width:1.5;\"/>\n   </g>\n   <g id=\"line2d_117\">\n    <path clip-path=\"url(#p0daf29c4ae)\" d=\"M 49.633125 83.415769 \nL 69.163125 107.01155 \nL 88.693125 112.843418 \nL 108.223125 113.787068 \nL 127.753125 119.779218 \nL 147.283125 122.519246 \nL 166.813125 123.948719 \nL 186.343125 125.75183 \nL 205.873125 128.020816 \n\" style=\"fill:none;stroke:#ff7f0e;stroke-dasharray:5.55,2.4;stroke-dashoffset:0;stroke-width:1.5;\"/>\n   </g>\n   <g id=\"line2d_118\">\n    <path clip-path=\"url(#p0daf29c4ae)\" d=\"M 49.633125 51.838293 \nL 69.163125 43.418633 \nL 88.693125 42.950874 \nL 108.223125 43.197063 \nL 127.753125 41.202933 \nL 147.283125 39.873513 \nL 166.813125 39.627324 \nL 186.343125 39.208803 \nL 205.873125 38.667187 \n\" style=\"fill:none;stroke:#2ca02c;stroke-dasharray:9.6,2.4,1.5,2.4;stroke-dashoffset:0;stroke-width:1.5;\"/>\n   </g>\n   <g id=\"line2d_119\">\n    <path clip-path=\"url(#p0daf29c4ae)\" d=\"M 34.923295 13.377273 \nL 44.646742 84.931095 \nL 54.370189 100.706707 \nL 64.093636 108.138967 \nL 73.817082 113.65037 \nL 83.540529 118.399206 \nL 93.263976 119.629971 \nL 102.987423 124.071921 \nL 112.71087 124.801434 \nL 122.434316 127.373366 \nL 132.157763 128.532203 \nL 141.88121 129.054488 \nL 151.604657 129.522933 \nL 161.328104 132.799739 \nL 171.051551 131.63178 \nL 180.774997 133.931573 \nL 190.498444 134.131124 \nL 200.221891 134.904366 \nL 209.945338 134.651654 \nL 219.668785 136.922727 \n\" style=\"fill:none;stroke:#1f77b4;stroke-linecap:square;stroke-width:1.5;\"/>\n   </g>\n   <g id=\"line2d_120\">\n    <path clip-path=\"url(#p0daf29c4ae)\" d=\"M 49.633125 83.415769 \nL 69.163125 107.01155 \nL 88.693125 112.843418 \nL 108.223125 113.787068 \nL 127.753125 119.779218 \nL 147.283125 122.519246 \nL 166.813125 123.948719 \nL 186.343125 125.75183 \nL 205.873125 128.020816 \n\" style=\"fill:none;stroke:#ff7f0e;stroke-dasharray:5.55,2.4;stroke-dashoffset:0;stroke-width:1.5;\"/>\n   </g>\n   <g id=\"line2d_121\">\n    <path clip-path=\"url(#p0daf29c4ae)\" d=\"M 49.633125 51.838293 \nL 69.163125 43.418633 \nL 88.693125 42.950874 \nL 108.223125 43.197063 \nL 127.753125 41.202933 \nL 147.283125 39.873513 \nL 166.813125 39.627324 \nL 186.343125 39.208803 \nL 205.873125 38.667187 \n\" style=\"fill:none;stroke:#2ca02c;stroke-dasharray:9.6,2.4,1.5,2.4;stroke-dashoffset:0;stroke-width:1.5;\"/>\n   </g>\n   <g id=\"line2d_122\">\n    <path clip-path=\"url(#p0daf29c4ae)\" d=\"M 34.923295 13.377273 \nL 44.646742 84.931095 \nL 54.370189 100.706707 \nL 64.093636 108.138967 \nL 73.817082 113.65037 \nL 83.540529 118.399206 \nL 93.263976 119.629971 \nL 102.987423 124.071921 \nL 112.71087 124.801434 \nL 122.434316 127.373366 \nL 132.157763 128.532203 \nL 141.88121 129.054488 \nL 151.604657 129.522933 \nL 161.328104 132.799739 \nL 171.051551 131.63178 \nL 180.774997 133.931573 \nL 190.498444 134.131124 \nL 200.221891 134.904366 \nL 209.945338 134.651654 \nL 219.668785 136.922727 \n\" style=\"fill:none;stroke:#1f77b4;stroke-linecap:square;stroke-width:1.5;\"/>\n   </g>\n   <g id=\"line2d_123\">\n    <path clip-path=\"url(#p0daf29c4ae)\" d=\"M 49.633125 83.415769 \nL 69.163125 107.01155 \nL 88.693125 112.843418 \nL 108.223125 113.787068 \nL 127.753125 119.779218 \nL 147.283125 122.519246 \nL 166.813125 123.948719 \nL 186.343125 125.75183 \nL 205.873125 128.020816 \nL 225.403125 119.127021 \n\" style=\"fill:none;stroke:#ff7f0e;stroke-dasharray:5.55,2.4;stroke-dashoffset:0;stroke-width:1.5;\"/>\n   </g>\n   <g id=\"line2d_124\">\n    <path clip-path=\"url(#p0daf29c4ae)\" d=\"M 49.633125 51.838293 \nL 69.163125 43.418633 \nL 88.693125 42.950874 \nL 108.223125 43.197063 \nL 127.753125 41.202933 \nL 147.283125 39.873513 \nL 166.813125 39.627324 \nL 186.343125 39.208803 \nL 205.873125 38.667187 \n\" style=\"fill:none;stroke:#2ca02c;stroke-dasharray:9.6,2.4,1.5,2.4;stroke-dashoffset:0;stroke-width:1.5;\"/>\n   </g>\n   <g id=\"line2d_125\">\n    <path clip-path=\"url(#p0daf29c4ae)\" d=\"M 34.923295 13.377273 \nL 44.646742 84.931095 \nL 54.370189 100.706707 \nL 64.093636 108.138967 \nL 73.817082 113.65037 \nL 83.540529 118.399206 \nL 93.263976 119.629971 \nL 102.987423 124.071921 \nL 112.71087 124.801434 \nL 122.434316 127.373366 \nL 132.157763 128.532203 \nL 141.88121 129.054488 \nL 151.604657 129.522933 \nL 161.328104 132.799739 \nL 171.051551 131.63178 \nL 180.774997 133.931573 \nL 190.498444 134.131124 \nL 200.221891 134.904366 \nL 209.945338 134.651654 \nL 219.668785 136.922727 \n\" style=\"fill:none;stroke:#1f77b4;stroke-linecap:square;stroke-width:1.5;\"/>\n   </g>\n   <g id=\"line2d_126\">\n    <path clip-path=\"url(#p0daf29c4ae)\" d=\"M 49.633125 83.415769 \nL 69.163125 107.01155 \nL 88.693125 112.843418 \nL 108.223125 113.787068 \nL 127.753125 119.779218 \nL 147.283125 122.519246 \nL 166.813125 123.948719 \nL 186.343125 125.75183 \nL 205.873125 128.020816 \nL 225.403125 119.127021 \n\" style=\"fill:none;stroke:#ff7f0e;stroke-dasharray:5.55,2.4;stroke-dashoffset:0;stroke-width:1.5;\"/>\n   </g>\n   <g id=\"line2d_127\">\n    <path clip-path=\"url(#p0daf29c4ae)\" d=\"M 49.633125 51.838293 \nL 69.163125 43.418633 \nL 88.693125 42.950874 \nL 108.223125 43.197063 \nL 127.753125 41.202933 \nL 147.283125 39.873513 \nL 166.813125 39.627324 \nL 186.343125 39.208803 \nL 205.873125 38.667187 \nL 225.403125 41.104457 \n\" style=\"fill:none;stroke:#2ca02c;stroke-dasharray:9.6,2.4,1.5,2.4;stroke-dashoffset:0;stroke-width:1.5;\"/>\n   </g>\n   <g id=\"patch_3\">\n    <path d=\"M 30.103125 143.1 \nL 30.103125 7.2 \n\" style=\"fill:none;stroke:#000000;stroke-linecap:square;stroke-linejoin:miter;stroke-width:0.8;\"/>\n   </g>\n   <g id=\"patch_4\">\n    <path d=\"M 225.403125 143.1 \nL 225.403125 7.2 \n\" style=\"fill:none;stroke:#000000;stroke-linecap:square;stroke-linejoin:miter;stroke-width:0.8;\"/>\n   </g>\n   <g id=\"patch_5\">\n    <path d=\"M 30.103125 143.1 \nL 225.403125 143.1 \n\" style=\"fill:none;stroke:#000000;stroke-linecap:square;stroke-linejoin:miter;stroke-width:0.8;\"/>\n   </g>\n   <g id=\"patch_6\">\n    <path d=\"M 30.103125 7.2 \nL 225.403125 7.2 \n\" style=\"fill:none;stroke:#000000;stroke-linecap:square;stroke-linejoin:miter;stroke-width:0.8;\"/>\n   </g>\n   <g id=\"legend_1\">\n    <g id=\"patch_7\">\n     <path d=\"M 138.8125 99.084375 \nL 218.403125 99.084375 \nQ 220.403125 99.084375 220.403125 97.084375 \nL 220.403125 53.215625 \nQ 220.403125 51.215625 218.403125 51.215625 \nL 138.8125 51.215625 \nQ 136.8125 51.215625 136.8125 53.215625 \nL 136.8125 97.084375 \nQ 136.8125 99.084375 138.8125 99.084375 \nz\n\" style=\"fill:#ffffff;opacity:0.8;stroke:#cccccc;stroke-linejoin:miter;\"/>\n    </g>\n    <g id=\"line2d_128\">\n     <path d=\"M 140.8125 59.314062 \nL 160.8125 59.314062 \n\" style=\"fill:none;stroke:#1f77b4;stroke-linecap:square;stroke-width:1.5;\"/>\n    </g>\n    <g id=\"line2d_129\"/>\n    <g id=\"text_13\">\n     <!-- train_loss -->\n     <defs>\n      <path d=\"M 18.3125 70.21875 \nL 18.3125 54.6875 \nL 36.8125 54.6875 \nL 36.8125 47.703125 \nL 18.3125 47.703125 \nL 18.3125 18.015625 \nQ 18.3125 11.328125 20.140625 9.421875 \nQ 21.96875 7.515625 27.59375 7.515625 \nL 36.8125 7.515625 \nL 36.8125 0 \nL 27.59375 0 \nQ 17.1875 0 13.234375 3.875 \nQ 9.28125 7.765625 9.28125 18.015625 \nL 9.28125 47.703125 \nL 2.6875 47.703125 \nL 2.6875 54.6875 \nL 9.28125 54.6875 \nL 9.28125 70.21875 \nz\n\" id=\"DejaVuSans-116\"/>\n      <path d=\"M 41.109375 46.296875 \nQ 39.59375 47.171875 37.8125 47.578125 \nQ 36.03125 48 33.890625 48 \nQ 26.265625 48 22.1875 43.046875 \nQ 18.109375 38.09375 18.109375 28.8125 \nL 18.109375 0 \nL 9.078125 0 \nL 9.078125 54.6875 \nL 18.109375 54.6875 \nL 18.109375 46.1875 \nQ 20.953125 51.171875 25.484375 53.578125 \nQ 30.03125 56 36.53125 56 \nQ 37.453125 56 38.578125 55.875 \nQ 39.703125 55.765625 41.0625 55.515625 \nz\n\" id=\"DejaVuSans-114\"/>\n      <path d=\"M 34.28125 27.484375 \nQ 23.390625 27.484375 19.1875 25 \nQ 14.984375 22.515625 14.984375 16.5 \nQ 14.984375 11.71875 18.140625 8.90625 \nQ 21.296875 6.109375 26.703125 6.109375 \nQ 34.1875 6.109375 38.703125 11.40625 \nQ 43.21875 16.703125 43.21875 25.484375 \nL 43.21875 27.484375 \nz\nM 52.203125 31.203125 \nL 52.203125 0 \nL 43.21875 0 \nL 43.21875 8.296875 \nQ 40.140625 3.328125 35.546875 0.953125 \nQ 30.953125 -1.421875 24.3125 -1.421875 \nQ 15.921875 -1.421875 10.953125 3.296875 \nQ 6 8.015625 6 15.921875 \nQ 6 25.140625 12.171875 29.828125 \nQ 18.359375 34.515625 30.609375 34.515625 \nL 43.21875 34.515625 \nL 43.21875 35.40625 \nQ 43.21875 41.609375 39.140625 45 \nQ 35.0625 48.390625 27.6875 48.390625 \nQ 23 48.390625 18.546875 47.265625 \nQ 14.109375 46.140625 10.015625 43.890625 \nL 10.015625 52.203125 \nQ 14.9375 54.109375 19.578125 55.046875 \nQ 24.21875 56 28.609375 56 \nQ 40.484375 56 46.34375 49.84375 \nQ 52.203125 43.703125 52.203125 31.203125 \nz\n\" id=\"DejaVuSans-97\"/>\n      <path d=\"M 9.421875 54.6875 \nL 18.40625 54.6875 \nL 18.40625 0 \nL 9.421875 0 \nz\nM 9.421875 75.984375 \nL 18.40625 75.984375 \nL 18.40625 64.59375 \nL 9.421875 64.59375 \nz\n\" id=\"DejaVuSans-105\"/>\n      <path d=\"M 54.890625 33.015625 \nL 54.890625 0 \nL 45.90625 0 \nL 45.90625 32.71875 \nQ 45.90625 40.484375 42.875 44.328125 \nQ 39.84375 48.1875 33.796875 48.1875 \nQ 26.515625 48.1875 22.3125 43.546875 \nQ 18.109375 38.921875 18.109375 30.90625 \nL 18.109375 0 \nL 9.078125 0 \nL 9.078125 54.6875 \nL 18.109375 54.6875 \nL 18.109375 46.1875 \nQ 21.34375 51.125 25.703125 53.5625 \nQ 30.078125 56 35.796875 56 \nQ 45.21875 56 50.046875 50.171875 \nQ 54.890625 44.34375 54.890625 33.015625 \nz\n\" id=\"DejaVuSans-110\"/>\n      <path d=\"M 50.984375 -16.609375 \nL 50.984375 -23.578125 \nL -0.984375 -23.578125 \nL -0.984375 -16.609375 \nz\n\" id=\"DejaVuSans-95\"/>\n      <path d=\"M 9.421875 75.984375 \nL 18.40625 75.984375 \nL 18.40625 0 \nL 9.421875 0 \nz\n\" id=\"DejaVuSans-108\"/>\n      <path d=\"M 44.28125 53.078125 \nL 44.28125 44.578125 \nQ 40.484375 46.53125 36.375 47.5 \nQ 32.28125 48.484375 27.875 48.484375 \nQ 21.1875 48.484375 17.84375 46.4375 \nQ 14.5 44.390625 14.5 40.28125 \nQ 14.5 37.15625 16.890625 35.375 \nQ 19.28125 33.59375 26.515625 31.984375 \nL 29.59375 31.296875 \nQ 39.15625 29.25 43.1875 25.515625 \nQ 47.21875 21.78125 47.21875 15.09375 \nQ 47.21875 7.46875 41.1875 3.015625 \nQ 35.15625 -1.421875 24.609375 -1.421875 \nQ 20.21875 -1.421875 15.453125 -0.5625 \nQ 10.6875 0.296875 5.421875 2 \nL 5.421875 11.28125 \nQ 10.40625 8.6875 15.234375 7.390625 \nQ 20.0625 6.109375 24.8125 6.109375 \nQ 31.15625 6.109375 34.5625 8.28125 \nQ 37.984375 10.453125 37.984375 14.40625 \nQ 37.984375 18.0625 35.515625 20.015625 \nQ 33.0625 21.96875 24.703125 23.78125 \nL 21.578125 24.515625 \nQ 13.234375 26.265625 9.515625 29.90625 \nQ 5.8125 33.546875 5.8125 39.890625 \nQ 5.8125 47.609375 11.28125 51.796875 \nQ 16.75 56 26.8125 56 \nQ 31.78125 56 36.171875 55.265625 \nQ 40.578125 54.546875 44.28125 53.078125 \nz\n\" id=\"DejaVuSans-115\"/>\n     </defs>\n     <g transform=\"translate(168.8125 62.814062)scale(0.1 -0.1)\">\n      <use xlink:href=\"#DejaVuSans-116\"/>\n      <use x=\"39.208984\" xlink:href=\"#DejaVuSans-114\"/>\n      <use x=\"80.322266\" xlink:href=\"#DejaVuSans-97\"/>\n      <use x=\"141.601562\" xlink:href=\"#DejaVuSans-105\"/>\n      <use x=\"169.384766\" xlink:href=\"#DejaVuSans-110\"/>\n      <use x=\"232.763672\" xlink:href=\"#DejaVuSans-95\"/>\n      <use x=\"282.763672\" xlink:href=\"#DejaVuSans-108\"/>\n      <use x=\"310.546875\" xlink:href=\"#DejaVuSans-111\"/>\n      <use x=\"371.728516\" xlink:href=\"#DejaVuSans-115\"/>\n      <use x=\"423.828125\" xlink:href=\"#DejaVuSans-115\"/>\n     </g>\n    </g>\n    <g id=\"line2d_130\">\n     <path d=\"M 140.8125 74.270312 \nL 160.8125 74.270312 \n\" style=\"fill:none;stroke:#ff7f0e;stroke-dasharray:5.55,2.4;stroke-dashoffset:0;stroke-width:1.5;\"/>\n    </g>\n    <g id=\"line2d_131\"/>\n    <g id=\"text_14\">\n     <!-- val_loss -->\n     <defs>\n      <path d=\"M 2.984375 54.6875 \nL 12.5 54.6875 \nL 29.59375 8.796875 \nL 46.6875 54.6875 \nL 56.203125 54.6875 \nL 35.6875 0 \nL 23.484375 0 \nz\n\" id=\"DejaVuSans-118\"/>\n     </defs>\n     <g transform=\"translate(168.8125 77.770312)scale(0.1 -0.1)\">\n      <use xlink:href=\"#DejaVuSans-118\"/>\n      <use x=\"59.179688\" xlink:href=\"#DejaVuSans-97\"/>\n      <use x=\"120.458984\" xlink:href=\"#DejaVuSans-108\"/>\n      <use x=\"148.242188\" xlink:href=\"#DejaVuSans-95\"/>\n      <use x=\"198.242188\" xlink:href=\"#DejaVuSans-108\"/>\n      <use x=\"226.025391\" xlink:href=\"#DejaVuSans-111\"/>\n      <use x=\"287.207031\" xlink:href=\"#DejaVuSans-115\"/>\n      <use x=\"339.306641\" xlink:href=\"#DejaVuSans-115\"/>\n     </g>\n    </g>\n    <g id=\"line2d_132\">\n     <path d=\"M 140.8125 89.226562 \nL 160.8125 89.226562 \n\" style=\"fill:none;stroke:#2ca02c;stroke-dasharray:9.6,2.4,1.5,2.4;stroke-dashoffset:0;stroke-width:1.5;\"/>\n    </g>\n    <g id=\"line2d_133\"/>\n    <g id=\"text_15\">\n     <!-- val_acc -->\n     <g transform=\"translate(168.8125 92.726562)scale(0.1 -0.1)\">\n      <use xlink:href=\"#DejaVuSans-118\"/>\n      <use x=\"59.179688\" xlink:href=\"#DejaVuSans-97\"/>\n      <use x=\"120.458984\" xlink:href=\"#DejaVuSans-108\"/>\n      <use x=\"148.242188\" xlink:href=\"#DejaVuSans-95\"/>\n      <use x=\"198.242188\" xlink:href=\"#DejaVuSans-97\"/>\n      <use x=\"259.521484\" xlink:href=\"#DejaVuSans-99\"/>\n      <use x=\"314.501953\" xlink:href=\"#DejaVuSans-99\"/>\n     </g>\n    </g>\n   </g>\n  </g>\n </g>\n <defs>\n  <clipPath id=\"p0daf29c4ae\">\n   <rect height=\"135.9\" width=\"195.3\" x=\"30.103125\" y=\"7.2\"/>\n  </clipPath>\n </defs>\n</svg>\n"
          },
          "metadata": {
            "needs_background": "light"
          }
        }
      ]
    },
    {
      "cell_type": "code",
      "source": [
        "%%shell\n",
        "jupyter nbconvert --to html 04_D2L_Linear_Neural_Networks_for_Classification.ipynb"
      ],
      "metadata": {
        "colab": {
          "base_uri": "https://localhost:8080/"
        },
        "id": "8z9z9VOfRlFA",
        "outputId": "ae85abe2-b14c-4e23-b5f6-d755bdf29d83"
      },
      "execution_count": 30,
      "outputs": [
        {
          "output_type": "stream",
          "name": "stdout",
          "text": [
            "[NbConvertApp] Converting notebook 04_D2L_Linear_Neural_Networks_for_Classification.ipynb to html\n",
            "[NbConvertApp] Writing 643408 bytes to 04_D2L_Linear_Neural_Networks_for_Classification.html\n"
          ]
        },
        {
          "output_type": "execute_result",
          "data": {
            "text/plain": []
          },
          "metadata": {},
          "execution_count": 30
        }
      ]
    }
  ]
}