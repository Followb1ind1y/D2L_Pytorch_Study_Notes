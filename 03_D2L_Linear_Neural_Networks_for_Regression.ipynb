{
  "nbformat": 4,
  "nbformat_minor": 0,
  "metadata": {
    "colab": {
      "provenance": [],
      "authorship_tag": "ABX9TyP/oCaRIw62zT79/+nGtRJp",
      "include_colab_link": true
    },
    "kernelspec": {
      "name": "python3",
      "display_name": "Python 3"
    },
    "language_info": {
      "name": "python"
    }
  },
  "cells": [
    {
      "cell_type": "markdown",
      "metadata": {
        "id": "view-in-github",
        "colab_type": "text"
      },
      "source": [
        "<a href=\"https://colab.research.google.com/github/Followb1ind1y/D2L_Pytorch_Study_Notes/blob/main/03_D2L_Linear_Neural_Networks_for_Regression.ipynb\" target=\"_parent\"><img src=\"https://colab.research.google.com/assets/colab-badge.svg\" alt=\"Open In Colab\"/></a>"
      ]
    },
    {
      "cell_type": "markdown",
      "source": [
        "# **Dive into Deep Learning 中文学习笔记**\n",
        "# **3. 用于回归的线性神经网络（Linear Neural Networks for Regression）**"
      ],
      "metadata": {
        "id": "nheERNM7Ck_c"
      }
    },
    {
      "cell_type": "markdown",
      "source": [
        "## **3.1. 线性回归 （Linear Regression）**\n",
        "\n",
        "只要我们想预测一个数值，**回归（*Regression*）** 问题就会出现。常见的例子包括预测价格（房屋、股票等）、预测住院时间（医院里的病人）、预测需求（零售业），以及其他无数的例子。\n",
        "\n",
        "假设我们希望根据房屋的面积（平方米）和房龄（年）来估计房屋的价格（元）。为了开发一个预测房价的模型，我们通常收集一系列的真实数据，例如多栋房屋的真实售出价格和它们对应的面积和房龄。我们希望在这个数据上面寻找模型参数来使模型的预测价格与真实价格的误差最小。在机器学习术语里，该数据集被称为**训练数据集（*training data set*）**或**训练集（*training set*）**，一栋房屋被称为一个**样本（*sample*）**，其真实售出价格叫作**标签（*label*）**，用来预测标签的两个因素叫作**特征（*feature*）**。特征用来表征样本的特点。"
      ],
      "metadata": {
        "id": "pydNIkzzD4EO"
      }
    },
    {
      "cell_type": "markdown",
      "source": [
        "### **3.1.1. 基础知识（Basics）**\n",
        "\n",
        "**线性回归（*Linear regression*）** 可能是处理回归问题的标准工具中最简单和最流行的一种。线性回归源于几个简单的假设。首先，我们假设**特征（*features*）** $\\mathbf{x}$ 和**目标（*target*）** $y$ 之间的关系是近似线性的。即条件平均值 $E[Y \\mid X=\\mathbf{x}]$ 可以表示为特征 $\\mathbf{x}$ 的加权和。这种设置允许目标值仍可能因观测噪声而偏离其预期值。接下来，我们可以强加一个假设，即任何这样的噪声都是行为良好的，遵循高斯分布。通常情况下，我们会用 $n$ 来表示数据集中的例子数量。我们用上标来列举样本和目标，用下标来索引坐标。更具体地说，$\\mathbf{x}^{(i)}$ 表示第 $i$ 个样本，$x_j^{(i)}$ 表示其第 $j$ 个坐标。"
      ],
      "metadata": {
        "id": "C_-8tg-vFzJX"
      }
    },
    {
      "cell_type": "markdown",
      "source": [
        "**3.1.1.1. 模型（Model）**\n",
        "\n",
        "每个解决方案的核心是一个**模型（*model*）**，描述如何将**特征转化为目标的估计值**。在房屋价格预测的例子中。目标是预测一栋房子的售出价格（元）。我们知道这个价格取决于很多因素，如房屋状况、地段、市场行情等。为了简单起见，这里我们假设价格只取决于房屋状况的两个因素，即面积（平方米）和房龄（年）。我们希望探索价格与这两个因素的具体关系。\n",
        "\n",
        "在这个例子中，线性假设意味着目标的预期值（价格）可以表示为特征（面积和年龄）的加权和。\n",
        "\n",
        "$$\\hat{y} = w_{1}x_{1}+w_{2}x_{2}+b$$\n",
        "\n",
        "其中 $w_{1}$ 和 $w_{2}$ 是**权重（*weight*）**，$b$ 是**偏差（*bias*）**，且均为标量。它们是线性回归模型的**参数（*parameter*）**。模型输出 $\\hat{y}$ 是线性回归对真实价格 $y$ 的预测或估计。我们通常允许它们之间有一定误差。\n",
        "\n",
        "在机器学习中，我们通常与高维数据集打交道，这时采用紧凑的线性代数符号更为方便。当我们的输入由 $d$ 个特征组成时，我们可以给每个特征分配一个索引（在1和 $d$ 之间），并将我们的预测 $\\hat{y}$（一般来说，$̂$ 符号表示一个估计值）表示为\n",
        "\n",
        "$$\\hat{y} = w_1  x_1 + ... + w_d  x_d + b.$$\n",
        "\n",
        "将所有的特征收集成一个向量 $\\mathbf{x} \\in \\mathbb{R}^d$，将所有的权重收集成一个向量 $\\mathbf{w} \\in \\mathbb{R}^d$，我们可以通过 $\\mathbf{w}$ 和 $\\mathbf{b}$ 的点乘来紧凑地表达我们的模型。\n",
        "\n",
        "$$\\hat{y} = \\mathbf{w}^\\top \\mathbf{x} + b.$$"
      ],
      "metadata": {
        "id": "FLLTc2CmHuei"
      }
    },
    {
      "cell_type": "markdown",
      "source": [
        "**3.1.1.2. 损失函数（Loss Function）**\n",
        "\n",
        "在模型训练中，我们需要**衡量价格预测值与真实值之间的误差**。通常我们会选取一个非负数作为误差，且数值越小表示误差越小。一个常用的选择是平方函数。它在评估索引为 $i$ 的样本误差的表达式为\n",
        "\n",
        "$$l^{(i)}(\\mathbf{w}, b) = \\frac{1}{2} \\left(\\hat{y}^{(i)} - y^{(i)}\\right)^2.$$\n",
        "\n",
        "其中常数 $\\frac{1}{2}$ 使对平方项求导后的常数系数为1，这样在形式上稍微简单一些。显然，误差越小表示预测价格与真实价格越相近，且当二者相等时误差为0。在机器学习里，将衡量误差的函数称为**损失函数（*loss function*）**。这里使用的平方误差函数也称为**平方损失（*square loss*）**。\n",
        "\n",
        "<center><img src=\"https://drive.google.com/uc?export=view&id=1hi0Rrj7MtFtUfr-F4VQyvH5XK03O-7Xa\" width=350px /></center>\n",
        "\n",
        "通常，我们用训练数据集中所有样本误差的平均来衡量模型预测的质量，\n",
        "\n",
        "$$L(\\mathbf{w}, b) =\\frac{1}{n}\\sum_{i=1}^n l^{(i)}(\\mathbf{w}, b) =\\frac{1}{n} \\sum_{i=1}^n \\frac{1}{2}\\left(\\mathbf{w}^\\top \\mathbf{x}^{(i)} + b - y^{(i)}\\right)^2.$$\n",
        "\n",
        "在模型训练中，我们希望找出一组模型参数，记为 $(\\mathbf{w}^{*},b^{*})$，来使训练样本平均损失最小：\n",
        "\n",
        "$$\\mathbf{w}^*, b^* = \\operatorname*{argmin}_{\\mathbf{w}, b}\\  L(\\mathbf{w}, b).$$"
      ],
      "metadata": {
        "id": "N-lsorUiPh6-"
      }
    },
    {
      "cell_type": "markdown",
      "source": [
        "**3.1.1.4. 小批量随机梯度下降（Minibatch Stochastic Gradient Descent）**\n",
        "\n",
        "当模型和损失函数形式较为简单时，上面的误差最小化问题的解可以直接用公式表达出来。这类解叫作**解析解（*analytical solution*）**。然而，大多数深度学习模型并没有解析解，只能通过**优化算法**有限次迭代模型参数来尽可能降低损失函数的值。这类解叫作**数值解（*numerical solution*）**。\n",
        "\n",
        "**优化（*optimization*）**是几乎所有深度学习模型的关键技术，包括通过更新参数，逐步降低损失函数的方向来迭代减少误差。这种算法被称为**梯度下降法（*gradient descent*）**。\n",
        "\n",
        "在求数值解的优化算法中，**小批量随机梯度下降（*mini-batch stochastic gradient descent*）**在深度学习中被广泛使用。它的算法很简单：先选取一组模型参数的初始值，如随机选取；接下来对参数进行多次迭代，使每次迭代都可能降低损失函数的值。在每次迭代中，先随机均匀采样一个由固定数目训练数据样本所组成的**小批量（*mini-batch*）**$\\mathcal{B}$，然后求小批量中数据样本的平均损失有关模型参数的导数（梯度），最后用此结果与预先设定的一个正数的乘积作为模型参数在本次迭代的减小量。我们可以将每次迭代表达如下，\n",
        "\n",
        "$$(\\mathbf{w},b) \\leftarrow (\\mathbf{w},b) - \\frac{\\eta}{|\\mathcal{B}|} \\sum_{i \\in \\mathcal{B}_t} \\partial_{(\\mathbf{w},b)} l^{(i)}(\\mathbf{w},b).$$\n",
        "\n",
        "$$\\begin{aligned} \\mathbf{w} & \\leftarrow \\mathbf{w} - \\frac{\\eta}{|\\mathcal{B}|} \\sum_{i \\in \\mathcal{B}_t} \\partial_{\\mathbf{w}} l^{(i)}(\\mathbf{w}, b) && = \\mathbf{w} - \\frac{\\eta}{|\\mathcal{B}|} \\sum_{i \\in \\mathcal{B}_t} \\mathbf{x}^{(i)} \\left(\\mathbf{w}^\\top \\mathbf{x}^{(i)} + b - y^{(i)}\\right)\\\\ b &\\leftarrow b -  \\frac{\\eta}{|\\mathcal{B}|} \\sum_{i \\in \\mathcal{B}_t} \\partial_b l^{(i)}(\\mathbf{w}, b) &&  = b - \\frac{\\eta}{|\\mathcal{B}|} \\sum_{i \\in \\mathcal{B}_t} \\left(\\mathbf{w}^\\top \\mathbf{x}^{(i)} + b - y^{(i)}\\right). \\end{aligned}$$\n",
        "\n",
        "其中，$|\\mathcal{B}|$ 代表每个小批量中的样本个数（**批量大小，*batch size***），$\\eta$ 称作**学习率（*learning rate*）**并取正数。需要强调的是，这里的批量大小和学习率的值是人为设定的，并不是通过模型训练学出的，因此叫作**超参数（*hyperparameter*）**。"
      ],
      "metadata": {
        "id": "aQC2H_iFUb_n"
      }
    },
    {
      "cell_type": "markdown",
      "source": [
        "**3.1.1.5. 预测（Predictions）**\n",
        "\n",
        "模型训练完成后，我们将模型参数 $(\\mathbf{w}, b)$ 在优化算法停止时的值分别记作 $(\\hat{\\mathbf{w}},\\hat{b})$。注意，这里我们得到的并不一定是最小化损失函数的最优解 $(\\mathbf{w}^{*}, b^{*})$，而是对最优解的一个近似。然后，我们就可以使用训练出的线性回归模型 $\\hat{\\mathbf{w}}^\\top \\mathbf{x} + \\hat{b}$ 来对一个新的例子进行**预测（*prediction*）**。"
      ],
      "metadata": {
        "id": "Lvc9zvfSXOWL"
      }
    },
    {
      "cell_type": "markdown",
      "source": [
        "###**3.1.2. 矢量化提速（Vectorization for Speed）**\n",
        "\n",
        "在训练我们的模型时，我们通常希望同时处理整个迷你批次的例子。为了有效地做到这一点，我们需要将计算**矢量化**，并利用快速的线性代数库，而不是在Python中编写昂贵的for-loops。首先定义两个1000维的向量。"
      ],
      "metadata": {
        "id": "Ya01T-XkZwjr"
      }
    },
    {
      "cell_type": "code",
      "source": [
        "import torch\n",
        "import time"
      ],
      "metadata": {
        "id": "8N_3HEltfPnA"
      },
      "execution_count": 12,
      "outputs": []
    },
    {
      "cell_type": "code",
      "source": [
        "n = 10000\n",
        "a = torch.ones(n)\n",
        "b = torch.ones(n)"
      ],
      "metadata": {
        "id": "jU3_ks5eCyvR"
      },
      "execution_count": 13,
      "outputs": []
    },
    {
      "cell_type": "markdown",
      "source": [
        "向量相加的一种方法是，将这两个向量按元素逐一做标量加法。"
      ],
      "metadata": {
        "id": "SJ2afcrDbG1n"
      }
    },
    {
      "cell_type": "code",
      "source": [
        "c = torch.zeros(n)\n",
        "t = time.time()\n",
        "for i in range(n):\n",
        "    c[i] = a[i] + b[i]\n",
        "f'{time.time() - t:.5f} sec'"
      ],
      "metadata": {
        "colab": {
          "base_uri": "https://localhost:8080/",
          "height": 35
        },
        "id": "a1Yc2osgaiMX",
        "outputId": "14263052-9f2b-4451-f980-7392151508ab"
      },
      "execution_count": 14,
      "outputs": [
        {
          "output_type": "execute_result",
          "data": {
            "text/plain": [
              "'0.13099 sec'"
            ],
            "application/vnd.google.colaboratory.intrinsic+json": {
              "type": "string"
            }
          },
          "metadata": {},
          "execution_count": 14
        }
      ]
    },
    {
      "cell_type": "markdown",
      "source": [
        "向量相加的另一种方法是，将这两个向量直接做矢量加法。"
      ],
      "metadata": {
        "id": "CbhdQjkWbM9n"
      }
    },
    {
      "cell_type": "code",
      "source": [
        "t = time.time()\n",
        "d = a + b\n",
        "f'{time.time() - t:.5f} sec'"
      ],
      "metadata": {
        "colab": {
          "base_uri": "https://localhost:8080/",
          "height": 35
        },
        "id": "EL9Vp2fabJXf",
        "outputId": "79a0a7b6-da6b-4f9e-b891-010d9ed4fdbc"
      },
      "execution_count": 15,
      "outputs": [
        {
          "output_type": "execute_result",
          "data": {
            "text/plain": [
              "'0.00072 sec'"
            ],
            "application/vnd.google.colaboratory.intrinsic+json": {
              "type": "string"
            }
          },
          "metadata": {},
          "execution_count": 15
        }
      ]
    },
    {
      "cell_type": "markdown",
      "source": [
        "结果很明显，后者比前者更省时。因此，我们应该尽可能采用矢量计算，以提升计算效率。"
      ],
      "metadata": {
        "id": "9voq84E7bdlj"
      }
    },
    {
      "cell_type": "markdown",
      "source": [
        "### **3.1.4. 线性回归的神经网络表示方法（Linear Regression as a Neural Network）**\n",
        "\n",
        "在深度学习中，我们可以使用神经网络图直观地表现模型结构。下图描述了作为神经网络的线性回归。该图强调了连接模式，如每个输入是如何连接到输出的，但没有强调权重或偏差所采取的具体数值。\n",
        "\n",
        "<center><img src=\"https://drive.google.com/uc?export=view&id=1fLcisypwgLnu49AG7z3c8IVWJZ3HdYSL\" width=450px /></center>\n",
        "\n",
        "在该神经网络中，输入为 $x_{1},x_{2}, ⋯ x_{d}$，输入层的输入个数为 $d$。输入个数也叫**特征数**或**特征向量维度**。网络的输出为 $o_{1}$，输出层的输出个数为1。需要注意的是，我们直接将图中神经网络的输出$o_{1}$作为线性回归的输出，即 $\\hat{y}=o_{1}$。由于输入层并不涉及计算，上图的神经网络的层数为1。所以，线性回归是一个单层神经网络。输出层中负责计算 $o$ 的单元又叫**神经元**。在线性回归中，$o$ 的计算依赖于 $x_{1},x_{2}, ⋯ x_{d}$。也就是说，输出层中的神经元和输入层中各个输入完全连接。因此，这里的输出层又叫**全连接层（*fully-connected layer*）**或**稠密层（*dense layer*）**。\n"
      ],
      "metadata": {
        "id": "pBzmZTUGbqp2"
      }
    },
    {
      "cell_type": "markdown",
      "source": [
        "## **3.2. 面向对象设计的实施（Object-Oriented Design for Implementation）**\n",
        "\n",
        "在高层次上，我们希望有三个类: **(i)** `Module` **包含模型、损失和优化方法**；**(ii)** `DataModule` **提供用于训练和验证的数据加载器**；**(iii)** 这两个类使用 `Trainer` 类进行组合，它允许我们**在各种硬件平台上训练模型**。"
      ],
      "metadata": {
        "id": "z83bSb1deV35"
      }
    },
    {
      "cell_type": "code",
      "source": [
        "import time\n",
        "import numpy as np\n",
        "import torch\n",
        "from torch import nn\n",
        "from d2l import torch as d2l"
      ],
      "metadata": {
        "id": "Dj7AvreWbZMq"
      },
      "execution_count": 16,
      "outputs": []
    },
    {
      "cell_type": "markdown",
      "source": [
        "### **3.2.1. 实用工具（Utilities）**\n",
        "\n",
        "我们需要一些实用工具来简化 Jupyter 笔记本中的面向对象编程。其中一个挑战是，类的定义往往是相当长的代码块。笔记本的可读性需要简短的代码片段，并穿插一些解释，这一要求与 Python 库常见的编程风格不相容。第一个实用函数允许我们在类创建后将函数注册为类中的方法。**它允许我们将一个类的实现分成多个代码块**。"
      ],
      "metadata": {
        "id": "mSV93Et1fo4J"
      }
    },
    {
      "cell_type": "code",
      "source": [
        "def add_to_class(Class):\n",
        "    def wrapper(obj):\n",
        "        setattr(Class, obj.__name__, obj)\n",
        "    return wrapper"
      ],
      "metadata": {
        "id": "6NJIvTIjfM1B"
      },
      "execution_count": 17,
      "outputs": []
    },
    {
      "cell_type": "markdown",
      "source": [
        "我们计划 implement a class `A` with a method `do`。我们可以先 declare the class `A` 并创建一个 instance `a`，而不是在同一个代码块中同时为 `A` 和 `do` 编写代码。"
      ],
      "metadata": {
        "id": "37cPAfp4gHHH"
      }
    },
    {
      "cell_type": "code",
      "source": [
        "class A:\n",
        "    def __init__(self):\n",
        "        self.b = 1\n",
        "\n",
        "a = A()"
      ],
      "metadata": {
        "id": "PjWx0DodgAhP"
      },
      "execution_count": 18,
      "outputs": []
    },
    {
      "cell_type": "markdown",
      "source": [
        "接下来，我们像平常一样定义这个方法，但不是在 class `A` 的范围内。相反，我们用 `add_to_class` 来装饰这个方法，把 class `A` 作为它的参数。这样一来，这个方法就能够访问 `A` 的成员变量。"
      ],
      "metadata": {
        "id": "PMWEnTkVg1_0"
      }
    },
    {
      "cell_type": "code",
      "source": [
        "@add_to_class(A)\n",
        "def do(self):\n",
        "    print('Class attribute \"b\" is', self.b)\n",
        "\n",
        "a.do()"
      ],
      "metadata": {
        "colab": {
          "base_uri": "https://localhost:8080/"
        },
        "id": "bPSkRh9ygnS3",
        "outputId": "6e585a9a-1e4c-40b3-b694-e17be3aedf32"
      },
      "execution_count": 19,
      "outputs": [
        {
          "output_type": "stream",
          "name": "stdout",
          "text": [
            "Class attribute \"b\" is 1\n"
          ]
        }
      ]
    },
    {
      "cell_type": "markdown",
      "source": [
        "第二个是一个实用类，它将一个类的 `__init__` 方法中的**所有参数保存为类属性**。这使得我们可以隐式地扩展构造函数的调用签名，而无需额外的代码。"
      ],
      "metadata": {
        "id": "vpaR4W72hIbx"
      }
    },
    {
      "cell_type": "code",
      "source": [
        "class HyperParameters:\n",
        "    def save_hyperparameters(self, ignore=[]):\n",
        "        raise NotImplemented"
      ],
      "metadata": {
        "id": "--rnzckrhDsU"
      },
      "execution_count": 20,
      "outputs": []
    },
    {
      "cell_type": "markdown",
      "source": [
        "为了使用它，我们定义我们的类，它继承自 `HyperParameters`，并在 `__init__` 方法中调用 `save_hyperparameters`。"
      ],
      "metadata": {
        "id": "2OW-BxzzhS30"
      }
    },
    {
      "cell_type": "code",
      "source": [
        "# Call the fully implemented HyperParameters class saved in d2l\n",
        "class B(d2l.HyperParameters):\n",
        "    def __init__(self, a, b, c):\n",
        "        self.save_hyperparameters(ignore=['c'])\n",
        "        print('self.a =', self.a, 'self.b =', self.b)\n",
        "        print('There is no self.c =', not hasattr(self, 'c'))\n",
        "\n",
        "b = B(a=1, b=2, c=3)"
      ],
      "metadata": {
        "colab": {
          "base_uri": "https://localhost:8080/"
        },
        "id": "316HEc2FhNdv",
        "outputId": "ace8f69a-5d5c-4d67-8227-c6794c716d76"
      },
      "execution_count": 21,
      "outputs": [
        {
          "output_type": "stream",
          "name": "stdout",
          "text": [
            "self.a = 1 self.b = 2\n",
            "There is no self.c = True\n"
          ]
        }
      ]
    },
    {
      "cell_type": "markdown",
      "source": [
        "最后一个工具允许我们在实验进行中交互式地绘制实验进展。"
      ],
      "metadata": {
        "id": "NPy1jbcQhhW7"
      }
    },
    {
      "cell_type": "code",
      "source": [
        "class ProgressBoard(d2l.HyperParameters):\n",
        "    \"\"\"Plot data points in animation.\"\"\"\n",
        "    def __init__(self, xlabel=None, ylabel=None, xlim=None,\n",
        "                 ylim=None, xscale='linear', yscale='linear',\n",
        "                 ls=['-', '--', '-.', ':'], colors=['C0', 'C1', 'C2', 'C3'],\n",
        "                 fig=None, axes=None, figsize=(3.5, 2.5), display=True):\n",
        "        self.save_hyperparameters()\n",
        "\n",
        "    def draw(self, x, y, label, every_n=1):\n",
        "        raise NotImplemented"
      ],
      "metadata": {
        "id": "SeRy8AiihZZ2"
      },
      "execution_count": 22,
      "outputs": []
    },
    {
      "cell_type": "code",
      "source": [
        "board = d2l.ProgressBoard('x')\n",
        "for x in np.arange(0, 10, 0.1):\n",
        "    board.draw(x, np.sin(x), 'sin', every_n=2)\n",
        "    board.draw(x, np.cos(x), 'cos', every_n=10)"
      ],
      "metadata": {
        "colab": {
          "base_uri": "https://localhost:8080/",
          "height": 262
        },
        "id": "Bljg8-eOhrSV",
        "outputId": "813ef7e0-c308-4344-91f5-d85f5e036c52"
      },
      "execution_count": 23,
      "outputs": [
        {
          "output_type": "display_data",
          "data": {
            "text/plain": [
              "<Figure size 252x180 with 1 Axes>"
            ],
            "image/svg+xml": "<?xml version=\"1.0\" encoding=\"utf-8\" standalone=\"no\"?>\n<!DOCTYPE svg PUBLIC \"-//W3C//DTD SVG 1.1//EN\"\n  \"http://www.w3.org/Graphics/SVG/1.1/DTD/svg11.dtd\">\n<!-- Created with matplotlib (https://matplotlib.org/) -->\n<svg height=\"180.65625pt\" version=\"1.1\" viewBox=\"0 0 241.185572 180.65625\" width=\"241.185572pt\" xmlns=\"http://www.w3.org/2000/svg\" xmlns:xlink=\"http://www.w3.org/1999/xlink\">\n <defs>\n  <style type=\"text/css\">\n*{stroke-linecap:butt;stroke-linejoin:round;}\n  </style>\n </defs>\n <g id=\"figure_1\">\n  <g id=\"patch_1\">\n   <path d=\"M -0 180.65625 \nL 241.185572 180.65625 \nL 241.185572 0 \nL -0 0 \nz\n\" style=\"fill:none;\"/>\n  </g>\n  <g id=\"axes_1\">\n   <g id=\"patch_2\">\n    <path d=\"M 38.482813 143.1 \nL 233.782813 143.1 \nL 233.782813 7.2 \nL 38.482813 7.2 \nz\n\" style=\"fill:#ffffff;\"/>\n   </g>\n   <g id=\"matplotlib.axis_1\">\n    <g id=\"xtick_1\">\n     <g id=\"line2d_1\">\n      <defs>\n       <path d=\"M 0 0 \nL 0 3.5 \n\" id=\"m2a5538363e\" style=\"stroke:#000000;stroke-width:0.8;\"/>\n      </defs>\n      <g>\n       <use style=\"stroke:#000000;stroke-width:0.8;\" x=\"46.454241\" xlink:href=\"#m2a5538363e\" y=\"143.1\"/>\n      </g>\n     </g>\n     <g id=\"text_1\">\n      <!-- 0 -->\n      <defs>\n       <path d=\"M 31.78125 66.40625 \nQ 24.171875 66.40625 20.328125 58.90625 \nQ 16.5 51.421875 16.5 36.375 \nQ 16.5 21.390625 20.328125 13.890625 \nQ 24.171875 6.390625 31.78125 6.390625 \nQ 39.453125 6.390625 43.28125 13.890625 \nQ 47.125 21.390625 47.125 36.375 \nQ 47.125 51.421875 43.28125 58.90625 \nQ 39.453125 66.40625 31.78125 66.40625 \nz\nM 31.78125 74.21875 \nQ 44.046875 74.21875 50.515625 64.515625 \nQ 56.984375 54.828125 56.984375 36.375 \nQ 56.984375 17.96875 50.515625 8.265625 \nQ 44.046875 -1.421875 31.78125 -1.421875 \nQ 19.53125 -1.421875 13.0625 8.265625 \nQ 6.59375 17.96875 6.59375 36.375 \nQ 6.59375 54.828125 13.0625 64.515625 \nQ 19.53125 74.21875 31.78125 74.21875 \nz\n\" id=\"DejaVuSans-48\"/>\n      </defs>\n      <g transform=\"translate(43.272991 157.698438)scale(0.1 -0.1)\">\n       <use xlink:href=\"#DejaVuSans-48\"/>\n      </g>\n     </g>\n    </g>\n    <g id=\"xtick_2\">\n     <g id=\"line2d_2\">\n      <g>\n       <use style=\"stroke:#000000;stroke-width:0.8;\" x=\"82.688007\" xlink:href=\"#m2a5538363e\" y=\"143.1\"/>\n      </g>\n     </g>\n     <g id=\"text_2\">\n      <!-- 2 -->\n      <defs>\n       <path d=\"M 19.1875 8.296875 \nL 53.609375 8.296875 \nL 53.609375 0 \nL 7.328125 0 \nL 7.328125 8.296875 \nQ 12.9375 14.109375 22.625 23.890625 \nQ 32.328125 33.6875 34.8125 36.53125 \nQ 39.546875 41.84375 41.421875 45.53125 \nQ 43.3125 49.21875 43.3125 52.78125 \nQ 43.3125 58.59375 39.234375 62.25 \nQ 35.15625 65.921875 28.609375 65.921875 \nQ 23.96875 65.921875 18.8125 64.3125 \nQ 13.671875 62.703125 7.8125 59.421875 \nL 7.8125 69.390625 \nQ 13.765625 71.78125 18.9375 73 \nQ 24.125 74.21875 28.421875 74.21875 \nQ 39.75 74.21875 46.484375 68.546875 \nQ 53.21875 62.890625 53.21875 53.421875 \nQ 53.21875 48.921875 51.53125 44.890625 \nQ 49.859375 40.875 45.40625 35.40625 \nQ 44.1875 33.984375 37.640625 27.21875 \nQ 31.109375 20.453125 19.1875 8.296875 \nz\n\" id=\"DejaVuSans-50\"/>\n      </defs>\n      <g transform=\"translate(79.506757 157.698438)scale(0.1 -0.1)\">\n       <use xlink:href=\"#DejaVuSans-50\"/>\n      </g>\n     </g>\n    </g>\n    <g id=\"xtick_3\">\n     <g id=\"line2d_3\">\n      <g>\n       <use style=\"stroke:#000000;stroke-width:0.8;\" x=\"118.921774\" xlink:href=\"#m2a5538363e\" y=\"143.1\"/>\n      </g>\n     </g>\n     <g id=\"text_3\">\n      <!-- 4 -->\n      <defs>\n       <path d=\"M 37.796875 64.3125 \nL 12.890625 25.390625 \nL 37.796875 25.390625 \nz\nM 35.203125 72.90625 \nL 47.609375 72.90625 \nL 47.609375 25.390625 \nL 58.015625 25.390625 \nL 58.015625 17.1875 \nL 47.609375 17.1875 \nL 47.609375 0 \nL 37.796875 0 \nL 37.796875 17.1875 \nL 4.890625 17.1875 \nL 4.890625 26.703125 \nz\n\" id=\"DejaVuSans-52\"/>\n      </defs>\n      <g transform=\"translate(115.740524 157.698438)scale(0.1 -0.1)\">\n       <use xlink:href=\"#DejaVuSans-52\"/>\n      </g>\n     </g>\n    </g>\n    <g id=\"xtick_4\">\n     <g id=\"line2d_4\">\n      <g>\n       <use style=\"stroke:#000000;stroke-width:0.8;\" x=\"155.15554\" xlink:href=\"#m2a5538363e\" y=\"143.1\"/>\n      </g>\n     </g>\n     <g id=\"text_4\">\n      <!-- 6 -->\n      <defs>\n       <path d=\"M 33.015625 40.375 \nQ 26.375 40.375 22.484375 35.828125 \nQ 18.609375 31.296875 18.609375 23.390625 \nQ 18.609375 15.53125 22.484375 10.953125 \nQ 26.375 6.390625 33.015625 6.390625 \nQ 39.65625 6.390625 43.53125 10.953125 \nQ 47.40625 15.53125 47.40625 23.390625 \nQ 47.40625 31.296875 43.53125 35.828125 \nQ 39.65625 40.375 33.015625 40.375 \nz\nM 52.59375 71.296875 \nL 52.59375 62.3125 \nQ 48.875 64.0625 45.09375 64.984375 \nQ 41.3125 65.921875 37.59375 65.921875 \nQ 27.828125 65.921875 22.671875 59.328125 \nQ 17.53125 52.734375 16.796875 39.40625 \nQ 19.671875 43.65625 24.015625 45.921875 \nQ 28.375 48.1875 33.59375 48.1875 \nQ 44.578125 48.1875 50.953125 41.515625 \nQ 57.328125 34.859375 57.328125 23.390625 \nQ 57.328125 12.15625 50.6875 5.359375 \nQ 44.046875 -1.421875 33.015625 -1.421875 \nQ 20.359375 -1.421875 13.671875 8.265625 \nQ 6.984375 17.96875 6.984375 36.375 \nQ 6.984375 53.65625 15.1875 63.9375 \nQ 23.390625 74.21875 37.203125 74.21875 \nQ 40.921875 74.21875 44.703125 73.484375 \nQ 48.484375 72.75 52.59375 71.296875 \nz\n\" id=\"DejaVuSans-54\"/>\n      </defs>\n      <g transform=\"translate(151.97429 157.698438)scale(0.1 -0.1)\">\n       <use xlink:href=\"#DejaVuSans-54\"/>\n      </g>\n     </g>\n    </g>\n    <g id=\"xtick_5\">\n     <g id=\"line2d_5\">\n      <g>\n       <use style=\"stroke:#000000;stroke-width:0.8;\" x=\"191.389306\" xlink:href=\"#m2a5538363e\" y=\"143.1\"/>\n      </g>\n     </g>\n     <g id=\"text_5\">\n      <!-- 8 -->\n      <defs>\n       <path d=\"M 31.78125 34.625 \nQ 24.75 34.625 20.71875 30.859375 \nQ 16.703125 27.09375 16.703125 20.515625 \nQ 16.703125 13.921875 20.71875 10.15625 \nQ 24.75 6.390625 31.78125 6.390625 \nQ 38.8125 6.390625 42.859375 10.171875 \nQ 46.921875 13.96875 46.921875 20.515625 \nQ 46.921875 27.09375 42.890625 30.859375 \nQ 38.875 34.625 31.78125 34.625 \nz\nM 21.921875 38.8125 \nQ 15.578125 40.375 12.03125 44.71875 \nQ 8.5 49.078125 8.5 55.328125 \nQ 8.5 64.0625 14.71875 69.140625 \nQ 20.953125 74.21875 31.78125 74.21875 \nQ 42.671875 74.21875 48.875 69.140625 \nQ 55.078125 64.0625 55.078125 55.328125 \nQ 55.078125 49.078125 51.53125 44.71875 \nQ 48 40.375 41.703125 38.8125 \nQ 48.828125 37.15625 52.796875 32.3125 \nQ 56.78125 27.484375 56.78125 20.515625 \nQ 56.78125 9.90625 50.3125 4.234375 \nQ 43.84375 -1.421875 31.78125 -1.421875 \nQ 19.734375 -1.421875 13.25 4.234375 \nQ 6.78125 9.90625 6.78125 20.515625 \nQ 6.78125 27.484375 10.78125 32.3125 \nQ 14.796875 37.15625 21.921875 38.8125 \nz\nM 18.3125 54.390625 \nQ 18.3125 48.734375 21.84375 45.5625 \nQ 25.390625 42.390625 31.78125 42.390625 \nQ 38.140625 42.390625 41.71875 45.5625 \nQ 45.3125 48.734375 45.3125 54.390625 \nQ 45.3125 60.0625 41.71875 63.234375 \nQ 38.140625 66.40625 31.78125 66.40625 \nQ 25.390625 66.40625 21.84375 63.234375 \nQ 18.3125 60.0625 18.3125 54.390625 \nz\n\" id=\"DejaVuSans-56\"/>\n      </defs>\n      <g transform=\"translate(188.208056 157.698438)scale(0.1 -0.1)\">\n       <use xlink:href=\"#DejaVuSans-56\"/>\n      </g>\n     </g>\n    </g>\n    <g id=\"xtick_6\">\n     <g id=\"line2d_6\">\n      <g>\n       <use style=\"stroke:#000000;stroke-width:0.8;\" x=\"227.623072\" xlink:href=\"#m2a5538363e\" y=\"143.1\"/>\n      </g>\n     </g>\n     <g id=\"text_6\">\n      <!-- 10 -->\n      <defs>\n       <path d=\"M 12.40625 8.296875 \nL 28.515625 8.296875 \nL 28.515625 63.921875 \nL 10.984375 60.40625 \nL 10.984375 69.390625 \nL 28.421875 72.90625 \nL 38.28125 72.90625 \nL 38.28125 8.296875 \nL 54.390625 8.296875 \nL 54.390625 0 \nL 12.40625 0 \nz\n\" id=\"DejaVuSans-49\"/>\n      </defs>\n      <g transform=\"translate(221.260572 157.698438)scale(0.1 -0.1)\">\n       <use xlink:href=\"#DejaVuSans-49\"/>\n       <use x=\"63.623047\" xlink:href=\"#DejaVuSans-48\"/>\n      </g>\n     </g>\n    </g>\n    <g id=\"text_7\">\n     <!-- x -->\n     <defs>\n      <path d=\"M 54.890625 54.6875 \nL 35.109375 28.078125 \nL 55.90625 0 \nL 45.3125 0 \nL 29.390625 21.484375 \nL 13.484375 0 \nL 2.875 0 \nL 24.125 28.609375 \nL 4.6875 54.6875 \nL 15.28125 54.6875 \nL 29.78125 35.203125 \nL 44.28125 54.6875 \nz\n\" id=\"DejaVuSans-120\"/>\n     </defs>\n     <g transform=\"translate(133.173438 171.376563)scale(0.1 -0.1)\">\n      <use xlink:href=\"#DejaVuSans-120\"/>\n     </g>\n    </g>\n   </g>\n   <g id=\"matplotlib.axis_2\">\n    <g id=\"ytick_1\">\n     <g id=\"line2d_7\">\n      <defs>\n       <path d=\"M 0 0 \nL -3.5 0 \n\" id=\"m6aceb8d9e3\" style=\"stroke:#000000;stroke-width:0.8;\"/>\n      </defs>\n      <g>\n       <use style=\"stroke:#000000;stroke-width:0.8;\" x=\"38.482813\" xlink:href=\"#m6aceb8d9e3\" y=\"137.120399\"/>\n      </g>\n     </g>\n     <g id=\"text_8\">\n      <!-- −1.0 -->\n      <defs>\n       <path d=\"M 10.59375 35.5 \nL 73.1875 35.5 \nL 73.1875 27.203125 \nL 10.59375 27.203125 \nz\n\" id=\"DejaVuSans-8722\"/>\n       <path d=\"M 10.6875 12.40625 \nL 21 12.40625 \nL 21 0 \nL 10.6875 0 \nz\n\" id=\"DejaVuSans-46\"/>\n      </defs>\n      <g transform=\"translate(7.2 140.919618)scale(0.1 -0.1)\">\n       <use xlink:href=\"#DejaVuSans-8722\"/>\n       <use x=\"83.789062\" xlink:href=\"#DejaVuSans-49\"/>\n       <use x=\"147.412109\" xlink:href=\"#DejaVuSans-46\"/>\n       <use x=\"179.199219\" xlink:href=\"#DejaVuSans-48\"/>\n      </g>\n     </g>\n    </g>\n    <g id=\"ytick_2\">\n     <g id=\"line2d_8\">\n      <g>\n       <use style=\"stroke:#000000;stroke-width:0.8;\" x=\"38.482813\" xlink:href=\"#m6aceb8d9e3\" y=\"106.165152\"/>\n      </g>\n     </g>\n     <g id=\"text_9\">\n      <!-- −0.5 -->\n      <defs>\n       <path d=\"M 10.796875 72.90625 \nL 49.515625 72.90625 \nL 49.515625 64.59375 \nL 19.828125 64.59375 \nL 19.828125 46.734375 \nQ 21.96875 47.46875 24.109375 47.828125 \nQ 26.265625 48.1875 28.421875 48.1875 \nQ 40.625 48.1875 47.75 41.5 \nQ 54.890625 34.8125 54.890625 23.390625 \nQ 54.890625 11.625 47.5625 5.09375 \nQ 40.234375 -1.421875 26.90625 -1.421875 \nQ 22.3125 -1.421875 17.546875 -0.640625 \nQ 12.796875 0.140625 7.71875 1.703125 \nL 7.71875 11.625 \nQ 12.109375 9.234375 16.796875 8.0625 \nQ 21.484375 6.890625 26.703125 6.890625 \nQ 35.15625 6.890625 40.078125 11.328125 \nQ 45.015625 15.765625 45.015625 23.390625 \nQ 45.015625 31 40.078125 35.4375 \nQ 35.15625 39.890625 26.703125 39.890625 \nQ 22.75 39.890625 18.8125 39.015625 \nQ 14.890625 38.140625 10.796875 36.28125 \nz\n\" id=\"DejaVuSans-53\"/>\n      </defs>\n      <g transform=\"translate(7.2 109.964371)scale(0.1 -0.1)\">\n       <use xlink:href=\"#DejaVuSans-8722\"/>\n       <use x=\"83.789062\" xlink:href=\"#DejaVuSans-48\"/>\n       <use x=\"147.412109\" xlink:href=\"#DejaVuSans-46\"/>\n       <use x=\"179.199219\" xlink:href=\"#DejaVuSans-53\"/>\n      </g>\n     </g>\n    </g>\n    <g id=\"ytick_3\">\n     <g id=\"line2d_9\">\n      <g>\n       <use style=\"stroke:#000000;stroke-width:0.8;\" x=\"38.482813\" xlink:href=\"#m6aceb8d9e3\" y=\"75.209905\"/>\n      </g>\n     </g>\n     <g id=\"text_10\">\n      <!-- 0.0 -->\n      <g transform=\"translate(15.579688 79.009124)scale(0.1 -0.1)\">\n       <use xlink:href=\"#DejaVuSans-48\"/>\n       <use x=\"63.623047\" xlink:href=\"#DejaVuSans-46\"/>\n       <use x=\"95.410156\" xlink:href=\"#DejaVuSans-48\"/>\n      </g>\n     </g>\n    </g>\n    <g id=\"ytick_4\">\n     <g id=\"line2d_10\">\n      <g>\n       <use style=\"stroke:#000000;stroke-width:0.8;\" x=\"38.482813\" xlink:href=\"#m6aceb8d9e3\" y=\"44.254658\"/>\n      </g>\n     </g>\n     <g id=\"text_11\">\n      <!-- 0.5 -->\n      <g transform=\"translate(15.579688 48.053877)scale(0.1 -0.1)\">\n       <use xlink:href=\"#DejaVuSans-48\"/>\n       <use x=\"63.623047\" xlink:href=\"#DejaVuSans-46\"/>\n       <use x=\"95.410156\" xlink:href=\"#DejaVuSans-53\"/>\n      </g>\n     </g>\n    </g>\n    <g id=\"ytick_5\">\n     <g id=\"line2d_11\">\n      <g>\n       <use style=\"stroke:#000000;stroke-width:0.8;\" x=\"38.482813\" xlink:href=\"#m6aceb8d9e3\" y=\"13.299411\"/>\n      </g>\n     </g>\n     <g id=\"text_12\">\n      <!-- 1.0 -->\n      <g transform=\"translate(15.579688 17.098629)scale(0.1 -0.1)\">\n       <use xlink:href=\"#DejaVuSans-49\"/>\n       <use x=\"63.623047\" xlink:href=\"#DejaVuSans-46\"/>\n       <use x=\"95.410156\" xlink:href=\"#DejaVuSans-48\"/>\n      </g>\n     </g>\n    </g>\n   </g>\n   <g id=\"line2d_12\">\n    <path clip-path=\"url(#pa7face5ee1)\" d=\"M 47.360085 72.119537 \n\" style=\"fill:none;stroke:#1f77b4;stroke-linecap:square;stroke-width:1.5;\"/>\n   </g>\n   <g id=\"line2d_13\"/>\n   <g id=\"line2d_14\">\n    <path clip-path=\"url(#pa7face5ee1)\" d=\"M 47.360085 72.119537 \nL 50.983462 59.912146 \n\" style=\"fill:none;stroke:#1f77b4;stroke-linecap:square;stroke-width:1.5;\"/>\n   </g>\n   <g id=\"line2d_15\"/>\n   <g id=\"line2d_16\">\n    <path clip-path=\"url(#pa7face5ee1)\" d=\"M 47.360085 72.119537 \nL 50.983462 59.912146 \nL 54.606838 48.314628 \n\" style=\"fill:none;stroke:#1f77b4;stroke-linecap:square;stroke-width:1.5;\"/>\n   </g>\n   <g id=\"line2d_17\"/>\n   <g id=\"line2d_18\">\n    <path clip-path=\"url(#pa7face5ee1)\" d=\"M 47.360085 72.119537 \nL 50.983462 59.912146 \nL 54.606838 48.314628 \nL 58.230215 37.78934 \n\" style=\"fill:none;stroke:#1f77b4;stroke-linecap:square;stroke-width:1.5;\"/>\n   </g>\n   <g id=\"line2d_19\"/>\n   <g id=\"line2d_20\">\n    <path clip-path=\"url(#pa7face5ee1)\" d=\"M 47.360085 72.119537 \nL 50.983462 59.912146 \nL 54.606838 48.314628 \nL 58.230215 37.78934 \nL 61.853592 28.755892 \n\" style=\"fill:none;stroke:#1f77b4;stroke-linecap:square;stroke-width:1.5;\"/>\n   </g>\n   <g id=\"line2d_21\"/>\n   <g id=\"line2d_22\">\n    <path clip-path=\"url(#pa7face5ee1)\" d=\"M 47.360085 72.119537 \nL 50.983462 59.912146 \nL 54.606838 48.314628 \nL 58.230215 37.78934 \nL 61.853592 28.755892 \n\" style=\"fill:none;stroke:#1f77b4;stroke-linecap:square;stroke-width:1.5;\"/>\n   </g>\n   <g id=\"line2d_23\">\n    <path clip-path=\"url(#pa7face5ee1)\" d=\"M 54.606838 21.734435 \n\" style=\"fill:none;stroke:#ff7f0e;stroke-dasharray:5.55,2.4;stroke-dashoffset:0;stroke-width:1.5;\"/>\n   </g>\n   <g id=\"line2d_24\">\n    <path clip-path=\"url(#pa7face5ee1)\" d=\"M 47.360085 72.119537 \nL 50.983462 59.912146 \nL 54.606838 48.314628 \nL 58.230215 37.78934 \nL 61.853592 28.755892 \nL 65.476968 21.574419 \n\" style=\"fill:none;stroke:#1f77b4;stroke-linecap:square;stroke-width:1.5;\"/>\n   </g>\n   <g id=\"line2d_25\">\n    <path clip-path=\"url(#pa7face5ee1)\" d=\"M 54.606838 21.734435 \n\" style=\"fill:none;stroke:#ff7f0e;stroke-dasharray:5.55,2.4;stroke-dashoffset:0;stroke-width:1.5;\"/>\n   </g>\n   <g id=\"line2d_26\">\n    <path clip-path=\"url(#pa7face5ee1)\" d=\"M 47.360085 72.119537 \nL 50.983462 59.912146 \nL 54.606838 48.314628 \nL 58.230215 37.78934 \nL 61.853592 28.755892 \nL 65.476968 21.574419 \nL 69.100345 16.531223 \n\" style=\"fill:none;stroke:#1f77b4;stroke-linecap:square;stroke-width:1.5;\"/>\n   </g>\n   <g id=\"line2d_27\">\n    <path clip-path=\"url(#pa7face5ee1)\" d=\"M 54.606838 21.734435 \n\" style=\"fill:none;stroke:#ff7f0e;stroke-dasharray:5.55,2.4;stroke-dashoffset:0;stroke-width:1.5;\"/>\n   </g>\n   <g id=\"line2d_28\">\n    <path clip-path=\"url(#pa7face5ee1)\" d=\"M 47.360085 72.119537 \nL 50.983462 59.912146 \nL 54.606838 48.314628 \nL 58.230215 37.78934 \nL 61.853592 28.755892 \nL 65.476968 21.574419 \nL 69.100345 16.531223 \nL 72.723722 13.827361 \n\" style=\"fill:none;stroke:#1f77b4;stroke-linecap:square;stroke-width:1.5;\"/>\n   </g>\n   <g id=\"line2d_29\">\n    <path clip-path=\"url(#pa7face5ee1)\" d=\"M 54.606838 21.734435 \n\" style=\"fill:none;stroke:#ff7f0e;stroke-dasharray:5.55,2.4;stroke-dashoffset:0;stroke-width:1.5;\"/>\n   </g>\n   <g id=\"line2d_30\">\n    <path clip-path=\"url(#pa7face5ee1)\" d=\"M 47.360085 72.119537 \nL 50.983462 59.912146 \nL 54.606838 48.314628 \nL 58.230215 37.78934 \nL 61.853592 28.755892 \nL 65.476968 21.574419 \nL 69.100345 16.531223 \nL 72.723722 13.827361 \nL 76.347098 13.570628 \n\" style=\"fill:none;stroke:#1f77b4;stroke-linecap:square;stroke-width:1.5;\"/>\n   </g>\n   <g id=\"line2d_31\">\n    <path clip-path=\"url(#pa7face5ee1)\" d=\"M 54.606838 21.734435 \n\" style=\"fill:none;stroke:#ff7f0e;stroke-dasharray:5.55,2.4;stroke-dashoffset:0;stroke-width:1.5;\"/>\n   </g>\n   <g id=\"line2d_32\">\n    <path clip-path=\"url(#pa7face5ee1)\" d=\"M 47.360085 72.119537 \nL 50.983462 59.912146 \nL 54.606838 48.314628 \nL 58.230215 37.78934 \nL 61.853592 28.755892 \nL 65.476968 21.574419 \nL 69.100345 16.531223 \nL 72.723722 13.827361 \nL 76.347098 13.570628 \nL 79.970475 15.771258 \n\" style=\"fill:none;stroke:#1f77b4;stroke-linecap:square;stroke-width:1.5;\"/>\n   </g>\n   <g id=\"line2d_33\">\n    <path clip-path=\"url(#pa7face5ee1)\" d=\"M 54.606838 21.734435 \n\" style=\"fill:none;stroke:#ff7f0e;stroke-dasharray:5.55,2.4;stroke-dashoffset:0;stroke-width:1.5;\"/>\n   </g>\n   <g id=\"line2d_34\">\n    <path clip-path=\"url(#pa7face5ee1)\" d=\"M 47.360085 72.119537 \nL 50.983462 59.912146 \nL 54.606838 48.314628 \nL 58.230215 37.78934 \nL 61.853592 28.755892 \nL 65.476968 21.574419 \nL 69.100345 16.531223 \nL 72.723722 13.827361 \nL 76.347098 13.570628 \nL 79.970475 15.771258 \n\" style=\"fill:none;stroke:#1f77b4;stroke-linecap:square;stroke-width:1.5;\"/>\n   </g>\n   <g id=\"line2d_35\">\n    <path clip-path=\"url(#pa7face5ee1)\" d=\"M 54.606838 21.734435 \nL 72.723722 68.053524 \n\" style=\"fill:none;stroke:#ff7f0e;stroke-dasharray:5.55,2.4;stroke-dashoffset:0;stroke-width:1.5;\"/>\n   </g>\n   <g id=\"line2d_36\">\n    <path clip-path=\"url(#pa7face5ee1)\" d=\"M 47.360085 72.119537 \nL 50.983462 59.912146 \nL 54.606838 48.314628 \nL 58.230215 37.78934 \nL 61.853592 28.755892 \nL 65.476968 21.574419 \nL 69.100345 16.531223 \nL 72.723722 13.827361 \nL 76.347098 13.570628 \nL 79.970475 15.771258 \nL 83.593851 20.341519 \n\" style=\"fill:none;stroke:#1f77b4;stroke-linecap:square;stroke-width:1.5;\"/>\n   </g>\n   <g id=\"line2d_37\">\n    <path clip-path=\"url(#pa7face5ee1)\" d=\"M 54.606838 21.734435 \nL 72.723722 68.053524 \n\" style=\"fill:none;stroke:#ff7f0e;stroke-dasharray:5.55,2.4;stroke-dashoffset:0;stroke-width:1.5;\"/>\n   </g>\n   <g id=\"line2d_38\">\n    <path clip-path=\"url(#pa7face5ee1)\" d=\"M 47.360085 72.119537 \nL 50.983462 59.912146 \nL 54.606838 48.314628 \nL 58.230215 37.78934 \nL 61.853592 28.755892 \nL 65.476968 21.574419 \nL 69.100345 16.531223 \nL 72.723722 13.827361 \nL 76.347098 13.570628 \nL 79.970475 15.771258 \nL 83.593851 20.341519 \nL 87.217228 27.09921 \n\" style=\"fill:none;stroke:#1f77b4;stroke-linecap:square;stroke-width:1.5;\"/>\n   </g>\n   <g id=\"line2d_39\">\n    <path clip-path=\"url(#pa7face5ee1)\" d=\"M 54.606838 21.734435 \nL 72.723722 68.053524 \n\" style=\"fill:none;stroke:#ff7f0e;stroke-dasharray:5.55,2.4;stroke-dashoffset:0;stroke-width:1.5;\"/>\n   </g>\n   <g id=\"line2d_40\">\n    <path clip-path=\"url(#pa7face5ee1)\" d=\"M 47.360085 72.119537 \nL 50.983462 59.912146 \nL 54.606838 48.314628 \nL 58.230215 37.78934 \nL 61.853592 28.755892 \nL 65.476968 21.574419 \nL 69.100345 16.531223 \nL 72.723722 13.827361 \nL 76.347098 13.570628 \nL 79.970475 15.771258 \nL 83.593851 20.341519 \nL 87.217228 27.09921 \nL 90.840605 35.774922 \n\" style=\"fill:none;stroke:#1f77b4;stroke-linecap:square;stroke-width:1.5;\"/>\n   </g>\n   <g id=\"line2d_41\">\n    <path clip-path=\"url(#pa7face5ee1)\" d=\"M 54.606838 21.734435 \nL 72.723722 68.053524 \n\" style=\"fill:none;stroke:#ff7f0e;stroke-dasharray:5.55,2.4;stroke-dashoffset:0;stroke-width:1.5;\"/>\n   </g>\n   <g id=\"line2d_42\">\n    <path clip-path=\"url(#pa7face5ee1)\" d=\"M 47.360085 72.119537 \nL 50.983462 59.912146 \nL 54.606838 48.314628 \nL 58.230215 37.78934 \nL 61.853592 28.755892 \nL 65.476968 21.574419 \nL 69.100345 16.531223 \nL 72.723722 13.827361 \nL 76.347098 13.570628 \nL 79.970475 15.771258 \nL 83.593851 20.341519 \nL 87.217228 27.09921 \nL 90.840605 35.774922 \nL 94.463981 46.022783 \n\" style=\"fill:none;stroke:#1f77b4;stroke-linecap:square;stroke-width:1.5;\"/>\n   </g>\n   <g id=\"line2d_43\">\n    <path clip-path=\"url(#pa7face5ee1)\" d=\"M 54.606838 21.734435 \nL 72.723722 68.053524 \n\" style=\"fill:none;stroke:#ff7f0e;stroke-dasharray:5.55,2.4;stroke-dashoffset:0;stroke-width:1.5;\"/>\n   </g>\n   <g id=\"line2d_44\">\n    <path clip-path=\"url(#pa7face5ee1)\" d=\"M 47.360085 72.119537 \nL 50.983462 59.912146 \nL 54.606838 48.314628 \nL 58.230215 37.78934 \nL 61.853592 28.755892 \nL 65.476968 21.574419 \nL 69.100345 16.531223 \nL 72.723722 13.827361 \nL 76.347098 13.570628 \nL 79.970475 15.771258 \nL 83.593851 20.341519 \nL 87.217228 27.09921 \nL 90.840605 35.774922 \nL 94.463981 46.022783 \nL 98.087358 57.434242 \n\" style=\"fill:none;stroke:#1f77b4;stroke-linecap:square;stroke-width:1.5;\"/>\n   </g>\n   <g id=\"line2d_45\">\n    <path clip-path=\"url(#pa7face5ee1)\" d=\"M 54.606838 21.734435 \nL 72.723722 68.053524 \n\" style=\"fill:none;stroke:#ff7f0e;stroke-dasharray:5.55,2.4;stroke-dashoffset:0;stroke-width:1.5;\"/>\n   </g>\n   <g id=\"line2d_46\">\n    <path clip-path=\"url(#pa7face5ee1)\" d=\"M 47.360085 72.119537 \nL 50.983462 59.912146 \nL 54.606838 48.314628 \nL 58.230215 37.78934 \nL 61.853592 28.755892 \nL 65.476968 21.574419 \nL 69.100345 16.531223 \nL 72.723722 13.827361 \nL 76.347098 13.570628 \nL 79.970475 15.771258 \nL 83.593851 20.341519 \nL 87.217228 27.09921 \nL 90.840605 35.774922 \nL 94.463981 46.022783 \nL 98.087358 57.434242 \n\" style=\"fill:none;stroke:#1f77b4;stroke-linecap:square;stroke-width:1.5;\"/>\n   </g>\n   <g id=\"line2d_47\">\n    <path clip-path=\"url(#pa7face5ee1)\" d=\"M 54.606838 21.734435 \nL 72.723722 68.053524 \nL 90.840605 120.952157 \n\" style=\"fill:none;stroke:#ff7f0e;stroke-dasharray:5.55,2.4;stroke-dashoffset:0;stroke-width:1.5;\"/>\n   </g>\n   <g id=\"line2d_48\">\n    <path clip-path=\"url(#pa7face5ee1)\" d=\"M 47.360085 72.119537 \nL 50.983462 59.912146 \nL 54.606838 48.314628 \nL 58.230215 37.78934 \nL 61.853592 28.755892 \nL 65.476968 21.574419 \nL 69.100345 16.531223 \nL 72.723722 13.827361 \nL 76.347098 13.570628 \nL 79.970475 15.771258 \nL 83.593851 20.341519 \nL 87.217228 27.09921 \nL 90.840605 35.774922 \nL 94.463981 46.022783 \nL 98.087358 57.434242 \nL 101.710735 69.554361 \n\" style=\"fill:none;stroke:#1f77b4;stroke-linecap:square;stroke-width:1.5;\"/>\n   </g>\n   <g id=\"line2d_49\">\n    <path clip-path=\"url(#pa7face5ee1)\" d=\"M 54.606838 21.734435 \nL 72.723722 68.053524 \nL 90.840605 120.952157 \n\" style=\"fill:none;stroke:#ff7f0e;stroke-dasharray:5.55,2.4;stroke-dashoffset:0;stroke-width:1.5;\"/>\n   </g>\n   <g id=\"line2d_50\">\n    <path clip-path=\"url(#pa7face5ee1)\" d=\"M 47.360085 72.119537 \nL 50.983462 59.912146 \nL 54.606838 48.314628 \nL 58.230215 37.78934 \nL 61.853592 28.755892 \nL 65.476968 21.574419 \nL 69.100345 16.531223 \nL 72.723722 13.827361 \nL 76.347098 13.570628 \nL 79.970475 15.771258 \nL 83.593851 20.341519 \nL 87.217228 27.09921 \nL 90.840605 35.774922 \nL 94.463981 46.022783 \nL 98.087358 57.434242 \nL 101.710735 69.554361 \nL 105.334111 81.899948 \n\" style=\"fill:none;stroke:#1f77b4;stroke-linecap:square;stroke-width:1.5;\"/>\n   </g>\n   <g id=\"line2d_51\">\n    <path clip-path=\"url(#pa7face5ee1)\" d=\"M 54.606838 21.734435 \nL 72.723722 68.053524 \nL 90.840605 120.952157 \n\" style=\"fill:none;stroke:#ff7f0e;stroke-dasharray:5.55,2.4;stroke-dashoffset:0;stroke-width:1.5;\"/>\n   </g>\n   <g id=\"line2d_52\">\n    <path clip-path=\"url(#pa7face5ee1)\" d=\"M 47.360085 72.119537 \nL 50.983462 59.912146 \nL 54.606838 48.314628 \nL 58.230215 37.78934 \nL 61.853592 28.755892 \nL 65.476968 21.574419 \nL 69.100345 16.531223 \nL 72.723722 13.827361 \nL 76.347098 13.570628 \nL 79.970475 15.771258 \nL 83.593851 20.341519 \nL 87.217228 27.09921 \nL 90.840605 35.774922 \nL 94.463981 46.022783 \nL 98.087358 57.434242 \nL 101.710735 69.554361 \nL 105.334111 81.899948 \nL 108.957488 93.978825 \n\" style=\"fill:none;stroke:#1f77b4;stroke-linecap:square;stroke-width:1.5;\"/>\n   </g>\n   <g id=\"line2d_53\">\n    <path clip-path=\"url(#pa7face5ee1)\" d=\"M 54.606838 21.734435 \nL 72.723722 68.053524 \nL 90.840605 120.952157 \n\" style=\"fill:none;stroke:#ff7f0e;stroke-dasharray:5.55,2.4;stroke-dashoffset:0;stroke-width:1.5;\"/>\n   </g>\n   <g id=\"line2d_54\">\n    <path clip-path=\"url(#pa7face5ee1)\" d=\"M 47.360085 72.119537 \nL 50.983462 59.912146 \nL 54.606838 48.314628 \nL 58.230215 37.78934 \nL 61.853592 28.755892 \nL 65.476968 21.574419 \nL 69.100345 16.531223 \nL 72.723722 13.827361 \nL 76.347098 13.570628 \nL 79.970475 15.771258 \nL 83.593851 20.341519 \nL 87.217228 27.09921 \nL 90.840605 35.774922 \nL 94.463981 46.022783 \nL 98.087358 57.434242 \nL 101.710735 69.554361 \nL 105.334111 81.899948 \nL 108.957488 93.978825 \nL 112.580864 105.309443 \n\" style=\"fill:none;stroke:#1f77b4;stroke-linecap:square;stroke-width:1.5;\"/>\n   </g>\n   <g id=\"line2d_55\">\n    <path clip-path=\"url(#pa7face5ee1)\" d=\"M 54.606838 21.734435 \nL 72.723722 68.053524 \nL 90.840605 120.952157 \n\" style=\"fill:none;stroke:#ff7f0e;stroke-dasharray:5.55,2.4;stroke-dashoffset:0;stroke-width:1.5;\"/>\n   </g>\n   <g id=\"line2d_56\">\n    <path clip-path=\"url(#pa7face5ee1)\" d=\"M 47.360085 72.119537 \nL 50.983462 59.912146 \nL 54.606838 48.314628 \nL 58.230215 37.78934 \nL 61.853592 28.755892 \nL 65.476968 21.574419 \nL 69.100345 16.531223 \nL 72.723722 13.827361 \nL 76.347098 13.570628 \nL 79.970475 15.771258 \nL 83.593851 20.341519 \nL 87.217228 27.09921 \nL 90.840605 35.774922 \nL 94.463981 46.022783 \nL 98.087358 57.434242 \nL 101.710735 69.554361 \nL 105.334111 81.899948 \nL 108.957488 93.978825 \nL 112.580864 105.309443 \nL 116.204241 115.440089 \n\" style=\"fill:none;stroke:#1f77b4;stroke-linecap:square;stroke-width:1.5;\"/>\n   </g>\n   <g id=\"line2d_57\">\n    <path clip-path=\"url(#pa7face5ee1)\" d=\"M 54.606838 21.734435 \nL 72.723722 68.053524 \nL 90.840605 120.952157 \n\" style=\"fill:none;stroke:#ff7f0e;stroke-dasharray:5.55,2.4;stroke-dashoffset:0;stroke-width:1.5;\"/>\n   </g>\n   <g id=\"line2d_58\">\n    <path clip-path=\"url(#pa7face5ee1)\" d=\"M 47.360085 72.119537 \nL 50.983462 59.912146 \nL 54.606838 48.314628 \nL 58.230215 37.78934 \nL 61.853592 28.755892 \nL 65.476968 21.574419 \nL 69.100345 16.531223 \nL 72.723722 13.827361 \nL 76.347098 13.570628 \nL 79.970475 15.771258 \nL 83.593851 20.341519 \nL 87.217228 27.09921 \nL 90.840605 35.774922 \nL 94.463981 46.022783 \nL 98.087358 57.434242 \nL 101.710735 69.554361 \nL 105.334111 81.899948 \nL 108.957488 93.978825 \nL 112.580864 105.309443 \nL 116.204241 115.440089 \n\" style=\"fill:none;stroke:#1f77b4;stroke-linecap:square;stroke-width:1.5;\"/>\n   </g>\n   <g id=\"line2d_59\">\n    <path clip-path=\"url(#pa7face5ee1)\" d=\"M 54.606838 21.734435 \nL 72.723722 68.053524 \nL 90.840605 120.952157 \nL 108.957488 131.795574 \n\" style=\"fill:none;stroke:#ff7f0e;stroke-dasharray:5.55,2.4;stroke-dashoffset:0;stroke-width:1.5;\"/>\n   </g>\n   <g id=\"line2d_60\">\n    <path clip-path=\"url(#pa7face5ee1)\" d=\"M 47.360085 72.119537 \nL 50.983462 59.912146 \nL 54.606838 48.314628 \nL 58.230215 37.78934 \nL 61.853592 28.755892 \nL 65.476968 21.574419 \nL 69.100345 16.531223 \nL 72.723722 13.827361 \nL 76.347098 13.570628 \nL 79.970475 15.771258 \nL 83.593851 20.341519 \nL 87.217228 27.09921 \nL 90.840605 35.774922 \nL 94.463981 46.022783 \nL 98.087358 57.434242 \nL 101.710735 69.554361 \nL 105.334111 81.899948 \nL 108.957488 93.978825 \nL 112.580864 105.309443 \nL 116.204241 115.440089 \nL 119.827618 123.966884 \n\" style=\"fill:none;stroke:#1f77b4;stroke-linecap:square;stroke-width:1.5;\"/>\n   </g>\n   <g id=\"line2d_61\">\n    <path clip-path=\"url(#pa7face5ee1)\" d=\"M 54.606838 21.734435 \nL 72.723722 68.053524 \nL 90.840605 120.952157 \nL 108.957488 131.795574 \n\" style=\"fill:none;stroke:#ff7f0e;stroke-dasharray:5.55,2.4;stroke-dashoffset:0;stroke-width:1.5;\"/>\n   </g>\n   <g id=\"line2d_62\">\n    <path clip-path=\"url(#pa7face5ee1)\" d=\"M 47.360085 72.119537 \nL 50.983462 59.912146 \nL 54.606838 48.314628 \nL 58.230215 37.78934 \nL 61.853592 28.755892 \nL 65.476968 21.574419 \nL 69.100345 16.531223 \nL 72.723722 13.827361 \nL 76.347098 13.570628 \nL 79.970475 15.771258 \nL 83.593851 20.341519 \nL 87.217228 27.09921 \nL 90.840605 35.774922 \nL 94.463981 46.022783 \nL 98.087358 57.434242 \nL 101.710735 69.554361 \nL 105.334111 81.899948 \nL 108.957488 93.978825 \nL 112.580864 105.309443 \nL 116.204241 115.440089 \nL 119.827618 123.966884 \nL 123.450994 130.549892 \n\" style=\"fill:none;stroke:#1f77b4;stroke-linecap:square;stroke-width:1.5;\"/>\n   </g>\n   <g id=\"line2d_63\">\n    <path clip-path=\"url(#pa7face5ee1)\" d=\"M 54.606838 21.734435 \nL 72.723722 68.053524 \nL 90.840605 120.952157 \nL 108.957488 131.795574 \n\" style=\"fill:none;stroke:#ff7f0e;stroke-dasharray:5.55,2.4;stroke-dashoffset:0;stroke-width:1.5;\"/>\n   </g>\n   <g id=\"line2d_64\">\n    <path clip-path=\"url(#pa7face5ee1)\" d=\"M 47.360085 72.119537 \nL 50.983462 59.912146 \nL 54.606838 48.314628 \nL 58.230215 37.78934 \nL 61.853592 28.755892 \nL 65.476968 21.574419 \nL 69.100345 16.531223 \nL 72.723722 13.827361 \nL 76.347098 13.570628 \nL 79.970475 15.771258 \nL 83.593851 20.341519 \nL 87.217228 27.09921 \nL 90.840605 35.774922 \nL 94.463981 46.022783 \nL 98.087358 57.434242 \nL 101.710735 69.554361 \nL 105.334111 81.899948 \nL 108.957488 93.978825 \nL 112.580864 105.309443 \nL 116.204241 115.440089 \nL 119.827618 123.966884 \nL 123.450994 130.549892 \nL 127.074371 134.926669 \n\" style=\"fill:none;stroke:#1f77b4;stroke-linecap:square;stroke-width:1.5;\"/>\n   </g>\n   <g id=\"line2d_65\">\n    <path clip-path=\"url(#pa7face5ee1)\" d=\"M 54.606838 21.734435 \nL 72.723722 68.053524 \nL 90.840605 120.952157 \nL 108.957488 131.795574 \n\" style=\"fill:none;stroke:#ff7f0e;stroke-dasharray:5.55,2.4;stroke-dashoffset:0;stroke-width:1.5;\"/>\n   </g>\n   <g id=\"line2d_66\">\n    <path clip-path=\"url(#pa7face5ee1)\" d=\"M 47.360085 72.119537 \nL 50.983462 59.912146 \nL 54.606838 48.314628 \nL 58.230215 37.78934 \nL 61.853592 28.755892 \nL 65.476968 21.574419 \nL 69.100345 16.531223 \nL 72.723722 13.827361 \nL 76.347098 13.570628 \nL 79.970475 15.771258 \nL 83.593851 20.341519 \nL 87.217228 27.09921 \nL 90.840605 35.774922 \nL 94.463981 46.022783 \nL 98.087358 57.434242 \nL 101.710735 69.554361 \nL 105.334111 81.899948 \nL 108.957488 93.978825 \nL 112.580864 105.309443 \nL 116.204241 115.440089 \nL 119.827618 123.966884 \nL 123.450994 130.549892 \nL 127.074371 134.926669 \nL 130.697748 136.922727 \n\" style=\"fill:none;stroke:#1f77b4;stroke-linecap:square;stroke-width:1.5;\"/>\n   </g>\n   <g id=\"line2d_67\">\n    <path clip-path=\"url(#pa7face5ee1)\" d=\"M 54.606838 21.734435 \nL 72.723722 68.053524 \nL 90.840605 120.952157 \nL 108.957488 131.795574 \n\" style=\"fill:none;stroke:#ff7f0e;stroke-dasharray:5.55,2.4;stroke-dashoffset:0;stroke-width:1.5;\"/>\n   </g>\n   <g id=\"line2d_68\">\n    <path clip-path=\"url(#pa7face5ee1)\" d=\"M 47.360085 72.119537 \nL 50.983462 59.912146 \nL 54.606838 48.314628 \nL 58.230215 37.78934 \nL 61.853592 28.755892 \nL 65.476968 21.574419 \nL 69.100345 16.531223 \nL 72.723722 13.827361 \nL 76.347098 13.570628 \nL 79.970475 15.771258 \nL 83.593851 20.341519 \nL 87.217228 27.09921 \nL 90.840605 35.774922 \nL 94.463981 46.022783 \nL 98.087358 57.434242 \nL 101.710735 69.554361 \nL 105.334111 81.899948 \nL 108.957488 93.978825 \nL 112.580864 105.309443 \nL 116.204241 115.440089 \nL 119.827618 123.966884 \nL 123.450994 130.549892 \nL 127.074371 134.926669 \nL 130.697748 136.922727 \nL 134.321124 136.45849 \n\" style=\"fill:none;stroke:#1f77b4;stroke-linecap:square;stroke-width:1.5;\"/>\n   </g>\n   <g id=\"line2d_69\">\n    <path clip-path=\"url(#pa7face5ee1)\" d=\"M 54.606838 21.734435 \nL 72.723722 68.053524 \nL 90.840605 120.952157 \nL 108.957488 131.795574 \n\" style=\"fill:none;stroke:#ff7f0e;stroke-dasharray:5.55,2.4;stroke-dashoffset:0;stroke-width:1.5;\"/>\n   </g>\n   <g id=\"line2d_70\">\n    <path clip-path=\"url(#pa7face5ee1)\" d=\"M 47.360085 72.119537 \nL 50.983462 59.912146 \nL 54.606838 48.314628 \nL 58.230215 37.78934 \nL 61.853592 28.755892 \nL 65.476968 21.574419 \nL 69.100345 16.531223 \nL 72.723722 13.827361 \nL 76.347098 13.570628 \nL 79.970475 15.771258 \nL 83.593851 20.341519 \nL 87.217228 27.09921 \nL 90.840605 35.774922 \nL 94.463981 46.022783 \nL 98.087358 57.434242 \nL 101.710735 69.554361 \nL 105.334111 81.899948 \nL 108.957488 93.978825 \nL 112.580864 105.309443 \nL 116.204241 115.440089 \nL 119.827618 123.966884 \nL 123.450994 130.549892 \nL 127.074371 134.926669 \nL 130.697748 136.922727 \nL 134.321124 136.45849 \n\" style=\"fill:none;stroke:#1f77b4;stroke-linecap:square;stroke-width:1.5;\"/>\n   </g>\n   <g id=\"line2d_71\">\n    <path clip-path=\"url(#pa7face5ee1)\" d=\"M 54.606838 21.734435 \nL 72.723722 68.053524 \nL 90.840605 120.952157 \nL 108.957488 131.795574 \nL 127.074371 90.614388 \n\" style=\"fill:none;stroke:#ff7f0e;stroke-dasharray:5.55,2.4;stroke-dashoffset:0;stroke-width:1.5;\"/>\n   </g>\n   <g id=\"line2d_72\">\n    <path clip-path=\"url(#pa7face5ee1)\" d=\"M 47.360085 72.119537 \nL 50.983462 59.912146 \nL 54.606838 48.314628 \nL 58.230215 37.78934 \nL 61.853592 28.755892 \nL 65.476968 21.574419 \nL 69.100345 16.531223 \nL 72.723722 13.827361 \nL 76.347098 13.570628 \nL 79.970475 15.771258 \nL 83.593851 20.341519 \nL 87.217228 27.09921 \nL 90.840605 35.774922 \nL 94.463981 46.022783 \nL 98.087358 57.434242 \nL 101.710735 69.554361 \nL 105.334111 81.899948 \nL 108.957488 93.978825 \nL 112.580864 105.309443 \nL 116.204241 115.440089 \nL 119.827618 123.966884 \nL 123.450994 130.549892 \nL 127.074371 134.926669 \nL 130.697748 136.922727 \nL 134.321124 136.45849 \nL 137.944501 133.552465 \n\" style=\"fill:none;stroke:#1f77b4;stroke-linecap:square;stroke-width:1.5;\"/>\n   </g>\n   <g id=\"line2d_73\">\n    <path clip-path=\"url(#pa7face5ee1)\" d=\"M 54.606838 21.734435 \nL 72.723722 68.053524 \nL 90.840605 120.952157 \nL 108.957488 131.795574 \nL 127.074371 90.614388 \n\" style=\"fill:none;stroke:#ff7f0e;stroke-dasharray:5.55,2.4;stroke-dashoffset:0;stroke-width:1.5;\"/>\n   </g>\n   <g id=\"line2d_74\">\n    <path clip-path=\"url(#pa7face5ee1)\" d=\"M 47.360085 72.119537 \nL 50.983462 59.912146 \nL 54.606838 48.314628 \nL 58.230215 37.78934 \nL 61.853592 28.755892 \nL 65.476968 21.574419 \nL 69.100345 16.531223 \nL 72.723722 13.827361 \nL 76.347098 13.570628 \nL 79.970475 15.771258 \nL 83.593851 20.341519 \nL 87.217228 27.09921 \nL 90.840605 35.774922 \nL 94.463981 46.022783 \nL 98.087358 57.434242 \nL 101.710735 69.554361 \nL 105.334111 81.899948 \nL 108.957488 93.978825 \nL 112.580864 105.309443 \nL 116.204241 115.440089 \nL 119.827618 123.966884 \nL 123.450994 130.549892 \nL 127.074371 134.926669 \nL 130.697748 136.922727 \nL 134.321124 136.45849 \nL 137.944501 133.552465 \nL 141.567877 128.320507 \n\" style=\"fill:none;stroke:#1f77b4;stroke-linecap:square;stroke-width:1.5;\"/>\n   </g>\n   <g id=\"line2d_75\">\n    <path clip-path=\"url(#pa7face5ee1)\" d=\"M 54.606838 21.734435 \nL 72.723722 68.053524 \nL 90.840605 120.952157 \nL 108.957488 131.795574 \nL 127.074371 90.614388 \n\" style=\"fill:none;stroke:#ff7f0e;stroke-dasharray:5.55,2.4;stroke-dashoffset:0;stroke-width:1.5;\"/>\n   </g>\n   <g id=\"line2d_76\">\n    <path clip-path=\"url(#pa7face5ee1)\" d=\"M 47.360085 72.119537 \nL 50.983462 59.912146 \nL 54.606838 48.314628 \nL 58.230215 37.78934 \nL 61.853592 28.755892 \nL 65.476968 21.574419 \nL 69.100345 16.531223 \nL 72.723722 13.827361 \nL 76.347098 13.570628 \nL 79.970475 15.771258 \nL 83.593851 20.341519 \nL 87.217228 27.09921 \nL 90.840605 35.774922 \nL 94.463981 46.022783 \nL 98.087358 57.434242 \nL 101.710735 69.554361 \nL 105.334111 81.899948 \nL 108.957488 93.978825 \nL 112.580864 105.309443 \nL 116.204241 115.440089 \nL 119.827618 123.966884 \nL 123.450994 130.549892 \nL 127.074371 134.926669 \nL 130.697748 136.922727 \nL 134.321124 136.45849 \nL 137.944501 133.552465 \nL 141.567877 128.320507 \nL 145.191254 120.971196 \n\" style=\"fill:none;stroke:#1f77b4;stroke-linecap:square;stroke-width:1.5;\"/>\n   </g>\n   <g id=\"line2d_77\">\n    <path clip-path=\"url(#pa7face5ee1)\" d=\"M 54.606838 21.734435 \nL 72.723722 68.053524 \nL 90.840605 120.952157 \nL 108.957488 131.795574 \nL 127.074371 90.614388 \n\" style=\"fill:none;stroke:#ff7f0e;stroke-dasharray:5.55,2.4;stroke-dashoffset:0;stroke-width:1.5;\"/>\n   </g>\n   <g id=\"line2d_78\">\n    <path clip-path=\"url(#pa7face5ee1)\" d=\"M 47.360085 72.119537 \nL 50.983462 59.912146 \nL 54.606838 48.314628 \nL 58.230215 37.78934 \nL 61.853592 28.755892 \nL 65.476968 21.574419 \nL 69.100345 16.531223 \nL 72.723722 13.827361 \nL 76.347098 13.570628 \nL 79.970475 15.771258 \nL 83.593851 20.341519 \nL 87.217228 27.09921 \nL 90.840605 35.774922 \nL 94.463981 46.022783 \nL 98.087358 57.434242 \nL 101.710735 69.554361 \nL 105.334111 81.899948 \nL 108.957488 93.978825 \nL 112.580864 105.309443 \nL 116.204241 115.440089 \nL 119.827618 123.966884 \nL 123.450994 130.549892 \nL 127.074371 134.926669 \nL 130.697748 136.922727 \nL 134.321124 136.45849 \nL 137.944501 133.552465 \nL 141.567877 128.320507 \nL 145.191254 120.971196 \nL 148.814631 111.797527 \n\" style=\"fill:none;stroke:#1f77b4;stroke-linecap:square;stroke-width:1.5;\"/>\n   </g>\n   <g id=\"line2d_79\">\n    <path clip-path=\"url(#pa7face5ee1)\" d=\"M 54.606838 21.734435 \nL 72.723722 68.053524 \nL 90.840605 120.952157 \nL 108.957488 131.795574 \nL 127.074371 90.614388 \n\" style=\"fill:none;stroke:#ff7f0e;stroke-dasharray:5.55,2.4;stroke-dashoffset:0;stroke-width:1.5;\"/>\n   </g>\n   <g id=\"line2d_80\">\n    <path clip-path=\"url(#pa7face5ee1)\" d=\"M 47.360085 72.119537 \nL 50.983462 59.912146 \nL 54.606838 48.314628 \nL 58.230215 37.78934 \nL 61.853592 28.755892 \nL 65.476968 21.574419 \nL 69.100345 16.531223 \nL 72.723722 13.827361 \nL 76.347098 13.570628 \nL 79.970475 15.771258 \nL 83.593851 20.341519 \nL 87.217228 27.09921 \nL 90.840605 35.774922 \nL 94.463981 46.022783 \nL 98.087358 57.434242 \nL 101.710735 69.554361 \nL 105.334111 81.899948 \nL 108.957488 93.978825 \nL 112.580864 105.309443 \nL 116.204241 115.440089 \nL 119.827618 123.966884 \nL 123.450994 130.549892 \nL 127.074371 134.926669 \nL 130.697748 136.922727 \nL 134.321124 136.45849 \nL 137.944501 133.552465 \nL 141.567877 128.320507 \nL 145.191254 120.971196 \nL 148.814631 111.797527 \nL 152.438007 101.165225 \n\" style=\"fill:none;stroke:#1f77b4;stroke-linecap:square;stroke-width:1.5;\"/>\n   </g>\n   <g id=\"line2d_81\">\n    <path clip-path=\"url(#pa7face5ee1)\" d=\"M 54.606838 21.734435 \nL 72.723722 68.053524 \nL 90.840605 120.952157 \nL 108.957488 131.795574 \nL 127.074371 90.614388 \n\" style=\"fill:none;stroke:#ff7f0e;stroke-dasharray:5.55,2.4;stroke-dashoffset:0;stroke-width:1.5;\"/>\n   </g>\n   <g id=\"line2d_82\">\n    <path clip-path=\"url(#pa7face5ee1)\" d=\"M 47.360085 72.119537 \nL 50.983462 59.912146 \nL 54.606838 48.314628 \nL 58.230215 37.78934 \nL 61.853592 28.755892 \nL 65.476968 21.574419 \nL 69.100345 16.531223 \nL 72.723722 13.827361 \nL 76.347098 13.570628 \nL 79.970475 15.771258 \nL 83.593851 20.341519 \nL 87.217228 27.09921 \nL 90.840605 35.774922 \nL 94.463981 46.022783 \nL 98.087358 57.434242 \nL 101.710735 69.554361 \nL 105.334111 81.899948 \nL 108.957488 93.978825 \nL 112.580864 105.309443 \nL 116.204241 115.440089 \nL 119.827618 123.966884 \nL 123.450994 130.549892 \nL 127.074371 134.926669 \nL 130.697748 136.922727 \nL 134.321124 136.45849 \nL 137.944501 133.552465 \nL 141.567877 128.320507 \nL 145.191254 120.971196 \nL 148.814631 111.797527 \nL 152.438007 101.165225 \n\" style=\"fill:none;stroke:#1f77b4;stroke-linecap:square;stroke-width:1.5;\"/>\n   </g>\n   <g id=\"line2d_83\">\n    <path clip-path=\"url(#pa7face5ee1)\" d=\"M 54.606838 21.734435 \nL 72.723722 68.053524 \nL 90.840605 120.952157 \nL 108.957488 131.795574 \nL 127.074371 90.614388 \nL 145.191254 35.270391 \n\" style=\"fill:none;stroke:#ff7f0e;stroke-dasharray:5.55,2.4;stroke-dashoffset:0;stroke-width:1.5;\"/>\n   </g>\n   <g id=\"line2d_84\">\n    <path clip-path=\"url(#pa7face5ee1)\" d=\"M 47.360085 72.119537 \nL 50.983462 59.912146 \nL 54.606838 48.314628 \nL 58.230215 37.78934 \nL 61.853592 28.755892 \nL 65.476968 21.574419 \nL 69.100345 16.531223 \nL 72.723722 13.827361 \nL 76.347098 13.570628 \nL 79.970475 15.771258 \nL 83.593851 20.341519 \nL 87.217228 27.09921 \nL 90.840605 35.774922 \nL 94.463981 46.022783 \nL 98.087358 57.434242 \nL 101.710735 69.554361 \nL 105.334111 81.899948 \nL 108.957488 93.978825 \nL 112.580864 105.309443 \nL 116.204241 115.440089 \nL 119.827618 123.966884 \nL 123.450994 130.549892 \nL 127.074371 134.926669 \nL 130.697748 136.922727 \nL 134.321124 136.45849 \nL 137.944501 133.552465 \nL 141.567877 128.320507 \nL 145.191254 120.971196 \nL 148.814631 111.797527 \nL 152.438007 101.165225 \nL 156.061384 89.498166 \n\" style=\"fill:none;stroke:#1f77b4;stroke-linecap:square;stroke-width:1.5;\"/>\n   </g>\n   <g id=\"line2d_85\">\n    <path clip-path=\"url(#pa7face5ee1)\" d=\"M 54.606838 21.734435 \nL 72.723722 68.053524 \nL 90.840605 120.952157 \nL 108.957488 131.795574 \nL 127.074371 90.614388 \nL 145.191254 35.270391 \n\" style=\"fill:none;stroke:#ff7f0e;stroke-dasharray:5.55,2.4;stroke-dashoffset:0;stroke-width:1.5;\"/>\n   </g>\n   <g id=\"line2d_86\">\n    <path clip-path=\"url(#pa7face5ee1)\" d=\"M 47.360085 72.119537 \nL 50.983462 59.912146 \nL 54.606838 48.314628 \nL 58.230215 37.78934 \nL 61.853592 28.755892 \nL 65.476968 21.574419 \nL 69.100345 16.531223 \nL 72.723722 13.827361 \nL 76.347098 13.570628 \nL 79.970475 15.771258 \nL 83.593851 20.341519 \nL 87.217228 27.09921 \nL 90.840605 35.774922 \nL 94.463981 46.022783 \nL 98.087358 57.434242 \nL 101.710735 69.554361 \nL 105.334111 81.899948 \nL 108.957488 93.978825 \nL 112.580864 105.309443 \nL 116.204241 115.440089 \nL 119.827618 123.966884 \nL 123.450994 130.549892 \nL 127.074371 134.926669 \nL 130.697748 136.922727 \nL 134.321124 136.45849 \nL 137.944501 133.552465 \nL 141.567877 128.320507 \nL 145.191254 120.971196 \nL 148.814631 111.797527 \nL 152.438007 101.165225 \nL 156.061384 89.498166 \nL 159.684761 77.26148 \n\" style=\"fill:none;stroke:#1f77b4;stroke-linecap:square;stroke-width:1.5;\"/>\n   </g>\n   <g id=\"line2d_87\">\n    <path clip-path=\"url(#pa7face5ee1)\" d=\"M 54.606838 21.734435 \nL 72.723722 68.053524 \nL 90.840605 120.952157 \nL 108.957488 131.795574 \nL 127.074371 90.614388 \nL 145.191254 35.270391 \n\" style=\"fill:none;stroke:#ff7f0e;stroke-dasharray:5.55,2.4;stroke-dashoffset:0;stroke-width:1.5;\"/>\n   </g>\n   <g id=\"line2d_88\">\n    <path clip-path=\"url(#pa7face5ee1)\" d=\"M 47.360085 72.119537 \nL 50.983462 59.912146 \nL 54.606838 48.314628 \nL 58.230215 37.78934 \nL 61.853592 28.755892 \nL 65.476968 21.574419 \nL 69.100345 16.531223 \nL 72.723722 13.827361 \nL 76.347098 13.570628 \nL 79.970475 15.771258 \nL 83.593851 20.341519 \nL 87.217228 27.09921 \nL 90.840605 35.774922 \nL 94.463981 46.022783 \nL 98.087358 57.434242 \nL 101.710735 69.554361 \nL 105.334111 81.899948 \nL 108.957488 93.978825 \nL 112.580864 105.309443 \nL 116.204241 115.440089 \nL 119.827618 123.966884 \nL 123.450994 130.549892 \nL 127.074371 134.926669 \nL 130.697748 136.922727 \nL 134.321124 136.45849 \nL 137.944501 133.552465 \nL 141.567877 128.320507 \nL 145.191254 120.971196 \nL 148.814631 111.797527 \nL 152.438007 101.165225 \nL 156.061384 89.498166 \nL 159.684761 77.26148 \nL 163.308137 64.943003 \n\" style=\"fill:none;stroke:#1f77b4;stroke-linecap:square;stroke-width:1.5;\"/>\n   </g>\n   <g id=\"line2d_89\">\n    <path clip-path=\"url(#pa7face5ee1)\" d=\"M 54.606838 21.734435 \nL 72.723722 68.053524 \nL 90.840605 120.952157 \nL 108.957488 131.795574 \nL 127.074371 90.614388 \nL 145.191254 35.270391 \n\" style=\"fill:none;stroke:#ff7f0e;stroke-dasharray:5.55,2.4;stroke-dashoffset:0;stroke-width:1.5;\"/>\n   </g>\n   <g id=\"line2d_90\">\n    <path clip-path=\"url(#pa7face5ee1)\" d=\"M 47.360085 72.119537 \nL 50.983462 59.912146 \nL 54.606838 48.314628 \nL 58.230215 37.78934 \nL 61.853592 28.755892 \nL 65.476968 21.574419 \nL 69.100345 16.531223 \nL 72.723722 13.827361 \nL 76.347098 13.570628 \nL 79.970475 15.771258 \nL 83.593851 20.341519 \nL 87.217228 27.09921 \nL 90.840605 35.774922 \nL 94.463981 46.022783 \nL 98.087358 57.434242 \nL 101.710735 69.554361 \nL 105.334111 81.899948 \nL 108.957488 93.978825 \nL 112.580864 105.309443 \nL 116.204241 115.440089 \nL 119.827618 123.966884 \nL 123.450994 130.549892 \nL 127.074371 134.926669 \nL 130.697748 136.922727 \nL 134.321124 136.45849 \nL 137.944501 133.552465 \nL 141.567877 128.320507 \nL 145.191254 120.971196 \nL 148.814631 111.797527 \nL 152.438007 101.165225 \nL 156.061384 89.498166 \nL 159.684761 77.26148 \nL 163.308137 64.943003 \nL 166.931514 53.033836 \n\" style=\"fill:none;stroke:#1f77b4;stroke-linecap:square;stroke-width:1.5;\"/>\n   </g>\n   <g id=\"line2d_91\">\n    <path clip-path=\"url(#pa7face5ee1)\" d=\"M 54.606838 21.734435 \nL 72.723722 68.053524 \nL 90.840605 120.952157 \nL 108.957488 131.795574 \nL 127.074371 90.614388 \nL 145.191254 35.270391 \n\" style=\"fill:none;stroke:#ff7f0e;stroke-dasharray:5.55,2.4;stroke-dashoffset:0;stroke-width:1.5;\"/>\n   </g>\n   <g id=\"line2d_92\">\n    <path clip-path=\"url(#pa7face5ee1)\" d=\"M 47.360085 72.119537 \nL 50.983462 59.912146 \nL 54.606838 48.314628 \nL 58.230215 37.78934 \nL 61.853592 28.755892 \nL 65.476968 21.574419 \nL 69.100345 16.531223 \nL 72.723722 13.827361 \nL 76.347098 13.570628 \nL 79.970475 15.771258 \nL 83.593851 20.341519 \nL 87.217228 27.09921 \nL 90.840605 35.774922 \nL 94.463981 46.022783 \nL 98.087358 57.434242 \nL 101.710735 69.554361 \nL 105.334111 81.899948 \nL 108.957488 93.978825 \nL 112.580864 105.309443 \nL 116.204241 115.440089 \nL 119.827618 123.966884 \nL 123.450994 130.549892 \nL 127.074371 134.926669 \nL 130.697748 136.922727 \nL 134.321124 136.45849 \nL 137.944501 133.552465 \nL 141.567877 128.320507 \nL 145.191254 120.971196 \nL 148.814631 111.797527 \nL 152.438007 101.165225 \nL 156.061384 89.498166 \nL 159.684761 77.26148 \nL 163.308137 64.943003 \nL 166.931514 53.033836 \nL 170.55489 42.008758 \n\" style=\"fill:none;stroke:#1f77b4;stroke-linecap:square;stroke-width:1.5;\"/>\n   </g>\n   <g id=\"line2d_93\">\n    <path clip-path=\"url(#pa7face5ee1)\" d=\"M 54.606838 21.734435 \nL 72.723722 68.053524 \nL 90.840605 120.952157 \nL 108.957488 131.795574 \nL 127.074371 90.614388 \nL 145.191254 35.270391 \n\" style=\"fill:none;stroke:#ff7f0e;stroke-dasharray:5.55,2.4;stroke-dashoffset:0;stroke-width:1.5;\"/>\n   </g>\n   <g id=\"line2d_94\">\n    <path clip-path=\"url(#pa7face5ee1)\" d=\"M 47.360085 72.119537 \nL 50.983462 59.912146 \nL 54.606838 48.314628 \nL 58.230215 37.78934 \nL 61.853592 28.755892 \nL 65.476968 21.574419 \nL 69.100345 16.531223 \nL 72.723722 13.827361 \nL 76.347098 13.570628 \nL 79.970475 15.771258 \nL 83.593851 20.341519 \nL 87.217228 27.09921 \nL 90.840605 35.774922 \nL 94.463981 46.022783 \nL 98.087358 57.434242 \nL 101.710735 69.554361 \nL 105.334111 81.899948 \nL 108.957488 93.978825 \nL 112.580864 105.309443 \nL 116.204241 115.440089 \nL 119.827618 123.966884 \nL 123.450994 130.549892 \nL 127.074371 134.926669 \nL 130.697748 136.922727 \nL 134.321124 136.45849 \nL 137.944501 133.552465 \nL 141.567877 128.320507 \nL 145.191254 120.971196 \nL 148.814631 111.797527 \nL 152.438007 101.165225 \nL 156.061384 89.498166 \nL 159.684761 77.26148 \nL 163.308137 64.943003 \nL 166.931514 53.033836 \nL 170.55489 42.008758 \n\" style=\"fill:none;stroke:#1f77b4;stroke-linecap:square;stroke-width:1.5;\"/>\n   </g>\n   <g id=\"line2d_95\">\n    <path clip-path=\"url(#pa7face5ee1)\" d=\"M 54.606838 21.734435 \nL 72.723722 68.053524 \nL 90.840605 120.952157 \nL 108.957488 131.795574 \nL 127.074371 90.614388 \nL 145.191254 35.270391 \nL 163.308137 16.646599 \n\" style=\"fill:none;stroke:#ff7f0e;stroke-dasharray:5.55,2.4;stroke-dashoffset:0;stroke-width:1.5;\"/>\n   </g>\n   <g id=\"line2d_96\">\n    <path clip-path=\"url(#pa7face5ee1)\" d=\"M 47.360085 72.119537 \nL 50.983462 59.912146 \nL 54.606838 48.314628 \nL 58.230215 37.78934 \nL 61.853592 28.755892 \nL 65.476968 21.574419 \nL 69.100345 16.531223 \nL 72.723722 13.827361 \nL 76.347098 13.570628 \nL 79.970475 15.771258 \nL 83.593851 20.341519 \nL 87.217228 27.09921 \nL 90.840605 35.774922 \nL 94.463981 46.022783 \nL 98.087358 57.434242 \nL 101.710735 69.554361 \nL 105.334111 81.899948 \nL 108.957488 93.978825 \nL 112.580864 105.309443 \nL 116.204241 115.440089 \nL 119.827618 123.966884 \nL 123.450994 130.549892 \nL 127.074371 134.926669 \nL 130.697748 136.922727 \nL 134.321124 136.45849 \nL 137.944501 133.552465 \nL 141.567877 128.320507 \nL 145.191254 120.971196 \nL 148.814631 111.797527 \nL 152.438007 101.165225 \nL 156.061384 89.498166 \nL 159.684761 77.26148 \nL 163.308137 64.943003 \nL 166.931514 53.033836 \nL 170.55489 42.008758 \nL 174.178267 32.307306 \n\" style=\"fill:none;stroke:#1f77b4;stroke-linecap:square;stroke-width:1.5;\"/>\n   </g>\n   <g id=\"line2d_97\">\n    <path clip-path=\"url(#pa7face5ee1)\" d=\"M 54.606838 21.734435 \nL 72.723722 68.053524 \nL 90.840605 120.952157 \nL 108.957488 131.795574 \nL 127.074371 90.614388 \nL 145.191254 35.270391 \nL 163.308137 16.646599 \n\" style=\"fill:none;stroke:#ff7f0e;stroke-dasharray:5.55,2.4;stroke-dashoffset:0;stroke-width:1.5;\"/>\n   </g>\n   <g id=\"line2d_98\">\n    <path clip-path=\"url(#pa7face5ee1)\" d=\"M 47.360085 72.119537 \nL 50.983462 59.912146 \nL 54.606838 48.314628 \nL 58.230215 37.78934 \nL 61.853592 28.755892 \nL 65.476968 21.574419 \nL 69.100345 16.531223 \nL 72.723722 13.827361 \nL 76.347098 13.570628 \nL 79.970475 15.771258 \nL 83.593851 20.341519 \nL 87.217228 27.09921 \nL 90.840605 35.774922 \nL 94.463981 46.022783 \nL 98.087358 57.434242 \nL 101.710735 69.554361 \nL 105.334111 81.899948 \nL 108.957488 93.978825 \nL 112.580864 105.309443 \nL 116.204241 115.440089 \nL 119.827618 123.966884 \nL 123.450994 130.549892 \nL 127.074371 134.926669 \nL 130.697748 136.922727 \nL 134.321124 136.45849 \nL 137.944501 133.552465 \nL 141.567877 128.320507 \nL 145.191254 120.971196 \nL 148.814631 111.797527 \nL 152.438007 101.165225 \nL 156.061384 89.498166 \nL 159.684761 77.26148 \nL 163.308137 64.943003 \nL 166.931514 53.033836 \nL 170.55489 42.008758 \nL 174.178267 32.307306 \nL 177.801644 24.316244 \n\" style=\"fill:none;stroke:#1f77b4;stroke-linecap:square;stroke-width:1.5;\"/>\n   </g>\n   <g id=\"line2d_99\">\n    <path clip-path=\"url(#pa7face5ee1)\" d=\"M 54.606838 21.734435 \nL 72.723722 68.053524 \nL 90.840605 120.952157 \nL 108.957488 131.795574 \nL 127.074371 90.614388 \nL 145.191254 35.270391 \nL 163.308137 16.646599 \n\" style=\"fill:none;stroke:#ff7f0e;stroke-dasharray:5.55,2.4;stroke-dashoffset:0;stroke-width:1.5;\"/>\n   </g>\n   <g id=\"line2d_100\">\n    <path clip-path=\"url(#pa7face5ee1)\" d=\"M 47.360085 72.119537 \nL 50.983462 59.912146 \nL 54.606838 48.314628 \nL 58.230215 37.78934 \nL 61.853592 28.755892 \nL 65.476968 21.574419 \nL 69.100345 16.531223 \nL 72.723722 13.827361 \nL 76.347098 13.570628 \nL 79.970475 15.771258 \nL 83.593851 20.341519 \nL 87.217228 27.09921 \nL 90.840605 35.774922 \nL 94.463981 46.022783 \nL 98.087358 57.434242 \nL 101.710735 69.554361 \nL 105.334111 81.899948 \nL 108.957488 93.978825 \nL 112.580864 105.309443 \nL 116.204241 115.440089 \nL 119.827618 123.966884 \nL 123.450994 130.549892 \nL 127.074371 134.926669 \nL 130.697748 136.922727 \nL 134.321124 136.45849 \nL 137.944501 133.552465 \nL 141.567877 128.320507 \nL 145.191254 120.971196 \nL 148.814631 111.797527 \nL 152.438007 101.165225 \nL 156.061384 89.498166 \nL 159.684761 77.26148 \nL 163.308137 64.943003 \nL 166.931514 53.033836 \nL 170.55489 42.008758 \nL 174.178267 32.307306 \nL 177.801644 24.316244 \nL 181.42502 18.354153 \n\" style=\"fill:none;stroke:#1f77b4;stroke-linecap:square;stroke-width:1.5;\"/>\n   </g>\n   <g id=\"line2d_101\">\n    <path clip-path=\"url(#pa7face5ee1)\" d=\"M 54.606838 21.734435 \nL 72.723722 68.053524 \nL 90.840605 120.952157 \nL 108.957488 131.795574 \nL 127.074371 90.614388 \nL 145.191254 35.270391 \nL 163.308137 16.646599 \n\" style=\"fill:none;stroke:#ff7f0e;stroke-dasharray:5.55,2.4;stroke-dashoffset:0;stroke-width:1.5;\"/>\n   </g>\n   <g id=\"line2d_102\">\n    <path clip-path=\"url(#pa7face5ee1)\" d=\"M 47.360085 72.119537 \nL 50.983462 59.912146 \nL 54.606838 48.314628 \nL 58.230215 37.78934 \nL 61.853592 28.755892 \nL 65.476968 21.574419 \nL 69.100345 16.531223 \nL 72.723722 13.827361 \nL 76.347098 13.570628 \nL 79.970475 15.771258 \nL 83.593851 20.341519 \nL 87.217228 27.09921 \nL 90.840605 35.774922 \nL 94.463981 46.022783 \nL 98.087358 57.434242 \nL 101.710735 69.554361 \nL 105.334111 81.899948 \nL 108.957488 93.978825 \nL 112.580864 105.309443 \nL 116.204241 115.440089 \nL 119.827618 123.966884 \nL 123.450994 130.549892 \nL 127.074371 134.926669 \nL 130.697748 136.922727 \nL 134.321124 136.45849 \nL 137.944501 133.552465 \nL 141.567877 128.320507 \nL 145.191254 120.971196 \nL 148.814631 111.797527 \nL 152.438007 101.165225 \nL 156.061384 89.498166 \nL 159.684761 77.26148 \nL 163.308137 64.943003 \nL 166.931514 53.033836 \nL 170.55489 42.008758 \nL 174.178267 32.307306 \nL 177.801644 24.316244 \nL 181.42502 18.354153 \nL 185.048397 14.65872 \n\" style=\"fill:none;stroke:#1f77b4;stroke-linecap:square;stroke-width:1.5;\"/>\n   </g>\n   <g id=\"line2d_103\">\n    <path clip-path=\"url(#pa7face5ee1)\" d=\"M 54.606838 21.734435 \nL 72.723722 68.053524 \nL 90.840605 120.952157 \nL 108.957488 131.795574 \nL 127.074371 90.614388 \nL 145.191254 35.270391 \nL 163.308137 16.646599 \n\" style=\"fill:none;stroke:#ff7f0e;stroke-dasharray:5.55,2.4;stroke-dashoffset:0;stroke-width:1.5;\"/>\n   </g>\n   <g id=\"line2d_104\">\n    <path clip-path=\"url(#pa7face5ee1)\" d=\"M 47.360085 72.119537 \nL 50.983462 59.912146 \nL 54.606838 48.314628 \nL 58.230215 37.78934 \nL 61.853592 28.755892 \nL 65.476968 21.574419 \nL 69.100345 16.531223 \nL 72.723722 13.827361 \nL 76.347098 13.570628 \nL 79.970475 15.771258 \nL 83.593851 20.341519 \nL 87.217228 27.09921 \nL 90.840605 35.774922 \nL 94.463981 46.022783 \nL 98.087358 57.434242 \nL 101.710735 69.554361 \nL 105.334111 81.899948 \nL 108.957488 93.978825 \nL 112.580864 105.309443 \nL 116.204241 115.440089 \nL 119.827618 123.966884 \nL 123.450994 130.549892 \nL 127.074371 134.926669 \nL 130.697748 136.922727 \nL 134.321124 136.45849 \nL 137.944501 133.552465 \nL 141.567877 128.320507 \nL 145.191254 120.971196 \nL 148.814631 111.797527 \nL 152.438007 101.165225 \nL 156.061384 89.498166 \nL 159.684761 77.26148 \nL 163.308137 64.943003 \nL 166.931514 53.033836 \nL 170.55489 42.008758 \nL 174.178267 32.307306 \nL 177.801644 24.316244 \nL 181.42502 18.354153 \nL 185.048397 14.65872 \nL 188.671774 13.377273 \n\" style=\"fill:none;stroke:#1f77b4;stroke-linecap:square;stroke-width:1.5;\"/>\n   </g>\n   <g id=\"line2d_105\">\n    <path clip-path=\"url(#pa7face5ee1)\" d=\"M 54.606838 21.734435 \nL 72.723722 68.053524 \nL 90.840605 120.952157 \nL 108.957488 131.795574 \nL 127.074371 90.614388 \nL 145.191254 35.270391 \nL 163.308137 16.646599 \n\" style=\"fill:none;stroke:#ff7f0e;stroke-dasharray:5.55,2.4;stroke-dashoffset:0;stroke-width:1.5;\"/>\n   </g>\n   <g id=\"line2d_106\">\n    <path clip-path=\"url(#pa7face5ee1)\" d=\"M 47.360085 72.119537 \nL 50.983462 59.912146 \nL 54.606838 48.314628 \nL 58.230215 37.78934 \nL 61.853592 28.755892 \nL 65.476968 21.574419 \nL 69.100345 16.531223 \nL 72.723722 13.827361 \nL 76.347098 13.570628 \nL 79.970475 15.771258 \nL 83.593851 20.341519 \nL 87.217228 27.09921 \nL 90.840605 35.774922 \nL 94.463981 46.022783 \nL 98.087358 57.434242 \nL 101.710735 69.554361 \nL 105.334111 81.899948 \nL 108.957488 93.978825 \nL 112.580864 105.309443 \nL 116.204241 115.440089 \nL 119.827618 123.966884 \nL 123.450994 130.549892 \nL 127.074371 134.926669 \nL 130.697748 136.922727 \nL 134.321124 136.45849 \nL 137.944501 133.552465 \nL 141.567877 128.320507 \nL 145.191254 120.971196 \nL 148.814631 111.797527 \nL 152.438007 101.165225 \nL 156.061384 89.498166 \nL 159.684761 77.26148 \nL 163.308137 64.943003 \nL 166.931514 53.033836 \nL 170.55489 42.008758 \nL 174.178267 32.307306 \nL 177.801644 24.316244 \nL 181.42502 18.354153 \nL 185.048397 14.65872 \nL 188.671774 13.377273 \n\" style=\"fill:none;stroke:#1f77b4;stroke-linecap:square;stroke-width:1.5;\"/>\n   </g>\n   <g id=\"line2d_107\">\n    <path clip-path=\"url(#pa7face5ee1)\" d=\"M 54.606838 21.734435 \nL 72.723722 68.053524 \nL 90.840605 120.952157 \nL 108.957488 131.795574 \nL 127.074371 90.614388 \nL 145.191254 35.270391 \nL 163.308137 16.646599 \nL 181.42502 51.865641 \n\" style=\"fill:none;stroke:#ff7f0e;stroke-dasharray:5.55,2.4;stroke-dashoffset:0;stroke-width:1.5;\"/>\n   </g>\n   <g id=\"line2d_108\">\n    <path clip-path=\"url(#pa7face5ee1)\" d=\"M 47.360085 72.119537 \nL 50.983462 59.912146 \nL 54.606838 48.314628 \nL 58.230215 37.78934 \nL 61.853592 28.755892 \nL 65.476968 21.574419 \nL 69.100345 16.531223 \nL 72.723722 13.827361 \nL 76.347098 13.570628 \nL 79.970475 15.771258 \nL 83.593851 20.341519 \nL 87.217228 27.09921 \nL 90.840605 35.774922 \nL 94.463981 46.022783 \nL 98.087358 57.434242 \nL 101.710735 69.554361 \nL 105.334111 81.899948 \nL 108.957488 93.978825 \nL 112.580864 105.309443 \nL 116.204241 115.440089 \nL 119.827618 123.966884 \nL 123.450994 130.549892 \nL 127.074371 134.926669 \nL 130.697748 136.922727 \nL 134.321124 136.45849 \nL 137.944501 133.552465 \nL 141.567877 128.320507 \nL 145.191254 120.971196 \nL 148.814631 111.797527 \nL 152.438007 101.165225 \nL 156.061384 89.498166 \nL 159.684761 77.26148 \nL 163.308137 64.943003 \nL 166.931514 53.033836 \nL 170.55489 42.008758 \nL 174.178267 32.307306 \nL 177.801644 24.316244 \nL 181.42502 18.354153 \nL 185.048397 14.65872 \nL 188.671774 13.377273 \nL 192.29515 14.560897 \n\" style=\"fill:none;stroke:#1f77b4;stroke-linecap:square;stroke-width:1.5;\"/>\n   </g>\n   <g id=\"line2d_109\">\n    <path clip-path=\"url(#pa7face5ee1)\" d=\"M 54.606838 21.734435 \nL 72.723722 68.053524 \nL 90.840605 120.952157 \nL 108.957488 131.795574 \nL 127.074371 90.614388 \nL 145.191254 35.270391 \nL 163.308137 16.646599 \nL 181.42502 51.865641 \n\" style=\"fill:none;stroke:#ff7f0e;stroke-dasharray:5.55,2.4;stroke-dashoffset:0;stroke-width:1.5;\"/>\n   </g>\n   <g id=\"line2d_110\">\n    <path clip-path=\"url(#pa7face5ee1)\" d=\"M 47.360085 72.119537 \nL 50.983462 59.912146 \nL 54.606838 48.314628 \nL 58.230215 37.78934 \nL 61.853592 28.755892 \nL 65.476968 21.574419 \nL 69.100345 16.531223 \nL 72.723722 13.827361 \nL 76.347098 13.570628 \nL 79.970475 15.771258 \nL 83.593851 20.341519 \nL 87.217228 27.09921 \nL 90.840605 35.774922 \nL 94.463981 46.022783 \nL 98.087358 57.434242 \nL 101.710735 69.554361 \nL 105.334111 81.899948 \nL 108.957488 93.978825 \nL 112.580864 105.309443 \nL 116.204241 115.440089 \nL 119.827618 123.966884 \nL 123.450994 130.549892 \nL 127.074371 134.926669 \nL 130.697748 136.922727 \nL 134.321124 136.45849 \nL 137.944501 133.552465 \nL 141.567877 128.320507 \nL 145.191254 120.971196 \nL 148.814631 111.797527 \nL 152.438007 101.165225 \nL 156.061384 89.498166 \nL 159.684761 77.26148 \nL 163.308137 64.943003 \nL 166.931514 53.033836 \nL 170.55489 42.008758 \nL 174.178267 32.307306 \nL 177.801644 24.316244 \nL 181.42502 18.354153 \nL 185.048397 14.65872 \nL 188.671774 13.377273 \nL 192.29515 14.560897 \nL 195.918527 18.162406 \n\" style=\"fill:none;stroke:#1f77b4;stroke-linecap:square;stroke-width:1.5;\"/>\n   </g>\n   <g id=\"line2d_111\">\n    <path clip-path=\"url(#pa7face5ee1)\" d=\"M 54.606838 21.734435 \nL 72.723722 68.053524 \nL 90.840605 120.952157 \nL 108.957488 131.795574 \nL 127.074371 90.614388 \nL 145.191254 35.270391 \nL 163.308137 16.646599 \nL 181.42502 51.865641 \n\" style=\"fill:none;stroke:#ff7f0e;stroke-dasharray:5.55,2.4;stroke-dashoffset:0;stroke-width:1.5;\"/>\n   </g>\n   <g id=\"line2d_112\">\n    <path clip-path=\"url(#pa7face5ee1)\" d=\"M 47.360085 72.119537 \nL 50.983462 59.912146 \nL 54.606838 48.314628 \nL 58.230215 37.78934 \nL 61.853592 28.755892 \nL 65.476968 21.574419 \nL 69.100345 16.531223 \nL 72.723722 13.827361 \nL 76.347098 13.570628 \nL 79.970475 15.771258 \nL 83.593851 20.341519 \nL 87.217228 27.09921 \nL 90.840605 35.774922 \nL 94.463981 46.022783 \nL 98.087358 57.434242 \nL 101.710735 69.554361 \nL 105.334111 81.899948 \nL 108.957488 93.978825 \nL 112.580864 105.309443 \nL 116.204241 115.440089 \nL 119.827618 123.966884 \nL 123.450994 130.549892 \nL 127.074371 134.926669 \nL 130.697748 136.922727 \nL 134.321124 136.45849 \nL 137.944501 133.552465 \nL 141.567877 128.320507 \nL 145.191254 120.971196 \nL 148.814631 111.797527 \nL 152.438007 101.165225 \nL 156.061384 89.498166 \nL 159.684761 77.26148 \nL 163.308137 64.943003 \nL 166.931514 53.033836 \nL 170.55489 42.008758 \nL 174.178267 32.307306 \nL 177.801644 24.316244 \nL 181.42502 18.354153 \nL 185.048397 14.65872 \nL 188.671774 13.377273 \nL 192.29515 14.560897 \nL 195.918527 18.162406 \nL 199.541903 24.038219 \n\" style=\"fill:none;stroke:#1f77b4;stroke-linecap:square;stroke-width:1.5;\"/>\n   </g>\n   <g id=\"line2d_113\">\n    <path clip-path=\"url(#pa7face5ee1)\" d=\"M 54.606838 21.734435 \nL 72.723722 68.053524 \nL 90.840605 120.952157 \nL 108.957488 131.795574 \nL 127.074371 90.614388 \nL 145.191254 35.270391 \nL 163.308137 16.646599 \nL 181.42502 51.865641 \n\" style=\"fill:none;stroke:#ff7f0e;stroke-dasharray:5.55,2.4;stroke-dashoffset:0;stroke-width:1.5;\"/>\n   </g>\n   <g id=\"line2d_114\">\n    <path clip-path=\"url(#pa7face5ee1)\" d=\"M 47.360085 72.119537 \nL 50.983462 59.912146 \nL 54.606838 48.314628 \nL 58.230215 37.78934 \nL 61.853592 28.755892 \nL 65.476968 21.574419 \nL 69.100345 16.531223 \nL 72.723722 13.827361 \nL 76.347098 13.570628 \nL 79.970475 15.771258 \nL 83.593851 20.341519 \nL 87.217228 27.09921 \nL 90.840605 35.774922 \nL 94.463981 46.022783 \nL 98.087358 57.434242 \nL 101.710735 69.554361 \nL 105.334111 81.899948 \nL 108.957488 93.978825 \nL 112.580864 105.309443 \nL 116.204241 115.440089 \nL 119.827618 123.966884 \nL 123.450994 130.549892 \nL 127.074371 134.926669 \nL 130.697748 136.922727 \nL 134.321124 136.45849 \nL 137.944501 133.552465 \nL 141.567877 128.320507 \nL 145.191254 120.971196 \nL 148.814631 111.797527 \nL 152.438007 101.165225 \nL 156.061384 89.498166 \nL 159.684761 77.26148 \nL 163.308137 64.943003 \nL 166.931514 53.033836 \nL 170.55489 42.008758 \nL 174.178267 32.307306 \nL 177.801644 24.316244 \nL 181.42502 18.354153 \nL 185.048397 14.65872 \nL 188.671774 13.377273 \nL 192.29515 14.560897 \nL 195.918527 18.162406 \nL 199.541903 24.038219 \nL 203.16528 31.954085 \n\" style=\"fill:none;stroke:#1f77b4;stroke-linecap:square;stroke-width:1.5;\"/>\n   </g>\n   <g id=\"line2d_115\">\n    <path clip-path=\"url(#pa7face5ee1)\" d=\"M 54.606838 21.734435 \nL 72.723722 68.053524 \nL 90.840605 120.952157 \nL 108.957488 131.795574 \nL 127.074371 90.614388 \nL 145.191254 35.270391 \nL 163.308137 16.646599 \nL 181.42502 51.865641 \n\" style=\"fill:none;stroke:#ff7f0e;stroke-dasharray:5.55,2.4;stroke-dashoffset:0;stroke-width:1.5;\"/>\n   </g>\n   <g id=\"line2d_116\">\n    <path clip-path=\"url(#pa7face5ee1)\" d=\"M 47.360085 72.119537 \nL 50.983462 59.912146 \nL 54.606838 48.314628 \nL 58.230215 37.78934 \nL 61.853592 28.755892 \nL 65.476968 21.574419 \nL 69.100345 16.531223 \nL 72.723722 13.827361 \nL 76.347098 13.570628 \nL 79.970475 15.771258 \nL 83.593851 20.341519 \nL 87.217228 27.09921 \nL 90.840605 35.774922 \nL 94.463981 46.022783 \nL 98.087358 57.434242 \nL 101.710735 69.554361 \nL 105.334111 81.899948 \nL 108.957488 93.978825 \nL 112.580864 105.309443 \nL 116.204241 115.440089 \nL 119.827618 123.966884 \nL 123.450994 130.549892 \nL 127.074371 134.926669 \nL 130.697748 136.922727 \nL 134.321124 136.45849 \nL 137.944501 133.552465 \nL 141.567877 128.320507 \nL 145.191254 120.971196 \nL 148.814631 111.797527 \nL 152.438007 101.165225 \nL 156.061384 89.498166 \nL 159.684761 77.26148 \nL 163.308137 64.943003 \nL 166.931514 53.033836 \nL 170.55489 42.008758 \nL 174.178267 32.307306 \nL 177.801644 24.316244 \nL 181.42502 18.354153 \nL 185.048397 14.65872 \nL 188.671774 13.377273 \nL 192.29515 14.560897 \nL 195.918527 18.162406 \nL 199.541903 24.038219 \nL 203.16528 31.954085 \nL 206.788657 41.594424 \n\" style=\"fill:none;stroke:#1f77b4;stroke-linecap:square;stroke-width:1.5;\"/>\n   </g>\n   <g id=\"line2d_117\">\n    <path clip-path=\"url(#pa7face5ee1)\" d=\"M 54.606838 21.734435 \nL 72.723722 68.053524 \nL 90.840605 120.952157 \nL 108.957488 131.795574 \nL 127.074371 90.614388 \nL 145.191254 35.270391 \nL 163.308137 16.646599 \nL 181.42502 51.865641 \n\" style=\"fill:none;stroke:#ff7f0e;stroke-dasharray:5.55,2.4;stroke-dashoffset:0;stroke-width:1.5;\"/>\n   </g>\n   <g id=\"line2d_118\">\n    <path clip-path=\"url(#pa7face5ee1)\" d=\"M 47.360085 72.119537 \nL 50.983462 59.912146 \nL 54.606838 48.314628 \nL 58.230215 37.78934 \nL 61.853592 28.755892 \nL 65.476968 21.574419 \nL 69.100345 16.531223 \nL 72.723722 13.827361 \nL 76.347098 13.570628 \nL 79.970475 15.771258 \nL 83.593851 20.341519 \nL 87.217228 27.09921 \nL 90.840605 35.774922 \nL 94.463981 46.022783 \nL 98.087358 57.434242 \nL 101.710735 69.554361 \nL 105.334111 81.899948 \nL 108.957488 93.978825 \nL 112.580864 105.309443 \nL 116.204241 115.440089 \nL 119.827618 123.966884 \nL 123.450994 130.549892 \nL 127.074371 134.926669 \nL 130.697748 136.922727 \nL 134.321124 136.45849 \nL 137.944501 133.552465 \nL 141.567877 128.320507 \nL 145.191254 120.971196 \nL 148.814631 111.797527 \nL 152.438007 101.165225 \nL 156.061384 89.498166 \nL 159.684761 77.26148 \nL 163.308137 64.943003 \nL 166.931514 53.033836 \nL 170.55489 42.008758 \nL 174.178267 32.307306 \nL 177.801644 24.316244 \nL 181.42502 18.354153 \nL 185.048397 14.65872 \nL 188.671774 13.377273 \nL 192.29515 14.560897 \nL 195.918527 18.162406 \nL 199.541903 24.038219 \nL 203.16528 31.954085 \nL 206.788657 41.594424 \n\" style=\"fill:none;stroke:#1f77b4;stroke-linecap:square;stroke-width:1.5;\"/>\n   </g>\n   <g id=\"line2d_119\">\n    <path clip-path=\"url(#pa7face5ee1)\" d=\"M 54.606838 21.734435 \nL 72.723722 68.053524 \nL 90.840605 120.952157 \nL 108.957488 131.795574 \nL 127.074371 90.614388 \nL 145.191254 35.270391 \nL 163.308137 16.646599 \nL 181.42502 51.865641 \nL 199.541903 108.547291 \n\" style=\"fill:none;stroke:#ff7f0e;stroke-dasharray:5.55,2.4;stroke-dashoffset:0;stroke-width:1.5;\"/>\n   </g>\n   <g id=\"line2d_120\">\n    <path clip-path=\"url(#pa7face5ee1)\" d=\"M 47.360085 72.119537 \nL 50.983462 59.912146 \nL 54.606838 48.314628 \nL 58.230215 37.78934 \nL 61.853592 28.755892 \nL 65.476968 21.574419 \nL 69.100345 16.531223 \nL 72.723722 13.827361 \nL 76.347098 13.570628 \nL 79.970475 15.771258 \nL 83.593851 20.341519 \nL 87.217228 27.09921 \nL 90.840605 35.774922 \nL 94.463981 46.022783 \nL 98.087358 57.434242 \nL 101.710735 69.554361 \nL 105.334111 81.899948 \nL 108.957488 93.978825 \nL 112.580864 105.309443 \nL 116.204241 115.440089 \nL 119.827618 123.966884 \nL 123.450994 130.549892 \nL 127.074371 134.926669 \nL 130.697748 136.922727 \nL 134.321124 136.45849 \nL 137.944501 133.552465 \nL 141.567877 128.320507 \nL 145.191254 120.971196 \nL 148.814631 111.797527 \nL 152.438007 101.165225 \nL 156.061384 89.498166 \nL 159.684761 77.26148 \nL 163.308137 64.943003 \nL 166.931514 53.033836 \nL 170.55489 42.008758 \nL 174.178267 32.307306 \nL 177.801644 24.316244 \nL 181.42502 18.354153 \nL 185.048397 14.65872 \nL 188.671774 13.377273 \nL 192.29515 14.560897 \nL 195.918527 18.162406 \nL 199.541903 24.038219 \nL 203.16528 31.954085 \nL 206.788657 41.594424 \nL 210.412033 52.574907 \n\" style=\"fill:none;stroke:#1f77b4;stroke-linecap:square;stroke-width:1.5;\"/>\n   </g>\n   <g id=\"line2d_121\">\n    <path clip-path=\"url(#pa7face5ee1)\" d=\"M 54.606838 21.734435 \nL 72.723722 68.053524 \nL 90.840605 120.952157 \nL 108.957488 131.795574 \nL 127.074371 90.614388 \nL 145.191254 35.270391 \nL 163.308137 16.646599 \nL 181.42502 51.865641 \nL 199.541903 108.547291 \n\" style=\"fill:none;stroke:#ff7f0e;stroke-dasharray:5.55,2.4;stroke-dashoffset:0;stroke-width:1.5;\"/>\n   </g>\n   <g id=\"line2d_122\">\n    <path clip-path=\"url(#pa7face5ee1)\" d=\"M 47.360085 72.119537 \nL 50.983462 59.912146 \nL 54.606838 48.314628 \nL 58.230215 37.78934 \nL 61.853592 28.755892 \nL 65.476968 21.574419 \nL 69.100345 16.531223 \nL 72.723722 13.827361 \nL 76.347098 13.570628 \nL 79.970475 15.771258 \nL 83.593851 20.341519 \nL 87.217228 27.09921 \nL 90.840605 35.774922 \nL 94.463981 46.022783 \nL 98.087358 57.434242 \nL 101.710735 69.554361 \nL 105.334111 81.899948 \nL 108.957488 93.978825 \nL 112.580864 105.309443 \nL 116.204241 115.440089 \nL 119.827618 123.966884 \nL 123.450994 130.549892 \nL 127.074371 134.926669 \nL 130.697748 136.922727 \nL 134.321124 136.45849 \nL 137.944501 133.552465 \nL 141.567877 128.320507 \nL 145.191254 120.971196 \nL 148.814631 111.797527 \nL 152.438007 101.165225 \nL 156.061384 89.498166 \nL 159.684761 77.26148 \nL 163.308137 64.943003 \nL 166.931514 53.033836 \nL 170.55489 42.008758 \nL 174.178267 32.307306 \nL 177.801644 24.316244 \nL 181.42502 18.354153 \nL 185.048397 14.65872 \nL 188.671774 13.377273 \nL 192.29515 14.560897 \nL 195.918527 18.162406 \nL 199.541903 24.038219 \nL 203.16528 31.954085 \nL 206.788657 41.594424 \nL 210.412033 52.574907 \nL 214.03541 64.457775 \n\" style=\"fill:none;stroke:#1f77b4;stroke-linecap:square;stroke-width:1.5;\"/>\n   </g>\n   <g id=\"line2d_123\">\n    <path clip-path=\"url(#pa7face5ee1)\" d=\"M 54.606838 21.734435 \nL 72.723722 68.053524 \nL 90.840605 120.952157 \nL 108.957488 131.795574 \nL 127.074371 90.614388 \nL 145.191254 35.270391 \nL 163.308137 16.646599 \nL 181.42502 51.865641 \nL 199.541903 108.547291 \n\" style=\"fill:none;stroke:#ff7f0e;stroke-dasharray:5.55,2.4;stroke-dashoffset:0;stroke-width:1.5;\"/>\n   </g>\n   <g id=\"line2d_124\">\n    <path clip-path=\"url(#pa7face5ee1)\" d=\"M 47.360085 72.119537 \nL 50.983462 59.912146 \nL 54.606838 48.314628 \nL 58.230215 37.78934 \nL 61.853592 28.755892 \nL 65.476968 21.574419 \nL 69.100345 16.531223 \nL 72.723722 13.827361 \nL 76.347098 13.570628 \nL 79.970475 15.771258 \nL 83.593851 20.341519 \nL 87.217228 27.09921 \nL 90.840605 35.774922 \nL 94.463981 46.022783 \nL 98.087358 57.434242 \nL 101.710735 69.554361 \nL 105.334111 81.899948 \nL 108.957488 93.978825 \nL 112.580864 105.309443 \nL 116.204241 115.440089 \nL 119.827618 123.966884 \nL 123.450994 130.549892 \nL 127.074371 134.926669 \nL 130.697748 136.922727 \nL 134.321124 136.45849 \nL 137.944501 133.552465 \nL 141.567877 128.320507 \nL 145.191254 120.971196 \nL 148.814631 111.797527 \nL 152.438007 101.165225 \nL 156.061384 89.498166 \nL 159.684761 77.26148 \nL 163.308137 64.943003 \nL 166.931514 53.033836 \nL 170.55489 42.008758 \nL 174.178267 32.307306 \nL 177.801644 24.316244 \nL 181.42502 18.354153 \nL 185.048397 14.65872 \nL 188.671774 13.377273 \nL 192.29515 14.560897 \nL 195.918527 18.162406 \nL 199.541903 24.038219 \nL 203.16528 31.954085 \nL 206.788657 41.594424 \nL 210.412033 52.574907 \nL 214.03541 64.457775 \nL 217.658787 76.769297 \n\" style=\"fill:none;stroke:#1f77b4;stroke-linecap:square;stroke-width:1.5;\"/>\n   </g>\n   <g id=\"line2d_125\">\n    <path clip-path=\"url(#pa7face5ee1)\" d=\"M 54.606838 21.734435 \nL 72.723722 68.053524 \nL 90.840605 120.952157 \nL 108.957488 131.795574 \nL 127.074371 90.614388 \nL 145.191254 35.270391 \nL 163.308137 16.646599 \nL 181.42502 51.865641 \nL 199.541903 108.547291 \n\" style=\"fill:none;stroke:#ff7f0e;stroke-dasharray:5.55,2.4;stroke-dashoffset:0;stroke-width:1.5;\"/>\n   </g>\n   <g id=\"line2d_126\">\n    <path clip-path=\"url(#pa7face5ee1)\" d=\"M 47.360085 72.119537 \nL 50.983462 59.912146 \nL 54.606838 48.314628 \nL 58.230215 37.78934 \nL 61.853592 28.755892 \nL 65.476968 21.574419 \nL 69.100345 16.531223 \nL 72.723722 13.827361 \nL 76.347098 13.570628 \nL 79.970475 15.771258 \nL 83.593851 20.341519 \nL 87.217228 27.09921 \nL 90.840605 35.774922 \nL 94.463981 46.022783 \nL 98.087358 57.434242 \nL 101.710735 69.554361 \nL 105.334111 81.899948 \nL 108.957488 93.978825 \nL 112.580864 105.309443 \nL 116.204241 115.440089 \nL 119.827618 123.966884 \nL 123.450994 130.549892 \nL 127.074371 134.926669 \nL 130.697748 136.922727 \nL 134.321124 136.45849 \nL 137.944501 133.552465 \nL 141.567877 128.320507 \nL 145.191254 120.971196 \nL 148.814631 111.797527 \nL 152.438007 101.165225 \nL 156.061384 89.498166 \nL 159.684761 77.26148 \nL 163.308137 64.943003 \nL 166.931514 53.033836 \nL 170.55489 42.008758 \nL 174.178267 32.307306 \nL 177.801644 24.316244 \nL 181.42502 18.354153 \nL 185.048397 14.65872 \nL 188.671774 13.377273 \nL 192.29515 14.560897 \nL 195.918527 18.162406 \nL 199.541903 24.038219 \nL 203.16528 31.954085 \nL 206.788657 41.594424 \nL 210.412033 52.574907 \nL 214.03541 64.457775 \nL 217.658787 76.769297 \nL 221.282163 89.018651 \n\" style=\"fill:none;stroke:#1f77b4;stroke-linecap:square;stroke-width:1.5;\"/>\n   </g>\n   <g id=\"line2d_127\">\n    <path clip-path=\"url(#pa7face5ee1)\" d=\"M 54.606838 21.734435 \nL 72.723722 68.053524 \nL 90.840605 120.952157 \nL 108.957488 131.795574 \nL 127.074371 90.614388 \nL 145.191254 35.270391 \nL 163.308137 16.646599 \nL 181.42502 51.865641 \nL 199.541903 108.547291 \n\" style=\"fill:none;stroke:#ff7f0e;stroke-dasharray:5.55,2.4;stroke-dashoffset:0;stroke-width:1.5;\"/>\n   </g>\n   <g id=\"line2d_128\">\n    <path clip-path=\"url(#pa7face5ee1)\" d=\"M 47.360085 72.119537 \nL 50.983462 59.912146 \nL 54.606838 48.314628 \nL 58.230215 37.78934 \nL 61.853592 28.755892 \nL 65.476968 21.574419 \nL 69.100345 16.531223 \nL 72.723722 13.827361 \nL 76.347098 13.570628 \nL 79.970475 15.771258 \nL 83.593851 20.341519 \nL 87.217228 27.09921 \nL 90.840605 35.774922 \nL 94.463981 46.022783 \nL 98.087358 57.434242 \nL 101.710735 69.554361 \nL 105.334111 81.899948 \nL 108.957488 93.978825 \nL 112.580864 105.309443 \nL 116.204241 115.440089 \nL 119.827618 123.966884 \nL 123.450994 130.549892 \nL 127.074371 134.926669 \nL 130.697748 136.922727 \nL 134.321124 136.45849 \nL 137.944501 133.552465 \nL 141.567877 128.320507 \nL 145.191254 120.971196 \nL 148.814631 111.797527 \nL 152.438007 101.165225 \nL 156.061384 89.498166 \nL 159.684761 77.26148 \nL 163.308137 64.943003 \nL 166.931514 53.033836 \nL 170.55489 42.008758 \nL 174.178267 32.307306 \nL 177.801644 24.316244 \nL 181.42502 18.354153 \nL 185.048397 14.65872 \nL 188.671774 13.377273 \nL 192.29515 14.560897 \nL 195.918527 18.162406 \nL 199.541903 24.038219 \nL 203.16528 31.954085 \nL 206.788657 41.594424 \nL 210.412033 52.574907 \nL 214.03541 64.457775 \nL 217.658787 76.769297 \nL 221.282163 89.018651 \nL 224.90554 100.717494 \n\" style=\"fill:none;stroke:#1f77b4;stroke-linecap:square;stroke-width:1.5;\"/>\n   </g>\n   <g id=\"line2d_129\">\n    <path clip-path=\"url(#pa7face5ee1)\" d=\"M 54.606838 21.734435 \nL 72.723722 68.053524 \nL 90.840605 120.952157 \nL 108.957488 131.795574 \nL 127.074371 90.614388 \nL 145.191254 35.270391 \nL 163.308137 16.646599 \nL 181.42502 51.865641 \nL 199.541903 108.547291 \n\" style=\"fill:none;stroke:#ff7f0e;stroke-dasharray:5.55,2.4;stroke-dashoffset:0;stroke-width:1.5;\"/>\n   </g>\n   <g id=\"line2d_130\">\n    <path clip-path=\"url(#pa7face5ee1)\" d=\"M 47.360085 72.119537 \nL 50.983462 59.912146 \nL 54.606838 48.314628 \nL 58.230215 37.78934 \nL 61.853592 28.755892 \nL 65.476968 21.574419 \nL 69.100345 16.531223 \nL 72.723722 13.827361 \nL 76.347098 13.570628 \nL 79.970475 15.771258 \nL 83.593851 20.341519 \nL 87.217228 27.09921 \nL 90.840605 35.774922 \nL 94.463981 46.022783 \nL 98.087358 57.434242 \nL 101.710735 69.554361 \nL 105.334111 81.899948 \nL 108.957488 93.978825 \nL 112.580864 105.309443 \nL 116.204241 115.440089 \nL 119.827618 123.966884 \nL 123.450994 130.549892 \nL 127.074371 134.926669 \nL 130.697748 136.922727 \nL 134.321124 136.45849 \nL 137.944501 133.552465 \nL 141.567877 128.320507 \nL 145.191254 120.971196 \nL 148.814631 111.797527 \nL 152.438007 101.165225 \nL 156.061384 89.498166 \nL 159.684761 77.26148 \nL 163.308137 64.943003 \nL 166.931514 53.033836 \nL 170.55489 42.008758 \nL 174.178267 32.307306 \nL 177.801644 24.316244 \nL 181.42502 18.354153 \nL 185.048397 14.65872 \nL 188.671774 13.377273 \nL 192.29515 14.560897 \nL 195.918527 18.162406 \nL 199.541903 24.038219 \nL 203.16528 31.954085 \nL 206.788657 41.594424 \nL 210.412033 52.574907 \nL 214.03541 64.457775 \nL 217.658787 76.769297 \nL 221.282163 89.018651 \nL 224.90554 100.717494 \n\" style=\"fill:none;stroke:#1f77b4;stroke-linecap:square;stroke-width:1.5;\"/>\n   </g>\n   <g id=\"line2d_131\">\n    <path clip-path=\"url(#pa7face5ee1)\" d=\"M 54.606838 21.734435 \nL 72.723722 68.053524 \nL 90.840605 120.952157 \nL 108.957488 131.795574 \nL 127.074371 90.614388 \nL 145.191254 35.270391 \nL 163.308137 16.646599 \nL 181.42502 51.865641 \nL 199.541903 108.547291 \nL 217.658787 134.578702 \n\" style=\"fill:none;stroke:#ff7f0e;stroke-dasharray:5.55,2.4;stroke-dashoffset:0;stroke-width:1.5;\"/>\n   </g>\n   <g id=\"patch_3\">\n    <path d=\"M 38.482813 143.1 \nL 38.482813 7.2 \n\" style=\"fill:none;stroke:#000000;stroke-linecap:square;stroke-linejoin:miter;stroke-width:0.8;\"/>\n   </g>\n   <g id=\"patch_4\">\n    <path d=\"M 233.782813 143.1 \nL 233.782813 7.2 \n\" style=\"fill:none;stroke:#000000;stroke-linecap:square;stroke-linejoin:miter;stroke-width:0.8;\"/>\n   </g>\n   <g id=\"patch_5\">\n    <path d=\"M 38.482813 143.1 \nL 233.782813 143.1 \n\" style=\"fill:none;stroke:#000000;stroke-linecap:square;stroke-linejoin:miter;stroke-width:0.8;\"/>\n   </g>\n   <g id=\"patch_6\">\n    <path d=\"M 38.482813 7.2 \nL 233.782813 7.2 \n\" style=\"fill:none;stroke:#000000;stroke-linecap:square;stroke-linejoin:miter;stroke-width:0.8;\"/>\n   </g>\n   <g id=\"legend_1\">\n    <g id=\"patch_7\">\n     <path d=\"M 177.95625 138.1 \nL 226.782813 138.1 \nQ 228.782813 138.1 228.782813 136.1 \nL 228.782813 107.74375 \nQ 228.782813 105.74375 226.782813 105.74375 \nL 177.95625 105.74375 \nQ 175.95625 105.74375 175.95625 107.74375 \nL 175.95625 136.1 \nQ 175.95625 138.1 177.95625 138.1 \nz\n\" style=\"fill:#ffffff;opacity:0.8;stroke:#cccccc;stroke-linejoin:miter;\"/>\n    </g>\n    <g id=\"line2d_132\">\n     <path d=\"M 179.95625 113.842187 \nL 199.95625 113.842187 \n\" style=\"fill:none;stroke:#1f77b4;stroke-linecap:square;stroke-width:1.5;\"/>\n    </g>\n    <g id=\"line2d_133\"/>\n    <g id=\"text_13\">\n     <!-- sin -->\n     <defs>\n      <path d=\"M 44.28125 53.078125 \nL 44.28125 44.578125 \nQ 40.484375 46.53125 36.375 47.5 \nQ 32.28125 48.484375 27.875 48.484375 \nQ 21.1875 48.484375 17.84375 46.4375 \nQ 14.5 44.390625 14.5 40.28125 \nQ 14.5 37.15625 16.890625 35.375 \nQ 19.28125 33.59375 26.515625 31.984375 \nL 29.59375 31.296875 \nQ 39.15625 29.25 43.1875 25.515625 \nQ 47.21875 21.78125 47.21875 15.09375 \nQ 47.21875 7.46875 41.1875 3.015625 \nQ 35.15625 -1.421875 24.609375 -1.421875 \nQ 20.21875 -1.421875 15.453125 -0.5625 \nQ 10.6875 0.296875 5.421875 2 \nL 5.421875 11.28125 \nQ 10.40625 8.6875 15.234375 7.390625 \nQ 20.0625 6.109375 24.8125 6.109375 \nQ 31.15625 6.109375 34.5625 8.28125 \nQ 37.984375 10.453125 37.984375 14.40625 \nQ 37.984375 18.0625 35.515625 20.015625 \nQ 33.0625 21.96875 24.703125 23.78125 \nL 21.578125 24.515625 \nQ 13.234375 26.265625 9.515625 29.90625 \nQ 5.8125 33.546875 5.8125 39.890625 \nQ 5.8125 47.609375 11.28125 51.796875 \nQ 16.75 56 26.8125 56 \nQ 31.78125 56 36.171875 55.265625 \nQ 40.578125 54.546875 44.28125 53.078125 \nz\n\" id=\"DejaVuSans-115\"/>\n      <path d=\"M 9.421875 54.6875 \nL 18.40625 54.6875 \nL 18.40625 0 \nL 9.421875 0 \nz\nM 9.421875 75.984375 \nL 18.40625 75.984375 \nL 18.40625 64.59375 \nL 9.421875 64.59375 \nz\n\" id=\"DejaVuSans-105\"/>\n      <path d=\"M 54.890625 33.015625 \nL 54.890625 0 \nL 45.90625 0 \nL 45.90625 32.71875 \nQ 45.90625 40.484375 42.875 44.328125 \nQ 39.84375 48.1875 33.796875 48.1875 \nQ 26.515625 48.1875 22.3125 43.546875 \nQ 18.109375 38.921875 18.109375 30.90625 \nL 18.109375 0 \nL 9.078125 0 \nL 9.078125 54.6875 \nL 18.109375 54.6875 \nL 18.109375 46.1875 \nQ 21.34375 51.125 25.703125 53.5625 \nQ 30.078125 56 35.796875 56 \nQ 45.21875 56 50.046875 50.171875 \nQ 54.890625 44.34375 54.890625 33.015625 \nz\n\" id=\"DejaVuSans-110\"/>\n     </defs>\n     <g transform=\"translate(207.95625 117.342187)scale(0.1 -0.1)\">\n      <use xlink:href=\"#DejaVuSans-115\"/>\n      <use x=\"52.099609\" xlink:href=\"#DejaVuSans-105\"/>\n      <use x=\"79.882812\" xlink:href=\"#DejaVuSans-110\"/>\n     </g>\n    </g>\n    <g id=\"line2d_134\">\n     <path d=\"M 179.95625 128.520312 \nL 199.95625 128.520312 \n\" style=\"fill:none;stroke:#ff7f0e;stroke-dasharray:5.55,2.4;stroke-dashoffset:0;stroke-width:1.5;\"/>\n    </g>\n    <g id=\"line2d_135\"/>\n    <g id=\"text_14\">\n     <!-- cos -->\n     <defs>\n      <path d=\"M 48.78125 52.59375 \nL 48.78125 44.1875 \nQ 44.96875 46.296875 41.140625 47.34375 \nQ 37.3125 48.390625 33.40625 48.390625 \nQ 24.65625 48.390625 19.8125 42.84375 \nQ 14.984375 37.3125 14.984375 27.296875 \nQ 14.984375 17.28125 19.8125 11.734375 \nQ 24.65625 6.203125 33.40625 6.203125 \nQ 37.3125 6.203125 41.140625 7.25 \nQ 44.96875 8.296875 48.78125 10.40625 \nL 48.78125 2.09375 \nQ 45.015625 0.34375 40.984375 -0.53125 \nQ 36.96875 -1.421875 32.421875 -1.421875 \nQ 20.0625 -1.421875 12.78125 6.34375 \nQ 5.515625 14.109375 5.515625 27.296875 \nQ 5.515625 40.671875 12.859375 48.328125 \nQ 20.21875 56 33.015625 56 \nQ 37.15625 56 41.109375 55.140625 \nQ 45.0625 54.296875 48.78125 52.59375 \nz\n\" id=\"DejaVuSans-99\"/>\n      <path d=\"M 30.609375 48.390625 \nQ 23.390625 48.390625 19.1875 42.75 \nQ 14.984375 37.109375 14.984375 27.296875 \nQ 14.984375 17.484375 19.15625 11.84375 \nQ 23.34375 6.203125 30.609375 6.203125 \nQ 37.796875 6.203125 41.984375 11.859375 \nQ 46.1875 17.53125 46.1875 27.296875 \nQ 46.1875 37.015625 41.984375 42.703125 \nQ 37.796875 48.390625 30.609375 48.390625 \nz\nM 30.609375 56 \nQ 42.328125 56 49.015625 48.375 \nQ 55.71875 40.765625 55.71875 27.296875 \nQ 55.71875 13.875 49.015625 6.21875 \nQ 42.328125 -1.421875 30.609375 -1.421875 \nQ 18.84375 -1.421875 12.171875 6.21875 \nQ 5.515625 13.875 5.515625 27.296875 \nQ 5.515625 40.765625 12.171875 48.375 \nQ 18.84375 56 30.609375 56 \nz\n\" id=\"DejaVuSans-111\"/>\n     </defs>\n     <g transform=\"translate(207.95625 132.020312)scale(0.1 -0.1)\">\n      <use xlink:href=\"#DejaVuSans-99\"/>\n      <use x=\"54.980469\" xlink:href=\"#DejaVuSans-111\"/>\n      <use x=\"116.162109\" xlink:href=\"#DejaVuSans-115\"/>\n     </g>\n    </g>\n   </g>\n  </g>\n </g>\n <defs>\n  <clipPath id=\"pa7face5ee1\">\n   <rect height=\"135.9\" width=\"195.3\" x=\"38.482813\" y=\"7.2\"/>\n  </clipPath>\n </defs>\n</svg>\n"
          },
          "metadata": {
            "needs_background": "light"
          }
        }
      ]
    },
    {
      "cell_type": "markdown",
      "source": [
        "### **3.2.2. 模型（Models）**\n",
        "\n",
        "**模块类（*Module class*）**是我们要实现的所有模型的基类。我们至少需要定义三个 methods。`__init__` **存储 learnable parameters**，`training_step` 接受一个 **data batch** 以返回 **loss value**，`configure_optimizers` 方法返回 **optimization method**，用于更新可学习参数。我们可以选择性地定义 `validation_step` 来报告 **evaluation measures**。有时我们会把计算输出的代码放到一个 separate forward method 中，以使其更容易重复使用。"
      ],
      "metadata": {
        "id": "E4-YHs7JhyEw"
      }
    },
    {
      "cell_type": "code",
      "source": [
        "class Module(nn.Module, d2l.HyperParameters):\n",
        "    def __init__(self, plot_train_per_epoch=2, plot_valid_per_epoch=1):\n",
        "        super().__init__()\n",
        "        self.save_hyperparameters() # NotImplemented\n",
        "        self.board = ProgressBoard() # NotImplemented\n",
        "        \n",
        "    def loss(self, y_hat, y):\n",
        "        raise NotImplementedError\n",
        "\n",
        "    def forward(self, X):\n",
        "        assert hasattr(self, 'net'), 'Neural network is defined'\n",
        "        return self.net(X)\n",
        "\n",
        "    def plot(self, key, value, train):\n",
        "        \"\"\"Plot a point in animation.\"\"\"\n",
        "        assert hasattr(self, 'trainer'), 'Trainer is not inited'\n",
        "        self.board.xlabel = 'epoch'\n",
        "        if train:\n",
        "            x = self.trainer.train_batch_idx / \\\n",
        "                self.trainer.num_train_batches\n",
        "            n = self.trainer.num_train_batches / \\\n",
        "                self.plot_train_per_epoch\n",
        "        else:\n",
        "            x = self.trainer.epoch + 1\n",
        "            n = self.trainer.num_val_batches / \\\n",
        "                self.plot_valid_per_epoch\n",
        "        self.board.draw(x, value.to(d2l.cpu()).detach().numpy(),\n",
        "                        ('train_' if train else 'val_') + key,\n",
        "                        every_n=int(n))\n",
        "    def training_step(self, batch):\n",
        "        l = self.loss(self(*batch[:-1]), batch[-1])\n",
        "        self.plot('loss', l, train=True)\n",
        "        return l\n",
        "\n",
        "    def validation_step(self, batch):\n",
        "        l = self.loss(self(*batch[:-1]), batch[-1])\n",
        "        self.plot('loss', l, train=False)\n",
        "\n",
        "    def configure_optimizers(self):\n",
        "        raise NotImplementedError"
      ],
      "metadata": {
        "id": "GokcPZi3hsbR"
      },
      "execution_count": 24,
      "outputs": []
    },
    {
      "cell_type": "markdown",
      "source": [
        "### **3.2.3. 数据（Data）**\n",
        "\n",
        "`DataModule` 类是数据的基类。很多时候，`__init__`方法被用来准备数据。这包括下载和预处理。`train_dataloader` 返回训练数据集的 data loader。**Data loader** 是一个（Python）生成器，每次使用时都会产生一个 data batch。这批数据然后被送入 Module 的 `training_step` 方法来计算 loss。有一个可选的 `val_dataloader` 来返回验证数据集 data loader。它的行为方式与此相同，只是它为 Module 中的 `validation_step` 方法产生数据批处理。"
      ],
      "metadata": {
        "id": "la6keBx7nKUq"
      }
    },
    {
      "cell_type": "code",
      "source": [
        "class DataModule(d2l.HyperParameters):\n",
        "    def __init__(self, root='../data', num_workers=4):\n",
        "        self.save_hyperparameters()\n",
        "\n",
        "    def get_dataloader(self, train):\n",
        "        raise NotImplementedError\n",
        "\n",
        "    def train_dataloader(self):\n",
        "        return self.get_dataloader(train=True)\n",
        "\n",
        "    def val_dataloader(self):\n",
        "        return self.get_dataloader(train=False)"
      ],
      "metadata": {
        "id": "dHHxZ8vYnC5H"
      },
      "execution_count": 25,
      "outputs": []
    },
    {
      "cell_type": "markdown",
      "source": [
        "### **3.2.4. 训练（Training）**\n",
        "\n",
        "`Trainer` 类用 `DataModule` 中指定的数据训练 Module 类中的可学习参数。关键方法是 `fit`，它接受两个参数：`model`，一个 `Module` 的实例，和 `data`，一个 `DataModule` 的实例。然后，它在整个数据集上迭代` max_epochs` 次数来训练模型。"
      ],
      "metadata": {
        "id": "gDIsg2y8oFY2"
      }
    },
    {
      "cell_type": "code",
      "source": [
        "class Trainer(d2l.HyperParameters):\n",
        "    def __init__(self, max_epochs, num_gpus=0, gradient_clip_val=0):\n",
        "        self.save_hyperparameters()\n",
        "        assert num_gpus == 0, 'No GPU support yet'\n",
        "\n",
        "    def prepare_data(self, data):\n",
        "        self.train_dataloader = data.train_dataloader()\n",
        "        self.val_dataloader = data.val_dataloader()\n",
        "        self.num_train_batches = len(self.train_dataloader)\n",
        "        self.num_val_batches = (len(self.val_dataloader)\n",
        "                                if self.val_dataloader is not None else 0)\n",
        "\n",
        "    def prepare_model(self, model):\n",
        "        model.trainer = self\n",
        "        model.board.xlim = [0, self.max_epochs]\n",
        "        self.model = model\n",
        "\n",
        "    def fit(self, model, data):\n",
        "        self.prepare_data(data)\n",
        "        self.prepare_model(model)\n",
        "        self.optim = model.configure_optimizers()\n",
        "        self.epoch = 0\n",
        "        self.train_batch_idx = 0\n",
        "        self.val_batch_idx = 0\n",
        "        for self.epoch in range(self.max_epochs):\n",
        "            self.fit_epoch()\n",
        "\n",
        "    def fit_epoch(self):\n",
        "        raise NotImplementedError"
      ],
      "metadata": {
        "id": "MIJvSPsTn-Xk"
      },
      "execution_count": 26,
      "outputs": []
    },
    {
      "cell_type": "markdown",
      "source": [
        "## **3.3. 合成回归数据（Synthetic Regression Data）**"
      ],
      "metadata": {
        "id": "nt5CH0zcovdZ"
      }
    },
    {
      "cell_type": "code",
      "source": [
        "%matplotlib inline\n",
        "import random\n",
        "import torch\n",
        "from d2l import torch as d2l"
      ],
      "metadata": {
        "id": "EPfmkwdvo9RU"
      },
      "execution_count": 27,
      "outputs": []
    },
    {
      "cell_type": "markdown",
      "source": [
        "### **3.3.1. 生成数据集（Generating the Dataset）**\n",
        "\n",
        "我们构造一个简单的人工训练数据集，它可以使我们能够直观比较学到的参数和真实的模型参数的区别。设训练数据集样本数为1000，输入个数（特征数）为2。给定随机生成的批量样本特征 $\\mathrm{R}^{1000\\times 2}$，我们使用线性回归模型真实权重 $w = [2,3.4]^{T}$ 和偏差 $b=4.2$，以及一个随机噪声项 $\\epsilon$ 来生成标签，\n",
        "\n",
        "$$y = Xw + b + \\epsilon$$\n",
        "\n",
        "其中噪声项 $\\epsilon$ 服从 $\\mu=0$、$\\sigma = 0.01$ 的正态分布。噪声代表了数据集中无意义的干扰。"
      ],
      "metadata": {
        "id": "BvIW8xZ9o9Cc"
      }
    },
    {
      "cell_type": "code",
      "source": [
        "class SyntheticRegressionData(d2l.DataModule):\n",
        "    def __init__(self, w, b, noise=0.01, num_train=1000, num_val=1000, batch_size=32):\n",
        "        super().__init__()\n",
        "        self.save_hyperparameters()\n",
        "        n = num_train + num_val\n",
        "        self.X = torch.randn(n, len(w))\n",
        "        noise = torch.randn(n, 1) * noise\n",
        "        self.y = torch.matmul(self.X, w.reshape((-1, 1))) + b + noise"
      ],
      "metadata": {
        "id": "otwJc0y-pN5O"
      },
      "execution_count": 28,
      "outputs": []
    },
    {
      "cell_type": "code",
      "source": [
        "data = SyntheticRegressionData(w=torch.tensor([2, -3.4]), b=4.2)"
      ],
      "metadata": {
        "id": "fpYM-ouApRZF"
      },
      "execution_count": 29,
      "outputs": []
    },
    {
      "cell_type": "code",
      "source": [
        "print('features:', data.X[0],'\\nlabel:', data.y[0])"
      ],
      "metadata": {
        "colab": {
          "base_uri": "https://localhost:8080/"
        },
        "id": "4vKRliqopUyG",
        "outputId": "63d0184d-4915-4553-c400-8f271bb503d1"
      },
      "execution_count": 30,
      "outputs": [
        {
          "output_type": "stream",
          "name": "stdout",
          "text": [
            "features: tensor([ 0.4498, -0.5888]) \n",
            "label: tensor([7.0966])\n"
          ]
        }
      ]
    },
    {
      "cell_type": "markdown",
      "source": [
        "### **3.3.2. 读取数据集（Reading the Dataset）**\n",
        "\n",
        "在训练模型的时候，我们需要遍历数据集并不断读取小批量数据样本。这里我们定义一个函数 `get_dataloader`。它需要一个 **batch size**、一个 **matrix of features** 和一个 **vector of labels**，并返回 `batch_size`（批量大小）个随机样本的特征和标签。"
      ],
      "metadata": {
        "id": "tGHu5Ej8tJat"
      }
    },
    {
      "cell_type": "code",
      "source": [
        "@d2l.add_to_class(SyntheticRegressionData)\n",
        "def get_dataloader(self, train):\n",
        "    if train:\n",
        "        indices = list(range(0, self.num_train))\n",
        "        # The examples are read in random order\n",
        "        random.shuffle(indices)\n",
        "    else:\n",
        "        indices = list(range(self.num_train, self.num_train+self.num_val))\n",
        "    for i in range(0, len(indices), self.batch_size):\n",
        "        batch_indices = torch.tensor(indices[i: i+self.batch_size])\n",
        "        yield self.X[batch_indices], self.y[batch_indices]"
      ],
      "metadata": {
        "id": "BT0VyM6UqmfG"
      },
      "execution_count": 31,
      "outputs": []
    },
    {
      "cell_type": "code",
      "source": [
        "X, y = next(iter(data.train_dataloader()))\n",
        "print('X shape:', X.shape, '\\ny shape:', y.shape)"
      ],
      "metadata": {
        "colab": {
          "base_uri": "https://localhost:8080/"
        },
        "id": "yw-WO4KDvd_0",
        "outputId": "bd32019c-2644-448d-bef0-1ecc55327cee"
      },
      "execution_count": 32,
      "outputs": [
        {
          "output_type": "stream",
          "name": "stdout",
          "text": [
            "X shape: torch.Size([32, 2]) \n",
            "y shape: torch.Size([32, 1])\n"
          ]
        }
      ]
    },
    {
      "cell_type": "markdown",
      "source": [
        "### **3.3.3. 数据加载器的简明实现（Concise Implementation of the Data Loader）**\n",
        "\n",
        "与其编写我们自己的迭代器，我们可以在一个框架中调用现有的 API 来加载数据。像以前一样，我们需要一个带有特征 $X$ 和标签 $y$ 的数据集。除此之外，我们在内置的数据加载器中设置`batch_size`，让它来有效地 shuffle examples。"
      ],
      "metadata": {
        "id": "FGkh1459wjO2"
      }
    },
    {
      "cell_type": "code",
      "source": [
        "@d2l.add_to_class(d2l.DataModule)\n",
        "def get_tensorloader(self, tensors, train, indices=slice(0, None)):\n",
        "    tensors = tuple(a[indices] for a in tensors)\n",
        "    dataset = torch.utils.data.TensorDataset(*tensors)\n",
        "    return torch.utils.data.DataLoader(dataset, self.batch_size,\n",
        "                                       shuffle=train)\n",
        "@d2l.add_to_class(SyntheticRegressionData)\n",
        "def get_dataloader(self, train):\n",
        "    i = slice(0, self.num_train) if train else slice(self.num_train, None)\n",
        "    return self.get_tensorloader((self.X, self.y), train, i)"
      ],
      "metadata": {
        "id": "qbjApC7lvj8z"
      },
      "execution_count": 33,
      "outputs": []
    },
    {
      "cell_type": "code",
      "source": [
        "X, y = next(iter(data.train_dataloader()))\n",
        "print('X shape:', X.shape, '\\ny shape:', y.shape)"
      ],
      "metadata": {
        "colab": {
          "base_uri": "https://localhost:8080/"
        },
        "id": "pW1FuN44w2w6",
        "outputId": "2864770f-3ba4-4650-d7d3-b5d9d071fb9d"
      },
      "execution_count": 34,
      "outputs": [
        {
          "output_type": "stream",
          "name": "stdout",
          "text": [
            "X shape: torch.Size([32, 2]) \n",
            "y shape: torch.Size([32, 1])\n"
          ]
        }
      ]
    },
    {
      "cell_type": "markdown",
      "source": [
        "## **3.4. 从零开始的线性回归实现（Linear Regression Implementation from Scratch）**\n",
        "\n",
        "我们将从头开始实现整个 Linear Regression 方法，包括(i)**模型（model）**；(ii)**损失函数（loss function）**；(iii)**小批量随机梯度下降优化器（minibatch stochastic gradient descent optimizer）**；以及(iv)将所有这些部分缝合起来的**训练函数（training function）**。"
      ],
      "metadata": {
        "id": "1hna0uEXtFZU"
      }
    },
    {
      "cell_type": "markdown",
      "source": [
        "### **3.4.1. 定义模型（Defining the Model）**\n",
        "\n",
        "在我们开始通过 minibatch SGD 优化我们模型的参数之前，我们首先需要初始化模型参数。我们将权重初始化成均值为0、标准差为0.01的正态随机数，偏差则初始化成0。神奇的数字0.01在实践中往往很有效。"
      ],
      "metadata": {
        "id": "UU-i8kuGtkpw"
      }
    },
    {
      "cell_type": "code",
      "source": [
        "class LinearRegressionScratch(d2l.Module):\n",
        "    def __init__(self, num_inputs, lr, sigma=0.01):\n",
        "        super().__init__()\n",
        "        self.save_hyperparameters()\n",
        "        self.w = torch.normal(0, sigma, (num_inputs, 1), requires_grad=True)\n",
        "        self.b = torch.zeros(1, requires_grad=True)"
      ],
      "metadata": {
        "id": "okc7g7GlsvmH"
      },
      "execution_count": 35,
      "outputs": []
    },
    {
      "cell_type": "markdown",
      "source": [
        "接下来，我们必须定义我们的模型，将其输入和参数与其输出相关联。"
      ],
      "metadata": {
        "id": "wj25TUnZuRRk"
      }
    },
    {
      "cell_type": "code",
      "source": [
        "@d2l.add_to_class(LinearRegressionScratch)\n",
        "def forward(self, X):\n",
        "    \"\"\"The linear regression model.\"\"\"\n",
        "    return torch.matmul(X, self.w) + self.b"
      ],
      "metadata": {
        "id": "-JojCMCauAME"
      },
      "execution_count": 36,
      "outputs": []
    },
    {
      "cell_type": "markdown",
      "source": [
        "### **3.4.2. 定义损失函数（Defining the Loss Function）**\n",
        "\n",
        "由于更新我们的模型需要获取损失函数的 **梯度（*gradient*）**，我们应该首先定义损失函数。这里我们使用 **平方损失函数（*squared loss function*）**。在实施过程中，我们需要将真实值 $y$ 转化为预测值的形状 $\\hat{y}$。以下函数返回的结果也将具有与 $\\hat{y}$ 相同的 shape。我们还将返回 minibatch 中所有 example 的 **平均损失值（*averaged loss value*）**。"
      ],
      "metadata": {
        "id": "a8Z0u0hZudsB"
      }
    },
    {
      "cell_type": "code",
      "source": [
        "@d2l.add_to_class(LinearRegressionScratch)\n",
        "def loss(self, y_hat, y):\n",
        "    l = (y_hat - y) ** 2 / 2\n",
        "    return l.mean()"
      ],
      "metadata": {
        "id": "grEwae10uBfk"
      },
      "execution_count": 37,
      "outputs": []
    },
    {
      "cell_type": "markdown",
      "source": [
        "### **3.4.3. 定义优化算法（Defining the Optimization Algorithm）**\n",
        "\n",
        "对于 minibatch SGD，在每一步，使用从我们的数据集中随机抽取的 minibatch，通过不断迭代模型参数来优化损失函数。这里自动求梯度模块计算得来的梯度是一个批量样本的梯度和。我们将它除以批量大小来得到平均值。"
      ],
      "metadata": {
        "id": "ad3MtcIhvKLr"
      }
    },
    {
      "cell_type": "code",
      "source": [
        "class SGD(d2l.HyperParameters):\n",
        "    def __init__(self, params, lr):\n",
        "        \"\"\"Minibatch stochastic gradient descent.\"\"\"\n",
        "        self.save_hyperparameters()\n",
        "\n",
        "    def step(self):\n",
        "        for param in self.params:\n",
        "            param -= self.lr * param.grad\n",
        "\n",
        "    def zero_grad(self):\n",
        "        for param in self.params:\n",
        "            if param.grad is not None:\n",
        "                param.grad.zero_()"
      ],
      "metadata": {
        "id": "GSiYy4BgvFnI"
      },
      "execution_count": 38,
      "outputs": []
    },
    {
      "cell_type": "code",
      "source": [
        "@d2l.add_to_class(LinearRegressionScratch)\n",
        "def configure_optimizers(self):\n",
        "    return SGD([self.w, self.b], self.lr)"
      ],
      "metadata": {
        "id": "pOfrZ-oWv5xX"
      },
      "execution_count": 39,
      "outputs": []
    },
    {
      "cell_type": "markdown",
      "source": [
        "### **3.4.4. 训练（Training）**\n",
        "\n",
        "在训练中，我们将多次迭代模型参数。在每次迭代中，我们根据当前读取的小批量数据样本（特征 $X$ 和标签 $y$），通过调用反向函数 `backward` 计算小批量随机梯度，并调用优化算法sgd迭代模型参数。`backward()` 得到该变量有关模型参数的梯度。注意在每次更新完参数后不要忘了将参数的梯度清零。在一个迭代周期 **（*epoch*）** 中，我们将完整遍历一遍 `training_step` 函数，并对训练数据集中所有样本都使用一次（假设样本数能够被批量大小整除）。综上所述，我们将执行以下循环:\n",
        "\n",
        "* 初始化参数 $(w,b)$\n",
        "* 重复进行，直到完成\n",
        "    * 计算梯度 $g ← ∂_{(w,b)}\\frac{1}{|Β|}∑_i l(x^{(i)}, y^{(i)}, w, b)$\n",
        "    * 更新参数 $(w,b) ← (w,b)- ηg$\n"
      ],
      "metadata": {
        "id": "uHRymgU83bDR"
      }
    },
    {
      "cell_type": "code",
      "source": [
        "@d2l.add_to_class(d2l.Trainer)\n",
        "def prepare_batch(self, batch):\n",
        "    return batch\n",
        "\n",
        "@d2l.add_to_class(d2l.Trainer)\n",
        "def fit_epoch(self):\n",
        "    self.model.train()\n",
        "    for batch in self.train_dataloader:\n",
        "        loss = self.model.training_step(self.prepare_batch(batch))\n",
        "        self.optim.zero_grad()\n",
        "        with torch.no_grad():\n",
        "            loss.backward()\n",
        "            if self.gradient_clip_val > 0:  # To be discussed later\n",
        "                self.clip_gradients(self.gradient_clip_val, self.model)\n",
        "            self.optim.step()\n",
        "        self.train_batch_idx += 1\n",
        "    if self.val_dataloader is None:\n",
        "        return\n",
        "    self.model.eval()\n",
        "    for batch in self.val_dataloader:\n",
        "        with torch.no_grad():\n",
        "            self.model.validation_step(self.prepare_batch(batch))\n",
        "        self.val_batch_idx += 1"
      ],
      "metadata": {
        "id": "K32mqYjC3Kxx"
      },
      "execution_count": 40,
      "outputs": []
    },
    {
      "cell_type": "code",
      "source": [
        "model = LinearRegressionScratch(2, lr=0.03)\n",
        "data = d2l.SyntheticRegressionData(w=torch.tensor([2, -3.4]), b=4.2)\n",
        "trainer = d2l.Trainer(max_epochs=3)\n",
        "trainer.fit(model, data)"
      ],
      "metadata": {
        "colab": {
          "base_uri": "https://localhost:8080/",
          "height": 262
        },
        "id": "XrBZGfU65c_T",
        "outputId": "5903af5d-1494-43e1-e540-193d9af2d2d5"
      },
      "execution_count": 41,
      "outputs": [
        {
          "output_type": "display_data",
          "data": {
            "text/plain": [
              "<Figure size 252x180 with 1 Axes>"
            ],
            "image/svg+xml": "<?xml version=\"1.0\" encoding=\"utf-8\" standalone=\"no\"?>\n<!DOCTYPE svg PUBLIC \"-//W3C//DTD SVG 1.1//EN\"\n  \"http://www.w3.org/Graphics/SVG/1.1/DTD/svg11.dtd\">\n<!-- Created with matplotlib (https://matplotlib.org/) -->\n<svg height=\"180.65625pt\" version=\"1.1\" viewBox=\"0 0 237.376562 180.65625\" width=\"237.376562pt\" xmlns=\"http://www.w3.org/2000/svg\" xmlns:xlink=\"http://www.w3.org/1999/xlink\">\n <defs>\n  <style type=\"text/css\">\n*{stroke-linecap:butt;stroke-linejoin:round;}\n  </style>\n </defs>\n <g id=\"figure_1\">\n  <g id=\"patch_1\">\n   <path d=\"M 0 180.65625 \nL 237.376562 180.65625 \nL 237.376562 0 \nL 0 0 \nz\n\" style=\"fill:none;\"/>\n  </g>\n  <g id=\"axes_1\">\n   <g id=\"patch_2\">\n    <path d=\"M 26.925 143.1 \nL 222.225 143.1 \nL 222.225 7.2 \nL 26.925 7.2 \nz\n\" style=\"fill:#ffffff;\"/>\n   </g>\n   <g id=\"matplotlib.axis_1\">\n    <g id=\"xtick_1\">\n     <g id=\"line2d_1\">\n      <defs>\n       <path d=\"M 0 0 \nL 0 3.5 \n\" id=\"mec3c0242cf\" style=\"stroke:#000000;stroke-width:0.8;\"/>\n      </defs>\n      <g>\n       <use style=\"stroke:#000000;stroke-width:0.8;\" x=\"26.925\" xlink:href=\"#mec3c0242cf\" y=\"143.1\"/>\n      </g>\n     </g>\n     <g id=\"text_1\">\n      <!-- 0.0 -->\n      <defs>\n       <path d=\"M 31.78125 66.40625 \nQ 24.171875 66.40625 20.328125 58.90625 \nQ 16.5 51.421875 16.5 36.375 \nQ 16.5 21.390625 20.328125 13.890625 \nQ 24.171875 6.390625 31.78125 6.390625 \nQ 39.453125 6.390625 43.28125 13.890625 \nQ 47.125 21.390625 47.125 36.375 \nQ 47.125 51.421875 43.28125 58.90625 \nQ 39.453125 66.40625 31.78125 66.40625 \nz\nM 31.78125 74.21875 \nQ 44.046875 74.21875 50.515625 64.515625 \nQ 56.984375 54.828125 56.984375 36.375 \nQ 56.984375 17.96875 50.515625 8.265625 \nQ 44.046875 -1.421875 31.78125 -1.421875 \nQ 19.53125 -1.421875 13.0625 8.265625 \nQ 6.59375 17.96875 6.59375 36.375 \nQ 6.59375 54.828125 13.0625 64.515625 \nQ 19.53125 74.21875 31.78125 74.21875 \nz\n\" id=\"DejaVuSans-48\"/>\n       <path d=\"M 10.6875 12.40625 \nL 21 12.40625 \nL 21 0 \nL 10.6875 0 \nz\n\" id=\"DejaVuSans-46\"/>\n      </defs>\n      <g transform=\"translate(18.973438 157.698438)scale(0.1 -0.1)\">\n       <use xlink:href=\"#DejaVuSans-48\"/>\n       <use x=\"63.623047\" xlink:href=\"#DejaVuSans-46\"/>\n       <use x=\"95.410156\" xlink:href=\"#DejaVuSans-48\"/>\n      </g>\n     </g>\n    </g>\n    <g id=\"xtick_2\">\n     <g id=\"line2d_2\">\n      <g>\n       <use style=\"stroke:#000000;stroke-width:0.8;\" x=\"59.475\" xlink:href=\"#mec3c0242cf\" y=\"143.1\"/>\n      </g>\n     </g>\n     <g id=\"text_2\">\n      <!-- 0.5 -->\n      <defs>\n       <path d=\"M 10.796875 72.90625 \nL 49.515625 72.90625 \nL 49.515625 64.59375 \nL 19.828125 64.59375 \nL 19.828125 46.734375 \nQ 21.96875 47.46875 24.109375 47.828125 \nQ 26.265625 48.1875 28.421875 48.1875 \nQ 40.625 48.1875 47.75 41.5 \nQ 54.890625 34.8125 54.890625 23.390625 \nQ 54.890625 11.625 47.5625 5.09375 \nQ 40.234375 -1.421875 26.90625 -1.421875 \nQ 22.3125 -1.421875 17.546875 -0.640625 \nQ 12.796875 0.140625 7.71875 1.703125 \nL 7.71875 11.625 \nQ 12.109375 9.234375 16.796875 8.0625 \nQ 21.484375 6.890625 26.703125 6.890625 \nQ 35.15625 6.890625 40.078125 11.328125 \nQ 45.015625 15.765625 45.015625 23.390625 \nQ 45.015625 31 40.078125 35.4375 \nQ 35.15625 39.890625 26.703125 39.890625 \nQ 22.75 39.890625 18.8125 39.015625 \nQ 14.890625 38.140625 10.796875 36.28125 \nz\n\" id=\"DejaVuSans-53\"/>\n      </defs>\n      <g transform=\"translate(51.523438 157.698438)scale(0.1 -0.1)\">\n       <use xlink:href=\"#DejaVuSans-48\"/>\n       <use x=\"63.623047\" xlink:href=\"#DejaVuSans-46\"/>\n       <use x=\"95.410156\" xlink:href=\"#DejaVuSans-53\"/>\n      </g>\n     </g>\n    </g>\n    <g id=\"xtick_3\">\n     <g id=\"line2d_3\">\n      <g>\n       <use style=\"stroke:#000000;stroke-width:0.8;\" x=\"92.025\" xlink:href=\"#mec3c0242cf\" y=\"143.1\"/>\n      </g>\n     </g>\n     <g id=\"text_3\">\n      <!-- 1.0 -->\n      <defs>\n       <path d=\"M 12.40625 8.296875 \nL 28.515625 8.296875 \nL 28.515625 63.921875 \nL 10.984375 60.40625 \nL 10.984375 69.390625 \nL 28.421875 72.90625 \nL 38.28125 72.90625 \nL 38.28125 8.296875 \nL 54.390625 8.296875 \nL 54.390625 0 \nL 12.40625 0 \nz\n\" id=\"DejaVuSans-49\"/>\n      </defs>\n      <g transform=\"translate(84.073438 157.698438)scale(0.1 -0.1)\">\n       <use xlink:href=\"#DejaVuSans-49\"/>\n       <use x=\"63.623047\" xlink:href=\"#DejaVuSans-46\"/>\n       <use x=\"95.410156\" xlink:href=\"#DejaVuSans-48\"/>\n      </g>\n     </g>\n    </g>\n    <g id=\"xtick_4\">\n     <g id=\"line2d_4\">\n      <g>\n       <use style=\"stroke:#000000;stroke-width:0.8;\" x=\"124.575\" xlink:href=\"#mec3c0242cf\" y=\"143.1\"/>\n      </g>\n     </g>\n     <g id=\"text_4\">\n      <!-- 1.5 -->\n      <g transform=\"translate(116.623437 157.698438)scale(0.1 -0.1)\">\n       <use xlink:href=\"#DejaVuSans-49\"/>\n       <use x=\"63.623047\" xlink:href=\"#DejaVuSans-46\"/>\n       <use x=\"95.410156\" xlink:href=\"#DejaVuSans-53\"/>\n      </g>\n     </g>\n    </g>\n    <g id=\"xtick_5\">\n     <g id=\"line2d_5\">\n      <g>\n       <use style=\"stroke:#000000;stroke-width:0.8;\" x=\"157.125\" xlink:href=\"#mec3c0242cf\" y=\"143.1\"/>\n      </g>\n     </g>\n     <g id=\"text_5\">\n      <!-- 2.0 -->\n      <defs>\n       <path d=\"M 19.1875 8.296875 \nL 53.609375 8.296875 \nL 53.609375 0 \nL 7.328125 0 \nL 7.328125 8.296875 \nQ 12.9375 14.109375 22.625 23.890625 \nQ 32.328125 33.6875 34.8125 36.53125 \nQ 39.546875 41.84375 41.421875 45.53125 \nQ 43.3125 49.21875 43.3125 52.78125 \nQ 43.3125 58.59375 39.234375 62.25 \nQ 35.15625 65.921875 28.609375 65.921875 \nQ 23.96875 65.921875 18.8125 64.3125 \nQ 13.671875 62.703125 7.8125 59.421875 \nL 7.8125 69.390625 \nQ 13.765625 71.78125 18.9375 73 \nQ 24.125 74.21875 28.421875 74.21875 \nQ 39.75 74.21875 46.484375 68.546875 \nQ 53.21875 62.890625 53.21875 53.421875 \nQ 53.21875 48.921875 51.53125 44.890625 \nQ 49.859375 40.875 45.40625 35.40625 \nQ 44.1875 33.984375 37.640625 27.21875 \nQ 31.109375 20.453125 19.1875 8.296875 \nz\n\" id=\"DejaVuSans-50\"/>\n      </defs>\n      <g transform=\"translate(149.173438 157.698438)scale(0.1 -0.1)\">\n       <use xlink:href=\"#DejaVuSans-50\"/>\n       <use x=\"63.623047\" xlink:href=\"#DejaVuSans-46\"/>\n       <use x=\"95.410156\" xlink:href=\"#DejaVuSans-48\"/>\n      </g>\n     </g>\n    </g>\n    <g id=\"xtick_6\">\n     <g id=\"line2d_6\">\n      <g>\n       <use style=\"stroke:#000000;stroke-width:0.8;\" x=\"189.675\" xlink:href=\"#mec3c0242cf\" y=\"143.1\"/>\n      </g>\n     </g>\n     <g id=\"text_6\">\n      <!-- 2.5 -->\n      <g transform=\"translate(181.723438 157.698438)scale(0.1 -0.1)\">\n       <use xlink:href=\"#DejaVuSans-50\"/>\n       <use x=\"63.623047\" xlink:href=\"#DejaVuSans-46\"/>\n       <use x=\"95.410156\" xlink:href=\"#DejaVuSans-53\"/>\n      </g>\n     </g>\n    </g>\n    <g id=\"xtick_7\">\n     <g id=\"line2d_7\">\n      <g>\n       <use style=\"stroke:#000000;stroke-width:0.8;\" x=\"222.225\" xlink:href=\"#mec3c0242cf\" y=\"143.1\"/>\n      </g>\n     </g>\n     <g id=\"text_7\">\n      <!-- 3.0 -->\n      <defs>\n       <path d=\"M 40.578125 39.3125 \nQ 47.65625 37.796875 51.625 33 \nQ 55.609375 28.21875 55.609375 21.1875 \nQ 55.609375 10.40625 48.1875 4.484375 \nQ 40.765625 -1.421875 27.09375 -1.421875 \nQ 22.515625 -1.421875 17.65625 -0.515625 \nQ 12.796875 0.390625 7.625 2.203125 \nL 7.625 11.71875 \nQ 11.71875 9.328125 16.59375 8.109375 \nQ 21.484375 6.890625 26.8125 6.890625 \nQ 36.078125 6.890625 40.9375 10.546875 \nQ 45.796875 14.203125 45.796875 21.1875 \nQ 45.796875 27.640625 41.28125 31.265625 \nQ 36.765625 34.90625 28.71875 34.90625 \nL 20.21875 34.90625 \nL 20.21875 43.015625 \nL 29.109375 43.015625 \nQ 36.375 43.015625 40.234375 45.921875 \nQ 44.09375 48.828125 44.09375 54.296875 \nQ 44.09375 59.90625 40.109375 62.90625 \nQ 36.140625 65.921875 28.71875 65.921875 \nQ 24.65625 65.921875 20.015625 65.03125 \nQ 15.375 64.15625 9.8125 62.3125 \nL 9.8125 71.09375 \nQ 15.4375 72.65625 20.34375 73.4375 \nQ 25.25 74.21875 29.59375 74.21875 \nQ 40.828125 74.21875 47.359375 69.109375 \nQ 53.90625 64.015625 53.90625 55.328125 \nQ 53.90625 49.265625 50.4375 45.09375 \nQ 46.96875 40.921875 40.578125 39.3125 \nz\n\" id=\"DejaVuSans-51\"/>\n      </defs>\n      <g transform=\"translate(214.273438 157.698438)scale(0.1 -0.1)\">\n       <use xlink:href=\"#DejaVuSans-51\"/>\n       <use x=\"63.623047\" xlink:href=\"#DejaVuSans-46\"/>\n       <use x=\"95.410156\" xlink:href=\"#DejaVuSans-48\"/>\n      </g>\n     </g>\n    </g>\n    <g id=\"text_8\">\n     <!-- epoch -->\n     <defs>\n      <path d=\"M 56.203125 29.59375 \nL 56.203125 25.203125 \nL 14.890625 25.203125 \nQ 15.484375 15.921875 20.484375 11.0625 \nQ 25.484375 6.203125 34.421875 6.203125 \nQ 39.59375 6.203125 44.453125 7.46875 \nQ 49.3125 8.734375 54.109375 11.28125 \nL 54.109375 2.78125 \nQ 49.265625 0.734375 44.1875 -0.34375 \nQ 39.109375 -1.421875 33.890625 -1.421875 \nQ 20.796875 -1.421875 13.15625 6.1875 \nQ 5.515625 13.8125 5.515625 26.8125 \nQ 5.515625 40.234375 12.765625 48.109375 \nQ 20.015625 56 32.328125 56 \nQ 43.359375 56 49.78125 48.890625 \nQ 56.203125 41.796875 56.203125 29.59375 \nz\nM 47.21875 32.234375 \nQ 47.125 39.59375 43.09375 43.984375 \nQ 39.0625 48.390625 32.421875 48.390625 \nQ 24.90625 48.390625 20.390625 44.140625 \nQ 15.875 39.890625 15.1875 32.171875 \nz\n\" id=\"DejaVuSans-101\"/>\n      <path d=\"M 18.109375 8.203125 \nL 18.109375 -20.796875 \nL 9.078125 -20.796875 \nL 9.078125 54.6875 \nL 18.109375 54.6875 \nL 18.109375 46.390625 \nQ 20.953125 51.265625 25.265625 53.625 \nQ 29.59375 56 35.59375 56 \nQ 45.5625 56 51.78125 48.09375 \nQ 58.015625 40.1875 58.015625 27.296875 \nQ 58.015625 14.40625 51.78125 6.484375 \nQ 45.5625 -1.421875 35.59375 -1.421875 \nQ 29.59375 -1.421875 25.265625 0.953125 \nQ 20.953125 3.328125 18.109375 8.203125 \nz\nM 48.6875 27.296875 \nQ 48.6875 37.203125 44.609375 42.84375 \nQ 40.53125 48.484375 33.40625 48.484375 \nQ 26.265625 48.484375 22.1875 42.84375 \nQ 18.109375 37.203125 18.109375 27.296875 \nQ 18.109375 17.390625 22.1875 11.75 \nQ 26.265625 6.109375 33.40625 6.109375 \nQ 40.53125 6.109375 44.609375 11.75 \nQ 48.6875 17.390625 48.6875 27.296875 \nz\n\" id=\"DejaVuSans-112\"/>\n      <path d=\"M 30.609375 48.390625 \nQ 23.390625 48.390625 19.1875 42.75 \nQ 14.984375 37.109375 14.984375 27.296875 \nQ 14.984375 17.484375 19.15625 11.84375 \nQ 23.34375 6.203125 30.609375 6.203125 \nQ 37.796875 6.203125 41.984375 11.859375 \nQ 46.1875 17.53125 46.1875 27.296875 \nQ 46.1875 37.015625 41.984375 42.703125 \nQ 37.796875 48.390625 30.609375 48.390625 \nz\nM 30.609375 56 \nQ 42.328125 56 49.015625 48.375 \nQ 55.71875 40.765625 55.71875 27.296875 \nQ 55.71875 13.875 49.015625 6.21875 \nQ 42.328125 -1.421875 30.609375 -1.421875 \nQ 18.84375 -1.421875 12.171875 6.21875 \nQ 5.515625 13.875 5.515625 27.296875 \nQ 5.515625 40.765625 12.171875 48.375 \nQ 18.84375 56 30.609375 56 \nz\n\" id=\"DejaVuSans-111\"/>\n      <path d=\"M 48.78125 52.59375 \nL 48.78125 44.1875 \nQ 44.96875 46.296875 41.140625 47.34375 \nQ 37.3125 48.390625 33.40625 48.390625 \nQ 24.65625 48.390625 19.8125 42.84375 \nQ 14.984375 37.3125 14.984375 27.296875 \nQ 14.984375 17.28125 19.8125 11.734375 \nQ 24.65625 6.203125 33.40625 6.203125 \nQ 37.3125 6.203125 41.140625 7.25 \nQ 44.96875 8.296875 48.78125 10.40625 \nL 48.78125 2.09375 \nQ 45.015625 0.34375 40.984375 -0.53125 \nQ 36.96875 -1.421875 32.421875 -1.421875 \nQ 20.0625 -1.421875 12.78125 6.34375 \nQ 5.515625 14.109375 5.515625 27.296875 \nQ 5.515625 40.671875 12.859375 48.328125 \nQ 20.21875 56 33.015625 56 \nQ 37.15625 56 41.109375 55.140625 \nQ 45.0625 54.296875 48.78125 52.59375 \nz\n\" id=\"DejaVuSans-99\"/>\n      <path d=\"M 54.890625 33.015625 \nL 54.890625 0 \nL 45.90625 0 \nL 45.90625 32.71875 \nQ 45.90625 40.484375 42.875 44.328125 \nQ 39.84375 48.1875 33.796875 48.1875 \nQ 26.515625 48.1875 22.3125 43.546875 \nQ 18.109375 38.921875 18.109375 30.90625 \nL 18.109375 0 \nL 9.078125 0 \nL 9.078125 75.984375 \nL 18.109375 75.984375 \nL 18.109375 46.1875 \nQ 21.34375 51.125 25.703125 53.5625 \nQ 30.078125 56 35.796875 56 \nQ 45.21875 56 50.046875 50.171875 \nQ 54.890625 44.34375 54.890625 33.015625 \nz\n\" id=\"DejaVuSans-104\"/>\n     </defs>\n     <g transform=\"translate(109.346875 171.376563)scale(0.1 -0.1)\">\n      <use xlink:href=\"#DejaVuSans-101\"/>\n      <use x=\"61.523438\" xlink:href=\"#DejaVuSans-112\"/>\n      <use x=\"125\" xlink:href=\"#DejaVuSans-111\"/>\n      <use x=\"186.181641\" xlink:href=\"#DejaVuSans-99\"/>\n      <use x=\"241.162109\" xlink:href=\"#DejaVuSans-104\"/>\n     </g>\n    </g>\n   </g>\n   <g id=\"matplotlib.axis_2\">\n    <g id=\"ytick_1\">\n     <g id=\"line2d_8\">\n      <defs>\n       <path d=\"M 0 0 \nL -3.5 0 \n\" id=\"m52c99f61f0\" style=\"stroke:#000000;stroke-width:0.8;\"/>\n      </defs>\n      <g>\n       <use style=\"stroke:#000000;stroke-width:0.8;\" x=\"26.925\" xlink:href=\"#m52c99f61f0\" y=\"137.680175\"/>\n      </g>\n     </g>\n     <g id=\"text_9\">\n      <!-- 0 -->\n      <g transform=\"translate(13.5625 141.479394)scale(0.1 -0.1)\">\n       <use xlink:href=\"#DejaVuSans-48\"/>\n      </g>\n     </g>\n    </g>\n    <g id=\"ytick_2\">\n     <g id=\"line2d_9\">\n      <g>\n       <use style=\"stroke:#000000;stroke-width:0.8;\" x=\"26.925\" xlink:href=\"#m52c99f61f0\" y=\"113.405691\"/>\n      </g>\n     </g>\n     <g id=\"text_10\">\n      <!-- 2 -->\n      <g transform=\"translate(13.5625 117.20491)scale(0.1 -0.1)\">\n       <use xlink:href=\"#DejaVuSans-50\"/>\n      </g>\n     </g>\n    </g>\n    <g id=\"ytick_3\">\n     <g id=\"line2d_10\">\n      <g>\n       <use style=\"stroke:#000000;stroke-width:0.8;\" x=\"26.925\" xlink:href=\"#m52c99f61f0\" y=\"89.131207\"/>\n      </g>\n     </g>\n     <g id=\"text_11\">\n      <!-- 4 -->\n      <defs>\n       <path d=\"M 37.796875 64.3125 \nL 12.890625 25.390625 \nL 37.796875 25.390625 \nz\nM 35.203125 72.90625 \nL 47.609375 72.90625 \nL 47.609375 25.390625 \nL 58.015625 25.390625 \nL 58.015625 17.1875 \nL 47.609375 17.1875 \nL 47.609375 0 \nL 37.796875 0 \nL 37.796875 17.1875 \nL 4.890625 17.1875 \nL 4.890625 26.703125 \nz\n\" id=\"DejaVuSans-52\"/>\n      </defs>\n      <g transform=\"translate(13.5625 92.930426)scale(0.1 -0.1)\">\n       <use xlink:href=\"#DejaVuSans-52\"/>\n      </g>\n     </g>\n    </g>\n    <g id=\"ytick_4\">\n     <g id=\"line2d_11\">\n      <g>\n       <use style=\"stroke:#000000;stroke-width:0.8;\" x=\"26.925\" xlink:href=\"#m52c99f61f0\" y=\"64.856723\"/>\n      </g>\n     </g>\n     <g id=\"text_12\">\n      <!-- 6 -->\n      <defs>\n       <path d=\"M 33.015625 40.375 \nQ 26.375 40.375 22.484375 35.828125 \nQ 18.609375 31.296875 18.609375 23.390625 \nQ 18.609375 15.53125 22.484375 10.953125 \nQ 26.375 6.390625 33.015625 6.390625 \nQ 39.65625 6.390625 43.53125 10.953125 \nQ 47.40625 15.53125 47.40625 23.390625 \nQ 47.40625 31.296875 43.53125 35.828125 \nQ 39.65625 40.375 33.015625 40.375 \nz\nM 52.59375 71.296875 \nL 52.59375 62.3125 \nQ 48.875 64.0625 45.09375 64.984375 \nQ 41.3125 65.921875 37.59375 65.921875 \nQ 27.828125 65.921875 22.671875 59.328125 \nQ 17.53125 52.734375 16.796875 39.40625 \nQ 19.671875 43.65625 24.015625 45.921875 \nQ 28.375 48.1875 33.59375 48.1875 \nQ 44.578125 48.1875 50.953125 41.515625 \nQ 57.328125 34.859375 57.328125 23.390625 \nQ 57.328125 12.15625 50.6875 5.359375 \nQ 44.046875 -1.421875 33.015625 -1.421875 \nQ 20.359375 -1.421875 13.671875 8.265625 \nQ 6.984375 17.96875 6.984375 36.375 \nQ 6.984375 53.65625 15.1875 63.9375 \nQ 23.390625 74.21875 37.203125 74.21875 \nQ 40.921875 74.21875 44.703125 73.484375 \nQ 48.484375 72.75 52.59375 71.296875 \nz\n\" id=\"DejaVuSans-54\"/>\n      </defs>\n      <g transform=\"translate(13.5625 68.655942)scale(0.1 -0.1)\">\n       <use xlink:href=\"#DejaVuSans-54\"/>\n      </g>\n     </g>\n    </g>\n    <g id=\"ytick_5\">\n     <g id=\"line2d_12\">\n      <g>\n       <use style=\"stroke:#000000;stroke-width:0.8;\" x=\"26.925\" xlink:href=\"#m52c99f61f0\" y=\"40.582239\"/>\n      </g>\n     </g>\n     <g id=\"text_13\">\n      <!-- 8 -->\n      <defs>\n       <path d=\"M 31.78125 34.625 \nQ 24.75 34.625 20.71875 30.859375 \nQ 16.703125 27.09375 16.703125 20.515625 \nQ 16.703125 13.921875 20.71875 10.15625 \nQ 24.75 6.390625 31.78125 6.390625 \nQ 38.8125 6.390625 42.859375 10.171875 \nQ 46.921875 13.96875 46.921875 20.515625 \nQ 46.921875 27.09375 42.890625 30.859375 \nQ 38.875 34.625 31.78125 34.625 \nz\nM 21.921875 38.8125 \nQ 15.578125 40.375 12.03125 44.71875 \nQ 8.5 49.078125 8.5 55.328125 \nQ 8.5 64.0625 14.71875 69.140625 \nQ 20.953125 74.21875 31.78125 74.21875 \nQ 42.671875 74.21875 48.875 69.140625 \nQ 55.078125 64.0625 55.078125 55.328125 \nQ 55.078125 49.078125 51.53125 44.71875 \nQ 48 40.375 41.703125 38.8125 \nQ 48.828125 37.15625 52.796875 32.3125 \nQ 56.78125 27.484375 56.78125 20.515625 \nQ 56.78125 9.90625 50.3125 4.234375 \nQ 43.84375 -1.421875 31.78125 -1.421875 \nQ 19.734375 -1.421875 13.25 4.234375 \nQ 6.78125 9.90625 6.78125 20.515625 \nQ 6.78125 27.484375 10.78125 32.3125 \nQ 14.796875 37.15625 21.921875 38.8125 \nz\nM 18.3125 54.390625 \nQ 18.3125 48.734375 21.84375 45.5625 \nQ 25.390625 42.390625 31.78125 42.390625 \nQ 38.140625 42.390625 41.71875 45.5625 \nQ 45.3125 48.734375 45.3125 54.390625 \nQ 45.3125 60.0625 41.71875 63.234375 \nQ 38.140625 66.40625 31.78125 66.40625 \nQ 25.390625 66.40625 21.84375 63.234375 \nQ 18.3125 60.0625 18.3125 54.390625 \nz\n\" id=\"DejaVuSans-56\"/>\n      </defs>\n      <g transform=\"translate(13.5625 44.381458)scale(0.1 -0.1)\">\n       <use xlink:href=\"#DejaVuSans-56\"/>\n      </g>\n     </g>\n    </g>\n    <g id=\"ytick_6\">\n     <g id=\"line2d_13\">\n      <g>\n       <use style=\"stroke:#000000;stroke-width:0.8;\" x=\"26.925\" xlink:href=\"#m52c99f61f0\" y=\"16.307755\"/>\n      </g>\n     </g>\n     <g id=\"text_14\">\n      <!-- 10 -->\n      <g transform=\"translate(7.2 20.106974)scale(0.1 -0.1)\">\n       <use xlink:href=\"#DejaVuSans-49\"/>\n       <use x=\"63.623047\" xlink:href=\"#DejaVuSans-48\"/>\n      </g>\n     </g>\n    </g>\n   </g>\n   <g id=\"line2d_14\">\n    <path clip-path=\"url(#pa31cf5ffda)\" d=\"M 42.182813 13.377273 \n\" style=\"fill:none;stroke:#1f77b4;stroke-linecap:square;stroke-width:1.5;\"/>\n   </g>\n   <g id=\"line2d_15\">\n    <path clip-path=\"url(#pa31cf5ffda)\" d=\"M 42.182813 13.377273 \nL 74.732812 81.16801 \n\" style=\"fill:none;stroke:#1f77b4;stroke-linecap:square;stroke-width:1.5;\"/>\n   </g>\n   <g id=\"line2d_16\">\n    <path clip-path=\"url(#pa31cf5ffda)\" d=\"M 42.182813 13.377273 \nL 74.732812 81.16801 \n\" style=\"fill:none;stroke:#1f77b4;stroke-linecap:square;stroke-width:1.5;\"/>\n   </g>\n   <g id=\"line2d_17\">\n    <path clip-path=\"url(#pa31cf5ffda)\" d=\"M 92.025 105.843769 \n\" style=\"fill:none;stroke:#ff7f0e;stroke-dasharray:5.55,2.4;stroke-dashoffset:0;stroke-width:1.5;\"/>\n   </g>\n   <g id=\"line2d_18\">\n    <path clip-path=\"url(#pa31cf5ffda)\" d=\"M 42.182813 13.377273 \nL 74.732812 81.16801 \nL 107.282813 117.152103 \n\" style=\"fill:none;stroke:#1f77b4;stroke-linecap:square;stroke-width:1.5;\"/>\n   </g>\n   <g id=\"line2d_19\">\n    <path clip-path=\"url(#pa31cf5ffda)\" d=\"M 92.025 105.843769 \n\" style=\"fill:none;stroke:#ff7f0e;stroke-dasharray:5.55,2.4;stroke-dashoffset:0;stroke-width:1.5;\"/>\n   </g>\n   <g id=\"line2d_20\">\n    <path clip-path=\"url(#pa31cf5ffda)\" d=\"M 42.182813 13.377273 \nL 74.732812 81.16801 \nL 107.282813 117.152103 \nL 139.832812 129.761116 \n\" style=\"fill:none;stroke:#1f77b4;stroke-linecap:square;stroke-width:1.5;\"/>\n   </g>\n   <g id=\"line2d_21\">\n    <path clip-path=\"url(#pa31cf5ffda)\" d=\"M 92.025 105.843769 \n\" style=\"fill:none;stroke:#ff7f0e;stroke-dasharray:5.55,2.4;stroke-dashoffset:0;stroke-width:1.5;\"/>\n   </g>\n   <g id=\"line2d_22\">\n    <path clip-path=\"url(#pa31cf5ffda)\" d=\"M 42.182813 13.377273 \nL 74.732812 81.16801 \nL 107.282813 117.152103 \nL 139.832812 129.761116 \n\" style=\"fill:none;stroke:#1f77b4;stroke-linecap:square;stroke-width:1.5;\"/>\n   </g>\n   <g id=\"line2d_23\">\n    <path clip-path=\"url(#pa31cf5ffda)\" d=\"M 92.025 105.843769 \nL 157.125 132.673272 \n\" style=\"fill:none;stroke:#ff7f0e;stroke-dasharray:5.55,2.4;stroke-dashoffset:0;stroke-width:1.5;\"/>\n   </g>\n   <g id=\"line2d_24\">\n    <path clip-path=\"url(#pa31cf5ffda)\" d=\"M 42.182813 13.377273 \nL 74.732812 81.16801 \nL 107.282813 117.152103 \nL 139.832812 129.761116 \nL 172.382812 134.548831 \n\" style=\"fill:none;stroke:#1f77b4;stroke-linecap:square;stroke-width:1.5;\"/>\n   </g>\n   <g id=\"line2d_25\">\n    <path clip-path=\"url(#pa31cf5ffda)\" d=\"M 92.025 105.843769 \nL 157.125 132.673272 \n\" style=\"fill:none;stroke:#ff7f0e;stroke-dasharray:5.55,2.4;stroke-dashoffset:0;stroke-width:1.5;\"/>\n   </g>\n   <g id=\"line2d_26\">\n    <path clip-path=\"url(#pa31cf5ffda)\" d=\"M 42.182813 13.377273 \nL 74.732812 81.16801 \nL 107.282813 117.152103 \nL 139.832812 129.761116 \nL 172.382812 134.548831 \nL 204.932812 136.318264 \n\" style=\"fill:none;stroke:#1f77b4;stroke-linecap:square;stroke-width:1.5;\"/>\n   </g>\n   <g id=\"line2d_27\">\n    <path clip-path=\"url(#pa31cf5ffda)\" d=\"M 92.025 105.843769 \nL 157.125 132.673272 \n\" style=\"fill:none;stroke:#ff7f0e;stroke-dasharray:5.55,2.4;stroke-dashoffset:0;stroke-width:1.5;\"/>\n   </g>\n   <g id=\"line2d_28\">\n    <path clip-path=\"url(#pa31cf5ffda)\" d=\"M 42.182813 13.377273 \nL 74.732812 81.16801 \nL 107.282813 117.152103 \nL 139.832812 129.761116 \nL 172.382812 134.548831 \nL 204.932812 136.318264 \n\" style=\"fill:none;stroke:#1f77b4;stroke-linecap:square;stroke-width:1.5;\"/>\n   </g>\n   <g id=\"line2d_29\">\n    <path clip-path=\"url(#pa31cf5ffda)\" d=\"M 92.025 105.843769 \nL 157.125 132.673272 \nL 222.225 136.922727 \n\" style=\"fill:none;stroke:#ff7f0e;stroke-dasharray:5.55,2.4;stroke-dashoffset:0;stroke-width:1.5;\"/>\n   </g>\n   <g id=\"patch_3\">\n    <path d=\"M 26.925 143.1 \nL 26.925 7.2 \n\" style=\"fill:none;stroke:#000000;stroke-linecap:square;stroke-linejoin:miter;stroke-width:0.8;\"/>\n   </g>\n   <g id=\"patch_4\">\n    <path d=\"M 222.225 143.1 \nL 222.225 7.2 \n\" style=\"fill:none;stroke:#000000;stroke-linecap:square;stroke-linejoin:miter;stroke-width:0.8;\"/>\n   </g>\n   <g id=\"patch_5\">\n    <path d=\"M 26.925 143.1 \nL 222.225 143.1 \n\" style=\"fill:none;stroke:#000000;stroke-linecap:square;stroke-linejoin:miter;stroke-width:0.8;\"/>\n   </g>\n   <g id=\"patch_6\">\n    <path d=\"M 26.925 7.2 \nL 222.225 7.2 \n\" style=\"fill:none;stroke:#000000;stroke-linecap:square;stroke-linejoin:miter;stroke-width:0.8;\"/>\n   </g>\n   <g id=\"legend_1\">\n    <g id=\"patch_7\">\n     <path d=\"M 135.634375 45.1125 \nL 215.225 45.1125 \nQ 217.225 45.1125 217.225 43.1125 \nL 217.225 14.2 \nQ 217.225 12.2 215.225 12.2 \nL 135.634375 12.2 \nQ 133.634375 12.2 133.634375 14.2 \nL 133.634375 43.1125 \nQ 133.634375 45.1125 135.634375 45.1125 \nz\n\" style=\"fill:#ffffff;opacity:0.8;stroke:#cccccc;stroke-linejoin:miter;\"/>\n    </g>\n    <g id=\"line2d_30\">\n     <path d=\"M 137.634375 20.298437 \nL 157.634375 20.298437 \n\" style=\"fill:none;stroke:#1f77b4;stroke-linecap:square;stroke-width:1.5;\"/>\n    </g>\n    <g id=\"line2d_31\"/>\n    <g id=\"text_15\">\n     <!-- train_loss -->\n     <defs>\n      <path d=\"M 18.3125 70.21875 \nL 18.3125 54.6875 \nL 36.8125 54.6875 \nL 36.8125 47.703125 \nL 18.3125 47.703125 \nL 18.3125 18.015625 \nQ 18.3125 11.328125 20.140625 9.421875 \nQ 21.96875 7.515625 27.59375 7.515625 \nL 36.8125 7.515625 \nL 36.8125 0 \nL 27.59375 0 \nQ 17.1875 0 13.234375 3.875 \nQ 9.28125 7.765625 9.28125 18.015625 \nL 9.28125 47.703125 \nL 2.6875 47.703125 \nL 2.6875 54.6875 \nL 9.28125 54.6875 \nL 9.28125 70.21875 \nz\n\" id=\"DejaVuSans-116\"/>\n      <path d=\"M 41.109375 46.296875 \nQ 39.59375 47.171875 37.8125 47.578125 \nQ 36.03125 48 33.890625 48 \nQ 26.265625 48 22.1875 43.046875 \nQ 18.109375 38.09375 18.109375 28.8125 \nL 18.109375 0 \nL 9.078125 0 \nL 9.078125 54.6875 \nL 18.109375 54.6875 \nL 18.109375 46.1875 \nQ 20.953125 51.171875 25.484375 53.578125 \nQ 30.03125 56 36.53125 56 \nQ 37.453125 56 38.578125 55.875 \nQ 39.703125 55.765625 41.0625 55.515625 \nz\n\" id=\"DejaVuSans-114\"/>\n      <path d=\"M 34.28125 27.484375 \nQ 23.390625 27.484375 19.1875 25 \nQ 14.984375 22.515625 14.984375 16.5 \nQ 14.984375 11.71875 18.140625 8.90625 \nQ 21.296875 6.109375 26.703125 6.109375 \nQ 34.1875 6.109375 38.703125 11.40625 \nQ 43.21875 16.703125 43.21875 25.484375 \nL 43.21875 27.484375 \nz\nM 52.203125 31.203125 \nL 52.203125 0 \nL 43.21875 0 \nL 43.21875 8.296875 \nQ 40.140625 3.328125 35.546875 0.953125 \nQ 30.953125 -1.421875 24.3125 -1.421875 \nQ 15.921875 -1.421875 10.953125 3.296875 \nQ 6 8.015625 6 15.921875 \nQ 6 25.140625 12.171875 29.828125 \nQ 18.359375 34.515625 30.609375 34.515625 \nL 43.21875 34.515625 \nL 43.21875 35.40625 \nQ 43.21875 41.609375 39.140625 45 \nQ 35.0625 48.390625 27.6875 48.390625 \nQ 23 48.390625 18.546875 47.265625 \nQ 14.109375 46.140625 10.015625 43.890625 \nL 10.015625 52.203125 \nQ 14.9375 54.109375 19.578125 55.046875 \nQ 24.21875 56 28.609375 56 \nQ 40.484375 56 46.34375 49.84375 \nQ 52.203125 43.703125 52.203125 31.203125 \nz\n\" id=\"DejaVuSans-97\"/>\n      <path d=\"M 9.421875 54.6875 \nL 18.40625 54.6875 \nL 18.40625 0 \nL 9.421875 0 \nz\nM 9.421875 75.984375 \nL 18.40625 75.984375 \nL 18.40625 64.59375 \nL 9.421875 64.59375 \nz\n\" id=\"DejaVuSans-105\"/>\n      <path d=\"M 54.890625 33.015625 \nL 54.890625 0 \nL 45.90625 0 \nL 45.90625 32.71875 \nQ 45.90625 40.484375 42.875 44.328125 \nQ 39.84375 48.1875 33.796875 48.1875 \nQ 26.515625 48.1875 22.3125 43.546875 \nQ 18.109375 38.921875 18.109375 30.90625 \nL 18.109375 0 \nL 9.078125 0 \nL 9.078125 54.6875 \nL 18.109375 54.6875 \nL 18.109375 46.1875 \nQ 21.34375 51.125 25.703125 53.5625 \nQ 30.078125 56 35.796875 56 \nQ 45.21875 56 50.046875 50.171875 \nQ 54.890625 44.34375 54.890625 33.015625 \nz\n\" id=\"DejaVuSans-110\"/>\n      <path d=\"M 50.984375 -16.609375 \nL 50.984375 -23.578125 \nL -0.984375 -23.578125 \nL -0.984375 -16.609375 \nz\n\" id=\"DejaVuSans-95\"/>\n      <path d=\"M 9.421875 75.984375 \nL 18.40625 75.984375 \nL 18.40625 0 \nL 9.421875 0 \nz\n\" id=\"DejaVuSans-108\"/>\n      <path d=\"M 44.28125 53.078125 \nL 44.28125 44.578125 \nQ 40.484375 46.53125 36.375 47.5 \nQ 32.28125 48.484375 27.875 48.484375 \nQ 21.1875 48.484375 17.84375 46.4375 \nQ 14.5 44.390625 14.5 40.28125 \nQ 14.5 37.15625 16.890625 35.375 \nQ 19.28125 33.59375 26.515625 31.984375 \nL 29.59375 31.296875 \nQ 39.15625 29.25 43.1875 25.515625 \nQ 47.21875 21.78125 47.21875 15.09375 \nQ 47.21875 7.46875 41.1875 3.015625 \nQ 35.15625 -1.421875 24.609375 -1.421875 \nQ 20.21875 -1.421875 15.453125 -0.5625 \nQ 10.6875 0.296875 5.421875 2 \nL 5.421875 11.28125 \nQ 10.40625 8.6875 15.234375 7.390625 \nQ 20.0625 6.109375 24.8125 6.109375 \nQ 31.15625 6.109375 34.5625 8.28125 \nQ 37.984375 10.453125 37.984375 14.40625 \nQ 37.984375 18.0625 35.515625 20.015625 \nQ 33.0625 21.96875 24.703125 23.78125 \nL 21.578125 24.515625 \nQ 13.234375 26.265625 9.515625 29.90625 \nQ 5.8125 33.546875 5.8125 39.890625 \nQ 5.8125 47.609375 11.28125 51.796875 \nQ 16.75 56 26.8125 56 \nQ 31.78125 56 36.171875 55.265625 \nQ 40.578125 54.546875 44.28125 53.078125 \nz\n\" id=\"DejaVuSans-115\"/>\n     </defs>\n     <g transform=\"translate(165.634375 23.798437)scale(0.1 -0.1)\">\n      <use xlink:href=\"#DejaVuSans-116\"/>\n      <use x=\"39.208984\" xlink:href=\"#DejaVuSans-114\"/>\n      <use x=\"80.322266\" xlink:href=\"#DejaVuSans-97\"/>\n      <use x=\"141.601562\" xlink:href=\"#DejaVuSans-105\"/>\n      <use x=\"169.384766\" xlink:href=\"#DejaVuSans-110\"/>\n      <use x=\"232.763672\" xlink:href=\"#DejaVuSans-95\"/>\n      <use x=\"282.763672\" xlink:href=\"#DejaVuSans-108\"/>\n      <use x=\"310.546875\" xlink:href=\"#DejaVuSans-111\"/>\n      <use x=\"371.728516\" xlink:href=\"#DejaVuSans-115\"/>\n      <use x=\"423.828125\" xlink:href=\"#DejaVuSans-115\"/>\n     </g>\n    </g>\n    <g id=\"line2d_32\">\n     <path d=\"M 137.634375 35.254687 \nL 157.634375 35.254687 \n\" style=\"fill:none;stroke:#ff7f0e;stroke-dasharray:5.55,2.4;stroke-dashoffset:0;stroke-width:1.5;\"/>\n    </g>\n    <g id=\"line2d_33\"/>\n    <g id=\"text_16\">\n     <!-- val_loss -->\n     <defs>\n      <path d=\"M 2.984375 54.6875 \nL 12.5 54.6875 \nL 29.59375 8.796875 \nL 46.6875 54.6875 \nL 56.203125 54.6875 \nL 35.6875 0 \nL 23.484375 0 \nz\n\" id=\"DejaVuSans-118\"/>\n     </defs>\n     <g transform=\"translate(165.634375 38.754687)scale(0.1 -0.1)\">\n      <use xlink:href=\"#DejaVuSans-118\"/>\n      <use x=\"59.179688\" xlink:href=\"#DejaVuSans-97\"/>\n      <use x=\"120.458984\" xlink:href=\"#DejaVuSans-108\"/>\n      <use x=\"148.242188\" xlink:href=\"#DejaVuSans-95\"/>\n      <use x=\"198.242188\" xlink:href=\"#DejaVuSans-108\"/>\n      <use x=\"226.025391\" xlink:href=\"#DejaVuSans-111\"/>\n      <use x=\"287.207031\" xlink:href=\"#DejaVuSans-115\"/>\n      <use x=\"339.306641\" xlink:href=\"#DejaVuSans-115\"/>\n     </g>\n    </g>\n   </g>\n  </g>\n </g>\n <defs>\n  <clipPath id=\"pa31cf5ffda\">\n   <rect height=\"135.9\" width=\"195.3\" x=\"26.925\" y=\"7.2\"/>\n  </clipPath>\n </defs>\n</svg>\n"
          },
          "metadata": {
            "needs_background": "light"
          }
        }
      ]
    },
    {
      "cell_type": "code",
      "source": [
        "print(f'error in estimating w: {data.w - model.w.reshape(data.w.shape)}')\n",
        "print(f'error in estimating b: {data.b - model.b}')"
      ],
      "metadata": {
        "colab": {
          "base_uri": "https://localhost:8080/"
        },
        "id": "rFfOPICA6HKX",
        "outputId": "50980838-d288-498d-9068-bec1294da57d"
      },
      "execution_count": 42,
      "outputs": [
        {
          "output_type": "stream",
          "name": "stdout",
          "text": [
            "error in estimating w: tensor([ 0.1313, -0.2382], grad_fn=<SubBackward0>)\n",
            "error in estimating b: tensor([0.2240], grad_fn=<RsubBackward1>)\n"
          ]
        }
      ]
    },
    {
      "cell_type": "markdown",
      "source": [
        "我们不应该把精确恢复地面真实参数的能力视为理所当然。一般来说，对于深度模型来说，参数的唯一解决方案是不存在的，即使对于线性模型来说，只有在没有任何特征是线性依赖其他特征的情况下，才有可能精确恢复参数。然而，在机器学习中，我们往往不太关心恢复真正的基础参数，而更关心能导致高度精确预测的参数。"
      ],
      "metadata": {
        "id": "3g0qLIEp6udu"
      }
    },
    {
      "cell_type": "markdown",
      "source": [
        "## **3.5. 线性回归的简明实施（Concise Implementation of Linear Regression）**"
      ],
      "metadata": {
        "id": "YIUBR9VK5l28"
      }
    },
    {
      "cell_type": "code",
      "source": [
        "import numpy as np\n",
        "import torch\n",
        "from torch import nn\n",
        "from d2l import torch as d2l"
      ],
      "metadata": {
        "id": "yPDqZBzm4dB2"
      },
      "execution_count": 43,
      "outputs": []
    },
    {
      "cell_type": "markdown",
      "source": [
        "### **3.5.1. 定义模型（Defining the Model）**\n",
        "\n",
        "对于标准操作，我们可以使用一个框架的预定义层，这使得我们可以专注于用于构建模型的层，而不是担心它们的实现。回顾一下单层网络的架构。该层被称为 **全连接（*fully connected*）**，因为它的**每个输入都是通过矩阵-向量乘法的方式连接到每个输出的**。\n",
        "\n",
        "在 PyTorch 中，全连接层被定义在 `Linear` 和 `LazyLinear`（从1.8.0版本开始可用）类中。后者允许用户只指定输出维度，而前者则额外询问有多少个输入进入该层。指定输入形状是不方便的，这可能需要进行非简单的计算（比如在卷积层中）。因此，为了简单起见，我们将尽可能地使用这种 `LazyLinear`。"
      ],
      "metadata": {
        "id": "as8GBS_E6BUU"
      }
    },
    {
      "cell_type": "code",
      "source": [
        "class LinearRegression(d2l.Module):\n",
        "    def __init__(self, lr):\n",
        "        super().__init__()\n",
        "        self.save_hyperparameters()\n",
        "        self.net = nn.LazyLinear(1)\n",
        "        self.net.weight.data.normal_(0, 0.01)\n",
        "        self.net.bias.data.fill_(0)"
      ],
      "metadata": {
        "id": "gjKHWNAP5oEp"
      },
      "execution_count": 44,
      "outputs": []
    },
    {
      "cell_type": "code",
      "source": [
        "@d2l.add_to_class(LinearRegression)\n",
        "def forward(self, X):\n",
        "    \"\"\"The linear regression model.\"\"\"\n",
        "    return self.net(X)"
      ],
      "metadata": {
        "id": "lTmrzsGc6Zqs"
      },
      "execution_count": 45,
      "outputs": []
    },
    {
      "cell_type": "markdown",
      "source": [
        "### **3.5.2. 定义损失函数（Defining the Loss Function）**\n",
        "\n",
        "`MSELoss` 类计算的是 **平均平方误差（*mean squared error*）**（没有 $\\frac{1}{2} $ 个因子）。默认情况下，`MSELoss` 返回实例的平均损失。"
      ],
      "metadata": {
        "id": "4A3QFzvz6iC4"
      }
    },
    {
      "cell_type": "code",
      "source": [
        "@d2l.add_to_class(LinearRegression)\n",
        "def loss(self, y_hat, y):\n",
        "    fn = nn.MSELoss()\n",
        "    return fn(y_hat, y)"
      ],
      "metadata": {
        "id": "Mn-Q359m6ayf"
      },
      "execution_count": 46,
      "outputs": []
    },
    {
      "cell_type": "markdown",
      "source": [
        "### **3.5.3. 定义优化算法（Defining the Optimization Algorithm）**\n",
        "\n",
        "Minibatch SGD 是优化神经网络的标准工具，因此 `PyTorch` 在 `optim` 模块中支持它以及该算法的一些变体。当我们实例化一个 SGD 实例时，我们指定要优化的参数，这些参数可以通过 `self.parameters()` 从我们的模型中获得，以及我们的优化算法所要求的学习率（`self.lr`）。"
      ],
      "metadata": {
        "id": "8Vb-nzdM6-Jo"
      }
    },
    {
      "cell_type": "code",
      "source": [
        "@d2l.add_to_class(LinearRegression)\n",
        "def configure_optimizers(self):\n",
        "    return torch.optim.SGD(self.parameters(), self.lr)"
      ],
      "metadata": {
        "id": "NuOgy8S367FU"
      },
      "execution_count": 47,
      "outputs": []
    },
    {
      "cell_type": "markdown",
      "source": [
        "### **3.5.4. 训练（Training）**\n",
        "\n",
        "通过深度学习框架的高级API来表达我们的模型需要更少的代码行。我们不需要单独分配参数，定义我们的损失函数，或实现迷你批的SGD。一旦我们开始处理更复杂的模型，高级别API的优势将大大增加。"
      ],
      "metadata": {
        "id": "bXlM3tvj7gSx"
      }
    },
    {
      "cell_type": "code",
      "source": [
        "model = LinearRegression(lr=0.03)\n",
        "data = d2l.SyntheticRegressionData(w=torch.tensor([2, -3.4]), b=4.2)\n",
        "trainer = d2l.Trainer(max_epochs=3)\n",
        "trainer.fit(model, data)"
      ],
      "metadata": {
        "colab": {
          "base_uri": "https://localhost:8080/",
          "height": 262
        },
        "id": "GQ50yNmh7cK3",
        "outputId": "d7fcaea3-1681-42ac-9792-384bc8e4a55d"
      },
      "execution_count": 48,
      "outputs": [
        {
          "output_type": "display_data",
          "data": {
            "text/plain": [
              "<Figure size 252x180 with 1 Axes>"
            ],
            "image/svg+xml": "<?xml version=\"1.0\" encoding=\"utf-8\" standalone=\"no\"?>\n<!DOCTYPE svg PUBLIC \"-//W3C//DTD SVG 1.1//EN\"\n  \"http://www.w3.org/Graphics/SVG/1.1/DTD/svg11.dtd\">\n<!-- Created with matplotlib (https://matplotlib.org/) -->\n<svg height=\"180.65625pt\" version=\"1.1\" viewBox=\"0 0 237.376562 180.65625\" width=\"237.376562pt\" xmlns=\"http://www.w3.org/2000/svg\" xmlns:xlink=\"http://www.w3.org/1999/xlink\">\n <defs>\n  <style type=\"text/css\">\n*{stroke-linecap:butt;stroke-linejoin:round;}\n  </style>\n </defs>\n <g id=\"figure_1\">\n  <g id=\"patch_1\">\n   <path d=\"M 0 180.65625 \nL 237.376562 180.65625 \nL 237.376562 0 \nL 0 0 \nz\n\" style=\"fill:none;\"/>\n  </g>\n  <g id=\"axes_1\">\n   <g id=\"patch_2\">\n    <path d=\"M 26.925 143.1 \nL 222.225 143.1 \nL 222.225 7.2 \nL 26.925 7.2 \nz\n\" style=\"fill:#ffffff;\"/>\n   </g>\n   <g id=\"matplotlib.axis_1\">\n    <g id=\"xtick_1\">\n     <g id=\"line2d_1\">\n      <defs>\n       <path d=\"M 0 0 \nL 0 3.5 \n\" id=\"mf28d75ab8d\" style=\"stroke:#000000;stroke-width:0.8;\"/>\n      </defs>\n      <g>\n       <use style=\"stroke:#000000;stroke-width:0.8;\" x=\"26.925\" xlink:href=\"#mf28d75ab8d\" y=\"143.1\"/>\n      </g>\n     </g>\n     <g id=\"text_1\">\n      <!-- 0.0 -->\n      <defs>\n       <path d=\"M 31.78125 66.40625 \nQ 24.171875 66.40625 20.328125 58.90625 \nQ 16.5 51.421875 16.5 36.375 \nQ 16.5 21.390625 20.328125 13.890625 \nQ 24.171875 6.390625 31.78125 6.390625 \nQ 39.453125 6.390625 43.28125 13.890625 \nQ 47.125 21.390625 47.125 36.375 \nQ 47.125 51.421875 43.28125 58.90625 \nQ 39.453125 66.40625 31.78125 66.40625 \nz\nM 31.78125 74.21875 \nQ 44.046875 74.21875 50.515625 64.515625 \nQ 56.984375 54.828125 56.984375 36.375 \nQ 56.984375 17.96875 50.515625 8.265625 \nQ 44.046875 -1.421875 31.78125 -1.421875 \nQ 19.53125 -1.421875 13.0625 8.265625 \nQ 6.59375 17.96875 6.59375 36.375 \nQ 6.59375 54.828125 13.0625 64.515625 \nQ 19.53125 74.21875 31.78125 74.21875 \nz\n\" id=\"DejaVuSans-48\"/>\n       <path d=\"M 10.6875 12.40625 \nL 21 12.40625 \nL 21 0 \nL 10.6875 0 \nz\n\" id=\"DejaVuSans-46\"/>\n      </defs>\n      <g transform=\"translate(18.973438 157.698438)scale(0.1 -0.1)\">\n       <use xlink:href=\"#DejaVuSans-48\"/>\n       <use x=\"63.623047\" xlink:href=\"#DejaVuSans-46\"/>\n       <use x=\"95.410156\" xlink:href=\"#DejaVuSans-48\"/>\n      </g>\n     </g>\n    </g>\n    <g id=\"xtick_2\">\n     <g id=\"line2d_2\">\n      <g>\n       <use style=\"stroke:#000000;stroke-width:0.8;\" x=\"59.475\" xlink:href=\"#mf28d75ab8d\" y=\"143.1\"/>\n      </g>\n     </g>\n     <g id=\"text_2\">\n      <!-- 0.5 -->\n      <defs>\n       <path d=\"M 10.796875 72.90625 \nL 49.515625 72.90625 \nL 49.515625 64.59375 \nL 19.828125 64.59375 \nL 19.828125 46.734375 \nQ 21.96875 47.46875 24.109375 47.828125 \nQ 26.265625 48.1875 28.421875 48.1875 \nQ 40.625 48.1875 47.75 41.5 \nQ 54.890625 34.8125 54.890625 23.390625 \nQ 54.890625 11.625 47.5625 5.09375 \nQ 40.234375 -1.421875 26.90625 -1.421875 \nQ 22.3125 -1.421875 17.546875 -0.640625 \nQ 12.796875 0.140625 7.71875 1.703125 \nL 7.71875 11.625 \nQ 12.109375 9.234375 16.796875 8.0625 \nQ 21.484375 6.890625 26.703125 6.890625 \nQ 35.15625 6.890625 40.078125 11.328125 \nQ 45.015625 15.765625 45.015625 23.390625 \nQ 45.015625 31 40.078125 35.4375 \nQ 35.15625 39.890625 26.703125 39.890625 \nQ 22.75 39.890625 18.8125 39.015625 \nQ 14.890625 38.140625 10.796875 36.28125 \nz\n\" id=\"DejaVuSans-53\"/>\n      </defs>\n      <g transform=\"translate(51.523438 157.698438)scale(0.1 -0.1)\">\n       <use xlink:href=\"#DejaVuSans-48\"/>\n       <use x=\"63.623047\" xlink:href=\"#DejaVuSans-46\"/>\n       <use x=\"95.410156\" xlink:href=\"#DejaVuSans-53\"/>\n      </g>\n     </g>\n    </g>\n    <g id=\"xtick_3\">\n     <g id=\"line2d_3\">\n      <g>\n       <use style=\"stroke:#000000;stroke-width:0.8;\" x=\"92.025\" xlink:href=\"#mf28d75ab8d\" y=\"143.1\"/>\n      </g>\n     </g>\n     <g id=\"text_3\">\n      <!-- 1.0 -->\n      <defs>\n       <path d=\"M 12.40625 8.296875 \nL 28.515625 8.296875 \nL 28.515625 63.921875 \nL 10.984375 60.40625 \nL 10.984375 69.390625 \nL 28.421875 72.90625 \nL 38.28125 72.90625 \nL 38.28125 8.296875 \nL 54.390625 8.296875 \nL 54.390625 0 \nL 12.40625 0 \nz\n\" id=\"DejaVuSans-49\"/>\n      </defs>\n      <g transform=\"translate(84.073438 157.698438)scale(0.1 -0.1)\">\n       <use xlink:href=\"#DejaVuSans-49\"/>\n       <use x=\"63.623047\" xlink:href=\"#DejaVuSans-46\"/>\n       <use x=\"95.410156\" xlink:href=\"#DejaVuSans-48\"/>\n      </g>\n     </g>\n    </g>\n    <g id=\"xtick_4\">\n     <g id=\"line2d_4\">\n      <g>\n       <use style=\"stroke:#000000;stroke-width:0.8;\" x=\"124.575\" xlink:href=\"#mf28d75ab8d\" y=\"143.1\"/>\n      </g>\n     </g>\n     <g id=\"text_4\">\n      <!-- 1.5 -->\n      <g transform=\"translate(116.623437 157.698438)scale(0.1 -0.1)\">\n       <use xlink:href=\"#DejaVuSans-49\"/>\n       <use x=\"63.623047\" xlink:href=\"#DejaVuSans-46\"/>\n       <use x=\"95.410156\" xlink:href=\"#DejaVuSans-53\"/>\n      </g>\n     </g>\n    </g>\n    <g id=\"xtick_5\">\n     <g id=\"line2d_5\">\n      <g>\n       <use style=\"stroke:#000000;stroke-width:0.8;\" x=\"157.125\" xlink:href=\"#mf28d75ab8d\" y=\"143.1\"/>\n      </g>\n     </g>\n     <g id=\"text_5\">\n      <!-- 2.0 -->\n      <defs>\n       <path d=\"M 19.1875 8.296875 \nL 53.609375 8.296875 \nL 53.609375 0 \nL 7.328125 0 \nL 7.328125 8.296875 \nQ 12.9375 14.109375 22.625 23.890625 \nQ 32.328125 33.6875 34.8125 36.53125 \nQ 39.546875 41.84375 41.421875 45.53125 \nQ 43.3125 49.21875 43.3125 52.78125 \nQ 43.3125 58.59375 39.234375 62.25 \nQ 35.15625 65.921875 28.609375 65.921875 \nQ 23.96875 65.921875 18.8125 64.3125 \nQ 13.671875 62.703125 7.8125 59.421875 \nL 7.8125 69.390625 \nQ 13.765625 71.78125 18.9375 73 \nQ 24.125 74.21875 28.421875 74.21875 \nQ 39.75 74.21875 46.484375 68.546875 \nQ 53.21875 62.890625 53.21875 53.421875 \nQ 53.21875 48.921875 51.53125 44.890625 \nQ 49.859375 40.875 45.40625 35.40625 \nQ 44.1875 33.984375 37.640625 27.21875 \nQ 31.109375 20.453125 19.1875 8.296875 \nz\n\" id=\"DejaVuSans-50\"/>\n      </defs>\n      <g transform=\"translate(149.173438 157.698438)scale(0.1 -0.1)\">\n       <use xlink:href=\"#DejaVuSans-50\"/>\n       <use x=\"63.623047\" xlink:href=\"#DejaVuSans-46\"/>\n       <use x=\"95.410156\" xlink:href=\"#DejaVuSans-48\"/>\n      </g>\n     </g>\n    </g>\n    <g id=\"xtick_6\">\n     <g id=\"line2d_6\">\n      <g>\n       <use style=\"stroke:#000000;stroke-width:0.8;\" x=\"189.675\" xlink:href=\"#mf28d75ab8d\" y=\"143.1\"/>\n      </g>\n     </g>\n     <g id=\"text_6\">\n      <!-- 2.5 -->\n      <g transform=\"translate(181.723438 157.698438)scale(0.1 -0.1)\">\n       <use xlink:href=\"#DejaVuSans-50\"/>\n       <use x=\"63.623047\" xlink:href=\"#DejaVuSans-46\"/>\n       <use x=\"95.410156\" xlink:href=\"#DejaVuSans-53\"/>\n      </g>\n     </g>\n    </g>\n    <g id=\"xtick_7\">\n     <g id=\"line2d_7\">\n      <g>\n       <use style=\"stroke:#000000;stroke-width:0.8;\" x=\"222.225\" xlink:href=\"#mf28d75ab8d\" y=\"143.1\"/>\n      </g>\n     </g>\n     <g id=\"text_7\">\n      <!-- 3.0 -->\n      <defs>\n       <path d=\"M 40.578125 39.3125 \nQ 47.65625 37.796875 51.625 33 \nQ 55.609375 28.21875 55.609375 21.1875 \nQ 55.609375 10.40625 48.1875 4.484375 \nQ 40.765625 -1.421875 27.09375 -1.421875 \nQ 22.515625 -1.421875 17.65625 -0.515625 \nQ 12.796875 0.390625 7.625 2.203125 \nL 7.625 11.71875 \nQ 11.71875 9.328125 16.59375 8.109375 \nQ 21.484375 6.890625 26.8125 6.890625 \nQ 36.078125 6.890625 40.9375 10.546875 \nQ 45.796875 14.203125 45.796875 21.1875 \nQ 45.796875 27.640625 41.28125 31.265625 \nQ 36.765625 34.90625 28.71875 34.90625 \nL 20.21875 34.90625 \nL 20.21875 43.015625 \nL 29.109375 43.015625 \nQ 36.375 43.015625 40.234375 45.921875 \nQ 44.09375 48.828125 44.09375 54.296875 \nQ 44.09375 59.90625 40.109375 62.90625 \nQ 36.140625 65.921875 28.71875 65.921875 \nQ 24.65625 65.921875 20.015625 65.03125 \nQ 15.375 64.15625 9.8125 62.3125 \nL 9.8125 71.09375 \nQ 15.4375 72.65625 20.34375 73.4375 \nQ 25.25 74.21875 29.59375 74.21875 \nQ 40.828125 74.21875 47.359375 69.109375 \nQ 53.90625 64.015625 53.90625 55.328125 \nQ 53.90625 49.265625 50.4375 45.09375 \nQ 46.96875 40.921875 40.578125 39.3125 \nz\n\" id=\"DejaVuSans-51\"/>\n      </defs>\n      <g transform=\"translate(214.273438 157.698438)scale(0.1 -0.1)\">\n       <use xlink:href=\"#DejaVuSans-51\"/>\n       <use x=\"63.623047\" xlink:href=\"#DejaVuSans-46\"/>\n       <use x=\"95.410156\" xlink:href=\"#DejaVuSans-48\"/>\n      </g>\n     </g>\n    </g>\n    <g id=\"text_8\">\n     <!-- epoch -->\n     <defs>\n      <path d=\"M 56.203125 29.59375 \nL 56.203125 25.203125 \nL 14.890625 25.203125 \nQ 15.484375 15.921875 20.484375 11.0625 \nQ 25.484375 6.203125 34.421875 6.203125 \nQ 39.59375 6.203125 44.453125 7.46875 \nQ 49.3125 8.734375 54.109375 11.28125 \nL 54.109375 2.78125 \nQ 49.265625 0.734375 44.1875 -0.34375 \nQ 39.109375 -1.421875 33.890625 -1.421875 \nQ 20.796875 -1.421875 13.15625 6.1875 \nQ 5.515625 13.8125 5.515625 26.8125 \nQ 5.515625 40.234375 12.765625 48.109375 \nQ 20.015625 56 32.328125 56 \nQ 43.359375 56 49.78125 48.890625 \nQ 56.203125 41.796875 56.203125 29.59375 \nz\nM 47.21875 32.234375 \nQ 47.125 39.59375 43.09375 43.984375 \nQ 39.0625 48.390625 32.421875 48.390625 \nQ 24.90625 48.390625 20.390625 44.140625 \nQ 15.875 39.890625 15.1875 32.171875 \nz\n\" id=\"DejaVuSans-101\"/>\n      <path d=\"M 18.109375 8.203125 \nL 18.109375 -20.796875 \nL 9.078125 -20.796875 \nL 9.078125 54.6875 \nL 18.109375 54.6875 \nL 18.109375 46.390625 \nQ 20.953125 51.265625 25.265625 53.625 \nQ 29.59375 56 35.59375 56 \nQ 45.5625 56 51.78125 48.09375 \nQ 58.015625 40.1875 58.015625 27.296875 \nQ 58.015625 14.40625 51.78125 6.484375 \nQ 45.5625 -1.421875 35.59375 -1.421875 \nQ 29.59375 -1.421875 25.265625 0.953125 \nQ 20.953125 3.328125 18.109375 8.203125 \nz\nM 48.6875 27.296875 \nQ 48.6875 37.203125 44.609375 42.84375 \nQ 40.53125 48.484375 33.40625 48.484375 \nQ 26.265625 48.484375 22.1875 42.84375 \nQ 18.109375 37.203125 18.109375 27.296875 \nQ 18.109375 17.390625 22.1875 11.75 \nQ 26.265625 6.109375 33.40625 6.109375 \nQ 40.53125 6.109375 44.609375 11.75 \nQ 48.6875 17.390625 48.6875 27.296875 \nz\n\" id=\"DejaVuSans-112\"/>\n      <path d=\"M 30.609375 48.390625 \nQ 23.390625 48.390625 19.1875 42.75 \nQ 14.984375 37.109375 14.984375 27.296875 \nQ 14.984375 17.484375 19.15625 11.84375 \nQ 23.34375 6.203125 30.609375 6.203125 \nQ 37.796875 6.203125 41.984375 11.859375 \nQ 46.1875 17.53125 46.1875 27.296875 \nQ 46.1875 37.015625 41.984375 42.703125 \nQ 37.796875 48.390625 30.609375 48.390625 \nz\nM 30.609375 56 \nQ 42.328125 56 49.015625 48.375 \nQ 55.71875 40.765625 55.71875 27.296875 \nQ 55.71875 13.875 49.015625 6.21875 \nQ 42.328125 -1.421875 30.609375 -1.421875 \nQ 18.84375 -1.421875 12.171875 6.21875 \nQ 5.515625 13.875 5.515625 27.296875 \nQ 5.515625 40.765625 12.171875 48.375 \nQ 18.84375 56 30.609375 56 \nz\n\" id=\"DejaVuSans-111\"/>\n      <path d=\"M 48.78125 52.59375 \nL 48.78125 44.1875 \nQ 44.96875 46.296875 41.140625 47.34375 \nQ 37.3125 48.390625 33.40625 48.390625 \nQ 24.65625 48.390625 19.8125 42.84375 \nQ 14.984375 37.3125 14.984375 27.296875 \nQ 14.984375 17.28125 19.8125 11.734375 \nQ 24.65625 6.203125 33.40625 6.203125 \nQ 37.3125 6.203125 41.140625 7.25 \nQ 44.96875 8.296875 48.78125 10.40625 \nL 48.78125 2.09375 \nQ 45.015625 0.34375 40.984375 -0.53125 \nQ 36.96875 -1.421875 32.421875 -1.421875 \nQ 20.0625 -1.421875 12.78125 6.34375 \nQ 5.515625 14.109375 5.515625 27.296875 \nQ 5.515625 40.671875 12.859375 48.328125 \nQ 20.21875 56 33.015625 56 \nQ 37.15625 56 41.109375 55.140625 \nQ 45.0625 54.296875 48.78125 52.59375 \nz\n\" id=\"DejaVuSans-99\"/>\n      <path d=\"M 54.890625 33.015625 \nL 54.890625 0 \nL 45.90625 0 \nL 45.90625 32.71875 \nQ 45.90625 40.484375 42.875 44.328125 \nQ 39.84375 48.1875 33.796875 48.1875 \nQ 26.515625 48.1875 22.3125 43.546875 \nQ 18.109375 38.921875 18.109375 30.90625 \nL 18.109375 0 \nL 9.078125 0 \nL 9.078125 75.984375 \nL 18.109375 75.984375 \nL 18.109375 46.1875 \nQ 21.34375 51.125 25.703125 53.5625 \nQ 30.078125 56 35.796875 56 \nQ 45.21875 56 50.046875 50.171875 \nQ 54.890625 44.34375 54.890625 33.015625 \nz\n\" id=\"DejaVuSans-104\"/>\n     </defs>\n     <g transform=\"translate(109.346875 171.376563)scale(0.1 -0.1)\">\n      <use xlink:href=\"#DejaVuSans-101\"/>\n      <use x=\"61.523438\" xlink:href=\"#DejaVuSans-112\"/>\n      <use x=\"125\" xlink:href=\"#DejaVuSans-111\"/>\n      <use x=\"186.181641\" xlink:href=\"#DejaVuSans-99\"/>\n      <use x=\"241.162109\" xlink:href=\"#DejaVuSans-104\"/>\n     </g>\n    </g>\n   </g>\n   <g id=\"matplotlib.axis_2\">\n    <g id=\"ytick_1\">\n     <g id=\"line2d_8\">\n      <defs>\n       <path d=\"M 0 0 \nL -3.5 0 \n\" id=\"m09b8fa5a39\" style=\"stroke:#000000;stroke-width:0.8;\"/>\n      </defs>\n      <g>\n       <use style=\"stroke:#000000;stroke-width:0.8;\" x=\"26.925\" xlink:href=\"#m09b8fa5a39\" y=\"136.924712\"/>\n      </g>\n     </g>\n     <g id=\"text_9\">\n      <!-- 0 -->\n      <g transform=\"translate(13.5625 140.723931)scale(0.1 -0.1)\">\n       <use xlink:href=\"#DejaVuSans-48\"/>\n      </g>\n     </g>\n    </g>\n    <g id=\"ytick_2\">\n     <g id=\"line2d_9\">\n      <g>\n       <use style=\"stroke:#000000;stroke-width:0.8;\" x=\"26.925\" xlink:href=\"#m09b8fa5a39\" y=\"98.945459\"/>\n      </g>\n     </g>\n     <g id=\"text_10\">\n      <!-- 5 -->\n      <g transform=\"translate(13.5625 102.744678)scale(0.1 -0.1)\">\n       <use xlink:href=\"#DejaVuSans-53\"/>\n      </g>\n     </g>\n    </g>\n    <g id=\"ytick_3\">\n     <g id=\"line2d_10\">\n      <g>\n       <use style=\"stroke:#000000;stroke-width:0.8;\" x=\"26.925\" xlink:href=\"#m09b8fa5a39\" y=\"60.966206\"/>\n      </g>\n     </g>\n     <g id=\"text_11\">\n      <!-- 10 -->\n      <g transform=\"translate(7.2 64.765425)scale(0.1 -0.1)\">\n       <use xlink:href=\"#DejaVuSans-49\"/>\n       <use x=\"63.623047\" xlink:href=\"#DejaVuSans-48\"/>\n      </g>\n     </g>\n    </g>\n    <g id=\"ytick_4\">\n     <g id=\"line2d_11\">\n      <g>\n       <use style=\"stroke:#000000;stroke-width:0.8;\" x=\"26.925\" xlink:href=\"#m09b8fa5a39\" y=\"22.986953\"/>\n      </g>\n     </g>\n     <g id=\"text_12\">\n      <!-- 15 -->\n      <g transform=\"translate(7.2 26.786172)scale(0.1 -0.1)\">\n       <use xlink:href=\"#DejaVuSans-49\"/>\n       <use x=\"63.623047\" xlink:href=\"#DejaVuSans-53\"/>\n      </g>\n     </g>\n    </g>\n   </g>\n   <g id=\"line2d_12\">\n    <path clip-path=\"url(#p79a576d85a)\" d=\"M 42.182813 13.377273 \n\" style=\"fill:none;stroke:#1f77b4;stroke-linecap:square;stroke-width:1.5;\"/>\n   </g>\n   <g id=\"line2d_13\">\n    <path clip-path=\"url(#p79a576d85a)\" d=\"M 42.182813 13.377273 \nL 74.732812 122.686329 \n\" style=\"fill:none;stroke:#1f77b4;stroke-linecap:square;stroke-width:1.5;\"/>\n   </g>\n   <g id=\"line2d_14\">\n    <path clip-path=\"url(#p79a576d85a)\" d=\"M 42.182813 13.377273 \nL 74.732812 122.686329 \n\" style=\"fill:none;stroke:#1f77b4;stroke-linecap:square;stroke-width:1.5;\"/>\n   </g>\n   <g id=\"line2d_15\">\n    <path clip-path=\"url(#p79a576d85a)\" d=\"M 92.025 132.505911 \n\" style=\"fill:none;stroke:#ff7f0e;stroke-dasharray:5.55,2.4;stroke-dashoffset:0;stroke-width:1.5;\"/>\n   </g>\n   <g id=\"line2d_16\">\n    <path clip-path=\"url(#p79a576d85a)\" d=\"M 42.182813 13.377273 \nL 74.732812 122.686329 \nL 107.282813 134.980074 \n\" style=\"fill:none;stroke:#1f77b4;stroke-linecap:square;stroke-width:1.5;\"/>\n   </g>\n   <g id=\"line2d_17\">\n    <path clip-path=\"url(#p79a576d85a)\" d=\"M 92.025 132.505911 \n\" style=\"fill:none;stroke:#ff7f0e;stroke-dasharray:5.55,2.4;stroke-dashoffset:0;stroke-width:1.5;\"/>\n   </g>\n   <g id=\"line2d_18\">\n    <path clip-path=\"url(#p79a576d85a)\" d=\"M 42.182813 13.377273 \nL 74.732812 122.686329 \nL 107.282813 134.980074 \nL 139.832812 136.699106 \n\" style=\"fill:none;stroke:#1f77b4;stroke-linecap:square;stroke-width:1.5;\"/>\n   </g>\n   <g id=\"line2d_19\">\n    <path clip-path=\"url(#p79a576d85a)\" d=\"M 92.025 132.505911 \n\" style=\"fill:none;stroke:#ff7f0e;stroke-dasharray:5.55,2.4;stroke-dashoffset:0;stroke-width:1.5;\"/>\n   </g>\n   <g id=\"line2d_20\">\n    <path clip-path=\"url(#p79a576d85a)\" d=\"M 42.182813 13.377273 \nL 74.732812 122.686329 \nL 107.282813 134.980074 \nL 139.832812 136.699106 \n\" style=\"fill:none;stroke:#1f77b4;stroke-linecap:square;stroke-width:1.5;\"/>\n   </g>\n   <g id=\"line2d_21\">\n    <path clip-path=\"url(#p79a576d85a)\" d=\"M 92.025 132.505911 \nL 157.125 136.855351 \n\" style=\"fill:none;stroke:#ff7f0e;stroke-dasharray:5.55,2.4;stroke-dashoffset:0;stroke-width:1.5;\"/>\n   </g>\n   <g id=\"line2d_22\">\n    <path clip-path=\"url(#p79a576d85a)\" d=\"M 42.182813 13.377273 \nL 74.732812 122.686329 \nL 107.282813 134.980074 \nL 139.832812 136.699106 \nL 172.382812 136.89433 \n\" style=\"fill:none;stroke:#1f77b4;stroke-linecap:square;stroke-width:1.5;\"/>\n   </g>\n   <g id=\"line2d_23\">\n    <path clip-path=\"url(#p79a576d85a)\" d=\"M 92.025 132.505911 \nL 157.125 136.855351 \n\" style=\"fill:none;stroke:#ff7f0e;stroke-dasharray:5.55,2.4;stroke-dashoffset:0;stroke-width:1.5;\"/>\n   </g>\n   <g id=\"line2d_24\">\n    <path clip-path=\"url(#p79a576d85a)\" d=\"M 42.182813 13.377273 \nL 74.732812 122.686329 \nL 107.282813 134.980074 \nL 139.832812 136.699106 \nL 172.382812 136.89433 \nL 204.932812 136.920363 \n\" style=\"fill:none;stroke:#1f77b4;stroke-linecap:square;stroke-width:1.5;\"/>\n   </g>\n   <g id=\"line2d_25\">\n    <path clip-path=\"url(#p79a576d85a)\" d=\"M 92.025 132.505911 \nL 157.125 136.855351 \n\" style=\"fill:none;stroke:#ff7f0e;stroke-dasharray:5.55,2.4;stroke-dashoffset:0;stroke-width:1.5;\"/>\n   </g>\n   <g id=\"line2d_26\">\n    <path clip-path=\"url(#p79a576d85a)\" d=\"M 42.182813 13.377273 \nL 74.732812 122.686329 \nL 107.282813 134.980074 \nL 139.832812 136.699106 \nL 172.382812 136.89433 \nL 204.932812 136.920363 \n\" style=\"fill:none;stroke:#1f77b4;stroke-linecap:square;stroke-width:1.5;\"/>\n   </g>\n   <g id=\"line2d_27\">\n    <path clip-path=\"url(#p79a576d85a)\" d=\"M 92.025 132.505911 \nL 157.125 136.855351 \nL 222.225 136.922727 \n\" style=\"fill:none;stroke:#ff7f0e;stroke-dasharray:5.55,2.4;stroke-dashoffset:0;stroke-width:1.5;\"/>\n   </g>\n   <g id=\"patch_3\">\n    <path d=\"M 26.925 143.1 \nL 26.925 7.2 \n\" style=\"fill:none;stroke:#000000;stroke-linecap:square;stroke-linejoin:miter;stroke-width:0.8;\"/>\n   </g>\n   <g id=\"patch_4\">\n    <path d=\"M 222.225 143.1 \nL 222.225 7.2 \n\" style=\"fill:none;stroke:#000000;stroke-linecap:square;stroke-linejoin:miter;stroke-width:0.8;\"/>\n   </g>\n   <g id=\"patch_5\">\n    <path d=\"M 26.925 143.1 \nL 222.225 143.1 \n\" style=\"fill:none;stroke:#000000;stroke-linecap:square;stroke-linejoin:miter;stroke-width:0.8;\"/>\n   </g>\n   <g id=\"patch_6\">\n    <path d=\"M 26.925 7.2 \nL 222.225 7.2 \n\" style=\"fill:none;stroke:#000000;stroke-linecap:square;stroke-linejoin:miter;stroke-width:0.8;\"/>\n   </g>\n   <g id=\"legend_1\">\n    <g id=\"patch_7\">\n     <path d=\"M 135.634375 45.1125 \nL 215.225 45.1125 \nQ 217.225 45.1125 217.225 43.1125 \nL 217.225 14.2 \nQ 217.225 12.2 215.225 12.2 \nL 135.634375 12.2 \nQ 133.634375 12.2 133.634375 14.2 \nL 133.634375 43.1125 \nQ 133.634375 45.1125 135.634375 45.1125 \nz\n\" style=\"fill:#ffffff;opacity:0.8;stroke:#cccccc;stroke-linejoin:miter;\"/>\n    </g>\n    <g id=\"line2d_28\">\n     <path d=\"M 137.634375 20.298437 \nL 157.634375 20.298437 \n\" style=\"fill:none;stroke:#1f77b4;stroke-linecap:square;stroke-width:1.5;\"/>\n    </g>\n    <g id=\"line2d_29\"/>\n    <g id=\"text_13\">\n     <!-- train_loss -->\n     <defs>\n      <path d=\"M 18.3125 70.21875 \nL 18.3125 54.6875 \nL 36.8125 54.6875 \nL 36.8125 47.703125 \nL 18.3125 47.703125 \nL 18.3125 18.015625 \nQ 18.3125 11.328125 20.140625 9.421875 \nQ 21.96875 7.515625 27.59375 7.515625 \nL 36.8125 7.515625 \nL 36.8125 0 \nL 27.59375 0 \nQ 17.1875 0 13.234375 3.875 \nQ 9.28125 7.765625 9.28125 18.015625 \nL 9.28125 47.703125 \nL 2.6875 47.703125 \nL 2.6875 54.6875 \nL 9.28125 54.6875 \nL 9.28125 70.21875 \nz\n\" id=\"DejaVuSans-116\"/>\n      <path d=\"M 41.109375 46.296875 \nQ 39.59375 47.171875 37.8125 47.578125 \nQ 36.03125 48 33.890625 48 \nQ 26.265625 48 22.1875 43.046875 \nQ 18.109375 38.09375 18.109375 28.8125 \nL 18.109375 0 \nL 9.078125 0 \nL 9.078125 54.6875 \nL 18.109375 54.6875 \nL 18.109375 46.1875 \nQ 20.953125 51.171875 25.484375 53.578125 \nQ 30.03125 56 36.53125 56 \nQ 37.453125 56 38.578125 55.875 \nQ 39.703125 55.765625 41.0625 55.515625 \nz\n\" id=\"DejaVuSans-114\"/>\n      <path d=\"M 34.28125 27.484375 \nQ 23.390625 27.484375 19.1875 25 \nQ 14.984375 22.515625 14.984375 16.5 \nQ 14.984375 11.71875 18.140625 8.90625 \nQ 21.296875 6.109375 26.703125 6.109375 \nQ 34.1875 6.109375 38.703125 11.40625 \nQ 43.21875 16.703125 43.21875 25.484375 \nL 43.21875 27.484375 \nz\nM 52.203125 31.203125 \nL 52.203125 0 \nL 43.21875 0 \nL 43.21875 8.296875 \nQ 40.140625 3.328125 35.546875 0.953125 \nQ 30.953125 -1.421875 24.3125 -1.421875 \nQ 15.921875 -1.421875 10.953125 3.296875 \nQ 6 8.015625 6 15.921875 \nQ 6 25.140625 12.171875 29.828125 \nQ 18.359375 34.515625 30.609375 34.515625 \nL 43.21875 34.515625 \nL 43.21875 35.40625 \nQ 43.21875 41.609375 39.140625 45 \nQ 35.0625 48.390625 27.6875 48.390625 \nQ 23 48.390625 18.546875 47.265625 \nQ 14.109375 46.140625 10.015625 43.890625 \nL 10.015625 52.203125 \nQ 14.9375 54.109375 19.578125 55.046875 \nQ 24.21875 56 28.609375 56 \nQ 40.484375 56 46.34375 49.84375 \nQ 52.203125 43.703125 52.203125 31.203125 \nz\n\" id=\"DejaVuSans-97\"/>\n      <path d=\"M 9.421875 54.6875 \nL 18.40625 54.6875 \nL 18.40625 0 \nL 9.421875 0 \nz\nM 9.421875 75.984375 \nL 18.40625 75.984375 \nL 18.40625 64.59375 \nL 9.421875 64.59375 \nz\n\" id=\"DejaVuSans-105\"/>\n      <path d=\"M 54.890625 33.015625 \nL 54.890625 0 \nL 45.90625 0 \nL 45.90625 32.71875 \nQ 45.90625 40.484375 42.875 44.328125 \nQ 39.84375 48.1875 33.796875 48.1875 \nQ 26.515625 48.1875 22.3125 43.546875 \nQ 18.109375 38.921875 18.109375 30.90625 \nL 18.109375 0 \nL 9.078125 0 \nL 9.078125 54.6875 \nL 18.109375 54.6875 \nL 18.109375 46.1875 \nQ 21.34375 51.125 25.703125 53.5625 \nQ 30.078125 56 35.796875 56 \nQ 45.21875 56 50.046875 50.171875 \nQ 54.890625 44.34375 54.890625 33.015625 \nz\n\" id=\"DejaVuSans-110\"/>\n      <path d=\"M 50.984375 -16.609375 \nL 50.984375 -23.578125 \nL -0.984375 -23.578125 \nL -0.984375 -16.609375 \nz\n\" id=\"DejaVuSans-95\"/>\n      <path d=\"M 9.421875 75.984375 \nL 18.40625 75.984375 \nL 18.40625 0 \nL 9.421875 0 \nz\n\" id=\"DejaVuSans-108\"/>\n      <path d=\"M 44.28125 53.078125 \nL 44.28125 44.578125 \nQ 40.484375 46.53125 36.375 47.5 \nQ 32.28125 48.484375 27.875 48.484375 \nQ 21.1875 48.484375 17.84375 46.4375 \nQ 14.5 44.390625 14.5 40.28125 \nQ 14.5 37.15625 16.890625 35.375 \nQ 19.28125 33.59375 26.515625 31.984375 \nL 29.59375 31.296875 \nQ 39.15625 29.25 43.1875 25.515625 \nQ 47.21875 21.78125 47.21875 15.09375 \nQ 47.21875 7.46875 41.1875 3.015625 \nQ 35.15625 -1.421875 24.609375 -1.421875 \nQ 20.21875 -1.421875 15.453125 -0.5625 \nQ 10.6875 0.296875 5.421875 2 \nL 5.421875 11.28125 \nQ 10.40625 8.6875 15.234375 7.390625 \nQ 20.0625 6.109375 24.8125 6.109375 \nQ 31.15625 6.109375 34.5625 8.28125 \nQ 37.984375 10.453125 37.984375 14.40625 \nQ 37.984375 18.0625 35.515625 20.015625 \nQ 33.0625 21.96875 24.703125 23.78125 \nL 21.578125 24.515625 \nQ 13.234375 26.265625 9.515625 29.90625 \nQ 5.8125 33.546875 5.8125 39.890625 \nQ 5.8125 47.609375 11.28125 51.796875 \nQ 16.75 56 26.8125 56 \nQ 31.78125 56 36.171875 55.265625 \nQ 40.578125 54.546875 44.28125 53.078125 \nz\n\" id=\"DejaVuSans-115\"/>\n     </defs>\n     <g transform=\"translate(165.634375 23.798437)scale(0.1 -0.1)\">\n      <use xlink:href=\"#DejaVuSans-116\"/>\n      <use x=\"39.208984\" xlink:href=\"#DejaVuSans-114\"/>\n      <use x=\"80.322266\" xlink:href=\"#DejaVuSans-97\"/>\n      <use x=\"141.601562\" xlink:href=\"#DejaVuSans-105\"/>\n      <use x=\"169.384766\" xlink:href=\"#DejaVuSans-110\"/>\n      <use x=\"232.763672\" xlink:href=\"#DejaVuSans-95\"/>\n      <use x=\"282.763672\" xlink:href=\"#DejaVuSans-108\"/>\n      <use x=\"310.546875\" xlink:href=\"#DejaVuSans-111\"/>\n      <use x=\"371.728516\" xlink:href=\"#DejaVuSans-115\"/>\n      <use x=\"423.828125\" xlink:href=\"#DejaVuSans-115\"/>\n     </g>\n    </g>\n    <g id=\"line2d_30\">\n     <path d=\"M 137.634375 35.254687 \nL 157.634375 35.254687 \n\" style=\"fill:none;stroke:#ff7f0e;stroke-dasharray:5.55,2.4;stroke-dashoffset:0;stroke-width:1.5;\"/>\n    </g>\n    <g id=\"line2d_31\"/>\n    <g id=\"text_14\">\n     <!-- val_loss -->\n     <defs>\n      <path d=\"M 2.984375 54.6875 \nL 12.5 54.6875 \nL 29.59375 8.796875 \nL 46.6875 54.6875 \nL 56.203125 54.6875 \nL 35.6875 0 \nL 23.484375 0 \nz\n\" id=\"DejaVuSans-118\"/>\n     </defs>\n     <g transform=\"translate(165.634375 38.754687)scale(0.1 -0.1)\">\n      <use xlink:href=\"#DejaVuSans-118\"/>\n      <use x=\"59.179688\" xlink:href=\"#DejaVuSans-97\"/>\n      <use x=\"120.458984\" xlink:href=\"#DejaVuSans-108\"/>\n      <use x=\"148.242188\" xlink:href=\"#DejaVuSans-95\"/>\n      <use x=\"198.242188\" xlink:href=\"#DejaVuSans-108\"/>\n      <use x=\"226.025391\" xlink:href=\"#DejaVuSans-111\"/>\n      <use x=\"287.207031\" xlink:href=\"#DejaVuSans-115\"/>\n      <use x=\"339.306641\" xlink:href=\"#DejaVuSans-115\"/>\n     </g>\n    </g>\n   </g>\n  </g>\n </g>\n <defs>\n  <clipPath id=\"p79a576d85a\">\n   <rect height=\"135.9\" width=\"195.3\" x=\"26.925\" y=\"7.2\"/>\n  </clipPath>\n </defs>\n</svg>\n"
          },
          "metadata": {
            "needs_background": "light"
          }
        }
      ]
    },
    {
      "cell_type": "code",
      "source": [
        "@d2l.add_to_class(LinearRegression)\n",
        "def get_w_b(self):\n",
        "    return (self.net.weight.data, self.net.bias.data)\n",
        "w, b = model.get_w_b()\n",
        "\n",
        "print(f'error in estimating w: {data.w - w.reshape(data.w.shape)}')\n",
        "print(f'error in estimating b: {data.b - b}')"
      ],
      "metadata": {
        "colab": {
          "base_uri": "https://localhost:8080/"
        },
        "id": "oragT1zG7svr",
        "outputId": "307d08a5-9172-4b1f-ddc7-08eb5c99823f"
      },
      "execution_count": 49,
      "outputs": [
        {
          "output_type": "stream",
          "name": "stdout",
          "text": [
            "error in estimating w: tensor([ 0.0047, -0.0080])\n",
            "error in estimating b: tensor([0.0070])\n"
          ]
        }
      ]
    },
    {
      "cell_type": "markdown",
      "source": [
        "## **3.6. 泛化（Generalization）**\n",
        "\n",
        "与基础分布相比，更接近我们的训练数据的现象被称为 **过拟合（*overfitting*）**，而对抗过拟合的技术通常被称为 **正则化方法（*regularization methods*）**。"
      ],
      "metadata": {
        "id": "DjqpZEKq9FIu"
      }
    },
    {
      "cell_type": "markdown",
      "source": [
        "### **3.6.1. 训练误差和泛化误差（Training Error and Generalization Error）**\n",
        "\n",
        "我们需要区分 **训练误差（*training error*）**和 **泛化误差（*generalization error*）**。通俗来讲，前者指模型在**训练数据集上表现出的误差**，后者指模型在**任意一个测试数据样本上表现出的误差的期望**，并常常通过测试数据集上的误差来近似。\n",
        "\n",
        "在机器学习里，我们通常假设训练数据集（训练题）和测试数据集（测试题）里的每一个样本都是从同一个概率分布中相互独立地生成的。基于该独立同分布假设，给定任意一个机器学习模型（含参数），它的训练误差的期望和泛化误差都是一样的。一般情况下，由训练数据集学到的模型参数会使模型在训练数据集上的表现**优于或等于在测试数据集上的表**现。由于无法从训练误差估计泛化误差，**一味地降低训练误差并不意味着泛化误差一定会降低**。\n",
        "\n",
        "**机器学习模型应关注降低泛化误差。**"
      ],
      "metadata": {
        "id": "QBoNBHhW9FW4"
      }
    },
    {
      "cell_type": "markdown",
      "source": [
        "### **3.6.2. 欠拟合或过拟合（Underfitting or Overfitting）**\n",
        "\n",
        "接下来，我们将探究模型训练中经常出现的两类典型问题：一类是模型无法得到较低的训练误差，我们将这一现象称作 **欠拟合（*underfitting*）**；另一类是模型的训练误差远小于它在测试数据集上的误差，我们称该现象为 **过拟合（*overfitting*）**。在实践中，我们要尽可能同时应对欠拟合和过拟合。虽然有很多因素可能导致这两种拟合问题，在这里我们重点讨论两个因素：模型复杂度和训练数据集大小。"
      ],
      "metadata": {
        "id": "n182zCKv-Sbt"
      }
    },
    {
      "cell_type": "markdown",
      "source": [
        "**3.6.2.1. 多项式曲线解释模型复杂度（Polynomial Curve Fitting）**\n",
        "\n",
        "为了解释模型复杂度，我们以多项式函数拟合为例。给定一个由标量数据特征 $x$ 和对应的标量标签 $y$ 组成的训练数据集，多项式函数拟合的目标是找一个 $K$ 阶多项式函数\n",
        "\n",
        "$$\\hat{y} = \\sum_{i=1}^{d}x^{i}w_{i}$$\n",
        "\n",
        "来近似 $y$。在上式中，$w_{i}$ 是模型的权重参数。与线性回归相同，多项式函数拟合也使用平方损失函数。特别地，一阶多项式函数拟合又叫线性函数拟合。\n",
        "\n",
        "因为高阶多项式函数模型**参数更多**，模型函数的选择空间更大，所以高阶多项式函数比低阶多项式函数的**复杂度更高**。因此，高阶多项式函数比低阶多项式函数更容易在相同的训练数据集上得到更低的训练误差。给定训练数据集，模型复杂度和误差之间的关系通常如下图所示。给定训练数据集，如果模型的**复杂度过低**，很容易出现**欠拟合**；如果模型**复杂度过高**，很容易出现**过拟合**。应对欠拟合和过拟合的一个办法是针对数据集选择合适复杂度的模型。\n",
        "\n",
        "<center><img src=\"https://drive.google.com/uc?export=view&id=13yxQwoY4WVKBLNmfagB_RdAJQxVOeElz\" width=375px /></center>\n"
      ],
      "metadata": {
        "id": "NDouxCZj-8bL"
      }
    },
    {
      "cell_type": "markdown",
      "source": [
        "**3.6.2.2. 数据集大小（Dataset Size）**\n",
        "\n",
        "影响欠拟合和过拟合的另一个重要因素是 **训练数据集的大小**。一般来说，如果训练数据集中样本数过少，特别是比模型参数数量（按元素计）更少时，过拟合更容易发生。此外，泛化误差不会随训练数据集里样本数量增加而增大。因此，在计算资源允许的范围之内，我们通常希望训练数据集大一些，特别是在模型复杂度较高时，例如层数较多的深度学习模型。"
      ],
      "metadata": {
        "id": "Ym94XhVFAW8S"
      }
    },
    {
      "cell_type": "markdown",
      "source": [
        "### **3.6.3. 模型选择（Model Selection）**\n",
        "\n",
        "在机器学习中，通常需要评估若干候选模型的表现并从中选择模型。这一过程称为 **模型选择（*model selection*）**。为了得到有效的模型，我们通常要在模型选择上下一番功夫。\n",
        "\n",
        "从严格意义上讲，测试集只能在所有超参数和模型参数选定后使用一次。不可以使用测试数据选择模型，如调参。由于无法从训练误差估计泛化误差，因此也不应只依赖训练数据选择模型。鉴于此，我们可以预留一部分在训练数据集和测试数据集以外的数据来进行模型选择。这部分数据被称为 **验证数据集（*validation data set*）**，简称 **验证集（*validation set*）**。例如，我们可以从给定的训练集中随机选取一小部分作为验证集，而将剩余部分作为真正的训练集。\n",
        "\n",
        "然而在实际应用中，由于数据不容易获取，测试数据极少只使用一次就丢弃。因此，实践中验证数据集和测试数据集的界限可能比较模糊。"
      ],
      "metadata": {
        "id": "_K76ZrPdA0M9"
      }
    },
    {
      "cell_type": "markdown",
      "source": [
        "**3.6.3.1. 交叉验证（Cross-Validation）**\n",
        "\n",
        "由于验证数据集不参与模型训练，当训练数据不够用时，预留大量的验证数据显得太奢侈。一种改善的方法是 **$K$折交叉验证（*$K$-fold cross-validation*）**。在 $K$折交叉验证中，我们把原始训练数据集分割成 $K$ 个不重合的子数据集，然后我们做 $K$ 次模型训练和验证。每一次，我们使用一个子数据集验证模型，并使用其他 $K−1$ 个子数据集来训练模型。在这 $K$ 次训练和验证中，每次用来验证模型的子数据集都不同。最后，我们对这 $K$ 次训练误差和验证误差分别求平均。"
      ],
      "metadata": {
        "id": "UOeWdDiXBlCk"
      }
    },
    {
      "cell_type": "markdown",
      "source": [
        "## **3.7. 权重衰减（Weight Decay）**\n",
        "\n",
        "在 3.6 中我们观察了过拟合现象，即模型的训练误差远小于它在测试集上的误差。虽然增大训练数据集可能会减轻过拟合，但是获取额外的训练数据往往代价高昂。本节介绍应对过拟合问题的常用方法：**权重衰减（*weight decay*）**。权重衰减不是直接操纵参数的数量，而是通过限制参数的取值来操作。"
      ],
      "metadata": {
        "id": "6Mt_2lqyvzCM"
      }
    },
    {
      "cell_type": "markdown",
      "source": [
        "### **3.7.1. 范数和权重衰减（Norms and Weight Decay）**\n",
        "\n",
        "权重衰减等价于 **$\\ell_2$ 范数正则化（*regularization*）**。正则化通过为模型损失函数添加惩罚项使学出的模型参数值较小，是应对过拟合的常用手段。我们先描述 $\\ell_2$ 范数正则化，再解释它为何又称权重衰减。\n",
        "\n",
        "$\\ell_2$ 范数正则化在模型原损失函数基础上添加 $\\ell_2$ 范数惩罚项，从而得到训练所需要最小化的函数。$\\ell_2$ 范数惩罚项指的是模型权重参数每个元素的平方和与一个正的常数的乘积。以线性回归中的线性回归损失函数\n",
        "\n",
        "$$L(\\mathbf{w}, b) = \\frac{1}{n}\\sum_{i=1}^n \\frac{1}{2}\\left(\\mathbf{w}^\\top \\mathbf{x}^{(i)} + b - y^{(i)}\\right)^2.$$\n",
        "\n",
        "为例，其中 $\\mathbf{w}$ 是权重参数，$b$ 是偏差参数，样本 $i$ 的输入为 $x^{(i)}$，标签为 $y^{(i)}$，样本数为. $n$。带有 $\\ell_2$ 范数惩罚项的新损失函数为\n",
        "\n",
        "$$L(\\mathbf{w}, b) + \\frac{\\lambda}{2} \\|\\mathbf{w}\\|^2.$$\n",
        "\n",
        "其中超参数 $\\lambda>0$。当权重参数均为0时，惩罚项最小。当 $\\lambda$ 较大时，惩罚项在损失函数中的比重较大，这通常会使学到的权重参数的元素较接近0。当 $\\lambda$ 设为0时，惩罚项完全不起作用。有了 $\\ell_2$ 范数惩罚项后，在小批量随机梯度下降中，我们将线性回归中权重 $\\mathbf{w}$ 的迭代方式更改为\n",
        "\n",
        "$$\\begin{aligned}\n",
        "\\mathbf{w} & \\leftarrow \\left(1- \\eta\\lambda \\right) \\mathbf{w} - \\frac{\\eta}{|\\mathcal{B}|} \\sum_{i \\in \\mathcal{B}} \\mathbf{x}^{(i)} \\left(\\mathbf{w}^\\top \\mathbf{x}^{(i)} + b - y^{(i)}\\right).\n",
        "\\end{aligned}$$\n",
        "\n",
        "可见，$\\ell_2$ 范数正则化令权重 $\\mathbf{w}$ 先自乘小于1的数，再减去不含惩罚项的梯度。因此，$\\ell_2$ 范数正则化又叫权重衰减。权重衰减通过惩罚绝对值较大的模型参数为需要学习的模型增加了限制，这可能对过拟合有效。实际场景中，我们有时也在惩罚项中添加偏差元素的平方和。\n"
      ],
      "metadata": {
        "id": "Y0CbBH_Ewgkl"
      }
    },
    {
      "cell_type": "markdown",
      "source": [
        "### **3.7.2. 高维线性回归实验（High-Dimensional Linear Regression）**"
      ],
      "metadata": {
        "id": "L1yTgP63yv-I"
      }
    },
    {
      "cell_type": "code",
      "source": [
        "%matplotlib inline\n",
        "import torch\n",
        "from torch import nn\n",
        "from d2l import torch as d2l"
      ],
      "metadata": {
        "id": "9Z7GZQSg7u4m"
      },
      "execution_count": 50,
      "outputs": []
    },
    {
      "cell_type": "markdown",
      "source": [
        "首先，我们生成一些数据:\n",
        "\n",
        "$$y = 0.05 + \\sum_{i = 1}^d 0.01 x_i + \\epsilon \\text{ where }\n",
        "\\epsilon \\sim \\mathcal{N}(0, 0.01^2).$$\n",
        "\n",
        "在这个合成数据集中，我们的标签是由我们的输入的基本线性函数给出的，被均值为0、标准差为0.01的高斯噪声所破坏。为了说明问题，我们可以把问题的维度提高到 $d = 200$，并使用一个只有20个例子的小型训练集，从而使过拟合的影响变得明显。\n"
      ],
      "metadata": {
        "id": "jWKcJXmCzBTj"
      }
    },
    {
      "cell_type": "code",
      "source": [
        "class Data(d2l.DataModule):\n",
        "    def __init__(self, num_train, num_val, num_inputs, batch_size):\n",
        "        self.save_hyperparameters()\n",
        "        n = num_train + num_val\n",
        "        self.X = torch.randn(n, num_inputs)\n",
        "        noise = torch.randn(n, 1) * 0.01\n",
        "        w, b = torch.ones((num_inputs, 1)) * 0.01, 0.05\n",
        "        self.y = torch.matmul(self.X, w) + b + noise\n",
        "\n",
        "    def get_dataloader(self, train):\n",
        "        i = slice(0, self.num_train) if train else slice(self.num_train, None)\n",
        "        return self.get_tensorloader([self.X, self.y], train, i)"
      ],
      "metadata": {
        "id": "0FRI9I3FzVYH"
      },
      "execution_count": 51,
      "outputs": []
    },
    {
      "cell_type": "markdown",
      "source": [
        "### **3.7.3. 从零开始实现（Implementation from Scratch）**"
      ],
      "metadata": {
        "id": "-peJ2BhvzamL"
      }
    },
    {
      "cell_type": "code",
      "source": [
        "def l2_penalty(w):\n",
        "    return (w ** 2).sum() / 2"
      ],
      "metadata": {
        "id": "lp5wLtzJzXqs"
      },
      "execution_count": 52,
      "outputs": []
    },
    {
      "cell_type": "code",
      "source": [
        "class WeightDecayScratch(d2l.LinearRegressionScratch):\n",
        "    def __init__(self, num_inputs, lambd, lr, sigma=0.01):\n",
        "        super().__init__(num_inputs, lr, sigma)\n",
        "        self.save_hyperparameters()\n",
        "\n",
        "    def loss(self, y_hat, y):\n",
        "        return (super().loss(y_hat, y) +\n",
        "                self.lambd * l2_penalty(self.w))"
      ],
      "metadata": {
        "id": "hN0lGa1wzcJZ"
      },
      "execution_count": 53,
      "outputs": []
    },
    {
      "cell_type": "code",
      "source": [
        "data = Data(num_train=20, num_val=100, num_inputs=200, batch_size=5)\n",
        "trainer = d2l.Trainer(max_epochs=10)\n",
        "\n",
        "def train_scratch(lambd):\n",
        "    model = WeightDecayScratch(num_inputs=200, lambd=lambd, lr=0.01)\n",
        "    model.board.yscale='log'\n",
        "    trainer.fit(model, data)\n",
        "    print('L2 norm of w:', float(l2_penalty(model.w)))"
      ],
      "metadata": {
        "id": "CQyniy-jzdL5"
      },
      "execution_count": 54,
      "outputs": []
    },
    {
      "cell_type": "markdown",
      "source": [
        "我们现在用 `lambd = 0` 运行这段代码，禁用权重衰减。请注意，我们严重过拟合，降低了训练误差，但没有降低验证误差--这是一个教科书式的过拟合案例。"
      ],
      "metadata": {
        "id": "LXJa2d8xzipV"
      }
    },
    {
      "cell_type": "code",
      "source": [
        "train_scratch(0)"
      ],
      "metadata": {
        "colab": {
          "base_uri": "https://localhost:8080/",
          "height": 280
        },
        "id": "jTBt1s-VzeNk",
        "outputId": "97723180-9ce1-4682-dec1-bb10ff3c2d6e"
      },
      "execution_count": 55,
      "outputs": [
        {
          "output_type": "stream",
          "name": "stdout",
          "text": [
            "L2 norm of w: 0.009607909247279167\n"
          ]
        },
        {
          "output_type": "display_data",
          "data": {
            "text/plain": [
              "<Figure size 252x180 with 1 Axes>"
            ],
            "image/svg+xml": "<?xml version=\"1.0\" encoding=\"utf-8\" standalone=\"no\"?>\n<!DOCTYPE svg PUBLIC \"-//W3C//DTD SVG 1.1//EN\"\n  \"http://www.w3.org/Graphics/SVG/1.1/DTD/svg11.dtd\">\n<!-- Created with matplotlib (https://matplotlib.org/) -->\n<svg height=\"180.65625pt\" version=\"1.1\" viewBox=\"0 0 246.5625 180.65625\" width=\"246.5625pt\" xmlns=\"http://www.w3.org/2000/svg\" xmlns:xlink=\"http://www.w3.org/1999/xlink\">\n <defs>\n  <style type=\"text/css\">\n*{stroke-linecap:butt;stroke-linejoin:round;}\n  </style>\n </defs>\n <g id=\"figure_1\">\n  <g id=\"patch_1\">\n   <path d=\"M 0 180.65625 \nL 246.5625 180.65625 \nL 246.5625 0 \nL 0 0 \nz\n\" style=\"fill:none;\"/>\n  </g>\n  <g id=\"axes_1\">\n   <g id=\"patch_2\">\n    <path d=\"M 37.7 143.1 \nL 233 143.1 \nL 233 7.2 \nL 37.7 7.2 \nz\n\" style=\"fill:#ffffff;\"/>\n   </g>\n   <g id=\"matplotlib.axis_1\">\n    <g id=\"xtick_1\">\n     <g id=\"line2d_1\">\n      <defs>\n       <path d=\"M 0 0 \nL 0 3.5 \n\" id=\"m6a4fb6647d\" style=\"stroke:#000000;stroke-width:0.8;\"/>\n      </defs>\n      <g>\n       <use style=\"stroke:#000000;stroke-width:0.8;\" x=\"37.7\" xlink:href=\"#m6a4fb6647d\" y=\"143.1\"/>\n      </g>\n     </g>\n     <g id=\"text_1\">\n      <!-- 0 -->\n      <defs>\n       <path d=\"M 31.78125 66.40625 \nQ 24.171875 66.40625 20.328125 58.90625 \nQ 16.5 51.421875 16.5 36.375 \nQ 16.5 21.390625 20.328125 13.890625 \nQ 24.171875 6.390625 31.78125 6.390625 \nQ 39.453125 6.390625 43.28125 13.890625 \nQ 47.125 21.390625 47.125 36.375 \nQ 47.125 51.421875 43.28125 58.90625 \nQ 39.453125 66.40625 31.78125 66.40625 \nz\nM 31.78125 74.21875 \nQ 44.046875 74.21875 50.515625 64.515625 \nQ 56.984375 54.828125 56.984375 36.375 \nQ 56.984375 17.96875 50.515625 8.265625 \nQ 44.046875 -1.421875 31.78125 -1.421875 \nQ 19.53125 -1.421875 13.0625 8.265625 \nQ 6.59375 17.96875 6.59375 36.375 \nQ 6.59375 54.828125 13.0625 64.515625 \nQ 19.53125 74.21875 31.78125 74.21875 \nz\n\" id=\"DejaVuSans-48\"/>\n      </defs>\n      <g transform=\"translate(34.51875 157.698438)scale(0.1 -0.1)\">\n       <use xlink:href=\"#DejaVuSans-48\"/>\n      </g>\n     </g>\n    </g>\n    <g id=\"xtick_2\">\n     <g id=\"line2d_2\">\n      <g>\n       <use style=\"stroke:#000000;stroke-width:0.8;\" x=\"76.76\" xlink:href=\"#m6a4fb6647d\" y=\"143.1\"/>\n      </g>\n     </g>\n     <g id=\"text_2\">\n      <!-- 2 -->\n      <defs>\n       <path d=\"M 19.1875 8.296875 \nL 53.609375 8.296875 \nL 53.609375 0 \nL 7.328125 0 \nL 7.328125 8.296875 \nQ 12.9375 14.109375 22.625 23.890625 \nQ 32.328125 33.6875 34.8125 36.53125 \nQ 39.546875 41.84375 41.421875 45.53125 \nQ 43.3125 49.21875 43.3125 52.78125 \nQ 43.3125 58.59375 39.234375 62.25 \nQ 35.15625 65.921875 28.609375 65.921875 \nQ 23.96875 65.921875 18.8125 64.3125 \nQ 13.671875 62.703125 7.8125 59.421875 \nL 7.8125 69.390625 \nQ 13.765625 71.78125 18.9375 73 \nQ 24.125 74.21875 28.421875 74.21875 \nQ 39.75 74.21875 46.484375 68.546875 \nQ 53.21875 62.890625 53.21875 53.421875 \nQ 53.21875 48.921875 51.53125 44.890625 \nQ 49.859375 40.875 45.40625 35.40625 \nQ 44.1875 33.984375 37.640625 27.21875 \nQ 31.109375 20.453125 19.1875 8.296875 \nz\n\" id=\"DejaVuSans-50\"/>\n      </defs>\n      <g transform=\"translate(73.57875 157.698438)scale(0.1 -0.1)\">\n       <use xlink:href=\"#DejaVuSans-50\"/>\n      </g>\n     </g>\n    </g>\n    <g id=\"xtick_3\">\n     <g id=\"line2d_3\">\n      <g>\n       <use style=\"stroke:#000000;stroke-width:0.8;\" x=\"115.82\" xlink:href=\"#m6a4fb6647d\" y=\"143.1\"/>\n      </g>\n     </g>\n     <g id=\"text_3\">\n      <!-- 4 -->\n      <defs>\n       <path d=\"M 37.796875 64.3125 \nL 12.890625 25.390625 \nL 37.796875 25.390625 \nz\nM 35.203125 72.90625 \nL 47.609375 72.90625 \nL 47.609375 25.390625 \nL 58.015625 25.390625 \nL 58.015625 17.1875 \nL 47.609375 17.1875 \nL 47.609375 0 \nL 37.796875 0 \nL 37.796875 17.1875 \nL 4.890625 17.1875 \nL 4.890625 26.703125 \nz\n\" id=\"DejaVuSans-52\"/>\n      </defs>\n      <g transform=\"translate(112.63875 157.698438)scale(0.1 -0.1)\">\n       <use xlink:href=\"#DejaVuSans-52\"/>\n      </g>\n     </g>\n    </g>\n    <g id=\"xtick_4\">\n     <g id=\"line2d_4\">\n      <g>\n       <use style=\"stroke:#000000;stroke-width:0.8;\" x=\"154.88\" xlink:href=\"#m6a4fb6647d\" y=\"143.1\"/>\n      </g>\n     </g>\n     <g id=\"text_4\">\n      <!-- 6 -->\n      <defs>\n       <path d=\"M 33.015625 40.375 \nQ 26.375 40.375 22.484375 35.828125 \nQ 18.609375 31.296875 18.609375 23.390625 \nQ 18.609375 15.53125 22.484375 10.953125 \nQ 26.375 6.390625 33.015625 6.390625 \nQ 39.65625 6.390625 43.53125 10.953125 \nQ 47.40625 15.53125 47.40625 23.390625 \nQ 47.40625 31.296875 43.53125 35.828125 \nQ 39.65625 40.375 33.015625 40.375 \nz\nM 52.59375 71.296875 \nL 52.59375 62.3125 \nQ 48.875 64.0625 45.09375 64.984375 \nQ 41.3125 65.921875 37.59375 65.921875 \nQ 27.828125 65.921875 22.671875 59.328125 \nQ 17.53125 52.734375 16.796875 39.40625 \nQ 19.671875 43.65625 24.015625 45.921875 \nQ 28.375 48.1875 33.59375 48.1875 \nQ 44.578125 48.1875 50.953125 41.515625 \nQ 57.328125 34.859375 57.328125 23.390625 \nQ 57.328125 12.15625 50.6875 5.359375 \nQ 44.046875 -1.421875 33.015625 -1.421875 \nQ 20.359375 -1.421875 13.671875 8.265625 \nQ 6.984375 17.96875 6.984375 36.375 \nQ 6.984375 53.65625 15.1875 63.9375 \nQ 23.390625 74.21875 37.203125 74.21875 \nQ 40.921875 74.21875 44.703125 73.484375 \nQ 48.484375 72.75 52.59375 71.296875 \nz\n\" id=\"DejaVuSans-54\"/>\n      </defs>\n      <g transform=\"translate(151.69875 157.698438)scale(0.1 -0.1)\">\n       <use xlink:href=\"#DejaVuSans-54\"/>\n      </g>\n     </g>\n    </g>\n    <g id=\"xtick_5\">\n     <g id=\"line2d_5\">\n      <g>\n       <use style=\"stroke:#000000;stroke-width:0.8;\" x=\"193.94\" xlink:href=\"#m6a4fb6647d\" y=\"143.1\"/>\n      </g>\n     </g>\n     <g id=\"text_5\">\n      <!-- 8 -->\n      <defs>\n       <path d=\"M 31.78125 34.625 \nQ 24.75 34.625 20.71875 30.859375 \nQ 16.703125 27.09375 16.703125 20.515625 \nQ 16.703125 13.921875 20.71875 10.15625 \nQ 24.75 6.390625 31.78125 6.390625 \nQ 38.8125 6.390625 42.859375 10.171875 \nQ 46.921875 13.96875 46.921875 20.515625 \nQ 46.921875 27.09375 42.890625 30.859375 \nQ 38.875 34.625 31.78125 34.625 \nz\nM 21.921875 38.8125 \nQ 15.578125 40.375 12.03125 44.71875 \nQ 8.5 49.078125 8.5 55.328125 \nQ 8.5 64.0625 14.71875 69.140625 \nQ 20.953125 74.21875 31.78125 74.21875 \nQ 42.671875 74.21875 48.875 69.140625 \nQ 55.078125 64.0625 55.078125 55.328125 \nQ 55.078125 49.078125 51.53125 44.71875 \nQ 48 40.375 41.703125 38.8125 \nQ 48.828125 37.15625 52.796875 32.3125 \nQ 56.78125 27.484375 56.78125 20.515625 \nQ 56.78125 9.90625 50.3125 4.234375 \nQ 43.84375 -1.421875 31.78125 -1.421875 \nQ 19.734375 -1.421875 13.25 4.234375 \nQ 6.78125 9.90625 6.78125 20.515625 \nQ 6.78125 27.484375 10.78125 32.3125 \nQ 14.796875 37.15625 21.921875 38.8125 \nz\nM 18.3125 54.390625 \nQ 18.3125 48.734375 21.84375 45.5625 \nQ 25.390625 42.390625 31.78125 42.390625 \nQ 38.140625 42.390625 41.71875 45.5625 \nQ 45.3125 48.734375 45.3125 54.390625 \nQ 45.3125 60.0625 41.71875 63.234375 \nQ 38.140625 66.40625 31.78125 66.40625 \nQ 25.390625 66.40625 21.84375 63.234375 \nQ 18.3125 60.0625 18.3125 54.390625 \nz\n\" id=\"DejaVuSans-56\"/>\n      </defs>\n      <g transform=\"translate(190.75875 157.698438)scale(0.1 -0.1)\">\n       <use xlink:href=\"#DejaVuSans-56\"/>\n      </g>\n     </g>\n    </g>\n    <g id=\"xtick_6\">\n     <g id=\"line2d_6\">\n      <g>\n       <use style=\"stroke:#000000;stroke-width:0.8;\" x=\"233\" xlink:href=\"#m6a4fb6647d\" y=\"143.1\"/>\n      </g>\n     </g>\n     <g id=\"text_6\">\n      <!-- 10 -->\n      <defs>\n       <path d=\"M 12.40625 8.296875 \nL 28.515625 8.296875 \nL 28.515625 63.921875 \nL 10.984375 60.40625 \nL 10.984375 69.390625 \nL 28.421875 72.90625 \nL 38.28125 72.90625 \nL 38.28125 8.296875 \nL 54.390625 8.296875 \nL 54.390625 0 \nL 12.40625 0 \nz\n\" id=\"DejaVuSans-49\"/>\n      </defs>\n      <g transform=\"translate(226.6375 157.698438)scale(0.1 -0.1)\">\n       <use xlink:href=\"#DejaVuSans-49\"/>\n       <use x=\"63.623047\" xlink:href=\"#DejaVuSans-48\"/>\n      </g>\n     </g>\n    </g>\n    <g id=\"text_7\">\n     <!-- epoch -->\n     <defs>\n      <path d=\"M 56.203125 29.59375 \nL 56.203125 25.203125 \nL 14.890625 25.203125 \nQ 15.484375 15.921875 20.484375 11.0625 \nQ 25.484375 6.203125 34.421875 6.203125 \nQ 39.59375 6.203125 44.453125 7.46875 \nQ 49.3125 8.734375 54.109375 11.28125 \nL 54.109375 2.78125 \nQ 49.265625 0.734375 44.1875 -0.34375 \nQ 39.109375 -1.421875 33.890625 -1.421875 \nQ 20.796875 -1.421875 13.15625 6.1875 \nQ 5.515625 13.8125 5.515625 26.8125 \nQ 5.515625 40.234375 12.765625 48.109375 \nQ 20.015625 56 32.328125 56 \nQ 43.359375 56 49.78125 48.890625 \nQ 56.203125 41.796875 56.203125 29.59375 \nz\nM 47.21875 32.234375 \nQ 47.125 39.59375 43.09375 43.984375 \nQ 39.0625 48.390625 32.421875 48.390625 \nQ 24.90625 48.390625 20.390625 44.140625 \nQ 15.875 39.890625 15.1875 32.171875 \nz\n\" id=\"DejaVuSans-101\"/>\n      <path d=\"M 18.109375 8.203125 \nL 18.109375 -20.796875 \nL 9.078125 -20.796875 \nL 9.078125 54.6875 \nL 18.109375 54.6875 \nL 18.109375 46.390625 \nQ 20.953125 51.265625 25.265625 53.625 \nQ 29.59375 56 35.59375 56 \nQ 45.5625 56 51.78125 48.09375 \nQ 58.015625 40.1875 58.015625 27.296875 \nQ 58.015625 14.40625 51.78125 6.484375 \nQ 45.5625 -1.421875 35.59375 -1.421875 \nQ 29.59375 -1.421875 25.265625 0.953125 \nQ 20.953125 3.328125 18.109375 8.203125 \nz\nM 48.6875 27.296875 \nQ 48.6875 37.203125 44.609375 42.84375 \nQ 40.53125 48.484375 33.40625 48.484375 \nQ 26.265625 48.484375 22.1875 42.84375 \nQ 18.109375 37.203125 18.109375 27.296875 \nQ 18.109375 17.390625 22.1875 11.75 \nQ 26.265625 6.109375 33.40625 6.109375 \nQ 40.53125 6.109375 44.609375 11.75 \nQ 48.6875 17.390625 48.6875 27.296875 \nz\n\" id=\"DejaVuSans-112\"/>\n      <path d=\"M 30.609375 48.390625 \nQ 23.390625 48.390625 19.1875 42.75 \nQ 14.984375 37.109375 14.984375 27.296875 \nQ 14.984375 17.484375 19.15625 11.84375 \nQ 23.34375 6.203125 30.609375 6.203125 \nQ 37.796875 6.203125 41.984375 11.859375 \nQ 46.1875 17.53125 46.1875 27.296875 \nQ 46.1875 37.015625 41.984375 42.703125 \nQ 37.796875 48.390625 30.609375 48.390625 \nz\nM 30.609375 56 \nQ 42.328125 56 49.015625 48.375 \nQ 55.71875 40.765625 55.71875 27.296875 \nQ 55.71875 13.875 49.015625 6.21875 \nQ 42.328125 -1.421875 30.609375 -1.421875 \nQ 18.84375 -1.421875 12.171875 6.21875 \nQ 5.515625 13.875 5.515625 27.296875 \nQ 5.515625 40.765625 12.171875 48.375 \nQ 18.84375 56 30.609375 56 \nz\n\" id=\"DejaVuSans-111\"/>\n      <path d=\"M 48.78125 52.59375 \nL 48.78125 44.1875 \nQ 44.96875 46.296875 41.140625 47.34375 \nQ 37.3125 48.390625 33.40625 48.390625 \nQ 24.65625 48.390625 19.8125 42.84375 \nQ 14.984375 37.3125 14.984375 27.296875 \nQ 14.984375 17.28125 19.8125 11.734375 \nQ 24.65625 6.203125 33.40625 6.203125 \nQ 37.3125 6.203125 41.140625 7.25 \nQ 44.96875 8.296875 48.78125 10.40625 \nL 48.78125 2.09375 \nQ 45.015625 0.34375 40.984375 -0.53125 \nQ 36.96875 -1.421875 32.421875 -1.421875 \nQ 20.0625 -1.421875 12.78125 6.34375 \nQ 5.515625 14.109375 5.515625 27.296875 \nQ 5.515625 40.671875 12.859375 48.328125 \nQ 20.21875 56 33.015625 56 \nQ 37.15625 56 41.109375 55.140625 \nQ 45.0625 54.296875 48.78125 52.59375 \nz\n\" id=\"DejaVuSans-99\"/>\n      <path d=\"M 54.890625 33.015625 \nL 54.890625 0 \nL 45.90625 0 \nL 45.90625 32.71875 \nQ 45.90625 40.484375 42.875 44.328125 \nQ 39.84375 48.1875 33.796875 48.1875 \nQ 26.515625 48.1875 22.3125 43.546875 \nQ 18.109375 38.921875 18.109375 30.90625 \nL 18.109375 0 \nL 9.078125 0 \nL 9.078125 75.984375 \nL 18.109375 75.984375 \nL 18.109375 46.1875 \nQ 21.34375 51.125 25.703125 53.5625 \nQ 30.078125 56 35.796875 56 \nQ 45.21875 56 50.046875 50.171875 \nQ 54.890625 44.34375 54.890625 33.015625 \nz\n\" id=\"DejaVuSans-104\"/>\n     </defs>\n     <g transform=\"translate(120.121875 171.376563)scale(0.1 -0.1)\">\n      <use xlink:href=\"#DejaVuSans-101\"/>\n      <use x=\"61.523438\" xlink:href=\"#DejaVuSans-112\"/>\n      <use x=\"125\" xlink:href=\"#DejaVuSans-111\"/>\n      <use x=\"186.181641\" xlink:href=\"#DejaVuSans-99\"/>\n      <use x=\"241.162109\" xlink:href=\"#DejaVuSans-104\"/>\n     </g>\n    </g>\n   </g>\n   <g id=\"matplotlib.axis_2\">\n    <g id=\"ytick_1\">\n     <g id=\"line2d_7\">\n      <defs>\n       <path d=\"M 0 0 \nL -3.5 0 \n\" id=\"m7657ff2296\" style=\"stroke:#000000;stroke-width:0.8;\"/>\n      </defs>\n      <g>\n       <use style=\"stroke:#000000;stroke-width:0.8;\" x=\"37.7\" xlink:href=\"#m7657ff2296\" y=\"141.858894\"/>\n      </g>\n     </g>\n     <g id=\"text_8\">\n      <!-- $\\mathdefault{10^{-5}}$ -->\n      <defs>\n       <path d=\"M 10.59375 35.5 \nL 73.1875 35.5 \nL 73.1875 27.203125 \nL 10.59375 27.203125 \nz\n\" id=\"DejaVuSans-8722\"/>\n       <path d=\"M 10.796875 72.90625 \nL 49.515625 72.90625 \nL 49.515625 64.59375 \nL 19.828125 64.59375 \nL 19.828125 46.734375 \nQ 21.96875 47.46875 24.109375 47.828125 \nQ 26.265625 48.1875 28.421875 48.1875 \nQ 40.625 48.1875 47.75 41.5 \nQ 54.890625 34.8125 54.890625 23.390625 \nQ 54.890625 11.625 47.5625 5.09375 \nQ 40.234375 -1.421875 26.90625 -1.421875 \nQ 22.3125 -1.421875 17.546875 -0.640625 \nQ 12.796875 0.140625 7.71875 1.703125 \nL 7.71875 11.625 \nQ 12.109375 9.234375 16.796875 8.0625 \nQ 21.484375 6.890625 26.703125 6.890625 \nQ 35.15625 6.890625 40.078125 11.328125 \nQ 45.015625 15.765625 45.015625 23.390625 \nQ 45.015625 31 40.078125 35.4375 \nQ 35.15625 39.890625 26.703125 39.890625 \nQ 22.75 39.890625 18.8125 39.015625 \nQ 14.890625 38.140625 10.796875 36.28125 \nz\n\" id=\"DejaVuSans-53\"/>\n      </defs>\n      <g transform=\"translate(7.2 145.658113)scale(0.1 -0.1)\">\n       <use transform=\"translate(0 0.684375)\" xlink:href=\"#DejaVuSans-49\"/>\n       <use transform=\"translate(63.623047 0.684375)\" xlink:href=\"#DejaVuSans-48\"/>\n       <use transform=\"translate(128.203125 38.965625)scale(0.7)\" xlink:href=\"#DejaVuSans-8722\"/>\n       <use transform=\"translate(186.855469 38.965625)scale(0.7)\" xlink:href=\"#DejaVuSans-53\"/>\n      </g>\n     </g>\n    </g>\n    <g id=\"ytick_2\">\n     <g id=\"line2d_8\">\n      <g>\n       <use style=\"stroke:#000000;stroke-width:0.8;\" x=\"37.7\" xlink:href=\"#m7657ff2296\" y=\"107.530048\"/>\n      </g>\n     </g>\n     <g id=\"text_9\">\n      <!-- $\\mathdefault{10^{-4}}$ -->\n      <g transform=\"translate(7.2 111.329267)scale(0.1 -0.1)\">\n       <use transform=\"translate(0 0.684375)\" xlink:href=\"#DejaVuSans-49\"/>\n       <use transform=\"translate(63.623047 0.684375)\" xlink:href=\"#DejaVuSans-48\"/>\n       <use transform=\"translate(128.203125 38.965625)scale(0.7)\" xlink:href=\"#DejaVuSans-8722\"/>\n       <use transform=\"translate(186.855469 38.965625)scale(0.7)\" xlink:href=\"#DejaVuSans-52\"/>\n      </g>\n     </g>\n    </g>\n    <g id=\"ytick_3\">\n     <g id=\"line2d_9\">\n      <g>\n       <use style=\"stroke:#000000;stroke-width:0.8;\" x=\"37.7\" xlink:href=\"#m7657ff2296\" y=\"73.201202\"/>\n      </g>\n     </g>\n     <g id=\"text_10\">\n      <!-- $\\mathdefault{10^{-3}}$ -->\n      <defs>\n       <path d=\"M 40.578125 39.3125 \nQ 47.65625 37.796875 51.625 33 \nQ 55.609375 28.21875 55.609375 21.1875 \nQ 55.609375 10.40625 48.1875 4.484375 \nQ 40.765625 -1.421875 27.09375 -1.421875 \nQ 22.515625 -1.421875 17.65625 -0.515625 \nQ 12.796875 0.390625 7.625 2.203125 \nL 7.625 11.71875 \nQ 11.71875 9.328125 16.59375 8.109375 \nQ 21.484375 6.890625 26.8125 6.890625 \nQ 36.078125 6.890625 40.9375 10.546875 \nQ 45.796875 14.203125 45.796875 21.1875 \nQ 45.796875 27.640625 41.28125 31.265625 \nQ 36.765625 34.90625 28.71875 34.90625 \nL 20.21875 34.90625 \nL 20.21875 43.015625 \nL 29.109375 43.015625 \nQ 36.375 43.015625 40.234375 45.921875 \nQ 44.09375 48.828125 44.09375 54.296875 \nQ 44.09375 59.90625 40.109375 62.90625 \nQ 36.140625 65.921875 28.71875 65.921875 \nQ 24.65625 65.921875 20.015625 65.03125 \nQ 15.375 64.15625 9.8125 62.3125 \nL 9.8125 71.09375 \nQ 15.4375 72.65625 20.34375 73.4375 \nQ 25.25 74.21875 29.59375 74.21875 \nQ 40.828125 74.21875 47.359375 69.109375 \nQ 53.90625 64.015625 53.90625 55.328125 \nQ 53.90625 49.265625 50.4375 45.09375 \nQ 46.96875 40.921875 40.578125 39.3125 \nz\n\" id=\"DejaVuSans-51\"/>\n      </defs>\n      <g transform=\"translate(7.2 77.00042)scale(0.1 -0.1)\">\n       <use transform=\"translate(0 0.765625)\" xlink:href=\"#DejaVuSans-49\"/>\n       <use transform=\"translate(63.623047 0.765625)\" xlink:href=\"#DejaVuSans-48\"/>\n       <use transform=\"translate(128.203125 39.046875)scale(0.7)\" xlink:href=\"#DejaVuSans-8722\"/>\n       <use transform=\"translate(186.855469 39.046875)scale(0.7)\" xlink:href=\"#DejaVuSans-51\"/>\n      </g>\n     </g>\n    </g>\n    <g id=\"ytick_4\">\n     <g id=\"line2d_10\">\n      <g>\n       <use style=\"stroke:#000000;stroke-width:0.8;\" x=\"37.7\" xlink:href=\"#m7657ff2296\" y=\"38.872355\"/>\n      </g>\n     </g>\n     <g id=\"text_11\">\n      <!-- $\\mathdefault{10^{-2}}$ -->\n      <g transform=\"translate(7.2 42.671574)scale(0.1 -0.1)\">\n       <use transform=\"translate(0 0.765625)\" xlink:href=\"#DejaVuSans-49\"/>\n       <use transform=\"translate(63.623047 0.765625)\" xlink:href=\"#DejaVuSans-48\"/>\n       <use transform=\"translate(128.203125 39.046875)scale(0.7)\" xlink:href=\"#DejaVuSans-8722\"/>\n       <use transform=\"translate(186.855469 39.046875)scale(0.7)\" xlink:href=\"#DejaVuSans-50\"/>\n      </g>\n     </g>\n    </g>\n    <g id=\"ytick_5\">\n     <g id=\"line2d_11\">\n      <defs>\n       <path d=\"M 0 0 \nL -2 0 \n\" id=\"mdc52ccec59\" style=\"stroke:#000000;stroke-width:0.6;\"/>\n      </defs>\n      <g>\n       <use style=\"stroke:#000000;stroke-width:0.6;\" x=\"37.7\" xlink:href=\"#mdc52ccec59\" y=\"131.524882\"/>\n      </g>\n     </g>\n    </g>\n    <g id=\"ytick_6\">\n     <g id=\"line2d_12\">\n      <g>\n       <use style=\"stroke:#000000;stroke-width:0.6;\" x=\"37.7\" xlink:href=\"#mdc52ccec59\" y=\"125.479872\"/>\n      </g>\n     </g>\n    </g>\n    <g id=\"ytick_7\">\n     <g id=\"line2d_13\">\n      <g>\n       <use style=\"stroke:#000000;stroke-width:0.6;\" x=\"37.7\" xlink:href=\"#mdc52ccec59\" y=\"121.190869\"/>\n      </g>\n     </g>\n    </g>\n    <g id=\"ytick_8\">\n     <g id=\"line2d_14\">\n      <g>\n       <use style=\"stroke:#000000;stroke-width:0.6;\" x=\"37.7\" xlink:href=\"#mdc52ccec59\" y=\"117.86406\"/>\n      </g>\n     </g>\n    </g>\n    <g id=\"ytick_9\">\n     <g id=\"line2d_15\">\n      <g>\n       <use style=\"stroke:#000000;stroke-width:0.6;\" x=\"37.7\" xlink:href=\"#mdc52ccec59\" y=\"115.145859\"/>\n      </g>\n     </g>\n    </g>\n    <g id=\"ytick_10\">\n     <g id=\"line2d_16\">\n      <g>\n       <use style=\"stroke:#000000;stroke-width:0.6;\" x=\"37.7\" xlink:href=\"#mdc52ccec59\" y=\"112.847653\"/>\n      </g>\n     </g>\n    </g>\n    <g id=\"ytick_11\">\n     <g id=\"line2d_17\">\n      <g>\n       <use style=\"stroke:#000000;stroke-width:0.6;\" x=\"37.7\" xlink:href=\"#mdc52ccec59\" y=\"110.856857\"/>\n      </g>\n     </g>\n    </g>\n    <g id=\"ytick_12\">\n     <g id=\"line2d_18\">\n      <g>\n       <use style=\"stroke:#000000;stroke-width:0.6;\" x=\"37.7\" xlink:href=\"#mdc52ccec59\" y=\"109.10085\"/>\n      </g>\n     </g>\n    </g>\n    <g id=\"ytick_13\">\n     <g id=\"line2d_19\">\n      <g>\n       <use style=\"stroke:#000000;stroke-width:0.6;\" x=\"37.7\" xlink:href=\"#mdc52ccec59\" y=\"97.196035\"/>\n      </g>\n     </g>\n    </g>\n    <g id=\"ytick_14\">\n     <g id=\"line2d_20\">\n      <g>\n       <use style=\"stroke:#000000;stroke-width:0.6;\" x=\"37.7\" xlink:href=\"#mdc52ccec59\" y=\"91.151026\"/>\n      </g>\n     </g>\n    </g>\n    <g id=\"ytick_15\">\n     <g id=\"line2d_21\">\n      <g>\n       <use style=\"stroke:#000000;stroke-width:0.6;\" x=\"37.7\" xlink:href=\"#mdc52ccec59\" y=\"86.862023\"/>\n      </g>\n     </g>\n    </g>\n    <g id=\"ytick_16\">\n     <g id=\"line2d_22\">\n      <g>\n       <use style=\"stroke:#000000;stroke-width:0.6;\" x=\"37.7\" xlink:href=\"#mdc52ccec59\" y=\"83.535214\"/>\n      </g>\n     </g>\n    </g>\n    <g id=\"ytick_17\">\n     <g id=\"line2d_23\">\n      <g>\n       <use style=\"stroke:#000000;stroke-width:0.6;\" x=\"37.7\" xlink:href=\"#mdc52ccec59\" y=\"80.817013\"/>\n      </g>\n     </g>\n    </g>\n    <g id=\"ytick_18\">\n     <g id=\"line2d_24\">\n      <g>\n       <use style=\"stroke:#000000;stroke-width:0.6;\" x=\"37.7\" xlink:href=\"#mdc52ccec59\" y=\"78.518807\"/>\n      </g>\n     </g>\n    </g>\n    <g id=\"ytick_19\">\n     <g id=\"line2d_25\">\n      <g>\n       <use style=\"stroke:#000000;stroke-width:0.6;\" x=\"37.7\" xlink:href=\"#mdc52ccec59\" y=\"76.528011\"/>\n      </g>\n     </g>\n    </g>\n    <g id=\"ytick_20\">\n     <g id=\"line2d_26\">\n      <g>\n       <use style=\"stroke:#000000;stroke-width:0.6;\" x=\"37.7\" xlink:href=\"#mdc52ccec59\" y=\"74.772003\"/>\n      </g>\n     </g>\n    </g>\n    <g id=\"ytick_21\">\n     <g id=\"line2d_27\">\n      <g>\n       <use style=\"stroke:#000000;stroke-width:0.6;\" x=\"37.7\" xlink:href=\"#mdc52ccec59\" y=\"62.867189\"/>\n      </g>\n     </g>\n    </g>\n    <g id=\"ytick_22\">\n     <g id=\"line2d_28\">\n      <g>\n       <use style=\"stroke:#000000;stroke-width:0.6;\" x=\"37.7\" xlink:href=\"#mdc52ccec59\" y=\"56.822179\"/>\n      </g>\n     </g>\n    </g>\n    <g id=\"ytick_23\">\n     <g id=\"line2d_29\">\n      <g>\n       <use style=\"stroke:#000000;stroke-width:0.6;\" x=\"37.7\" xlink:href=\"#mdc52ccec59\" y=\"52.533177\"/>\n      </g>\n     </g>\n    </g>\n    <g id=\"ytick_24\">\n     <g id=\"line2d_30\">\n      <g>\n       <use style=\"stroke:#000000;stroke-width:0.6;\" x=\"37.7\" xlink:href=\"#mdc52ccec59\" y=\"49.206368\"/>\n      </g>\n     </g>\n    </g>\n    <g id=\"ytick_25\">\n     <g id=\"line2d_31\">\n      <g>\n       <use style=\"stroke:#000000;stroke-width:0.6;\" x=\"37.7\" xlink:href=\"#mdc52ccec59\" y=\"46.488167\"/>\n      </g>\n     </g>\n    </g>\n    <g id=\"ytick_26\">\n     <g id=\"line2d_32\">\n      <g>\n       <use style=\"stroke:#000000;stroke-width:0.6;\" x=\"37.7\" xlink:href=\"#mdc52ccec59\" y=\"44.189961\"/>\n      </g>\n     </g>\n    </g>\n    <g id=\"ytick_27\">\n     <g id=\"line2d_33\">\n      <g>\n       <use style=\"stroke:#000000;stroke-width:0.6;\" x=\"37.7\" xlink:href=\"#mdc52ccec59\" y=\"42.199164\"/>\n      </g>\n     </g>\n    </g>\n    <g id=\"ytick_28\">\n     <g id=\"line2d_34\">\n      <g>\n       <use style=\"stroke:#000000;stroke-width:0.6;\" x=\"37.7\" xlink:href=\"#mdc52ccec59\" y=\"40.443157\"/>\n      </g>\n     </g>\n    </g>\n    <g id=\"ytick_29\">\n     <g id=\"line2d_35\">\n      <g>\n       <use style=\"stroke:#000000;stroke-width:0.6;\" x=\"37.7\" xlink:href=\"#mdc52ccec59\" y=\"28.538343\"/>\n      </g>\n     </g>\n    </g>\n    <g id=\"ytick_30\">\n     <g id=\"line2d_36\">\n      <g>\n       <use style=\"stroke:#000000;stroke-width:0.6;\" x=\"37.7\" xlink:href=\"#mdc52ccec59\" y=\"22.493333\"/>\n      </g>\n     </g>\n    </g>\n    <g id=\"ytick_31\">\n     <g id=\"line2d_37\">\n      <g>\n       <use style=\"stroke:#000000;stroke-width:0.6;\" x=\"37.7\" xlink:href=\"#mdc52ccec59\" y=\"18.204331\"/>\n      </g>\n     </g>\n    </g>\n    <g id=\"ytick_32\">\n     <g id=\"line2d_38\">\n      <g>\n       <use style=\"stroke:#000000;stroke-width:0.6;\" x=\"37.7\" xlink:href=\"#mdc52ccec59\" y=\"14.877522\"/>\n      </g>\n     </g>\n    </g>\n    <g id=\"ytick_33\">\n     <g id=\"line2d_39\">\n      <g>\n       <use style=\"stroke:#000000;stroke-width:0.6;\" x=\"37.7\" xlink:href=\"#mdc52ccec59\" y=\"12.159321\"/>\n      </g>\n     </g>\n    </g>\n    <g id=\"ytick_34\">\n     <g id=\"line2d_40\">\n      <g>\n       <use style=\"stroke:#000000;stroke-width:0.6;\" x=\"37.7\" xlink:href=\"#mdc52ccec59\" y=\"9.861115\"/>\n      </g>\n     </g>\n    </g>\n    <g id=\"ytick_35\">\n     <g id=\"line2d_41\">\n      <g>\n       <use style=\"stroke:#000000;stroke-width:0.6;\" x=\"37.7\" xlink:href=\"#mdc52ccec59\" y=\"7.870318\"/>\n      </g>\n     </g>\n    </g>\n   </g>\n   <g id=\"line2d_42\">\n    <path clip-path=\"url(#p555e1115d4)\" d=\"M 40.14125 13.377273 \n\" style=\"fill:none;stroke:#1f77b4;stroke-linecap:square;stroke-width:1.5;\"/>\n   </g>\n   <g id=\"line2d_43\">\n    <path clip-path=\"url(#p555e1115d4)\" d=\"M 40.14125 13.377273 \nL 49.90625 33.660494 \n\" style=\"fill:none;stroke:#1f77b4;stroke-linecap:square;stroke-width:1.5;\"/>\n   </g>\n   <g id=\"line2d_44\">\n    <path clip-path=\"url(#p555e1115d4)\" d=\"M 40.14125 13.377273 \nL 49.90625 33.660494 \n\" style=\"fill:none;stroke:#1f77b4;stroke-linecap:square;stroke-width:1.5;\"/>\n   </g>\n   <g id=\"line2d_45\">\n    <path clip-path=\"url(#p555e1115d4)\" d=\"M 57.23 30.605373 \n\" style=\"fill:none;stroke:#ff7f0e;stroke-dasharray:5.55,2.4;stroke-dashoffset:0;stroke-width:1.5;\"/>\n   </g>\n   <g id=\"line2d_46\">\n    <path clip-path=\"url(#p555e1115d4)\" d=\"M 40.14125 13.377273 \nL 49.90625 33.660494 \nL 59.67125 47.305949 \n\" style=\"fill:none;stroke:#1f77b4;stroke-linecap:square;stroke-width:1.5;\"/>\n   </g>\n   <g id=\"line2d_47\">\n    <path clip-path=\"url(#p555e1115d4)\" d=\"M 57.23 30.605373 \n\" style=\"fill:none;stroke:#ff7f0e;stroke-dasharray:5.55,2.4;stroke-dashoffset:0;stroke-width:1.5;\"/>\n   </g>\n   <g id=\"line2d_48\">\n    <path clip-path=\"url(#p555e1115d4)\" d=\"M 40.14125 13.377273 \nL 49.90625 33.660494 \nL 59.67125 47.305949 \nL 69.43625 34.129967 \n\" style=\"fill:none;stroke:#1f77b4;stroke-linecap:square;stroke-width:1.5;\"/>\n   </g>\n   <g id=\"line2d_49\">\n    <path clip-path=\"url(#p555e1115d4)\" d=\"M 57.23 30.605373 \n\" style=\"fill:none;stroke:#ff7f0e;stroke-dasharray:5.55,2.4;stroke-dashoffset:0;stroke-width:1.5;\"/>\n   </g>\n   <g id=\"line2d_50\">\n    <path clip-path=\"url(#p555e1115d4)\" d=\"M 40.14125 13.377273 \nL 49.90625 33.660494 \nL 59.67125 47.305949 \nL 69.43625 34.129967 \n\" style=\"fill:none;stroke:#1f77b4;stroke-linecap:square;stroke-width:1.5;\"/>\n   </g>\n   <g id=\"line2d_51\">\n    <path clip-path=\"url(#p555e1115d4)\" d=\"M 57.23 30.605373 \nL 76.76 30.708564 \n\" style=\"fill:none;stroke:#ff7f0e;stroke-dasharray:5.55,2.4;stroke-dashoffset:0;stroke-width:1.5;\"/>\n   </g>\n   <g id=\"line2d_52\">\n    <path clip-path=\"url(#p555e1115d4)\" d=\"M 40.14125 13.377273 \nL 49.90625 33.660494 \nL 59.67125 47.305949 \nL 69.43625 34.129967 \nL 79.20125 53.176418 \n\" style=\"fill:none;stroke:#1f77b4;stroke-linecap:square;stroke-width:1.5;\"/>\n   </g>\n   <g id=\"line2d_53\">\n    <path clip-path=\"url(#p555e1115d4)\" d=\"M 57.23 30.605373 \nL 76.76 30.708564 \n\" style=\"fill:none;stroke:#ff7f0e;stroke-dasharray:5.55,2.4;stroke-dashoffset:0;stroke-width:1.5;\"/>\n   </g>\n   <g id=\"line2d_54\">\n    <path clip-path=\"url(#p555e1115d4)\" d=\"M 40.14125 13.377273 \nL 49.90625 33.660494 \nL 59.67125 47.305949 \nL 69.43625 34.129967 \nL 79.20125 53.176418 \nL 88.96625 61.217417 \n\" style=\"fill:none;stroke:#1f77b4;stroke-linecap:square;stroke-width:1.5;\"/>\n   </g>\n   <g id=\"line2d_55\">\n    <path clip-path=\"url(#p555e1115d4)\" d=\"M 57.23 30.605373 \nL 76.76 30.708564 \n\" style=\"fill:none;stroke:#ff7f0e;stroke-dasharray:5.55,2.4;stroke-dashoffset:0;stroke-width:1.5;\"/>\n   </g>\n   <g id=\"line2d_56\">\n    <path clip-path=\"url(#p555e1115d4)\" d=\"M 40.14125 13.377273 \nL 49.90625 33.660494 \nL 59.67125 47.305949 \nL 69.43625 34.129967 \nL 79.20125 53.176418 \nL 88.96625 61.217417 \n\" style=\"fill:none;stroke:#1f77b4;stroke-linecap:square;stroke-width:1.5;\"/>\n   </g>\n   <g id=\"line2d_57\">\n    <path clip-path=\"url(#p555e1115d4)\" d=\"M 57.23 30.605373 \nL 76.76 30.708564 \nL 96.29 30.59691 \n\" style=\"fill:none;stroke:#ff7f0e;stroke-dasharray:5.55,2.4;stroke-dashoffset:0;stroke-width:1.5;\"/>\n   </g>\n   <g id=\"line2d_58\">\n    <path clip-path=\"url(#p555e1115d4)\" d=\"M 40.14125 13.377273 \nL 49.90625 33.660494 \nL 59.67125 47.305949 \nL 69.43625 34.129967 \nL 79.20125 53.176418 \nL 88.96625 61.217417 \nL 98.73125 64.23847 \n\" style=\"fill:none;stroke:#1f77b4;stroke-linecap:square;stroke-width:1.5;\"/>\n   </g>\n   <g id=\"line2d_59\">\n    <path clip-path=\"url(#p555e1115d4)\" d=\"M 57.23 30.605373 \nL 76.76 30.708564 \nL 96.29 30.59691 \n\" style=\"fill:none;stroke:#ff7f0e;stroke-dasharray:5.55,2.4;stroke-dashoffset:0;stroke-width:1.5;\"/>\n   </g>\n   <g id=\"line2d_60\">\n    <path clip-path=\"url(#p555e1115d4)\" d=\"M 40.14125 13.377273 \nL 49.90625 33.660494 \nL 59.67125 47.305949 \nL 69.43625 34.129967 \nL 79.20125 53.176418 \nL 88.96625 61.217417 \nL 98.73125 64.23847 \nL 108.49625 80.499837 \n\" style=\"fill:none;stroke:#1f77b4;stroke-linecap:square;stroke-width:1.5;\"/>\n   </g>\n   <g id=\"line2d_61\">\n    <path clip-path=\"url(#p555e1115d4)\" d=\"M 57.23 30.605373 \nL 76.76 30.708564 \nL 96.29 30.59691 \n\" style=\"fill:none;stroke:#ff7f0e;stroke-dasharray:5.55,2.4;stroke-dashoffset:0;stroke-width:1.5;\"/>\n   </g>\n   <g id=\"line2d_62\">\n    <path clip-path=\"url(#p555e1115d4)\" d=\"M 40.14125 13.377273 \nL 49.90625 33.660494 \nL 59.67125 47.305949 \nL 69.43625 34.129967 \nL 79.20125 53.176418 \nL 88.96625 61.217417 \nL 98.73125 64.23847 \nL 108.49625 80.499837 \n\" style=\"fill:none;stroke:#1f77b4;stroke-linecap:square;stroke-width:1.5;\"/>\n   </g>\n   <g id=\"line2d_63\">\n    <path clip-path=\"url(#p555e1115d4)\" d=\"M 57.23 30.605373 \nL 76.76 30.708564 \nL 96.29 30.59691 \nL 115.82 30.514003 \n\" style=\"fill:none;stroke:#ff7f0e;stroke-dasharray:5.55,2.4;stroke-dashoffset:0;stroke-width:1.5;\"/>\n   </g>\n   <g id=\"line2d_64\">\n    <path clip-path=\"url(#p555e1115d4)\" d=\"M 40.14125 13.377273 \nL 49.90625 33.660494 \nL 59.67125 47.305949 \nL 69.43625 34.129967 \nL 79.20125 53.176418 \nL 88.96625 61.217417 \nL 98.73125 64.23847 \nL 108.49625 80.499837 \nL 118.26125 92.461459 \n\" style=\"fill:none;stroke:#1f77b4;stroke-linecap:square;stroke-width:1.5;\"/>\n   </g>\n   <g id=\"line2d_65\">\n    <path clip-path=\"url(#p555e1115d4)\" d=\"M 57.23 30.605373 \nL 76.76 30.708564 \nL 96.29 30.59691 \nL 115.82 30.514003 \n\" style=\"fill:none;stroke:#ff7f0e;stroke-dasharray:5.55,2.4;stroke-dashoffset:0;stroke-width:1.5;\"/>\n   </g>\n   <g id=\"line2d_66\">\n    <path clip-path=\"url(#p555e1115d4)\" d=\"M 40.14125 13.377273 \nL 49.90625 33.660494 \nL 59.67125 47.305949 \nL 69.43625 34.129967 \nL 79.20125 53.176418 \nL 88.96625 61.217417 \nL 98.73125 64.23847 \nL 108.49625 80.499837 \nL 118.26125 92.461459 \nL 128.02625 76.600882 \n\" style=\"fill:none;stroke:#1f77b4;stroke-linecap:square;stroke-width:1.5;\"/>\n   </g>\n   <g id=\"line2d_67\">\n    <path clip-path=\"url(#p555e1115d4)\" d=\"M 57.23 30.605373 \nL 76.76 30.708564 \nL 96.29 30.59691 \nL 115.82 30.514003 \n\" style=\"fill:none;stroke:#ff7f0e;stroke-dasharray:5.55,2.4;stroke-dashoffset:0;stroke-width:1.5;\"/>\n   </g>\n   <g id=\"line2d_68\">\n    <path clip-path=\"url(#p555e1115d4)\" d=\"M 40.14125 13.377273 \nL 49.90625 33.660494 \nL 59.67125 47.305949 \nL 69.43625 34.129967 \nL 79.20125 53.176418 \nL 88.96625 61.217417 \nL 98.73125 64.23847 \nL 108.49625 80.499837 \nL 118.26125 92.461459 \nL 128.02625 76.600882 \n\" style=\"fill:none;stroke:#1f77b4;stroke-linecap:square;stroke-width:1.5;\"/>\n   </g>\n   <g id=\"line2d_69\">\n    <path clip-path=\"url(#p555e1115d4)\" d=\"M 57.23 30.605373 \nL 76.76 30.708564 \nL 96.29 30.59691 \nL 115.82 30.514003 \nL 135.35 30.438558 \n\" style=\"fill:none;stroke:#ff7f0e;stroke-dasharray:5.55,2.4;stroke-dashoffset:0;stroke-width:1.5;\"/>\n   </g>\n   <g id=\"line2d_70\">\n    <path clip-path=\"url(#p555e1115d4)\" d=\"M 40.14125 13.377273 \nL 49.90625 33.660494 \nL 59.67125 47.305949 \nL 69.43625 34.129967 \nL 79.20125 53.176418 \nL 88.96625 61.217417 \nL 98.73125 64.23847 \nL 108.49625 80.499837 \nL 118.26125 92.461459 \nL 128.02625 76.600882 \nL 137.79125 101.549092 \n\" style=\"fill:none;stroke:#1f77b4;stroke-linecap:square;stroke-width:1.5;\"/>\n   </g>\n   <g id=\"line2d_71\">\n    <path clip-path=\"url(#p555e1115d4)\" d=\"M 57.23 30.605373 \nL 76.76 30.708564 \nL 96.29 30.59691 \nL 115.82 30.514003 \nL 135.35 30.438558 \n\" style=\"fill:none;stroke:#ff7f0e;stroke-dasharray:5.55,2.4;stroke-dashoffset:0;stroke-width:1.5;\"/>\n   </g>\n   <g id=\"line2d_72\">\n    <path clip-path=\"url(#p555e1115d4)\" d=\"M 40.14125 13.377273 \nL 49.90625 33.660494 \nL 59.67125 47.305949 \nL 69.43625 34.129967 \nL 79.20125 53.176418 \nL 88.96625 61.217417 \nL 98.73125 64.23847 \nL 108.49625 80.499837 \nL 118.26125 92.461459 \nL 128.02625 76.600882 \nL 137.79125 101.549092 \nL 147.55625 88.863228 \n\" style=\"fill:none;stroke:#1f77b4;stroke-linecap:square;stroke-width:1.5;\"/>\n   </g>\n   <g id=\"line2d_73\">\n    <path clip-path=\"url(#p555e1115d4)\" d=\"M 57.23 30.605373 \nL 76.76 30.708564 \nL 96.29 30.59691 \nL 115.82 30.514003 \nL 135.35 30.438558 \n\" style=\"fill:none;stroke:#ff7f0e;stroke-dasharray:5.55,2.4;stroke-dashoffset:0;stroke-width:1.5;\"/>\n   </g>\n   <g id=\"line2d_74\">\n    <path clip-path=\"url(#p555e1115d4)\" d=\"M 40.14125 13.377273 \nL 49.90625 33.660494 \nL 59.67125 47.305949 \nL 69.43625 34.129967 \nL 79.20125 53.176418 \nL 88.96625 61.217417 \nL 98.73125 64.23847 \nL 108.49625 80.499837 \nL 118.26125 92.461459 \nL 128.02625 76.600882 \nL 137.79125 101.549092 \nL 147.55625 88.863228 \n\" style=\"fill:none;stroke:#1f77b4;stroke-linecap:square;stroke-width:1.5;\"/>\n   </g>\n   <g id=\"line2d_75\">\n    <path clip-path=\"url(#p555e1115d4)\" d=\"M 57.23 30.605373 \nL 76.76 30.708564 \nL 96.29 30.59691 \nL 115.82 30.514003 \nL 135.35 30.438558 \nL 154.88 30.39258 \n\" style=\"fill:none;stroke:#ff7f0e;stroke-dasharray:5.55,2.4;stroke-dashoffset:0;stroke-width:1.5;\"/>\n   </g>\n   <g id=\"line2d_76\">\n    <path clip-path=\"url(#p555e1115d4)\" d=\"M 40.14125 13.377273 \nL 49.90625 33.660494 \nL 59.67125 47.305949 \nL 69.43625 34.129967 \nL 79.20125 53.176418 \nL 88.96625 61.217417 \nL 98.73125 64.23847 \nL 108.49625 80.499837 \nL 118.26125 92.461459 \nL 128.02625 76.600882 \nL 137.79125 101.549092 \nL 147.55625 88.863228 \nL 157.32125 98.076359 \n\" style=\"fill:none;stroke:#1f77b4;stroke-linecap:square;stroke-width:1.5;\"/>\n   </g>\n   <g id=\"line2d_77\">\n    <path clip-path=\"url(#p555e1115d4)\" d=\"M 57.23 30.605373 \nL 76.76 30.708564 \nL 96.29 30.59691 \nL 115.82 30.514003 \nL 135.35 30.438558 \nL 154.88 30.39258 \n\" style=\"fill:none;stroke:#ff7f0e;stroke-dasharray:5.55,2.4;stroke-dashoffset:0;stroke-width:1.5;\"/>\n   </g>\n   <g id=\"line2d_78\">\n    <path clip-path=\"url(#p555e1115d4)\" d=\"M 40.14125 13.377273 \nL 49.90625 33.660494 \nL 59.67125 47.305949 \nL 69.43625 34.129967 \nL 79.20125 53.176418 \nL 88.96625 61.217417 \nL 98.73125 64.23847 \nL 108.49625 80.499837 \nL 118.26125 92.461459 \nL 128.02625 76.600882 \nL 137.79125 101.549092 \nL 147.55625 88.863228 \nL 157.32125 98.076359 \nL 167.08625 114.236624 \n\" style=\"fill:none;stroke:#1f77b4;stroke-linecap:square;stroke-width:1.5;\"/>\n   </g>\n   <g id=\"line2d_79\">\n    <path clip-path=\"url(#p555e1115d4)\" d=\"M 57.23 30.605373 \nL 76.76 30.708564 \nL 96.29 30.59691 \nL 115.82 30.514003 \nL 135.35 30.438558 \nL 154.88 30.39258 \n\" style=\"fill:none;stroke:#ff7f0e;stroke-dasharray:5.55,2.4;stroke-dashoffset:0;stroke-width:1.5;\"/>\n   </g>\n   <g id=\"line2d_80\">\n    <path clip-path=\"url(#p555e1115d4)\" d=\"M 40.14125 13.377273 \nL 49.90625 33.660494 \nL 59.67125 47.305949 \nL 69.43625 34.129967 \nL 79.20125 53.176418 \nL 88.96625 61.217417 \nL 98.73125 64.23847 \nL 108.49625 80.499837 \nL 118.26125 92.461459 \nL 128.02625 76.600882 \nL 137.79125 101.549092 \nL 147.55625 88.863228 \nL 157.32125 98.076359 \nL 167.08625 114.236624 \n\" style=\"fill:none;stroke:#1f77b4;stroke-linecap:square;stroke-width:1.5;\"/>\n   </g>\n   <g id=\"line2d_81\">\n    <path clip-path=\"url(#p555e1115d4)\" d=\"M 57.23 30.605373 \nL 76.76 30.708564 \nL 96.29 30.59691 \nL 115.82 30.514003 \nL 135.35 30.438558 \nL 154.88 30.39258 \nL 174.41 30.361519 \n\" style=\"fill:none;stroke:#ff7f0e;stroke-dasharray:5.55,2.4;stroke-dashoffset:0;stroke-width:1.5;\"/>\n   </g>\n   <g id=\"line2d_82\">\n    <path clip-path=\"url(#p555e1115d4)\" d=\"M 40.14125 13.377273 \nL 49.90625 33.660494 \nL 59.67125 47.305949 \nL 69.43625 34.129967 \nL 79.20125 53.176418 \nL 88.96625 61.217417 \nL 98.73125 64.23847 \nL 108.49625 80.499837 \nL 118.26125 92.461459 \nL 128.02625 76.600882 \nL 137.79125 101.549092 \nL 147.55625 88.863228 \nL 157.32125 98.076359 \nL 167.08625 114.236624 \nL 176.85125 109.744727 \n\" style=\"fill:none;stroke:#1f77b4;stroke-linecap:square;stroke-width:1.5;\"/>\n   </g>\n   <g id=\"line2d_83\">\n    <path clip-path=\"url(#p555e1115d4)\" d=\"M 57.23 30.605373 \nL 76.76 30.708564 \nL 96.29 30.59691 \nL 115.82 30.514003 \nL 135.35 30.438558 \nL 154.88 30.39258 \nL 174.41 30.361519 \n\" style=\"fill:none;stroke:#ff7f0e;stroke-dasharray:5.55,2.4;stroke-dashoffset:0;stroke-width:1.5;\"/>\n   </g>\n   <g id=\"line2d_84\">\n    <path clip-path=\"url(#p555e1115d4)\" d=\"M 40.14125 13.377273 \nL 49.90625 33.660494 \nL 59.67125 47.305949 \nL 69.43625 34.129967 \nL 79.20125 53.176418 \nL 88.96625 61.217417 \nL 98.73125 64.23847 \nL 108.49625 80.499837 \nL 118.26125 92.461459 \nL 128.02625 76.600882 \nL 137.79125 101.549092 \nL 147.55625 88.863228 \nL 157.32125 98.076359 \nL 167.08625 114.236624 \nL 176.85125 109.744727 \nL 186.61625 115.631878 \n\" style=\"fill:none;stroke:#1f77b4;stroke-linecap:square;stroke-width:1.5;\"/>\n   </g>\n   <g id=\"line2d_85\">\n    <path clip-path=\"url(#p555e1115d4)\" d=\"M 57.23 30.605373 \nL 76.76 30.708564 \nL 96.29 30.59691 \nL 115.82 30.514003 \nL 135.35 30.438558 \nL 154.88 30.39258 \nL 174.41 30.361519 \n\" style=\"fill:none;stroke:#ff7f0e;stroke-dasharray:5.55,2.4;stroke-dashoffset:0;stroke-width:1.5;\"/>\n   </g>\n   <g id=\"line2d_86\">\n    <path clip-path=\"url(#p555e1115d4)\" d=\"M 40.14125 13.377273 \nL 49.90625 33.660494 \nL 59.67125 47.305949 \nL 69.43625 34.129967 \nL 79.20125 53.176418 \nL 88.96625 61.217417 \nL 98.73125 64.23847 \nL 108.49625 80.499837 \nL 118.26125 92.461459 \nL 128.02625 76.600882 \nL 137.79125 101.549092 \nL 147.55625 88.863228 \nL 157.32125 98.076359 \nL 167.08625 114.236624 \nL 176.85125 109.744727 \nL 186.61625 115.631878 \n\" style=\"fill:none;stroke:#1f77b4;stroke-linecap:square;stroke-width:1.5;\"/>\n   </g>\n   <g id=\"line2d_87\">\n    <path clip-path=\"url(#p555e1115d4)\" d=\"M 57.23 30.605373 \nL 76.76 30.708564 \nL 96.29 30.59691 \nL 115.82 30.514003 \nL 135.35 30.438558 \nL 154.88 30.39258 \nL 174.41 30.361519 \nL 193.94 30.336413 \n\" style=\"fill:none;stroke:#ff7f0e;stroke-dasharray:5.55,2.4;stroke-dashoffset:0;stroke-width:1.5;\"/>\n   </g>\n   <g id=\"line2d_88\">\n    <path clip-path=\"url(#p555e1115d4)\" d=\"M 40.14125 13.377273 \nL 49.90625 33.660494 \nL 59.67125 47.305949 \nL 69.43625 34.129967 \nL 79.20125 53.176418 \nL 88.96625 61.217417 \nL 98.73125 64.23847 \nL 108.49625 80.499837 \nL 118.26125 92.461459 \nL 128.02625 76.600882 \nL 137.79125 101.549092 \nL 147.55625 88.863228 \nL 157.32125 98.076359 \nL 167.08625 114.236624 \nL 176.85125 109.744727 \nL 186.61625 115.631878 \nL 196.38125 136.922727 \n\" style=\"fill:none;stroke:#1f77b4;stroke-linecap:square;stroke-width:1.5;\"/>\n   </g>\n   <g id=\"line2d_89\">\n    <path clip-path=\"url(#p555e1115d4)\" d=\"M 57.23 30.605373 \nL 76.76 30.708564 \nL 96.29 30.59691 \nL 115.82 30.514003 \nL 135.35 30.438558 \nL 154.88 30.39258 \nL 174.41 30.361519 \nL 193.94 30.336413 \n\" style=\"fill:none;stroke:#ff7f0e;stroke-dasharray:5.55,2.4;stroke-dashoffset:0;stroke-width:1.5;\"/>\n   </g>\n   <g id=\"line2d_90\">\n    <path clip-path=\"url(#p555e1115d4)\" d=\"M 40.14125 13.377273 \nL 49.90625 33.660494 \nL 59.67125 47.305949 \nL 69.43625 34.129967 \nL 79.20125 53.176418 \nL 88.96625 61.217417 \nL 98.73125 64.23847 \nL 108.49625 80.499837 \nL 118.26125 92.461459 \nL 128.02625 76.600882 \nL 137.79125 101.549092 \nL 147.55625 88.863228 \nL 157.32125 98.076359 \nL 167.08625 114.236624 \nL 176.85125 109.744727 \nL 186.61625 115.631878 \nL 196.38125 136.922727 \nL 206.14625 115.369778 \n\" style=\"fill:none;stroke:#1f77b4;stroke-linecap:square;stroke-width:1.5;\"/>\n   </g>\n   <g id=\"line2d_91\">\n    <path clip-path=\"url(#p555e1115d4)\" d=\"M 57.23 30.605373 \nL 76.76 30.708564 \nL 96.29 30.59691 \nL 115.82 30.514003 \nL 135.35 30.438558 \nL 154.88 30.39258 \nL 174.41 30.361519 \nL 193.94 30.336413 \n\" style=\"fill:none;stroke:#ff7f0e;stroke-dasharray:5.55,2.4;stroke-dashoffset:0;stroke-width:1.5;\"/>\n   </g>\n   <g id=\"line2d_92\">\n    <path clip-path=\"url(#p555e1115d4)\" d=\"M 40.14125 13.377273 \nL 49.90625 33.660494 \nL 59.67125 47.305949 \nL 69.43625 34.129967 \nL 79.20125 53.176418 \nL 88.96625 61.217417 \nL 98.73125 64.23847 \nL 108.49625 80.499837 \nL 118.26125 92.461459 \nL 128.02625 76.600882 \nL 137.79125 101.549092 \nL 147.55625 88.863228 \nL 157.32125 98.076359 \nL 167.08625 114.236624 \nL 176.85125 109.744727 \nL 186.61625 115.631878 \nL 196.38125 136.922727 \nL 206.14625 115.369778 \n\" style=\"fill:none;stroke:#1f77b4;stroke-linecap:square;stroke-width:1.5;\"/>\n   </g>\n   <g id=\"line2d_93\">\n    <path clip-path=\"url(#p555e1115d4)\" d=\"M 57.23 30.605373 \nL 76.76 30.708564 \nL 96.29 30.59691 \nL 115.82 30.514003 \nL 135.35 30.438558 \nL 154.88 30.39258 \nL 174.41 30.361519 \nL 193.94 30.336413 \nL 213.47 30.317221 \n\" style=\"fill:none;stroke:#ff7f0e;stroke-dasharray:5.55,2.4;stroke-dashoffset:0;stroke-width:1.5;\"/>\n   </g>\n   <g id=\"line2d_94\">\n    <path clip-path=\"url(#p555e1115d4)\" d=\"M 40.14125 13.377273 \nL 49.90625 33.660494 \nL 59.67125 47.305949 \nL 69.43625 34.129967 \nL 79.20125 53.176418 \nL 88.96625 61.217417 \nL 98.73125 64.23847 \nL 108.49625 80.499837 \nL 118.26125 92.461459 \nL 128.02625 76.600882 \nL 137.79125 101.549092 \nL 147.55625 88.863228 \nL 157.32125 98.076359 \nL 167.08625 114.236624 \nL 176.85125 109.744727 \nL 186.61625 115.631878 \nL 196.38125 136.922727 \nL 206.14625 115.369778 \nL 215.91125 130.03503 \n\" style=\"fill:none;stroke:#1f77b4;stroke-linecap:square;stroke-width:1.5;\"/>\n   </g>\n   <g id=\"line2d_95\">\n    <path clip-path=\"url(#p555e1115d4)\" d=\"M 57.23 30.605373 \nL 76.76 30.708564 \nL 96.29 30.59691 \nL 115.82 30.514003 \nL 135.35 30.438558 \nL 154.88 30.39258 \nL 174.41 30.361519 \nL 193.94 30.336413 \nL 213.47 30.317221 \n\" style=\"fill:none;stroke:#ff7f0e;stroke-dasharray:5.55,2.4;stroke-dashoffset:0;stroke-width:1.5;\"/>\n   </g>\n   <g id=\"line2d_96\">\n    <path clip-path=\"url(#p555e1115d4)\" d=\"M 40.14125 13.377273 \nL 49.90625 33.660494 \nL 59.67125 47.305949 \nL 69.43625 34.129967 \nL 79.20125 53.176418 \nL 88.96625 61.217417 \nL 98.73125 64.23847 \nL 108.49625 80.499837 \nL 118.26125 92.461459 \nL 128.02625 76.600882 \nL 137.79125 101.549092 \nL 147.55625 88.863228 \nL 157.32125 98.076359 \nL 167.08625 114.236624 \nL 176.85125 109.744727 \nL 186.61625 115.631878 \nL 196.38125 136.922727 \nL 206.14625 115.369778 \nL 215.91125 130.03503 \nL 225.67625 129.814457 \n\" style=\"fill:none;stroke:#1f77b4;stroke-linecap:square;stroke-width:1.5;\"/>\n   </g>\n   <g id=\"line2d_97\">\n    <path clip-path=\"url(#p555e1115d4)\" d=\"M 57.23 30.605373 \nL 76.76 30.708564 \nL 96.29 30.59691 \nL 115.82 30.514003 \nL 135.35 30.438558 \nL 154.88 30.39258 \nL 174.41 30.361519 \nL 193.94 30.336413 \nL 213.47 30.317221 \n\" style=\"fill:none;stroke:#ff7f0e;stroke-dasharray:5.55,2.4;stroke-dashoffset:0;stroke-width:1.5;\"/>\n   </g>\n   <g id=\"line2d_98\">\n    <path clip-path=\"url(#p555e1115d4)\" d=\"M 40.14125 13.377273 \nL 49.90625 33.660494 \nL 59.67125 47.305949 \nL 69.43625 34.129967 \nL 79.20125 53.176418 \nL 88.96625 61.217417 \nL 98.73125 64.23847 \nL 108.49625 80.499837 \nL 118.26125 92.461459 \nL 128.02625 76.600882 \nL 137.79125 101.549092 \nL 147.55625 88.863228 \nL 157.32125 98.076359 \nL 167.08625 114.236624 \nL 176.85125 109.744727 \nL 186.61625 115.631878 \nL 196.38125 136.922727 \nL 206.14625 115.369778 \nL 215.91125 130.03503 \nL 225.67625 129.814457 \n\" style=\"fill:none;stroke:#1f77b4;stroke-linecap:square;stroke-width:1.5;\"/>\n   </g>\n   <g id=\"line2d_99\">\n    <path clip-path=\"url(#p555e1115d4)\" d=\"M 57.23 30.605373 \nL 76.76 30.708564 \nL 96.29 30.59691 \nL 115.82 30.514003 \nL 135.35 30.438558 \nL 154.88 30.39258 \nL 174.41 30.361519 \nL 193.94 30.336413 \nL 213.47 30.317221 \nL 233 30.302741 \n\" style=\"fill:none;stroke:#ff7f0e;stroke-dasharray:5.55,2.4;stroke-dashoffset:0;stroke-width:1.5;\"/>\n   </g>\n   <g id=\"patch_3\">\n    <path d=\"M 37.7 143.1 \nL 37.7 7.2 \n\" style=\"fill:none;stroke:#000000;stroke-linecap:square;stroke-linejoin:miter;stroke-width:0.8;\"/>\n   </g>\n   <g id=\"patch_4\">\n    <path d=\"M 233 143.1 \nL 233 7.2 \n\" style=\"fill:none;stroke:#000000;stroke-linecap:square;stroke-linejoin:miter;stroke-width:0.8;\"/>\n   </g>\n   <g id=\"patch_5\">\n    <path d=\"M 37.7 143.1 \nL 233 143.1 \n\" style=\"fill:none;stroke:#000000;stroke-linecap:square;stroke-linejoin:miter;stroke-width:0.8;\"/>\n   </g>\n   <g id=\"patch_6\">\n    <path d=\"M 37.7 7.2 \nL 233 7.2 \n\" style=\"fill:none;stroke:#000000;stroke-linecap:square;stroke-linejoin:miter;stroke-width:0.8;\"/>\n   </g>\n   <g id=\"legend_1\">\n    <g id=\"patch_7\">\n     <path d=\"M 44.7 138.1 \nL 124.290625 138.1 \nQ 126.290625 138.1 126.290625 136.1 \nL 126.290625 107.1875 \nQ 126.290625 105.1875 124.290625 105.1875 \nL 44.7 105.1875 \nQ 42.7 105.1875 42.7 107.1875 \nL 42.7 136.1 \nQ 42.7 138.1 44.7 138.1 \nz\n\" style=\"fill:#ffffff;opacity:0.8;stroke:#cccccc;stroke-linejoin:miter;\"/>\n    </g>\n    <g id=\"line2d_100\">\n     <path d=\"M 46.7 113.285937 \nL 66.7 113.285937 \n\" style=\"fill:none;stroke:#1f77b4;stroke-linecap:square;stroke-width:1.5;\"/>\n    </g>\n    <g id=\"line2d_101\"/>\n    <g id=\"text_12\">\n     <!-- train_loss -->\n     <defs>\n      <path d=\"M 18.3125 70.21875 \nL 18.3125 54.6875 \nL 36.8125 54.6875 \nL 36.8125 47.703125 \nL 18.3125 47.703125 \nL 18.3125 18.015625 \nQ 18.3125 11.328125 20.140625 9.421875 \nQ 21.96875 7.515625 27.59375 7.515625 \nL 36.8125 7.515625 \nL 36.8125 0 \nL 27.59375 0 \nQ 17.1875 0 13.234375 3.875 \nQ 9.28125 7.765625 9.28125 18.015625 \nL 9.28125 47.703125 \nL 2.6875 47.703125 \nL 2.6875 54.6875 \nL 9.28125 54.6875 \nL 9.28125 70.21875 \nz\n\" id=\"DejaVuSans-116\"/>\n      <path d=\"M 41.109375 46.296875 \nQ 39.59375 47.171875 37.8125 47.578125 \nQ 36.03125 48 33.890625 48 \nQ 26.265625 48 22.1875 43.046875 \nQ 18.109375 38.09375 18.109375 28.8125 \nL 18.109375 0 \nL 9.078125 0 \nL 9.078125 54.6875 \nL 18.109375 54.6875 \nL 18.109375 46.1875 \nQ 20.953125 51.171875 25.484375 53.578125 \nQ 30.03125 56 36.53125 56 \nQ 37.453125 56 38.578125 55.875 \nQ 39.703125 55.765625 41.0625 55.515625 \nz\n\" id=\"DejaVuSans-114\"/>\n      <path d=\"M 34.28125 27.484375 \nQ 23.390625 27.484375 19.1875 25 \nQ 14.984375 22.515625 14.984375 16.5 \nQ 14.984375 11.71875 18.140625 8.90625 \nQ 21.296875 6.109375 26.703125 6.109375 \nQ 34.1875 6.109375 38.703125 11.40625 \nQ 43.21875 16.703125 43.21875 25.484375 \nL 43.21875 27.484375 \nz\nM 52.203125 31.203125 \nL 52.203125 0 \nL 43.21875 0 \nL 43.21875 8.296875 \nQ 40.140625 3.328125 35.546875 0.953125 \nQ 30.953125 -1.421875 24.3125 -1.421875 \nQ 15.921875 -1.421875 10.953125 3.296875 \nQ 6 8.015625 6 15.921875 \nQ 6 25.140625 12.171875 29.828125 \nQ 18.359375 34.515625 30.609375 34.515625 \nL 43.21875 34.515625 \nL 43.21875 35.40625 \nQ 43.21875 41.609375 39.140625 45 \nQ 35.0625 48.390625 27.6875 48.390625 \nQ 23 48.390625 18.546875 47.265625 \nQ 14.109375 46.140625 10.015625 43.890625 \nL 10.015625 52.203125 \nQ 14.9375 54.109375 19.578125 55.046875 \nQ 24.21875 56 28.609375 56 \nQ 40.484375 56 46.34375 49.84375 \nQ 52.203125 43.703125 52.203125 31.203125 \nz\n\" id=\"DejaVuSans-97\"/>\n      <path d=\"M 9.421875 54.6875 \nL 18.40625 54.6875 \nL 18.40625 0 \nL 9.421875 0 \nz\nM 9.421875 75.984375 \nL 18.40625 75.984375 \nL 18.40625 64.59375 \nL 9.421875 64.59375 \nz\n\" id=\"DejaVuSans-105\"/>\n      <path d=\"M 54.890625 33.015625 \nL 54.890625 0 \nL 45.90625 0 \nL 45.90625 32.71875 \nQ 45.90625 40.484375 42.875 44.328125 \nQ 39.84375 48.1875 33.796875 48.1875 \nQ 26.515625 48.1875 22.3125 43.546875 \nQ 18.109375 38.921875 18.109375 30.90625 \nL 18.109375 0 \nL 9.078125 0 \nL 9.078125 54.6875 \nL 18.109375 54.6875 \nL 18.109375 46.1875 \nQ 21.34375 51.125 25.703125 53.5625 \nQ 30.078125 56 35.796875 56 \nQ 45.21875 56 50.046875 50.171875 \nQ 54.890625 44.34375 54.890625 33.015625 \nz\n\" id=\"DejaVuSans-110\"/>\n      <path d=\"M 50.984375 -16.609375 \nL 50.984375 -23.578125 \nL -0.984375 -23.578125 \nL -0.984375 -16.609375 \nz\n\" id=\"DejaVuSans-95\"/>\n      <path d=\"M 9.421875 75.984375 \nL 18.40625 75.984375 \nL 18.40625 0 \nL 9.421875 0 \nz\n\" id=\"DejaVuSans-108\"/>\n      <path d=\"M 44.28125 53.078125 \nL 44.28125 44.578125 \nQ 40.484375 46.53125 36.375 47.5 \nQ 32.28125 48.484375 27.875 48.484375 \nQ 21.1875 48.484375 17.84375 46.4375 \nQ 14.5 44.390625 14.5 40.28125 \nQ 14.5 37.15625 16.890625 35.375 \nQ 19.28125 33.59375 26.515625 31.984375 \nL 29.59375 31.296875 \nQ 39.15625 29.25 43.1875 25.515625 \nQ 47.21875 21.78125 47.21875 15.09375 \nQ 47.21875 7.46875 41.1875 3.015625 \nQ 35.15625 -1.421875 24.609375 -1.421875 \nQ 20.21875 -1.421875 15.453125 -0.5625 \nQ 10.6875 0.296875 5.421875 2 \nL 5.421875 11.28125 \nQ 10.40625 8.6875 15.234375 7.390625 \nQ 20.0625 6.109375 24.8125 6.109375 \nQ 31.15625 6.109375 34.5625 8.28125 \nQ 37.984375 10.453125 37.984375 14.40625 \nQ 37.984375 18.0625 35.515625 20.015625 \nQ 33.0625 21.96875 24.703125 23.78125 \nL 21.578125 24.515625 \nQ 13.234375 26.265625 9.515625 29.90625 \nQ 5.8125 33.546875 5.8125 39.890625 \nQ 5.8125 47.609375 11.28125 51.796875 \nQ 16.75 56 26.8125 56 \nQ 31.78125 56 36.171875 55.265625 \nQ 40.578125 54.546875 44.28125 53.078125 \nz\n\" id=\"DejaVuSans-115\"/>\n     </defs>\n     <g transform=\"translate(74.7 116.785937)scale(0.1 -0.1)\">\n      <use xlink:href=\"#DejaVuSans-116\"/>\n      <use x=\"39.208984\" xlink:href=\"#DejaVuSans-114\"/>\n      <use x=\"80.322266\" xlink:href=\"#DejaVuSans-97\"/>\n      <use x=\"141.601562\" xlink:href=\"#DejaVuSans-105\"/>\n      <use x=\"169.384766\" xlink:href=\"#DejaVuSans-110\"/>\n      <use x=\"232.763672\" xlink:href=\"#DejaVuSans-95\"/>\n      <use x=\"282.763672\" xlink:href=\"#DejaVuSans-108\"/>\n      <use x=\"310.546875\" xlink:href=\"#DejaVuSans-111\"/>\n      <use x=\"371.728516\" xlink:href=\"#DejaVuSans-115\"/>\n      <use x=\"423.828125\" xlink:href=\"#DejaVuSans-115\"/>\n     </g>\n    </g>\n    <g id=\"line2d_102\">\n     <path d=\"M 46.7 128.242188 \nL 66.7 128.242188 \n\" style=\"fill:none;stroke:#ff7f0e;stroke-dasharray:5.55,2.4;stroke-dashoffset:0;stroke-width:1.5;\"/>\n    </g>\n    <g id=\"line2d_103\"/>\n    <g id=\"text_13\">\n     <!-- val_loss -->\n     <defs>\n      <path d=\"M 2.984375 54.6875 \nL 12.5 54.6875 \nL 29.59375 8.796875 \nL 46.6875 54.6875 \nL 56.203125 54.6875 \nL 35.6875 0 \nL 23.484375 0 \nz\n\" id=\"DejaVuSans-118\"/>\n     </defs>\n     <g transform=\"translate(74.7 131.742188)scale(0.1 -0.1)\">\n      <use xlink:href=\"#DejaVuSans-118\"/>\n      <use x=\"59.179688\" xlink:href=\"#DejaVuSans-97\"/>\n      <use x=\"120.458984\" xlink:href=\"#DejaVuSans-108\"/>\n      <use x=\"148.242188\" xlink:href=\"#DejaVuSans-95\"/>\n      <use x=\"198.242188\" xlink:href=\"#DejaVuSans-108\"/>\n      <use x=\"226.025391\" xlink:href=\"#DejaVuSans-111\"/>\n      <use x=\"287.207031\" xlink:href=\"#DejaVuSans-115\"/>\n      <use x=\"339.306641\" xlink:href=\"#DejaVuSans-115\"/>\n     </g>\n    </g>\n   </g>\n  </g>\n </g>\n <defs>\n  <clipPath id=\"p555e1115d4\">\n   <rect height=\"135.9\" width=\"195.3\" x=\"37.7\" y=\"7.2\"/>\n  </clipPath>\n </defs>\n</svg>\n"
          },
          "metadata": {
            "needs_background": "light"
          }
        }
      ]
    },
    {
      "cell_type": "markdown",
      "source": [
        "下面，我们用大量的权重衰减来运行。请注意，训练误差增加了，但验证误差却减少了。这正是我们期待的正则化的效果。"
      ],
      "metadata": {
        "id": "VxhdjtAvzqbL"
      }
    },
    {
      "cell_type": "code",
      "source": [
        "train_scratch(3)"
      ],
      "metadata": {
        "colab": {
          "base_uri": "https://localhost:8080/",
          "height": 280
        },
        "id": "sfD8yHSqzmUv",
        "outputId": "c8a9d80c-636d-4216-88e7-ef8e6592bad4"
      },
      "execution_count": 56,
      "outputs": [
        {
          "output_type": "stream",
          "name": "stdout",
          "text": [
            "L2 norm of w: 0.0016761997248977423\n"
          ]
        },
        {
          "output_type": "display_data",
          "data": {
            "text/plain": [
              "<Figure size 252x180 with 1 Axes>"
            ],
            "image/svg+xml": "<?xml version=\"1.0\" encoding=\"utf-8\" standalone=\"no\"?>\n<!DOCTYPE svg PUBLIC \"-//W3C//DTD SVG 1.1//EN\"\n  \"http://www.w3.org/Graphics/SVG/1.1/DTD/svg11.dtd\">\n<!-- Created with matplotlib (https://matplotlib.org/) -->\n<svg height=\"180.65625pt\" version=\"1.1\" viewBox=\"0 0 246.5625 180.65625\" width=\"246.5625pt\" xmlns=\"http://www.w3.org/2000/svg\" xmlns:xlink=\"http://www.w3.org/1999/xlink\">\n <defs>\n  <style type=\"text/css\">\n*{stroke-linecap:butt;stroke-linejoin:round;}\n  </style>\n </defs>\n <g id=\"figure_1\">\n  <g id=\"patch_1\">\n   <path d=\"M 0 180.65625 \nL 246.5625 180.65625 \nL 246.5625 0 \nL 0 0 \nz\n\" style=\"fill:none;\"/>\n  </g>\n  <g id=\"axes_1\">\n   <g id=\"patch_2\">\n    <path d=\"M 37.7 143.1 \nL 233 143.1 \nL 233 7.2 \nL 37.7 7.2 \nz\n\" style=\"fill:#ffffff;\"/>\n   </g>\n   <g id=\"matplotlib.axis_1\">\n    <g id=\"xtick_1\">\n     <g id=\"line2d_1\">\n      <defs>\n       <path d=\"M 0 0 \nL 0 3.5 \n\" id=\"mcb4df6ad0e\" style=\"stroke:#000000;stroke-width:0.8;\"/>\n      </defs>\n      <g>\n       <use style=\"stroke:#000000;stroke-width:0.8;\" x=\"37.7\" xlink:href=\"#mcb4df6ad0e\" y=\"143.1\"/>\n      </g>\n     </g>\n     <g id=\"text_1\">\n      <!-- 0 -->\n      <defs>\n       <path d=\"M 31.78125 66.40625 \nQ 24.171875 66.40625 20.328125 58.90625 \nQ 16.5 51.421875 16.5 36.375 \nQ 16.5 21.390625 20.328125 13.890625 \nQ 24.171875 6.390625 31.78125 6.390625 \nQ 39.453125 6.390625 43.28125 13.890625 \nQ 47.125 21.390625 47.125 36.375 \nQ 47.125 51.421875 43.28125 58.90625 \nQ 39.453125 66.40625 31.78125 66.40625 \nz\nM 31.78125 74.21875 \nQ 44.046875 74.21875 50.515625 64.515625 \nQ 56.984375 54.828125 56.984375 36.375 \nQ 56.984375 17.96875 50.515625 8.265625 \nQ 44.046875 -1.421875 31.78125 -1.421875 \nQ 19.53125 -1.421875 13.0625 8.265625 \nQ 6.59375 17.96875 6.59375 36.375 \nQ 6.59375 54.828125 13.0625 64.515625 \nQ 19.53125 74.21875 31.78125 74.21875 \nz\n\" id=\"DejaVuSans-48\"/>\n      </defs>\n      <g transform=\"translate(34.51875 157.698438)scale(0.1 -0.1)\">\n       <use xlink:href=\"#DejaVuSans-48\"/>\n      </g>\n     </g>\n    </g>\n    <g id=\"xtick_2\">\n     <g id=\"line2d_2\">\n      <g>\n       <use style=\"stroke:#000000;stroke-width:0.8;\" x=\"76.76\" xlink:href=\"#mcb4df6ad0e\" y=\"143.1\"/>\n      </g>\n     </g>\n     <g id=\"text_2\">\n      <!-- 2 -->\n      <defs>\n       <path d=\"M 19.1875 8.296875 \nL 53.609375 8.296875 \nL 53.609375 0 \nL 7.328125 0 \nL 7.328125 8.296875 \nQ 12.9375 14.109375 22.625 23.890625 \nQ 32.328125 33.6875 34.8125 36.53125 \nQ 39.546875 41.84375 41.421875 45.53125 \nQ 43.3125 49.21875 43.3125 52.78125 \nQ 43.3125 58.59375 39.234375 62.25 \nQ 35.15625 65.921875 28.609375 65.921875 \nQ 23.96875 65.921875 18.8125 64.3125 \nQ 13.671875 62.703125 7.8125 59.421875 \nL 7.8125 69.390625 \nQ 13.765625 71.78125 18.9375 73 \nQ 24.125 74.21875 28.421875 74.21875 \nQ 39.75 74.21875 46.484375 68.546875 \nQ 53.21875 62.890625 53.21875 53.421875 \nQ 53.21875 48.921875 51.53125 44.890625 \nQ 49.859375 40.875 45.40625 35.40625 \nQ 44.1875 33.984375 37.640625 27.21875 \nQ 31.109375 20.453125 19.1875 8.296875 \nz\n\" id=\"DejaVuSans-50\"/>\n      </defs>\n      <g transform=\"translate(73.57875 157.698438)scale(0.1 -0.1)\">\n       <use xlink:href=\"#DejaVuSans-50\"/>\n      </g>\n     </g>\n    </g>\n    <g id=\"xtick_3\">\n     <g id=\"line2d_3\">\n      <g>\n       <use style=\"stroke:#000000;stroke-width:0.8;\" x=\"115.82\" xlink:href=\"#mcb4df6ad0e\" y=\"143.1\"/>\n      </g>\n     </g>\n     <g id=\"text_3\">\n      <!-- 4 -->\n      <defs>\n       <path d=\"M 37.796875 64.3125 \nL 12.890625 25.390625 \nL 37.796875 25.390625 \nz\nM 35.203125 72.90625 \nL 47.609375 72.90625 \nL 47.609375 25.390625 \nL 58.015625 25.390625 \nL 58.015625 17.1875 \nL 47.609375 17.1875 \nL 47.609375 0 \nL 37.796875 0 \nL 37.796875 17.1875 \nL 4.890625 17.1875 \nL 4.890625 26.703125 \nz\n\" id=\"DejaVuSans-52\"/>\n      </defs>\n      <g transform=\"translate(112.63875 157.698438)scale(0.1 -0.1)\">\n       <use xlink:href=\"#DejaVuSans-52\"/>\n      </g>\n     </g>\n    </g>\n    <g id=\"xtick_4\">\n     <g id=\"line2d_4\">\n      <g>\n       <use style=\"stroke:#000000;stroke-width:0.8;\" x=\"154.88\" xlink:href=\"#mcb4df6ad0e\" y=\"143.1\"/>\n      </g>\n     </g>\n     <g id=\"text_4\">\n      <!-- 6 -->\n      <defs>\n       <path d=\"M 33.015625 40.375 \nQ 26.375 40.375 22.484375 35.828125 \nQ 18.609375 31.296875 18.609375 23.390625 \nQ 18.609375 15.53125 22.484375 10.953125 \nQ 26.375 6.390625 33.015625 6.390625 \nQ 39.65625 6.390625 43.53125 10.953125 \nQ 47.40625 15.53125 47.40625 23.390625 \nQ 47.40625 31.296875 43.53125 35.828125 \nQ 39.65625 40.375 33.015625 40.375 \nz\nM 52.59375 71.296875 \nL 52.59375 62.3125 \nQ 48.875 64.0625 45.09375 64.984375 \nQ 41.3125 65.921875 37.59375 65.921875 \nQ 27.828125 65.921875 22.671875 59.328125 \nQ 17.53125 52.734375 16.796875 39.40625 \nQ 19.671875 43.65625 24.015625 45.921875 \nQ 28.375 48.1875 33.59375 48.1875 \nQ 44.578125 48.1875 50.953125 41.515625 \nQ 57.328125 34.859375 57.328125 23.390625 \nQ 57.328125 12.15625 50.6875 5.359375 \nQ 44.046875 -1.421875 33.015625 -1.421875 \nQ 20.359375 -1.421875 13.671875 8.265625 \nQ 6.984375 17.96875 6.984375 36.375 \nQ 6.984375 53.65625 15.1875 63.9375 \nQ 23.390625 74.21875 37.203125 74.21875 \nQ 40.921875 74.21875 44.703125 73.484375 \nQ 48.484375 72.75 52.59375 71.296875 \nz\n\" id=\"DejaVuSans-54\"/>\n      </defs>\n      <g transform=\"translate(151.69875 157.698438)scale(0.1 -0.1)\">\n       <use xlink:href=\"#DejaVuSans-54\"/>\n      </g>\n     </g>\n    </g>\n    <g id=\"xtick_5\">\n     <g id=\"line2d_5\">\n      <g>\n       <use style=\"stroke:#000000;stroke-width:0.8;\" x=\"193.94\" xlink:href=\"#mcb4df6ad0e\" y=\"143.1\"/>\n      </g>\n     </g>\n     <g id=\"text_5\">\n      <!-- 8 -->\n      <defs>\n       <path d=\"M 31.78125 34.625 \nQ 24.75 34.625 20.71875 30.859375 \nQ 16.703125 27.09375 16.703125 20.515625 \nQ 16.703125 13.921875 20.71875 10.15625 \nQ 24.75 6.390625 31.78125 6.390625 \nQ 38.8125 6.390625 42.859375 10.171875 \nQ 46.921875 13.96875 46.921875 20.515625 \nQ 46.921875 27.09375 42.890625 30.859375 \nQ 38.875 34.625 31.78125 34.625 \nz\nM 21.921875 38.8125 \nQ 15.578125 40.375 12.03125 44.71875 \nQ 8.5 49.078125 8.5 55.328125 \nQ 8.5 64.0625 14.71875 69.140625 \nQ 20.953125 74.21875 31.78125 74.21875 \nQ 42.671875 74.21875 48.875 69.140625 \nQ 55.078125 64.0625 55.078125 55.328125 \nQ 55.078125 49.078125 51.53125 44.71875 \nQ 48 40.375 41.703125 38.8125 \nQ 48.828125 37.15625 52.796875 32.3125 \nQ 56.78125 27.484375 56.78125 20.515625 \nQ 56.78125 9.90625 50.3125 4.234375 \nQ 43.84375 -1.421875 31.78125 -1.421875 \nQ 19.734375 -1.421875 13.25 4.234375 \nQ 6.78125 9.90625 6.78125 20.515625 \nQ 6.78125 27.484375 10.78125 32.3125 \nQ 14.796875 37.15625 21.921875 38.8125 \nz\nM 18.3125 54.390625 \nQ 18.3125 48.734375 21.84375 45.5625 \nQ 25.390625 42.390625 31.78125 42.390625 \nQ 38.140625 42.390625 41.71875 45.5625 \nQ 45.3125 48.734375 45.3125 54.390625 \nQ 45.3125 60.0625 41.71875 63.234375 \nQ 38.140625 66.40625 31.78125 66.40625 \nQ 25.390625 66.40625 21.84375 63.234375 \nQ 18.3125 60.0625 18.3125 54.390625 \nz\n\" id=\"DejaVuSans-56\"/>\n      </defs>\n      <g transform=\"translate(190.75875 157.698438)scale(0.1 -0.1)\">\n       <use xlink:href=\"#DejaVuSans-56\"/>\n      </g>\n     </g>\n    </g>\n    <g id=\"xtick_6\">\n     <g id=\"line2d_6\">\n      <g>\n       <use style=\"stroke:#000000;stroke-width:0.8;\" x=\"233\" xlink:href=\"#mcb4df6ad0e\" y=\"143.1\"/>\n      </g>\n     </g>\n     <g id=\"text_6\">\n      <!-- 10 -->\n      <defs>\n       <path d=\"M 12.40625 8.296875 \nL 28.515625 8.296875 \nL 28.515625 63.921875 \nL 10.984375 60.40625 \nL 10.984375 69.390625 \nL 28.421875 72.90625 \nL 38.28125 72.90625 \nL 38.28125 8.296875 \nL 54.390625 8.296875 \nL 54.390625 0 \nL 12.40625 0 \nz\n\" id=\"DejaVuSans-49\"/>\n      </defs>\n      <g transform=\"translate(226.6375 157.698438)scale(0.1 -0.1)\">\n       <use xlink:href=\"#DejaVuSans-49\"/>\n       <use x=\"63.623047\" xlink:href=\"#DejaVuSans-48\"/>\n      </g>\n     </g>\n    </g>\n    <g id=\"text_7\">\n     <!-- epoch -->\n     <defs>\n      <path d=\"M 56.203125 29.59375 \nL 56.203125 25.203125 \nL 14.890625 25.203125 \nQ 15.484375 15.921875 20.484375 11.0625 \nQ 25.484375 6.203125 34.421875 6.203125 \nQ 39.59375 6.203125 44.453125 7.46875 \nQ 49.3125 8.734375 54.109375 11.28125 \nL 54.109375 2.78125 \nQ 49.265625 0.734375 44.1875 -0.34375 \nQ 39.109375 -1.421875 33.890625 -1.421875 \nQ 20.796875 -1.421875 13.15625 6.1875 \nQ 5.515625 13.8125 5.515625 26.8125 \nQ 5.515625 40.234375 12.765625 48.109375 \nQ 20.015625 56 32.328125 56 \nQ 43.359375 56 49.78125 48.890625 \nQ 56.203125 41.796875 56.203125 29.59375 \nz\nM 47.21875 32.234375 \nQ 47.125 39.59375 43.09375 43.984375 \nQ 39.0625 48.390625 32.421875 48.390625 \nQ 24.90625 48.390625 20.390625 44.140625 \nQ 15.875 39.890625 15.1875 32.171875 \nz\n\" id=\"DejaVuSans-101\"/>\n      <path d=\"M 18.109375 8.203125 \nL 18.109375 -20.796875 \nL 9.078125 -20.796875 \nL 9.078125 54.6875 \nL 18.109375 54.6875 \nL 18.109375 46.390625 \nQ 20.953125 51.265625 25.265625 53.625 \nQ 29.59375 56 35.59375 56 \nQ 45.5625 56 51.78125 48.09375 \nQ 58.015625 40.1875 58.015625 27.296875 \nQ 58.015625 14.40625 51.78125 6.484375 \nQ 45.5625 -1.421875 35.59375 -1.421875 \nQ 29.59375 -1.421875 25.265625 0.953125 \nQ 20.953125 3.328125 18.109375 8.203125 \nz\nM 48.6875 27.296875 \nQ 48.6875 37.203125 44.609375 42.84375 \nQ 40.53125 48.484375 33.40625 48.484375 \nQ 26.265625 48.484375 22.1875 42.84375 \nQ 18.109375 37.203125 18.109375 27.296875 \nQ 18.109375 17.390625 22.1875 11.75 \nQ 26.265625 6.109375 33.40625 6.109375 \nQ 40.53125 6.109375 44.609375 11.75 \nQ 48.6875 17.390625 48.6875 27.296875 \nz\n\" id=\"DejaVuSans-112\"/>\n      <path d=\"M 30.609375 48.390625 \nQ 23.390625 48.390625 19.1875 42.75 \nQ 14.984375 37.109375 14.984375 27.296875 \nQ 14.984375 17.484375 19.15625 11.84375 \nQ 23.34375 6.203125 30.609375 6.203125 \nQ 37.796875 6.203125 41.984375 11.859375 \nQ 46.1875 17.53125 46.1875 27.296875 \nQ 46.1875 37.015625 41.984375 42.703125 \nQ 37.796875 48.390625 30.609375 48.390625 \nz\nM 30.609375 56 \nQ 42.328125 56 49.015625 48.375 \nQ 55.71875 40.765625 55.71875 27.296875 \nQ 55.71875 13.875 49.015625 6.21875 \nQ 42.328125 -1.421875 30.609375 -1.421875 \nQ 18.84375 -1.421875 12.171875 6.21875 \nQ 5.515625 13.875 5.515625 27.296875 \nQ 5.515625 40.765625 12.171875 48.375 \nQ 18.84375 56 30.609375 56 \nz\n\" id=\"DejaVuSans-111\"/>\n      <path d=\"M 48.78125 52.59375 \nL 48.78125 44.1875 \nQ 44.96875 46.296875 41.140625 47.34375 \nQ 37.3125 48.390625 33.40625 48.390625 \nQ 24.65625 48.390625 19.8125 42.84375 \nQ 14.984375 37.3125 14.984375 27.296875 \nQ 14.984375 17.28125 19.8125 11.734375 \nQ 24.65625 6.203125 33.40625 6.203125 \nQ 37.3125 6.203125 41.140625 7.25 \nQ 44.96875 8.296875 48.78125 10.40625 \nL 48.78125 2.09375 \nQ 45.015625 0.34375 40.984375 -0.53125 \nQ 36.96875 -1.421875 32.421875 -1.421875 \nQ 20.0625 -1.421875 12.78125 6.34375 \nQ 5.515625 14.109375 5.515625 27.296875 \nQ 5.515625 40.671875 12.859375 48.328125 \nQ 20.21875 56 33.015625 56 \nQ 37.15625 56 41.109375 55.140625 \nQ 45.0625 54.296875 48.78125 52.59375 \nz\n\" id=\"DejaVuSans-99\"/>\n      <path d=\"M 54.890625 33.015625 \nL 54.890625 0 \nL 45.90625 0 \nL 45.90625 32.71875 \nQ 45.90625 40.484375 42.875 44.328125 \nQ 39.84375 48.1875 33.796875 48.1875 \nQ 26.515625 48.1875 22.3125 43.546875 \nQ 18.109375 38.921875 18.109375 30.90625 \nL 18.109375 0 \nL 9.078125 0 \nL 9.078125 75.984375 \nL 18.109375 75.984375 \nL 18.109375 46.1875 \nQ 21.34375 51.125 25.703125 53.5625 \nQ 30.078125 56 35.796875 56 \nQ 45.21875 56 50.046875 50.171875 \nQ 54.890625 44.34375 54.890625 33.015625 \nz\n\" id=\"DejaVuSans-104\"/>\n     </defs>\n     <g transform=\"translate(120.121875 171.376563)scale(0.1 -0.1)\">\n      <use xlink:href=\"#DejaVuSans-101\"/>\n      <use x=\"61.523438\" xlink:href=\"#DejaVuSans-112\"/>\n      <use x=\"125\" xlink:href=\"#DejaVuSans-111\"/>\n      <use x=\"186.181641\" xlink:href=\"#DejaVuSans-99\"/>\n      <use x=\"241.162109\" xlink:href=\"#DejaVuSans-104\"/>\n     </g>\n    </g>\n   </g>\n   <g id=\"matplotlib.axis_2\">\n    <g id=\"ytick_1\">\n     <g id=\"line2d_7\">\n      <defs>\n       <path d=\"M 0 0 \nL -3.5 0 \n\" id=\"m573a6f3755\" style=\"stroke:#000000;stroke-width:0.8;\"/>\n      </defs>\n      <g>\n       <use style=\"stroke:#000000;stroke-width:0.8;\" x=\"37.7\" xlink:href=\"#m573a6f3755\" y=\"108.699661\"/>\n      </g>\n     </g>\n     <g id=\"text_8\">\n      <!-- $\\mathdefault{10^{-2}}$ -->\n      <defs>\n       <path d=\"M 10.59375 35.5 \nL 73.1875 35.5 \nL 73.1875 27.203125 \nL 10.59375 27.203125 \nz\n\" id=\"DejaVuSans-8722\"/>\n      </defs>\n      <g transform=\"translate(7.2 112.49888)scale(0.1 -0.1)\">\n       <use transform=\"translate(0 0.765625)\" xlink:href=\"#DejaVuSans-49\"/>\n       <use transform=\"translate(63.623047 0.765625)\" xlink:href=\"#DejaVuSans-48\"/>\n       <use transform=\"translate(128.203125 39.046875)scale(0.7)\" xlink:href=\"#DejaVuSans-8722\"/>\n       <use transform=\"translate(186.855469 39.046875)scale(0.7)\" xlink:href=\"#DejaVuSans-50\"/>\n      </g>\n     </g>\n    </g>\n    <g id=\"ytick_2\">\n     <g id=\"line2d_8\">\n      <defs>\n       <path d=\"M 0 0 \nL -2 0 \n\" id=\"md2d8d51fa2\" style=\"stroke:#000000;stroke-width:0.6;\"/>\n      </defs>\n      <g>\n       <use style=\"stroke:#000000;stroke-width:0.6;\" x=\"37.7\" xlink:href=\"#md2d8d51fa2\" y=\"138.122015\"/>\n      </g>\n     </g>\n    </g>\n    <g id=\"ytick_3\">\n     <g id=\"line2d_9\">\n      <g>\n       <use style=\"stroke:#000000;stroke-width:0.6;\" x=\"37.7\" xlink:href=\"#md2d8d51fa2\" y=\"129.243298\"/>\n      </g>\n     </g>\n    </g>\n    <g id=\"ytick_4\">\n     <g id=\"line2d_10\">\n      <g>\n       <use style=\"stroke:#000000;stroke-width:0.6;\" x=\"37.7\" xlink:href=\"#md2d8d51fa2\" y=\"121.552204\"/>\n      </g>\n     </g>\n    </g>\n    <g id=\"ytick_5\">\n     <g id=\"line2d_11\">\n      <g>\n       <use style=\"stroke:#000000;stroke-width:0.6;\" x=\"37.7\" xlink:href=\"#md2d8d51fa2\" y=\"114.768179\"/>\n      </g>\n     </g>\n    </g>\n    <g id=\"ytick_6\">\n     <g id=\"line2d_12\">\n      <g>\n       <use style=\"stroke:#000000;stroke-width:0.6;\" x=\"37.7\" xlink:href=\"#md2d8d51fa2\" y=\"68.776015\"/>\n      </g>\n     </g>\n    </g>\n    <g id=\"ytick_7\">\n     <g id=\"line2d_13\">\n      <g>\n       <use style=\"stroke:#000000;stroke-width:0.6;\" x=\"37.7\" xlink:href=\"#md2d8d51fa2\" y=\"45.422179\"/>\n      </g>\n     </g>\n    </g>\n    <g id=\"ytick_8\">\n     <g id=\"line2d_14\">\n      <g>\n       <use style=\"stroke:#000000;stroke-width:0.6;\" x=\"37.7\" xlink:href=\"#md2d8d51fa2\" y=\"28.852369\"/>\n      </g>\n     </g>\n    </g>\n    <g id=\"ytick_9\">\n     <g id=\"line2d_15\">\n      <g>\n       <use style=\"stroke:#000000;stroke-width:0.6;\" x=\"37.7\" xlink:href=\"#md2d8d51fa2\" y=\"15.999826\"/>\n      </g>\n     </g>\n    </g>\n   </g>\n   <g id=\"line2d_16\">\n    <path clip-path=\"url(#pf756533af5)\" d=\"M 40.14125 13.377273 \n\" style=\"fill:none;stroke:#1f77b4;stroke-linecap:square;stroke-width:1.5;\"/>\n   </g>\n   <g id=\"line2d_17\">\n    <path clip-path=\"url(#pf756533af5)\" d=\"M 40.14125 13.377273 \nL 49.90625 30.936005 \n\" style=\"fill:none;stroke:#1f77b4;stroke-linecap:square;stroke-width:1.5;\"/>\n   </g>\n   <g id=\"line2d_18\">\n    <path clip-path=\"url(#pf756533af5)\" d=\"M 40.14125 13.377273 \nL 49.90625 30.936005 \n\" style=\"fill:none;stroke:#1f77b4;stroke-linecap:square;stroke-width:1.5;\"/>\n   </g>\n   <g id=\"line2d_19\">\n    <path clip-path=\"url(#pf756533af5)\" d=\"M 57.23 28.283524 \n\" style=\"fill:none;stroke:#ff7f0e;stroke-dasharray:5.55,2.4;stroke-dashoffset:0;stroke-width:1.5;\"/>\n   </g>\n   <g id=\"line2d_20\">\n    <path clip-path=\"url(#pf756533af5)\" d=\"M 40.14125 13.377273 \nL 49.90625 30.936005 \nL 59.67125 49.748943 \n\" style=\"fill:none;stroke:#1f77b4;stroke-linecap:square;stroke-width:1.5;\"/>\n   </g>\n   <g id=\"line2d_21\">\n    <path clip-path=\"url(#pf756533af5)\" d=\"M 57.23 28.283524 \n\" style=\"fill:none;stroke:#ff7f0e;stroke-dasharray:5.55,2.4;stroke-dashoffset:0;stroke-width:1.5;\"/>\n   </g>\n   <g id=\"line2d_22\">\n    <path clip-path=\"url(#pf756533af5)\" d=\"M 40.14125 13.377273 \nL 49.90625 30.936005 \nL 59.67125 49.748943 \nL 69.43625 53.339282 \n\" style=\"fill:none;stroke:#1f77b4;stroke-linecap:square;stroke-width:1.5;\"/>\n   </g>\n   <g id=\"line2d_23\">\n    <path clip-path=\"url(#pf756533af5)\" d=\"M 57.23 28.283524 \n\" style=\"fill:none;stroke:#ff7f0e;stroke-dasharray:5.55,2.4;stroke-dashoffset:0;stroke-width:1.5;\"/>\n   </g>\n   <g id=\"line2d_24\">\n    <path clip-path=\"url(#pf756533af5)\" d=\"M 40.14125 13.377273 \nL 49.90625 30.936005 \nL 59.67125 49.748943 \nL 69.43625 53.339282 \n\" style=\"fill:none;stroke:#1f77b4;stroke-linecap:square;stroke-width:1.5;\"/>\n   </g>\n   <g id=\"line2d_25\">\n    <path clip-path=\"url(#pf756533af5)\" d=\"M 57.23 28.283524 \nL 76.76 37.705837 \n\" style=\"fill:none;stroke:#ff7f0e;stroke-dasharray:5.55,2.4;stroke-dashoffset:0;stroke-width:1.5;\"/>\n   </g>\n   <g id=\"line2d_26\">\n    <path clip-path=\"url(#pf756533af5)\" d=\"M 40.14125 13.377273 \nL 49.90625 30.936005 \nL 59.67125 49.748943 \nL 69.43625 53.339282 \nL 79.20125 67.467372 \n\" style=\"fill:none;stroke:#1f77b4;stroke-linecap:square;stroke-width:1.5;\"/>\n   </g>\n   <g id=\"line2d_27\">\n    <path clip-path=\"url(#pf756533af5)\" d=\"M 57.23 28.283524 \nL 76.76 37.705837 \n\" style=\"fill:none;stroke:#ff7f0e;stroke-dasharray:5.55,2.4;stroke-dashoffset:0;stroke-width:1.5;\"/>\n   </g>\n   <g id=\"line2d_28\">\n    <path clip-path=\"url(#pf756533af5)\" d=\"M 40.14125 13.377273 \nL 49.90625 30.936005 \nL 59.67125 49.748943 \nL 69.43625 53.339282 \nL 79.20125 67.467372 \nL 88.96625 70.071712 \n\" style=\"fill:none;stroke:#1f77b4;stroke-linecap:square;stroke-width:1.5;\"/>\n   </g>\n   <g id=\"line2d_29\">\n    <path clip-path=\"url(#pf756533af5)\" d=\"M 57.23 28.283524 \nL 76.76 37.705837 \n\" style=\"fill:none;stroke:#ff7f0e;stroke-dasharray:5.55,2.4;stroke-dashoffset:0;stroke-width:1.5;\"/>\n   </g>\n   <g id=\"line2d_30\">\n    <path clip-path=\"url(#pf756533af5)\" d=\"M 40.14125 13.377273 \nL 49.90625 30.936005 \nL 59.67125 49.748943 \nL 69.43625 53.339282 \nL 79.20125 67.467372 \nL 88.96625 70.071712 \n\" style=\"fill:none;stroke:#1f77b4;stroke-linecap:square;stroke-width:1.5;\"/>\n   </g>\n   <g id=\"line2d_31\">\n    <path clip-path=\"url(#pf756533af5)\" d=\"M 57.23 28.283524 \nL 76.76 37.705837 \nL 96.29 46.000081 \n\" style=\"fill:none;stroke:#ff7f0e;stroke-dasharray:5.55,2.4;stroke-dashoffset:0;stroke-width:1.5;\"/>\n   </g>\n   <g id=\"line2d_32\">\n    <path clip-path=\"url(#pf756533af5)\" d=\"M 40.14125 13.377273 \nL 49.90625 30.936005 \nL 59.67125 49.748943 \nL 69.43625 53.339282 \nL 79.20125 67.467372 \nL 88.96625 70.071712 \nL 98.73125 80.20922 \n\" style=\"fill:none;stroke:#1f77b4;stroke-linecap:square;stroke-width:1.5;\"/>\n   </g>\n   <g id=\"line2d_33\">\n    <path clip-path=\"url(#pf756533af5)\" d=\"M 57.23 28.283524 \nL 76.76 37.705837 \nL 96.29 46.000081 \n\" style=\"fill:none;stroke:#ff7f0e;stroke-dasharray:5.55,2.4;stroke-dashoffset:0;stroke-width:1.5;\"/>\n   </g>\n   <g id=\"line2d_34\">\n    <path clip-path=\"url(#pf756533af5)\" d=\"M 40.14125 13.377273 \nL 49.90625 30.936005 \nL 59.67125 49.748943 \nL 69.43625 53.339282 \nL 79.20125 67.467372 \nL 88.96625 70.071712 \nL 98.73125 80.20922 \nL 108.49625 83.873495 \n\" style=\"fill:none;stroke:#1f77b4;stroke-linecap:square;stroke-width:1.5;\"/>\n   </g>\n   <g id=\"line2d_35\">\n    <path clip-path=\"url(#pf756533af5)\" d=\"M 57.23 28.283524 \nL 76.76 37.705837 \nL 96.29 46.000081 \n\" style=\"fill:none;stroke:#ff7f0e;stroke-dasharray:5.55,2.4;stroke-dashoffset:0;stroke-width:1.5;\"/>\n   </g>\n   <g id=\"line2d_36\">\n    <path clip-path=\"url(#pf756533af5)\" d=\"M 40.14125 13.377273 \nL 49.90625 30.936005 \nL 59.67125 49.748943 \nL 69.43625 53.339282 \nL 79.20125 67.467372 \nL 88.96625 70.071712 \nL 98.73125 80.20922 \nL 108.49625 83.873495 \n\" style=\"fill:none;stroke:#1f77b4;stroke-linecap:square;stroke-width:1.5;\"/>\n   </g>\n   <g id=\"line2d_37\">\n    <path clip-path=\"url(#pf756533af5)\" d=\"M 57.23 28.283524 \nL 76.76 37.705837 \nL 96.29 46.000081 \nL 115.82 53.628331 \n\" style=\"fill:none;stroke:#ff7f0e;stroke-dasharray:5.55,2.4;stroke-dashoffset:0;stroke-width:1.5;\"/>\n   </g>\n   <g id=\"line2d_38\">\n    <path clip-path=\"url(#pf756533af5)\" d=\"M 40.14125 13.377273 \nL 49.90625 30.936005 \nL 59.67125 49.748943 \nL 69.43625 53.339282 \nL 79.20125 67.467372 \nL 88.96625 70.071712 \nL 98.73125 80.20922 \nL 108.49625 83.873495 \nL 118.26125 93.039578 \n\" style=\"fill:none;stroke:#1f77b4;stroke-linecap:square;stroke-width:1.5;\"/>\n   </g>\n   <g id=\"line2d_39\">\n    <path clip-path=\"url(#pf756533af5)\" d=\"M 57.23 28.283524 \nL 76.76 37.705837 \nL 96.29 46.000081 \nL 115.82 53.628331 \n\" style=\"fill:none;stroke:#ff7f0e;stroke-dasharray:5.55,2.4;stroke-dashoffset:0;stroke-width:1.5;\"/>\n   </g>\n   <g id=\"line2d_40\">\n    <path clip-path=\"url(#pf756533af5)\" d=\"M 40.14125 13.377273 \nL 49.90625 30.936005 \nL 59.67125 49.748943 \nL 69.43625 53.339282 \nL 79.20125 67.467372 \nL 88.96625 70.071712 \nL 98.73125 80.20922 \nL 108.49625 83.873495 \nL 118.26125 93.039578 \nL 128.02625 94.023326 \n\" style=\"fill:none;stroke:#1f77b4;stroke-linecap:square;stroke-width:1.5;\"/>\n   </g>\n   <g id=\"line2d_41\">\n    <path clip-path=\"url(#pf756533af5)\" d=\"M 57.23 28.283524 \nL 76.76 37.705837 \nL 96.29 46.000081 \nL 115.82 53.628331 \n\" style=\"fill:none;stroke:#ff7f0e;stroke-dasharray:5.55,2.4;stroke-dashoffset:0;stroke-width:1.5;\"/>\n   </g>\n   <g id=\"line2d_42\">\n    <path clip-path=\"url(#pf756533af5)\" d=\"M 40.14125 13.377273 \nL 49.90625 30.936005 \nL 59.67125 49.748943 \nL 69.43625 53.339282 \nL 79.20125 67.467372 \nL 88.96625 70.071712 \nL 98.73125 80.20922 \nL 108.49625 83.873495 \nL 118.26125 93.039578 \nL 128.02625 94.023326 \n\" style=\"fill:none;stroke:#1f77b4;stroke-linecap:square;stroke-width:1.5;\"/>\n   </g>\n   <g id=\"line2d_43\">\n    <path clip-path=\"url(#pf756533af5)\" d=\"M 57.23 28.283524 \nL 76.76 37.705837 \nL 96.29 46.000081 \nL 115.82 53.628331 \nL 135.35 60.646835 \n\" style=\"fill:none;stroke:#ff7f0e;stroke-dasharray:5.55,2.4;stroke-dashoffset:0;stroke-width:1.5;\"/>\n   </g>\n   <g id=\"line2d_44\">\n    <path clip-path=\"url(#pf756533af5)\" d=\"M 40.14125 13.377273 \nL 49.90625 30.936005 \nL 59.67125 49.748943 \nL 69.43625 53.339282 \nL 79.20125 67.467372 \nL 88.96625 70.071712 \nL 98.73125 80.20922 \nL 108.49625 83.873495 \nL 118.26125 93.039578 \nL 128.02625 94.023326 \nL 137.79125 103.687426 \n\" style=\"fill:none;stroke:#1f77b4;stroke-linecap:square;stroke-width:1.5;\"/>\n   </g>\n   <g id=\"line2d_45\">\n    <path clip-path=\"url(#pf756533af5)\" d=\"M 57.23 28.283524 \nL 76.76 37.705837 \nL 96.29 46.000081 \nL 115.82 53.628331 \nL 135.35 60.646835 \n\" style=\"fill:none;stroke:#ff7f0e;stroke-dasharray:5.55,2.4;stroke-dashoffset:0;stroke-width:1.5;\"/>\n   </g>\n   <g id=\"line2d_46\">\n    <path clip-path=\"url(#pf756533af5)\" d=\"M 40.14125 13.377273 \nL 49.90625 30.936005 \nL 59.67125 49.748943 \nL 69.43625 53.339282 \nL 79.20125 67.467372 \nL 88.96625 70.071712 \nL 98.73125 80.20922 \nL 108.49625 83.873495 \nL 118.26125 93.039578 \nL 128.02625 94.023326 \nL 137.79125 103.687426 \nL 147.55625 103.876125 \n\" style=\"fill:none;stroke:#1f77b4;stroke-linecap:square;stroke-width:1.5;\"/>\n   </g>\n   <g id=\"line2d_47\">\n    <path clip-path=\"url(#pf756533af5)\" d=\"M 57.23 28.283524 \nL 76.76 37.705837 \nL 96.29 46.000081 \nL 115.82 53.628331 \nL 135.35 60.646835 \n\" style=\"fill:none;stroke:#ff7f0e;stroke-dasharray:5.55,2.4;stroke-dashoffset:0;stroke-width:1.5;\"/>\n   </g>\n   <g id=\"line2d_48\">\n    <path clip-path=\"url(#pf756533af5)\" d=\"M 40.14125 13.377273 \nL 49.90625 30.936005 \nL 59.67125 49.748943 \nL 69.43625 53.339282 \nL 79.20125 67.467372 \nL 88.96625 70.071712 \nL 98.73125 80.20922 \nL 108.49625 83.873495 \nL 118.26125 93.039578 \nL 128.02625 94.023326 \nL 137.79125 103.687426 \nL 147.55625 103.876125 \n\" style=\"fill:none;stroke:#1f77b4;stroke-linecap:square;stroke-width:1.5;\"/>\n   </g>\n   <g id=\"line2d_49\">\n    <path clip-path=\"url(#pf756533af5)\" d=\"M 57.23 28.283524 \nL 76.76 37.705837 \nL 96.29 46.000081 \nL 115.82 53.628331 \nL 135.35 60.646835 \nL 154.88 66.859899 \n\" style=\"fill:none;stroke:#ff7f0e;stroke-dasharray:5.55,2.4;stroke-dashoffset:0;stroke-width:1.5;\"/>\n   </g>\n   <g id=\"line2d_50\">\n    <path clip-path=\"url(#pf756533af5)\" d=\"M 40.14125 13.377273 \nL 49.90625 30.936005 \nL 59.67125 49.748943 \nL 69.43625 53.339282 \nL 79.20125 67.467372 \nL 88.96625 70.071712 \nL 98.73125 80.20922 \nL 108.49625 83.873495 \nL 118.26125 93.039578 \nL 128.02625 94.023326 \nL 137.79125 103.687426 \nL 147.55625 103.876125 \nL 157.32125 111.21839 \n\" style=\"fill:none;stroke:#1f77b4;stroke-linecap:square;stroke-width:1.5;\"/>\n   </g>\n   <g id=\"line2d_51\">\n    <path clip-path=\"url(#pf756533af5)\" d=\"M 57.23 28.283524 \nL 76.76 37.705837 \nL 96.29 46.000081 \nL 115.82 53.628331 \nL 135.35 60.646835 \nL 154.88 66.859899 \n\" style=\"fill:none;stroke:#ff7f0e;stroke-dasharray:5.55,2.4;stroke-dashoffset:0;stroke-width:1.5;\"/>\n   </g>\n   <g id=\"line2d_52\">\n    <path clip-path=\"url(#pf756533af5)\" d=\"M 40.14125 13.377273 \nL 49.90625 30.936005 \nL 59.67125 49.748943 \nL 69.43625 53.339282 \nL 79.20125 67.467372 \nL 88.96625 70.071712 \nL 98.73125 80.20922 \nL 108.49625 83.873495 \nL 118.26125 93.039578 \nL 128.02625 94.023326 \nL 137.79125 103.687426 \nL 147.55625 103.876125 \nL 157.32125 111.21839 \nL 167.08625 115.882404 \n\" style=\"fill:none;stroke:#1f77b4;stroke-linecap:square;stroke-width:1.5;\"/>\n   </g>\n   <g id=\"line2d_53\">\n    <path clip-path=\"url(#pf756533af5)\" d=\"M 57.23 28.283524 \nL 76.76 37.705837 \nL 96.29 46.000081 \nL 115.82 53.628331 \nL 135.35 60.646835 \nL 154.88 66.859899 \n\" style=\"fill:none;stroke:#ff7f0e;stroke-dasharray:5.55,2.4;stroke-dashoffset:0;stroke-width:1.5;\"/>\n   </g>\n   <g id=\"line2d_54\">\n    <path clip-path=\"url(#pf756533af5)\" d=\"M 40.14125 13.377273 \nL 49.90625 30.936005 \nL 59.67125 49.748943 \nL 69.43625 53.339282 \nL 79.20125 67.467372 \nL 88.96625 70.071712 \nL 98.73125 80.20922 \nL 108.49625 83.873495 \nL 118.26125 93.039578 \nL 128.02625 94.023326 \nL 137.79125 103.687426 \nL 147.55625 103.876125 \nL 157.32125 111.21839 \nL 167.08625 115.882404 \n\" style=\"fill:none;stroke:#1f77b4;stroke-linecap:square;stroke-width:1.5;\"/>\n   </g>\n   <g id=\"line2d_55\">\n    <path clip-path=\"url(#pf756533af5)\" d=\"M 57.23 28.283524 \nL 76.76 37.705837 \nL 96.29 46.000081 \nL 115.82 53.628331 \nL 135.35 60.646835 \nL 154.88 66.859899 \nL 174.41 72.528884 \n\" style=\"fill:none;stroke:#ff7f0e;stroke-dasharray:5.55,2.4;stroke-dashoffset:0;stroke-width:1.5;\"/>\n   </g>\n   <g id=\"line2d_56\">\n    <path clip-path=\"url(#pf756533af5)\" d=\"M 40.14125 13.377273 \nL 49.90625 30.936005 \nL 59.67125 49.748943 \nL 69.43625 53.339282 \nL 79.20125 67.467372 \nL 88.96625 70.071712 \nL 98.73125 80.20922 \nL 108.49625 83.873495 \nL 118.26125 93.039578 \nL 128.02625 94.023326 \nL 137.79125 103.687426 \nL 147.55625 103.876125 \nL 157.32125 111.21839 \nL 167.08625 115.882404 \nL 176.85125 118.864598 \n\" style=\"fill:none;stroke:#1f77b4;stroke-linecap:square;stroke-width:1.5;\"/>\n   </g>\n   <g id=\"line2d_57\">\n    <path clip-path=\"url(#pf756533af5)\" d=\"M 57.23 28.283524 \nL 76.76 37.705837 \nL 96.29 46.000081 \nL 115.82 53.628331 \nL 135.35 60.646835 \nL 154.88 66.859899 \nL 174.41 72.528884 \n\" style=\"fill:none;stroke:#ff7f0e;stroke-dasharray:5.55,2.4;stroke-dashoffset:0;stroke-width:1.5;\"/>\n   </g>\n   <g id=\"line2d_58\">\n    <path clip-path=\"url(#pf756533af5)\" d=\"M 40.14125 13.377273 \nL 49.90625 30.936005 \nL 59.67125 49.748943 \nL 69.43625 53.339282 \nL 79.20125 67.467372 \nL 88.96625 70.071712 \nL 98.73125 80.20922 \nL 108.49625 83.873495 \nL 118.26125 93.039578 \nL 128.02625 94.023326 \nL 137.79125 103.687426 \nL 147.55625 103.876125 \nL 157.32125 111.21839 \nL 167.08625 115.882404 \nL 176.85125 118.864598 \nL 186.61625 125.458976 \n\" style=\"fill:none;stroke:#1f77b4;stroke-linecap:square;stroke-width:1.5;\"/>\n   </g>\n   <g id=\"line2d_59\">\n    <path clip-path=\"url(#pf756533af5)\" d=\"M 57.23 28.283524 \nL 76.76 37.705837 \nL 96.29 46.000081 \nL 115.82 53.628331 \nL 135.35 60.646835 \nL 154.88 66.859899 \nL 174.41 72.528884 \n\" style=\"fill:none;stroke:#ff7f0e;stroke-dasharray:5.55,2.4;stroke-dashoffset:0;stroke-width:1.5;\"/>\n   </g>\n   <g id=\"line2d_60\">\n    <path clip-path=\"url(#pf756533af5)\" d=\"M 40.14125 13.377273 \nL 49.90625 30.936005 \nL 59.67125 49.748943 \nL 69.43625 53.339282 \nL 79.20125 67.467372 \nL 88.96625 70.071712 \nL 98.73125 80.20922 \nL 108.49625 83.873495 \nL 118.26125 93.039578 \nL 128.02625 94.023326 \nL 137.79125 103.687426 \nL 147.55625 103.876125 \nL 157.32125 111.21839 \nL 167.08625 115.882404 \nL 176.85125 118.864598 \nL 186.61625 125.458976 \n\" style=\"fill:none;stroke:#1f77b4;stroke-linecap:square;stroke-width:1.5;\"/>\n   </g>\n   <g id=\"line2d_61\">\n    <path clip-path=\"url(#pf756533af5)\" d=\"M 57.23 28.283524 \nL 76.76 37.705837 \nL 96.29 46.000081 \nL 115.82 53.628331 \nL 135.35 60.646835 \nL 154.88 66.859899 \nL 174.41 72.528884 \nL 193.94 77.565835 \n\" style=\"fill:none;stroke:#ff7f0e;stroke-dasharray:5.55,2.4;stroke-dashoffset:0;stroke-width:1.5;\"/>\n   </g>\n   <g id=\"line2d_62\">\n    <path clip-path=\"url(#pf756533af5)\" d=\"M 40.14125 13.377273 \nL 49.90625 30.936005 \nL 59.67125 49.748943 \nL 69.43625 53.339282 \nL 79.20125 67.467372 \nL 88.96625 70.071712 \nL 98.73125 80.20922 \nL 108.49625 83.873495 \nL 118.26125 93.039578 \nL 128.02625 94.023326 \nL 137.79125 103.687426 \nL 147.55625 103.876125 \nL 157.32125 111.21839 \nL 167.08625 115.882404 \nL 176.85125 118.864598 \nL 186.61625 125.458976 \nL 196.38125 127.305589 \n\" style=\"fill:none;stroke:#1f77b4;stroke-linecap:square;stroke-width:1.5;\"/>\n   </g>\n   <g id=\"line2d_63\">\n    <path clip-path=\"url(#pf756533af5)\" d=\"M 57.23 28.283524 \nL 76.76 37.705837 \nL 96.29 46.000081 \nL 115.82 53.628331 \nL 135.35 60.646835 \nL 154.88 66.859899 \nL 174.41 72.528884 \nL 193.94 77.565835 \n\" style=\"fill:none;stroke:#ff7f0e;stroke-dasharray:5.55,2.4;stroke-dashoffset:0;stroke-width:1.5;\"/>\n   </g>\n   <g id=\"line2d_64\">\n    <path clip-path=\"url(#pf756533af5)\" d=\"M 40.14125 13.377273 \nL 49.90625 30.936005 \nL 59.67125 49.748943 \nL 69.43625 53.339282 \nL 79.20125 67.467372 \nL 88.96625 70.071712 \nL 98.73125 80.20922 \nL 108.49625 83.873495 \nL 118.26125 93.039578 \nL 128.02625 94.023326 \nL 137.79125 103.687426 \nL 147.55625 103.876125 \nL 157.32125 111.21839 \nL 167.08625 115.882404 \nL 176.85125 118.864598 \nL 186.61625 125.458976 \nL 196.38125 127.305589 \nL 206.14625 131.753083 \n\" style=\"fill:none;stroke:#1f77b4;stroke-linecap:square;stroke-width:1.5;\"/>\n   </g>\n   <g id=\"line2d_65\">\n    <path clip-path=\"url(#pf756533af5)\" d=\"M 57.23 28.283524 \nL 76.76 37.705837 \nL 96.29 46.000081 \nL 115.82 53.628331 \nL 135.35 60.646835 \nL 154.88 66.859899 \nL 174.41 72.528884 \nL 193.94 77.565835 \n\" style=\"fill:none;stroke:#ff7f0e;stroke-dasharray:5.55,2.4;stroke-dashoffset:0;stroke-width:1.5;\"/>\n   </g>\n   <g id=\"line2d_66\">\n    <path clip-path=\"url(#pf756533af5)\" d=\"M 40.14125 13.377273 \nL 49.90625 30.936005 \nL 59.67125 49.748943 \nL 69.43625 53.339282 \nL 79.20125 67.467372 \nL 88.96625 70.071712 \nL 98.73125 80.20922 \nL 108.49625 83.873495 \nL 118.26125 93.039578 \nL 128.02625 94.023326 \nL 137.79125 103.687426 \nL 147.55625 103.876125 \nL 157.32125 111.21839 \nL 167.08625 115.882404 \nL 176.85125 118.864598 \nL 186.61625 125.458976 \nL 196.38125 127.305589 \nL 206.14625 131.753083 \n\" style=\"fill:none;stroke:#1f77b4;stroke-linecap:square;stroke-width:1.5;\"/>\n   </g>\n   <g id=\"line2d_67\">\n    <path clip-path=\"url(#pf756533af5)\" d=\"M 57.23 28.283524 \nL 76.76 37.705837 \nL 96.29 46.000081 \nL 115.82 53.628331 \nL 135.35 60.646835 \nL 154.88 66.859899 \nL 174.41 72.528884 \nL 193.94 77.565835 \nL 213.47 81.727263 \n\" style=\"fill:none;stroke:#ff7f0e;stroke-dasharray:5.55,2.4;stroke-dashoffset:0;stroke-width:1.5;\"/>\n   </g>\n   <g id=\"line2d_68\">\n    <path clip-path=\"url(#pf756533af5)\" d=\"M 40.14125 13.377273 \nL 49.90625 30.936005 \nL 59.67125 49.748943 \nL 69.43625 53.339282 \nL 79.20125 67.467372 \nL 88.96625 70.071712 \nL 98.73125 80.20922 \nL 108.49625 83.873495 \nL 118.26125 93.039578 \nL 128.02625 94.023326 \nL 137.79125 103.687426 \nL 147.55625 103.876125 \nL 157.32125 111.21839 \nL 167.08625 115.882404 \nL 176.85125 118.864598 \nL 186.61625 125.458976 \nL 196.38125 127.305589 \nL 206.14625 131.753083 \nL 215.91125 136.922727 \n\" style=\"fill:none;stroke:#1f77b4;stroke-linecap:square;stroke-width:1.5;\"/>\n   </g>\n   <g id=\"line2d_69\">\n    <path clip-path=\"url(#pf756533af5)\" d=\"M 57.23 28.283524 \nL 76.76 37.705837 \nL 96.29 46.000081 \nL 115.82 53.628331 \nL 135.35 60.646835 \nL 154.88 66.859899 \nL 174.41 72.528884 \nL 193.94 77.565835 \nL 213.47 81.727263 \n\" style=\"fill:none;stroke:#ff7f0e;stroke-dasharray:5.55,2.4;stroke-dashoffset:0;stroke-width:1.5;\"/>\n   </g>\n   <g id=\"line2d_70\">\n    <path clip-path=\"url(#pf756533af5)\" d=\"M 40.14125 13.377273 \nL 49.90625 30.936005 \nL 59.67125 49.748943 \nL 69.43625 53.339282 \nL 79.20125 67.467372 \nL 88.96625 70.071712 \nL 98.73125 80.20922 \nL 108.49625 83.873495 \nL 118.26125 93.039578 \nL 128.02625 94.023326 \nL 137.79125 103.687426 \nL 147.55625 103.876125 \nL 157.32125 111.21839 \nL 167.08625 115.882404 \nL 176.85125 118.864598 \nL 186.61625 125.458976 \nL 196.38125 127.305589 \nL 206.14625 131.753083 \nL 215.91125 136.922727 \nL 225.67625 135.753383 \n\" style=\"fill:none;stroke:#1f77b4;stroke-linecap:square;stroke-width:1.5;\"/>\n   </g>\n   <g id=\"line2d_71\">\n    <path clip-path=\"url(#pf756533af5)\" d=\"M 57.23 28.283524 \nL 76.76 37.705837 \nL 96.29 46.000081 \nL 115.82 53.628331 \nL 135.35 60.646835 \nL 154.88 66.859899 \nL 174.41 72.528884 \nL 193.94 77.565835 \nL 213.47 81.727263 \n\" style=\"fill:none;stroke:#ff7f0e;stroke-dasharray:5.55,2.4;stroke-dashoffset:0;stroke-width:1.5;\"/>\n   </g>\n   <g id=\"line2d_72\">\n    <path clip-path=\"url(#pf756533af5)\" d=\"M 40.14125 13.377273 \nL 49.90625 30.936005 \nL 59.67125 49.748943 \nL 69.43625 53.339282 \nL 79.20125 67.467372 \nL 88.96625 70.071712 \nL 98.73125 80.20922 \nL 108.49625 83.873495 \nL 118.26125 93.039578 \nL 128.02625 94.023326 \nL 137.79125 103.687426 \nL 147.55625 103.876125 \nL 157.32125 111.21839 \nL 167.08625 115.882404 \nL 176.85125 118.864598 \nL 186.61625 125.458976 \nL 196.38125 127.305589 \nL 206.14625 131.753083 \nL 215.91125 136.922727 \nL 225.67625 135.753383 \n\" style=\"fill:none;stroke:#1f77b4;stroke-linecap:square;stroke-width:1.5;\"/>\n   </g>\n   <g id=\"line2d_73\">\n    <path clip-path=\"url(#pf756533af5)\" d=\"M 57.23 28.283524 \nL 76.76 37.705837 \nL 96.29 46.000081 \nL 115.82 53.628331 \nL 135.35 60.646835 \nL 154.88 66.859899 \nL 174.41 72.528884 \nL 193.94 77.565835 \nL 213.47 81.727263 \nL 233 85.259686 \n\" style=\"fill:none;stroke:#ff7f0e;stroke-dasharray:5.55,2.4;stroke-dashoffset:0;stroke-width:1.5;\"/>\n   </g>\n   <g id=\"patch_3\">\n    <path d=\"M 37.7 143.1 \nL 37.7 7.2 \n\" style=\"fill:none;stroke:#000000;stroke-linecap:square;stroke-linejoin:miter;stroke-width:0.8;\"/>\n   </g>\n   <g id=\"patch_4\">\n    <path d=\"M 233 143.1 \nL 233 7.2 \n\" style=\"fill:none;stroke:#000000;stroke-linecap:square;stroke-linejoin:miter;stroke-width:0.8;\"/>\n   </g>\n   <g id=\"patch_5\">\n    <path d=\"M 37.7 143.1 \nL 233 143.1 \n\" style=\"fill:none;stroke:#000000;stroke-linecap:square;stroke-linejoin:miter;stroke-width:0.8;\"/>\n   </g>\n   <g id=\"patch_6\">\n    <path d=\"M 37.7 7.2 \nL 233 7.2 \n\" style=\"fill:none;stroke:#000000;stroke-linecap:square;stroke-linejoin:miter;stroke-width:0.8;\"/>\n   </g>\n   <g id=\"legend_1\">\n    <g id=\"patch_7\">\n     <path d=\"M 146.409375 45.1125 \nL 226 45.1125 \nQ 228 45.1125 228 43.1125 \nL 228 14.2 \nQ 228 12.2 226 12.2 \nL 146.409375 12.2 \nQ 144.409375 12.2 144.409375 14.2 \nL 144.409375 43.1125 \nQ 144.409375 45.1125 146.409375 45.1125 \nz\n\" style=\"fill:#ffffff;opacity:0.8;stroke:#cccccc;stroke-linejoin:miter;\"/>\n    </g>\n    <g id=\"line2d_74\">\n     <path d=\"M 148.409375 20.298437 \nL 168.409375 20.298437 \n\" style=\"fill:none;stroke:#1f77b4;stroke-linecap:square;stroke-width:1.5;\"/>\n    </g>\n    <g id=\"line2d_75\"/>\n    <g id=\"text_9\">\n     <!-- train_loss -->\n     <defs>\n      <path d=\"M 18.3125 70.21875 \nL 18.3125 54.6875 \nL 36.8125 54.6875 \nL 36.8125 47.703125 \nL 18.3125 47.703125 \nL 18.3125 18.015625 \nQ 18.3125 11.328125 20.140625 9.421875 \nQ 21.96875 7.515625 27.59375 7.515625 \nL 36.8125 7.515625 \nL 36.8125 0 \nL 27.59375 0 \nQ 17.1875 0 13.234375 3.875 \nQ 9.28125 7.765625 9.28125 18.015625 \nL 9.28125 47.703125 \nL 2.6875 47.703125 \nL 2.6875 54.6875 \nL 9.28125 54.6875 \nL 9.28125 70.21875 \nz\n\" id=\"DejaVuSans-116\"/>\n      <path d=\"M 41.109375 46.296875 \nQ 39.59375 47.171875 37.8125 47.578125 \nQ 36.03125 48 33.890625 48 \nQ 26.265625 48 22.1875 43.046875 \nQ 18.109375 38.09375 18.109375 28.8125 \nL 18.109375 0 \nL 9.078125 0 \nL 9.078125 54.6875 \nL 18.109375 54.6875 \nL 18.109375 46.1875 \nQ 20.953125 51.171875 25.484375 53.578125 \nQ 30.03125 56 36.53125 56 \nQ 37.453125 56 38.578125 55.875 \nQ 39.703125 55.765625 41.0625 55.515625 \nz\n\" id=\"DejaVuSans-114\"/>\n      <path d=\"M 34.28125 27.484375 \nQ 23.390625 27.484375 19.1875 25 \nQ 14.984375 22.515625 14.984375 16.5 \nQ 14.984375 11.71875 18.140625 8.90625 \nQ 21.296875 6.109375 26.703125 6.109375 \nQ 34.1875 6.109375 38.703125 11.40625 \nQ 43.21875 16.703125 43.21875 25.484375 \nL 43.21875 27.484375 \nz\nM 52.203125 31.203125 \nL 52.203125 0 \nL 43.21875 0 \nL 43.21875 8.296875 \nQ 40.140625 3.328125 35.546875 0.953125 \nQ 30.953125 -1.421875 24.3125 -1.421875 \nQ 15.921875 -1.421875 10.953125 3.296875 \nQ 6 8.015625 6 15.921875 \nQ 6 25.140625 12.171875 29.828125 \nQ 18.359375 34.515625 30.609375 34.515625 \nL 43.21875 34.515625 \nL 43.21875 35.40625 \nQ 43.21875 41.609375 39.140625 45 \nQ 35.0625 48.390625 27.6875 48.390625 \nQ 23 48.390625 18.546875 47.265625 \nQ 14.109375 46.140625 10.015625 43.890625 \nL 10.015625 52.203125 \nQ 14.9375 54.109375 19.578125 55.046875 \nQ 24.21875 56 28.609375 56 \nQ 40.484375 56 46.34375 49.84375 \nQ 52.203125 43.703125 52.203125 31.203125 \nz\n\" id=\"DejaVuSans-97\"/>\n      <path d=\"M 9.421875 54.6875 \nL 18.40625 54.6875 \nL 18.40625 0 \nL 9.421875 0 \nz\nM 9.421875 75.984375 \nL 18.40625 75.984375 \nL 18.40625 64.59375 \nL 9.421875 64.59375 \nz\n\" id=\"DejaVuSans-105\"/>\n      <path d=\"M 54.890625 33.015625 \nL 54.890625 0 \nL 45.90625 0 \nL 45.90625 32.71875 \nQ 45.90625 40.484375 42.875 44.328125 \nQ 39.84375 48.1875 33.796875 48.1875 \nQ 26.515625 48.1875 22.3125 43.546875 \nQ 18.109375 38.921875 18.109375 30.90625 \nL 18.109375 0 \nL 9.078125 0 \nL 9.078125 54.6875 \nL 18.109375 54.6875 \nL 18.109375 46.1875 \nQ 21.34375 51.125 25.703125 53.5625 \nQ 30.078125 56 35.796875 56 \nQ 45.21875 56 50.046875 50.171875 \nQ 54.890625 44.34375 54.890625 33.015625 \nz\n\" id=\"DejaVuSans-110\"/>\n      <path d=\"M 50.984375 -16.609375 \nL 50.984375 -23.578125 \nL -0.984375 -23.578125 \nL -0.984375 -16.609375 \nz\n\" id=\"DejaVuSans-95\"/>\n      <path d=\"M 9.421875 75.984375 \nL 18.40625 75.984375 \nL 18.40625 0 \nL 9.421875 0 \nz\n\" id=\"DejaVuSans-108\"/>\n      <path d=\"M 44.28125 53.078125 \nL 44.28125 44.578125 \nQ 40.484375 46.53125 36.375 47.5 \nQ 32.28125 48.484375 27.875 48.484375 \nQ 21.1875 48.484375 17.84375 46.4375 \nQ 14.5 44.390625 14.5 40.28125 \nQ 14.5 37.15625 16.890625 35.375 \nQ 19.28125 33.59375 26.515625 31.984375 \nL 29.59375 31.296875 \nQ 39.15625 29.25 43.1875 25.515625 \nQ 47.21875 21.78125 47.21875 15.09375 \nQ 47.21875 7.46875 41.1875 3.015625 \nQ 35.15625 -1.421875 24.609375 -1.421875 \nQ 20.21875 -1.421875 15.453125 -0.5625 \nQ 10.6875 0.296875 5.421875 2 \nL 5.421875 11.28125 \nQ 10.40625 8.6875 15.234375 7.390625 \nQ 20.0625 6.109375 24.8125 6.109375 \nQ 31.15625 6.109375 34.5625 8.28125 \nQ 37.984375 10.453125 37.984375 14.40625 \nQ 37.984375 18.0625 35.515625 20.015625 \nQ 33.0625 21.96875 24.703125 23.78125 \nL 21.578125 24.515625 \nQ 13.234375 26.265625 9.515625 29.90625 \nQ 5.8125 33.546875 5.8125 39.890625 \nQ 5.8125 47.609375 11.28125 51.796875 \nQ 16.75 56 26.8125 56 \nQ 31.78125 56 36.171875 55.265625 \nQ 40.578125 54.546875 44.28125 53.078125 \nz\n\" id=\"DejaVuSans-115\"/>\n     </defs>\n     <g transform=\"translate(176.409375 23.798437)scale(0.1 -0.1)\">\n      <use xlink:href=\"#DejaVuSans-116\"/>\n      <use x=\"39.208984\" xlink:href=\"#DejaVuSans-114\"/>\n      <use x=\"80.322266\" xlink:href=\"#DejaVuSans-97\"/>\n      <use x=\"141.601562\" xlink:href=\"#DejaVuSans-105\"/>\n      <use x=\"169.384766\" xlink:href=\"#DejaVuSans-110\"/>\n      <use x=\"232.763672\" xlink:href=\"#DejaVuSans-95\"/>\n      <use x=\"282.763672\" xlink:href=\"#DejaVuSans-108\"/>\n      <use x=\"310.546875\" xlink:href=\"#DejaVuSans-111\"/>\n      <use x=\"371.728516\" xlink:href=\"#DejaVuSans-115\"/>\n      <use x=\"423.828125\" xlink:href=\"#DejaVuSans-115\"/>\n     </g>\n    </g>\n    <g id=\"line2d_76\">\n     <path d=\"M 148.409375 35.254687 \nL 168.409375 35.254687 \n\" style=\"fill:none;stroke:#ff7f0e;stroke-dasharray:5.55,2.4;stroke-dashoffset:0;stroke-width:1.5;\"/>\n    </g>\n    <g id=\"line2d_77\"/>\n    <g id=\"text_10\">\n     <!-- val_loss -->\n     <defs>\n      <path d=\"M 2.984375 54.6875 \nL 12.5 54.6875 \nL 29.59375 8.796875 \nL 46.6875 54.6875 \nL 56.203125 54.6875 \nL 35.6875 0 \nL 23.484375 0 \nz\n\" id=\"DejaVuSans-118\"/>\n     </defs>\n     <g transform=\"translate(176.409375 38.754687)scale(0.1 -0.1)\">\n      <use xlink:href=\"#DejaVuSans-118\"/>\n      <use x=\"59.179688\" xlink:href=\"#DejaVuSans-97\"/>\n      <use x=\"120.458984\" xlink:href=\"#DejaVuSans-108\"/>\n      <use x=\"148.242188\" xlink:href=\"#DejaVuSans-95\"/>\n      <use x=\"198.242188\" xlink:href=\"#DejaVuSans-108\"/>\n      <use x=\"226.025391\" xlink:href=\"#DejaVuSans-111\"/>\n      <use x=\"287.207031\" xlink:href=\"#DejaVuSans-115\"/>\n      <use x=\"339.306641\" xlink:href=\"#DejaVuSans-115\"/>\n     </g>\n    </g>\n   </g>\n  </g>\n </g>\n <defs>\n  <clipPath id=\"pf756533af5\">\n   <rect height=\"135.9\" width=\"195.3\" x=\"37.7\" y=\"7.2\"/>\n  </clipPath>\n </defs>\n</svg>\n"
          },
          "metadata": {
            "needs_background": "light"
          }
        }
      ]
    },
    {
      "cell_type": "markdown",
      "source": [
        "### **3.7.4. 简明的实现（Concise Implementation）**\n",
        "\n",
        "在下面的代码中，我们在实例化优化器时直接通过 `weight_decay` 指定权重衰减超参数。默认情况下，PyTorch 会同时对权重和偏差进行衰减，但我们可以根据不同的策略配置优化器来处理不同的参数。在这里，我们只为权重（`net.weight` 参数）设置 `weight_decay`，因此偏差 （`net.bias` 参数）将不会衰减。"
      ],
      "metadata": {
        "id": "TpBfm4viz2c8"
      }
    },
    {
      "cell_type": "code",
      "source": [
        "class WeightDecay(d2l.LinearRegression):\n",
        "    def __init__(self, wd, lr):\n",
        "        super().__init__(lr)\n",
        "        self.save_hyperparameters()\n",
        "        self.wd = wd\n",
        "\n",
        "    def configure_optimizers(self):\n",
        "        return torch.optim.SGD([\n",
        "            {'params': self.net.weight, 'weight_decay': self.wd},\n",
        "            {'params': self.net.bias}], lr=self.lr)"
      ],
      "metadata": {
        "id": "kMFZX3BTztDB"
      },
      "execution_count": 57,
      "outputs": []
    },
    {
      "cell_type": "code",
      "source": [
        "model = WeightDecay(wd=3, lr=0.01)\n",
        "model.board.yscale='log'\n",
        "trainer.fit(model, data)\n",
        "\n",
        "print('L2 norm of w:', float(l2_penalty(model.get_w_b()[0])))"
      ],
      "metadata": {
        "colab": {
          "base_uri": "https://localhost:8080/",
          "height": 280
        },
        "id": "iTF2h_cX0yWw",
        "outputId": "aa9060f0-8587-4be2-b034-ca4d3daa764c"
      },
      "execution_count": 58,
      "outputs": [
        {
          "output_type": "stream",
          "name": "stdout",
          "text": [
            "L2 norm of w: 0.013066286221146584\n"
          ]
        },
        {
          "output_type": "display_data",
          "data": {
            "text/plain": [
              "<Figure size 252x180 with 1 Axes>"
            ],
            "image/svg+xml": "<?xml version=\"1.0\" encoding=\"utf-8\" standalone=\"no\"?>\n<!DOCTYPE svg PUBLIC \"-//W3C//DTD SVG 1.1//EN\"\n  \"http://www.w3.org/Graphics/SVG/1.1/DTD/svg11.dtd\">\n<!-- Created with matplotlib (https://matplotlib.org/) -->\n<svg height=\"180.65625pt\" version=\"1.1\" viewBox=\"0 0 246.5625 180.65625\" width=\"246.5625pt\" xmlns=\"http://www.w3.org/2000/svg\" xmlns:xlink=\"http://www.w3.org/1999/xlink\">\n <defs>\n  <style type=\"text/css\">\n*{stroke-linecap:butt;stroke-linejoin:round;}\n  </style>\n </defs>\n <g id=\"figure_1\">\n  <g id=\"patch_1\">\n   <path d=\"M 0 180.65625 \nL 246.5625 180.65625 \nL 246.5625 0 \nL 0 0 \nz\n\" style=\"fill:none;\"/>\n  </g>\n  <g id=\"axes_1\">\n   <g id=\"patch_2\">\n    <path d=\"M 37.7 143.1 \nL 233 143.1 \nL 233 7.2 \nL 37.7 7.2 \nz\n\" style=\"fill:#ffffff;\"/>\n   </g>\n   <g id=\"matplotlib.axis_1\">\n    <g id=\"xtick_1\">\n     <g id=\"line2d_1\">\n      <defs>\n       <path d=\"M 0 0 \nL 0 3.5 \n\" id=\"ma4e96b7e8b\" style=\"stroke:#000000;stroke-width:0.8;\"/>\n      </defs>\n      <g>\n       <use style=\"stroke:#000000;stroke-width:0.8;\" x=\"37.7\" xlink:href=\"#ma4e96b7e8b\" y=\"143.1\"/>\n      </g>\n     </g>\n     <g id=\"text_1\">\n      <!-- 0 -->\n      <defs>\n       <path d=\"M 31.78125 66.40625 \nQ 24.171875 66.40625 20.328125 58.90625 \nQ 16.5 51.421875 16.5 36.375 \nQ 16.5 21.390625 20.328125 13.890625 \nQ 24.171875 6.390625 31.78125 6.390625 \nQ 39.453125 6.390625 43.28125 13.890625 \nQ 47.125 21.390625 47.125 36.375 \nQ 47.125 51.421875 43.28125 58.90625 \nQ 39.453125 66.40625 31.78125 66.40625 \nz\nM 31.78125 74.21875 \nQ 44.046875 74.21875 50.515625 64.515625 \nQ 56.984375 54.828125 56.984375 36.375 \nQ 56.984375 17.96875 50.515625 8.265625 \nQ 44.046875 -1.421875 31.78125 -1.421875 \nQ 19.53125 -1.421875 13.0625 8.265625 \nQ 6.59375 17.96875 6.59375 36.375 \nQ 6.59375 54.828125 13.0625 64.515625 \nQ 19.53125 74.21875 31.78125 74.21875 \nz\n\" id=\"DejaVuSans-48\"/>\n      </defs>\n      <g transform=\"translate(34.51875 157.698438)scale(0.1 -0.1)\">\n       <use xlink:href=\"#DejaVuSans-48\"/>\n      </g>\n     </g>\n    </g>\n    <g id=\"xtick_2\">\n     <g id=\"line2d_2\">\n      <g>\n       <use style=\"stroke:#000000;stroke-width:0.8;\" x=\"76.76\" xlink:href=\"#ma4e96b7e8b\" y=\"143.1\"/>\n      </g>\n     </g>\n     <g id=\"text_2\">\n      <!-- 2 -->\n      <defs>\n       <path d=\"M 19.1875 8.296875 \nL 53.609375 8.296875 \nL 53.609375 0 \nL 7.328125 0 \nL 7.328125 8.296875 \nQ 12.9375 14.109375 22.625 23.890625 \nQ 32.328125 33.6875 34.8125 36.53125 \nQ 39.546875 41.84375 41.421875 45.53125 \nQ 43.3125 49.21875 43.3125 52.78125 \nQ 43.3125 58.59375 39.234375 62.25 \nQ 35.15625 65.921875 28.609375 65.921875 \nQ 23.96875 65.921875 18.8125 64.3125 \nQ 13.671875 62.703125 7.8125 59.421875 \nL 7.8125 69.390625 \nQ 13.765625 71.78125 18.9375 73 \nQ 24.125 74.21875 28.421875 74.21875 \nQ 39.75 74.21875 46.484375 68.546875 \nQ 53.21875 62.890625 53.21875 53.421875 \nQ 53.21875 48.921875 51.53125 44.890625 \nQ 49.859375 40.875 45.40625 35.40625 \nQ 44.1875 33.984375 37.640625 27.21875 \nQ 31.109375 20.453125 19.1875 8.296875 \nz\n\" id=\"DejaVuSans-50\"/>\n      </defs>\n      <g transform=\"translate(73.57875 157.698438)scale(0.1 -0.1)\">\n       <use xlink:href=\"#DejaVuSans-50\"/>\n      </g>\n     </g>\n    </g>\n    <g id=\"xtick_3\">\n     <g id=\"line2d_3\">\n      <g>\n       <use style=\"stroke:#000000;stroke-width:0.8;\" x=\"115.82\" xlink:href=\"#ma4e96b7e8b\" y=\"143.1\"/>\n      </g>\n     </g>\n     <g id=\"text_3\">\n      <!-- 4 -->\n      <defs>\n       <path d=\"M 37.796875 64.3125 \nL 12.890625 25.390625 \nL 37.796875 25.390625 \nz\nM 35.203125 72.90625 \nL 47.609375 72.90625 \nL 47.609375 25.390625 \nL 58.015625 25.390625 \nL 58.015625 17.1875 \nL 47.609375 17.1875 \nL 47.609375 0 \nL 37.796875 0 \nL 37.796875 17.1875 \nL 4.890625 17.1875 \nL 4.890625 26.703125 \nz\n\" id=\"DejaVuSans-52\"/>\n      </defs>\n      <g transform=\"translate(112.63875 157.698438)scale(0.1 -0.1)\">\n       <use xlink:href=\"#DejaVuSans-52\"/>\n      </g>\n     </g>\n    </g>\n    <g id=\"xtick_4\">\n     <g id=\"line2d_4\">\n      <g>\n       <use style=\"stroke:#000000;stroke-width:0.8;\" x=\"154.88\" xlink:href=\"#ma4e96b7e8b\" y=\"143.1\"/>\n      </g>\n     </g>\n     <g id=\"text_4\">\n      <!-- 6 -->\n      <defs>\n       <path d=\"M 33.015625 40.375 \nQ 26.375 40.375 22.484375 35.828125 \nQ 18.609375 31.296875 18.609375 23.390625 \nQ 18.609375 15.53125 22.484375 10.953125 \nQ 26.375 6.390625 33.015625 6.390625 \nQ 39.65625 6.390625 43.53125 10.953125 \nQ 47.40625 15.53125 47.40625 23.390625 \nQ 47.40625 31.296875 43.53125 35.828125 \nQ 39.65625 40.375 33.015625 40.375 \nz\nM 52.59375 71.296875 \nL 52.59375 62.3125 \nQ 48.875 64.0625 45.09375 64.984375 \nQ 41.3125 65.921875 37.59375 65.921875 \nQ 27.828125 65.921875 22.671875 59.328125 \nQ 17.53125 52.734375 16.796875 39.40625 \nQ 19.671875 43.65625 24.015625 45.921875 \nQ 28.375 48.1875 33.59375 48.1875 \nQ 44.578125 48.1875 50.953125 41.515625 \nQ 57.328125 34.859375 57.328125 23.390625 \nQ 57.328125 12.15625 50.6875 5.359375 \nQ 44.046875 -1.421875 33.015625 -1.421875 \nQ 20.359375 -1.421875 13.671875 8.265625 \nQ 6.984375 17.96875 6.984375 36.375 \nQ 6.984375 53.65625 15.1875 63.9375 \nQ 23.390625 74.21875 37.203125 74.21875 \nQ 40.921875 74.21875 44.703125 73.484375 \nQ 48.484375 72.75 52.59375 71.296875 \nz\n\" id=\"DejaVuSans-54\"/>\n      </defs>\n      <g transform=\"translate(151.69875 157.698438)scale(0.1 -0.1)\">\n       <use xlink:href=\"#DejaVuSans-54\"/>\n      </g>\n     </g>\n    </g>\n    <g id=\"xtick_5\">\n     <g id=\"line2d_5\">\n      <g>\n       <use style=\"stroke:#000000;stroke-width:0.8;\" x=\"193.94\" xlink:href=\"#ma4e96b7e8b\" y=\"143.1\"/>\n      </g>\n     </g>\n     <g id=\"text_5\">\n      <!-- 8 -->\n      <defs>\n       <path d=\"M 31.78125 34.625 \nQ 24.75 34.625 20.71875 30.859375 \nQ 16.703125 27.09375 16.703125 20.515625 \nQ 16.703125 13.921875 20.71875 10.15625 \nQ 24.75 6.390625 31.78125 6.390625 \nQ 38.8125 6.390625 42.859375 10.171875 \nQ 46.921875 13.96875 46.921875 20.515625 \nQ 46.921875 27.09375 42.890625 30.859375 \nQ 38.875 34.625 31.78125 34.625 \nz\nM 21.921875 38.8125 \nQ 15.578125 40.375 12.03125 44.71875 \nQ 8.5 49.078125 8.5 55.328125 \nQ 8.5 64.0625 14.71875 69.140625 \nQ 20.953125 74.21875 31.78125 74.21875 \nQ 42.671875 74.21875 48.875 69.140625 \nQ 55.078125 64.0625 55.078125 55.328125 \nQ 55.078125 49.078125 51.53125 44.71875 \nQ 48 40.375 41.703125 38.8125 \nQ 48.828125 37.15625 52.796875 32.3125 \nQ 56.78125 27.484375 56.78125 20.515625 \nQ 56.78125 9.90625 50.3125 4.234375 \nQ 43.84375 -1.421875 31.78125 -1.421875 \nQ 19.734375 -1.421875 13.25 4.234375 \nQ 6.78125 9.90625 6.78125 20.515625 \nQ 6.78125 27.484375 10.78125 32.3125 \nQ 14.796875 37.15625 21.921875 38.8125 \nz\nM 18.3125 54.390625 \nQ 18.3125 48.734375 21.84375 45.5625 \nQ 25.390625 42.390625 31.78125 42.390625 \nQ 38.140625 42.390625 41.71875 45.5625 \nQ 45.3125 48.734375 45.3125 54.390625 \nQ 45.3125 60.0625 41.71875 63.234375 \nQ 38.140625 66.40625 31.78125 66.40625 \nQ 25.390625 66.40625 21.84375 63.234375 \nQ 18.3125 60.0625 18.3125 54.390625 \nz\n\" id=\"DejaVuSans-56\"/>\n      </defs>\n      <g transform=\"translate(190.75875 157.698438)scale(0.1 -0.1)\">\n       <use xlink:href=\"#DejaVuSans-56\"/>\n      </g>\n     </g>\n    </g>\n    <g id=\"xtick_6\">\n     <g id=\"line2d_6\">\n      <g>\n       <use style=\"stroke:#000000;stroke-width:0.8;\" x=\"233\" xlink:href=\"#ma4e96b7e8b\" y=\"143.1\"/>\n      </g>\n     </g>\n     <g id=\"text_6\">\n      <!-- 10 -->\n      <defs>\n       <path d=\"M 12.40625 8.296875 \nL 28.515625 8.296875 \nL 28.515625 63.921875 \nL 10.984375 60.40625 \nL 10.984375 69.390625 \nL 28.421875 72.90625 \nL 38.28125 72.90625 \nL 38.28125 8.296875 \nL 54.390625 8.296875 \nL 54.390625 0 \nL 12.40625 0 \nz\n\" id=\"DejaVuSans-49\"/>\n      </defs>\n      <g transform=\"translate(226.6375 157.698438)scale(0.1 -0.1)\">\n       <use xlink:href=\"#DejaVuSans-49\"/>\n       <use x=\"63.623047\" xlink:href=\"#DejaVuSans-48\"/>\n      </g>\n     </g>\n    </g>\n    <g id=\"text_7\">\n     <!-- epoch -->\n     <defs>\n      <path d=\"M 56.203125 29.59375 \nL 56.203125 25.203125 \nL 14.890625 25.203125 \nQ 15.484375 15.921875 20.484375 11.0625 \nQ 25.484375 6.203125 34.421875 6.203125 \nQ 39.59375 6.203125 44.453125 7.46875 \nQ 49.3125 8.734375 54.109375 11.28125 \nL 54.109375 2.78125 \nQ 49.265625 0.734375 44.1875 -0.34375 \nQ 39.109375 -1.421875 33.890625 -1.421875 \nQ 20.796875 -1.421875 13.15625 6.1875 \nQ 5.515625 13.8125 5.515625 26.8125 \nQ 5.515625 40.234375 12.765625 48.109375 \nQ 20.015625 56 32.328125 56 \nQ 43.359375 56 49.78125 48.890625 \nQ 56.203125 41.796875 56.203125 29.59375 \nz\nM 47.21875 32.234375 \nQ 47.125 39.59375 43.09375 43.984375 \nQ 39.0625 48.390625 32.421875 48.390625 \nQ 24.90625 48.390625 20.390625 44.140625 \nQ 15.875 39.890625 15.1875 32.171875 \nz\n\" id=\"DejaVuSans-101\"/>\n      <path d=\"M 18.109375 8.203125 \nL 18.109375 -20.796875 \nL 9.078125 -20.796875 \nL 9.078125 54.6875 \nL 18.109375 54.6875 \nL 18.109375 46.390625 \nQ 20.953125 51.265625 25.265625 53.625 \nQ 29.59375 56 35.59375 56 \nQ 45.5625 56 51.78125 48.09375 \nQ 58.015625 40.1875 58.015625 27.296875 \nQ 58.015625 14.40625 51.78125 6.484375 \nQ 45.5625 -1.421875 35.59375 -1.421875 \nQ 29.59375 -1.421875 25.265625 0.953125 \nQ 20.953125 3.328125 18.109375 8.203125 \nz\nM 48.6875 27.296875 \nQ 48.6875 37.203125 44.609375 42.84375 \nQ 40.53125 48.484375 33.40625 48.484375 \nQ 26.265625 48.484375 22.1875 42.84375 \nQ 18.109375 37.203125 18.109375 27.296875 \nQ 18.109375 17.390625 22.1875 11.75 \nQ 26.265625 6.109375 33.40625 6.109375 \nQ 40.53125 6.109375 44.609375 11.75 \nQ 48.6875 17.390625 48.6875 27.296875 \nz\n\" id=\"DejaVuSans-112\"/>\n      <path d=\"M 30.609375 48.390625 \nQ 23.390625 48.390625 19.1875 42.75 \nQ 14.984375 37.109375 14.984375 27.296875 \nQ 14.984375 17.484375 19.15625 11.84375 \nQ 23.34375 6.203125 30.609375 6.203125 \nQ 37.796875 6.203125 41.984375 11.859375 \nQ 46.1875 17.53125 46.1875 27.296875 \nQ 46.1875 37.015625 41.984375 42.703125 \nQ 37.796875 48.390625 30.609375 48.390625 \nz\nM 30.609375 56 \nQ 42.328125 56 49.015625 48.375 \nQ 55.71875 40.765625 55.71875 27.296875 \nQ 55.71875 13.875 49.015625 6.21875 \nQ 42.328125 -1.421875 30.609375 -1.421875 \nQ 18.84375 -1.421875 12.171875 6.21875 \nQ 5.515625 13.875 5.515625 27.296875 \nQ 5.515625 40.765625 12.171875 48.375 \nQ 18.84375 56 30.609375 56 \nz\n\" id=\"DejaVuSans-111\"/>\n      <path d=\"M 48.78125 52.59375 \nL 48.78125 44.1875 \nQ 44.96875 46.296875 41.140625 47.34375 \nQ 37.3125 48.390625 33.40625 48.390625 \nQ 24.65625 48.390625 19.8125 42.84375 \nQ 14.984375 37.3125 14.984375 27.296875 \nQ 14.984375 17.28125 19.8125 11.734375 \nQ 24.65625 6.203125 33.40625 6.203125 \nQ 37.3125 6.203125 41.140625 7.25 \nQ 44.96875 8.296875 48.78125 10.40625 \nL 48.78125 2.09375 \nQ 45.015625 0.34375 40.984375 -0.53125 \nQ 36.96875 -1.421875 32.421875 -1.421875 \nQ 20.0625 -1.421875 12.78125 6.34375 \nQ 5.515625 14.109375 5.515625 27.296875 \nQ 5.515625 40.671875 12.859375 48.328125 \nQ 20.21875 56 33.015625 56 \nQ 37.15625 56 41.109375 55.140625 \nQ 45.0625 54.296875 48.78125 52.59375 \nz\n\" id=\"DejaVuSans-99\"/>\n      <path d=\"M 54.890625 33.015625 \nL 54.890625 0 \nL 45.90625 0 \nL 45.90625 32.71875 \nQ 45.90625 40.484375 42.875 44.328125 \nQ 39.84375 48.1875 33.796875 48.1875 \nQ 26.515625 48.1875 22.3125 43.546875 \nQ 18.109375 38.921875 18.109375 30.90625 \nL 18.109375 0 \nL 9.078125 0 \nL 9.078125 75.984375 \nL 18.109375 75.984375 \nL 18.109375 46.1875 \nQ 21.34375 51.125 25.703125 53.5625 \nQ 30.078125 56 35.796875 56 \nQ 45.21875 56 50.046875 50.171875 \nQ 54.890625 44.34375 54.890625 33.015625 \nz\n\" id=\"DejaVuSans-104\"/>\n     </defs>\n     <g transform=\"translate(120.121875 171.376563)scale(0.1 -0.1)\">\n      <use xlink:href=\"#DejaVuSans-101\"/>\n      <use x=\"61.523438\" xlink:href=\"#DejaVuSans-112\"/>\n      <use x=\"125\" xlink:href=\"#DejaVuSans-111\"/>\n      <use x=\"186.181641\" xlink:href=\"#DejaVuSans-99\"/>\n      <use x=\"241.162109\" xlink:href=\"#DejaVuSans-104\"/>\n     </g>\n    </g>\n   </g>\n   <g id=\"matplotlib.axis_2\">\n    <g id=\"ytick_1\">\n     <g id=\"line2d_7\">\n      <defs>\n       <path d=\"M 0 0 \nL -3.5 0 \n\" id=\"ma4571a6483\" style=\"stroke:#000000;stroke-width:0.8;\"/>\n      </defs>\n      <g>\n       <use style=\"stroke:#000000;stroke-width:0.8;\" x=\"37.7\" xlink:href=\"#ma4571a6483\" y=\"115.56536\"/>\n      </g>\n     </g>\n     <g id=\"text_8\">\n      <!-- $\\mathdefault{10^{-3}}$ -->\n      <defs>\n       <path d=\"M 10.59375 35.5 \nL 73.1875 35.5 \nL 73.1875 27.203125 \nL 10.59375 27.203125 \nz\n\" id=\"DejaVuSans-8722\"/>\n       <path d=\"M 40.578125 39.3125 \nQ 47.65625 37.796875 51.625 33 \nQ 55.609375 28.21875 55.609375 21.1875 \nQ 55.609375 10.40625 48.1875 4.484375 \nQ 40.765625 -1.421875 27.09375 -1.421875 \nQ 22.515625 -1.421875 17.65625 -0.515625 \nQ 12.796875 0.390625 7.625 2.203125 \nL 7.625 11.71875 \nQ 11.71875 9.328125 16.59375 8.109375 \nQ 21.484375 6.890625 26.8125 6.890625 \nQ 36.078125 6.890625 40.9375 10.546875 \nQ 45.796875 14.203125 45.796875 21.1875 \nQ 45.796875 27.640625 41.28125 31.265625 \nQ 36.765625 34.90625 28.71875 34.90625 \nL 20.21875 34.90625 \nL 20.21875 43.015625 \nL 29.109375 43.015625 \nQ 36.375 43.015625 40.234375 45.921875 \nQ 44.09375 48.828125 44.09375 54.296875 \nQ 44.09375 59.90625 40.109375 62.90625 \nQ 36.140625 65.921875 28.71875 65.921875 \nQ 24.65625 65.921875 20.015625 65.03125 \nQ 15.375 64.15625 9.8125 62.3125 \nL 9.8125 71.09375 \nQ 15.4375 72.65625 20.34375 73.4375 \nQ 25.25 74.21875 29.59375 74.21875 \nQ 40.828125 74.21875 47.359375 69.109375 \nQ 53.90625 64.015625 53.90625 55.328125 \nQ 53.90625 49.265625 50.4375 45.09375 \nQ 46.96875 40.921875 40.578125 39.3125 \nz\n\" id=\"DejaVuSans-51\"/>\n      </defs>\n      <g transform=\"translate(7.2 119.364579)scale(0.1 -0.1)\">\n       <use transform=\"translate(0 0.765625)\" xlink:href=\"#DejaVuSans-49\"/>\n       <use transform=\"translate(63.623047 0.765625)\" xlink:href=\"#DejaVuSans-48\"/>\n       <use transform=\"translate(128.203125 39.046875)scale(0.7)\" xlink:href=\"#DejaVuSans-8722\"/>\n       <use transform=\"translate(186.855469 39.046875)scale(0.7)\" xlink:href=\"#DejaVuSans-51\"/>\n      </g>\n     </g>\n    </g>\n    <g id=\"ytick_2\">\n     <g id=\"line2d_8\">\n      <g>\n       <use style=\"stroke:#000000;stroke-width:0.8;\" x=\"37.7\" xlink:href=\"#ma4571a6483\" y=\"78.170978\"/>\n      </g>\n     </g>\n     <g id=\"text_9\">\n      <!-- $\\mathdefault{10^{-2}}$ -->\n      <g transform=\"translate(7.2 81.970196)scale(0.1 -0.1)\">\n       <use transform=\"translate(0 0.765625)\" xlink:href=\"#DejaVuSans-49\"/>\n       <use transform=\"translate(63.623047 0.765625)\" xlink:href=\"#DejaVuSans-48\"/>\n       <use transform=\"translate(128.203125 39.046875)scale(0.7)\" xlink:href=\"#DejaVuSans-8722\"/>\n       <use transform=\"translate(186.855469 39.046875)scale(0.7)\" xlink:href=\"#DejaVuSans-50\"/>\n      </g>\n     </g>\n    </g>\n    <g id=\"ytick_3\">\n     <g id=\"line2d_9\">\n      <g>\n       <use style=\"stroke:#000000;stroke-width:0.8;\" x=\"37.7\" xlink:href=\"#ma4571a6483\" y=\"40.776595\"/>\n      </g>\n     </g>\n     <g id=\"text_10\">\n      <!-- $\\mathdefault{10^{-1}}$ -->\n      <g transform=\"translate(7.2 44.575814)scale(0.1 -0.1)\">\n       <use transform=\"translate(0 0.684375)\" xlink:href=\"#DejaVuSans-49\"/>\n       <use transform=\"translate(63.623047 0.684375)\" xlink:href=\"#DejaVuSans-48\"/>\n       <use transform=\"translate(128.203125 38.965625)scale(0.7)\" xlink:href=\"#DejaVuSans-8722\"/>\n       <use transform=\"translate(186.855469 38.965625)scale(0.7)\" xlink:href=\"#DejaVuSans-49\"/>\n      </g>\n     </g>\n    </g>\n    <g id=\"ytick_4\">\n     <g id=\"line2d_10\">\n      <defs>\n       <path d=\"M 0 0 \nL -2 0 \n\" id=\"m2ef044e434\" style=\"stroke:#000000;stroke-width:0.6;\"/>\n      </defs>\n      <g>\n       <use style=\"stroke:#000000;stroke-width:0.6;\" x=\"37.7\" xlink:href=\"#m2ef044e434\" y=\"141.702912\"/>\n      </g>\n     </g>\n    </g>\n    <g id=\"ytick_5\">\n     <g id=\"line2d_11\">\n      <g>\n       <use style=\"stroke:#000000;stroke-width:0.6;\" x=\"37.7\" xlink:href=\"#m2ef044e434\" y=\"135.118088\"/>\n      </g>\n     </g>\n    </g>\n    <g id=\"ytick_6\">\n     <g id=\"line2d_12\">\n      <g>\n       <use style=\"stroke:#000000;stroke-width:0.6;\" x=\"37.7\" xlink:href=\"#m2ef044e434\" y=\"130.446081\"/>\n      </g>\n     </g>\n    </g>\n    <g id=\"ytick_7\">\n     <g id=\"line2d_13\">\n      <g>\n       <use style=\"stroke:#000000;stroke-width:0.6;\" x=\"37.7\" xlink:href=\"#m2ef044e434\" y=\"126.822191\"/>\n      </g>\n     </g>\n    </g>\n    <g id=\"ytick_8\">\n     <g id=\"line2d_14\">\n      <g>\n       <use style=\"stroke:#000000;stroke-width:0.6;\" x=\"37.7\" xlink:href=\"#m2ef044e434\" y=\"123.861257\"/>\n      </g>\n     </g>\n    </g>\n    <g id=\"ytick_9\">\n     <g id=\"line2d_15\">\n      <g>\n       <use style=\"stroke:#000000;stroke-width:0.6;\" x=\"37.7\" xlink:href=\"#m2ef044e434\" y=\"121.357823\"/>\n      </g>\n     </g>\n    </g>\n    <g id=\"ytick_10\">\n     <g id=\"line2d_16\">\n      <g>\n       <use style=\"stroke:#000000;stroke-width:0.6;\" x=\"37.7\" xlink:href=\"#m2ef044e434\" y=\"119.18925\"/>\n      </g>\n     </g>\n    </g>\n    <g id=\"ytick_11\">\n     <g id=\"line2d_17\">\n      <g>\n       <use style=\"stroke:#000000;stroke-width:0.6;\" x=\"37.7\" xlink:href=\"#m2ef044e434\" y=\"117.276433\"/>\n      </g>\n     </g>\n    </g>\n    <g id=\"ytick_12\">\n     <g id=\"line2d_18\">\n      <g>\n       <use style=\"stroke:#000000;stroke-width:0.6;\" x=\"37.7\" xlink:href=\"#m2ef044e434\" y=\"104.308529\"/>\n      </g>\n     </g>\n    </g>\n    <g id=\"ytick_13\">\n     <g id=\"line2d_19\">\n      <g>\n       <use style=\"stroke:#000000;stroke-width:0.6;\" x=\"37.7\" xlink:href=\"#m2ef044e434\" y=\"97.723706\"/>\n      </g>\n     </g>\n    </g>\n    <g id=\"ytick_14\">\n     <g id=\"line2d_20\">\n      <g>\n       <use style=\"stroke:#000000;stroke-width:0.6;\" x=\"37.7\" xlink:href=\"#m2ef044e434\" y=\"93.051699\"/>\n      </g>\n     </g>\n    </g>\n    <g id=\"ytick_15\">\n     <g id=\"line2d_21\">\n      <g>\n       <use style=\"stroke:#000000;stroke-width:0.6;\" x=\"37.7\" xlink:href=\"#m2ef044e434\" y=\"89.427809\"/>\n      </g>\n     </g>\n    </g>\n    <g id=\"ytick_16\">\n     <g id=\"line2d_22\">\n      <g>\n       <use style=\"stroke:#000000;stroke-width:0.6;\" x=\"37.7\" xlink:href=\"#m2ef044e434\" y=\"86.466875\"/>\n      </g>\n     </g>\n    </g>\n    <g id=\"ytick_17\">\n     <g id=\"line2d_23\">\n      <g>\n       <use style=\"stroke:#000000;stroke-width:0.6;\" x=\"37.7\" xlink:href=\"#m2ef044e434\" y=\"83.963441\"/>\n      </g>\n     </g>\n    </g>\n    <g id=\"ytick_18\">\n     <g id=\"line2d_24\">\n      <g>\n       <use style=\"stroke:#000000;stroke-width:0.6;\" x=\"37.7\" xlink:href=\"#m2ef044e434\" y=\"81.794868\"/>\n      </g>\n     </g>\n    </g>\n    <g id=\"ytick_19\">\n     <g id=\"line2d_25\">\n      <g>\n       <use style=\"stroke:#000000;stroke-width:0.6;\" x=\"37.7\" xlink:href=\"#m2ef044e434\" y=\"79.882051\"/>\n      </g>\n     </g>\n    </g>\n    <g id=\"ytick_20\">\n     <g id=\"line2d_26\">\n      <g>\n       <use style=\"stroke:#000000;stroke-width:0.6;\" x=\"37.7\" xlink:href=\"#m2ef044e434\" y=\"66.914147\"/>\n      </g>\n     </g>\n    </g>\n    <g id=\"ytick_21\">\n     <g id=\"line2d_27\">\n      <g>\n       <use style=\"stroke:#000000;stroke-width:0.6;\" x=\"37.7\" xlink:href=\"#m2ef044e434\" y=\"60.329323\"/>\n      </g>\n     </g>\n    </g>\n    <g id=\"ytick_22\">\n     <g id=\"line2d_28\">\n      <g>\n       <use style=\"stroke:#000000;stroke-width:0.6;\" x=\"37.7\" xlink:href=\"#m2ef044e434\" y=\"55.657316\"/>\n      </g>\n     </g>\n    </g>\n    <g id=\"ytick_23\">\n     <g id=\"line2d_29\">\n      <g>\n       <use style=\"stroke:#000000;stroke-width:0.6;\" x=\"37.7\" xlink:href=\"#m2ef044e434\" y=\"52.033426\"/>\n      </g>\n     </g>\n    </g>\n    <g id=\"ytick_24\">\n     <g id=\"line2d_30\">\n      <g>\n       <use style=\"stroke:#000000;stroke-width:0.6;\" x=\"37.7\" xlink:href=\"#m2ef044e434\" y=\"49.072492\"/>\n      </g>\n     </g>\n    </g>\n    <g id=\"ytick_25\">\n     <g id=\"line2d_31\">\n      <g>\n       <use style=\"stroke:#000000;stroke-width:0.6;\" x=\"37.7\" xlink:href=\"#m2ef044e434\" y=\"46.569058\"/>\n      </g>\n     </g>\n    </g>\n    <g id=\"ytick_26\">\n     <g id=\"line2d_32\">\n      <g>\n       <use style=\"stroke:#000000;stroke-width:0.6;\" x=\"37.7\" xlink:href=\"#m2ef044e434\" y=\"44.400485\"/>\n      </g>\n     </g>\n    </g>\n    <g id=\"ytick_27\">\n     <g id=\"line2d_33\">\n      <g>\n       <use style=\"stroke:#000000;stroke-width:0.6;\" x=\"37.7\" xlink:href=\"#m2ef044e434\" y=\"42.487668\"/>\n      </g>\n     </g>\n    </g>\n    <g id=\"ytick_28\">\n     <g id=\"line2d_34\">\n      <g>\n       <use style=\"stroke:#000000;stroke-width:0.6;\" x=\"37.7\" xlink:href=\"#m2ef044e434\" y=\"29.519764\"/>\n      </g>\n     </g>\n    </g>\n    <g id=\"ytick_29\">\n     <g id=\"line2d_35\">\n      <g>\n       <use style=\"stroke:#000000;stroke-width:0.6;\" x=\"37.7\" xlink:href=\"#m2ef044e434\" y=\"22.934941\"/>\n      </g>\n     </g>\n    </g>\n    <g id=\"ytick_30\">\n     <g id=\"line2d_36\">\n      <g>\n       <use style=\"stroke:#000000;stroke-width:0.6;\" x=\"37.7\" xlink:href=\"#m2ef044e434\" y=\"18.262934\"/>\n      </g>\n     </g>\n    </g>\n    <g id=\"ytick_31\">\n     <g id=\"line2d_37\">\n      <g>\n       <use style=\"stroke:#000000;stroke-width:0.6;\" x=\"37.7\" xlink:href=\"#m2ef044e434\" y=\"14.639044\"/>\n      </g>\n     </g>\n    </g>\n    <g id=\"ytick_32\">\n     <g id=\"line2d_38\">\n      <g>\n       <use style=\"stroke:#000000;stroke-width:0.6;\" x=\"37.7\" xlink:href=\"#m2ef044e434\" y=\"11.67811\"/>\n      </g>\n     </g>\n    </g>\n    <g id=\"ytick_33\">\n     <g id=\"line2d_39\">\n      <g>\n       <use style=\"stroke:#000000;stroke-width:0.6;\" x=\"37.7\" xlink:href=\"#m2ef044e434\" y=\"9.174676\"/>\n      </g>\n     </g>\n    </g>\n   </g>\n   <g id=\"line2d_40\">\n    <path clip-path=\"url(#p406d168037)\" d=\"M 40.14125 13.377273 \n\" style=\"fill:none;stroke:#1f77b4;stroke-linecap:square;stroke-width:1.5;\"/>\n   </g>\n   <g id=\"line2d_41\">\n    <path clip-path=\"url(#p406d168037)\" d=\"M 40.14125 13.377273 \nL 49.90625 26.260992 \n\" style=\"fill:none;stroke:#1f77b4;stroke-linecap:square;stroke-width:1.5;\"/>\n   </g>\n   <g id=\"line2d_42\">\n    <path clip-path=\"url(#p406d168037)\" d=\"M 40.14125 13.377273 \nL 49.90625 26.260992 \n\" style=\"fill:none;stroke:#1f77b4;stroke-linecap:square;stroke-width:1.5;\"/>\n   </g>\n   <g id=\"line2d_43\">\n    <path clip-path=\"url(#p406d168037)\" d=\"M 57.23 26.105207 \n\" style=\"fill:none;stroke:#ff7f0e;stroke-dasharray:5.55,2.4;stroke-dashoffset:0;stroke-width:1.5;\"/>\n   </g>\n   <g id=\"line2d_44\">\n    <path clip-path=\"url(#p406d168037)\" d=\"M 40.14125 13.377273 \nL 49.90625 26.260992 \nL 59.67125 60.307284 \n\" style=\"fill:none;stroke:#1f77b4;stroke-linecap:square;stroke-width:1.5;\"/>\n   </g>\n   <g id=\"line2d_45\">\n    <path clip-path=\"url(#p406d168037)\" d=\"M 57.23 26.105207 \n\" style=\"fill:none;stroke:#ff7f0e;stroke-dasharray:5.55,2.4;stroke-dashoffset:0;stroke-width:1.5;\"/>\n   </g>\n   <g id=\"line2d_46\">\n    <path clip-path=\"url(#p406d168037)\" d=\"M 40.14125 13.377273 \nL 49.90625 26.260992 \nL 59.67125 60.307284 \nL 69.43625 63.766728 \n\" style=\"fill:none;stroke:#1f77b4;stroke-linecap:square;stroke-width:1.5;\"/>\n   </g>\n   <g id=\"line2d_47\">\n    <path clip-path=\"url(#p406d168037)\" d=\"M 57.23 26.105207 \n\" style=\"fill:none;stroke:#ff7f0e;stroke-dasharray:5.55,2.4;stroke-dashoffset:0;stroke-width:1.5;\"/>\n   </g>\n   <g id=\"line2d_48\">\n    <path clip-path=\"url(#p406d168037)\" d=\"M 40.14125 13.377273 \nL 49.90625 26.260992 \nL 59.67125 60.307284 \nL 69.43625 63.766728 \n\" style=\"fill:none;stroke:#1f77b4;stroke-linecap:square;stroke-width:1.5;\"/>\n   </g>\n   <g id=\"line2d_49\">\n    <path clip-path=\"url(#p406d168037)\" d=\"M 57.23 26.105207 \nL 76.76 29.904816 \n\" style=\"fill:none;stroke:#ff7f0e;stroke-dasharray:5.55,2.4;stroke-dashoffset:0;stroke-width:1.5;\"/>\n   </g>\n   <g id=\"line2d_50\">\n    <path clip-path=\"url(#p406d168037)\" d=\"M 40.14125 13.377273 \nL 49.90625 26.260992 \nL 59.67125 60.307284 \nL 69.43625 63.766728 \nL 79.20125 93.256772 \n\" style=\"fill:none;stroke:#1f77b4;stroke-linecap:square;stroke-width:1.5;\"/>\n   </g>\n   <g id=\"line2d_51\">\n    <path clip-path=\"url(#p406d168037)\" d=\"M 57.23 26.105207 \nL 76.76 29.904816 \n\" style=\"fill:none;stroke:#ff7f0e;stroke-dasharray:5.55,2.4;stroke-dashoffset:0;stroke-width:1.5;\"/>\n   </g>\n   <g id=\"line2d_52\">\n    <path clip-path=\"url(#p406d168037)\" d=\"M 40.14125 13.377273 \nL 49.90625 26.260992 \nL 59.67125 60.307284 \nL 69.43625 63.766728 \nL 79.20125 93.256772 \nL 88.96625 96.918428 \n\" style=\"fill:none;stroke:#1f77b4;stroke-linecap:square;stroke-width:1.5;\"/>\n   </g>\n   <g id=\"line2d_53\">\n    <path clip-path=\"url(#p406d168037)\" d=\"M 57.23 26.105207 \nL 76.76 29.904816 \n\" style=\"fill:none;stroke:#ff7f0e;stroke-dasharray:5.55,2.4;stroke-dashoffset:0;stroke-width:1.5;\"/>\n   </g>\n   <g id=\"line2d_54\">\n    <path clip-path=\"url(#p406d168037)\" d=\"M 40.14125 13.377273 \nL 49.90625 26.260992 \nL 59.67125 60.307284 \nL 69.43625 63.766728 \nL 79.20125 93.256772 \nL 88.96625 96.918428 \n\" style=\"fill:none;stroke:#1f77b4;stroke-linecap:square;stroke-width:1.5;\"/>\n   </g>\n   <g id=\"line2d_55\">\n    <path clip-path=\"url(#p406d168037)\" d=\"M 57.23 26.105207 \nL 76.76 29.904816 \nL 96.29 33.482276 \n\" style=\"fill:none;stroke:#ff7f0e;stroke-dasharray:5.55,2.4;stroke-dashoffset:0;stroke-width:1.5;\"/>\n   </g>\n   <g id=\"line2d_56\">\n    <path clip-path=\"url(#p406d168037)\" d=\"M 40.14125 13.377273 \nL 49.90625 26.260992 \nL 59.67125 60.307284 \nL 69.43625 63.766728 \nL 79.20125 93.256772 \nL 88.96625 96.918428 \nL 98.73125 116.311574 \n\" style=\"fill:none;stroke:#1f77b4;stroke-linecap:square;stroke-width:1.5;\"/>\n   </g>\n   <g id=\"line2d_57\">\n    <path clip-path=\"url(#p406d168037)\" d=\"M 57.23 26.105207 \nL 76.76 29.904816 \nL 96.29 33.482276 \n\" style=\"fill:none;stroke:#ff7f0e;stroke-dasharray:5.55,2.4;stroke-dashoffset:0;stroke-width:1.5;\"/>\n   </g>\n   <g id=\"line2d_58\">\n    <path clip-path=\"url(#p406d168037)\" d=\"M 40.14125 13.377273 \nL 49.90625 26.260992 \nL 59.67125 60.307284 \nL 69.43625 63.766728 \nL 79.20125 93.256772 \nL 88.96625 96.918428 \nL 98.73125 116.311574 \nL 108.49625 126.442157 \n\" style=\"fill:none;stroke:#1f77b4;stroke-linecap:square;stroke-width:1.5;\"/>\n   </g>\n   <g id=\"line2d_59\">\n    <path clip-path=\"url(#p406d168037)\" d=\"M 57.23 26.105207 \nL 76.76 29.904816 \nL 96.29 33.482276 \n\" style=\"fill:none;stroke:#ff7f0e;stroke-dasharray:5.55,2.4;stroke-dashoffset:0;stroke-width:1.5;\"/>\n   </g>\n   <g id=\"line2d_60\">\n    <path clip-path=\"url(#p406d168037)\" d=\"M 40.14125 13.377273 \nL 49.90625 26.260992 \nL 59.67125 60.307284 \nL 69.43625 63.766728 \nL 79.20125 93.256772 \nL 88.96625 96.918428 \nL 98.73125 116.311574 \nL 108.49625 126.442157 \n\" style=\"fill:none;stroke:#1f77b4;stroke-linecap:square;stroke-width:1.5;\"/>\n   </g>\n   <g id=\"line2d_61\">\n    <path clip-path=\"url(#p406d168037)\" d=\"M 57.23 26.105207 \nL 76.76 29.904816 \nL 96.29 33.482276 \nL 115.82 36.973546 \n\" style=\"fill:none;stroke:#ff7f0e;stroke-dasharray:5.55,2.4;stroke-dashoffset:0;stroke-width:1.5;\"/>\n   </g>\n   <g id=\"line2d_62\">\n    <path clip-path=\"url(#p406d168037)\" d=\"M 40.14125 13.377273 \nL 49.90625 26.260992 \nL 59.67125 60.307284 \nL 69.43625 63.766728 \nL 79.20125 93.256772 \nL 88.96625 96.918428 \nL 98.73125 116.311574 \nL 108.49625 126.442157 \nL 118.26125 127.817747 \n\" style=\"fill:none;stroke:#1f77b4;stroke-linecap:square;stroke-width:1.5;\"/>\n   </g>\n   <g id=\"line2d_63\">\n    <path clip-path=\"url(#p406d168037)\" d=\"M 57.23 26.105207 \nL 76.76 29.904816 \nL 96.29 33.482276 \nL 115.82 36.973546 \n\" style=\"fill:none;stroke:#ff7f0e;stroke-dasharray:5.55,2.4;stroke-dashoffset:0;stroke-width:1.5;\"/>\n   </g>\n   <g id=\"line2d_64\">\n    <path clip-path=\"url(#p406d168037)\" d=\"M 40.14125 13.377273 \nL 49.90625 26.260992 \nL 59.67125 60.307284 \nL 69.43625 63.766728 \nL 79.20125 93.256772 \nL 88.96625 96.918428 \nL 98.73125 116.311574 \nL 108.49625 126.442157 \nL 118.26125 127.817747 \nL 128.02625 127.207951 \n\" style=\"fill:none;stroke:#1f77b4;stroke-linecap:square;stroke-width:1.5;\"/>\n   </g>\n   <g id=\"line2d_65\">\n    <path clip-path=\"url(#p406d168037)\" d=\"M 57.23 26.105207 \nL 76.76 29.904816 \nL 96.29 33.482276 \nL 115.82 36.973546 \n\" style=\"fill:none;stroke:#ff7f0e;stroke-dasharray:5.55,2.4;stroke-dashoffset:0;stroke-width:1.5;\"/>\n   </g>\n   <g id=\"line2d_66\">\n    <path clip-path=\"url(#p406d168037)\" d=\"M 40.14125 13.377273 \nL 49.90625 26.260992 \nL 59.67125 60.307284 \nL 69.43625 63.766728 \nL 79.20125 93.256772 \nL 88.96625 96.918428 \nL 98.73125 116.311574 \nL 108.49625 126.442157 \nL 118.26125 127.817747 \nL 128.02625 127.207951 \n\" style=\"fill:none;stroke:#1f77b4;stroke-linecap:square;stroke-width:1.5;\"/>\n   </g>\n   <g id=\"line2d_67\">\n    <path clip-path=\"url(#p406d168037)\" d=\"M 57.23 26.105207 \nL 76.76 29.904816 \nL 96.29 33.482276 \nL 115.82 36.973546 \nL 135.35 40.320269 \n\" style=\"fill:none;stroke:#ff7f0e;stroke-dasharray:5.55,2.4;stroke-dashoffset:0;stroke-width:1.5;\"/>\n   </g>\n   <g id=\"line2d_68\">\n    <path clip-path=\"url(#p406d168037)\" d=\"M 40.14125 13.377273 \nL 49.90625 26.260992 \nL 59.67125 60.307284 \nL 69.43625 63.766728 \nL 79.20125 93.256772 \nL 88.96625 96.918428 \nL 98.73125 116.311574 \nL 108.49625 126.442157 \nL 118.26125 127.817747 \nL 128.02625 127.207951 \nL 137.79125 136.922727 \n\" style=\"fill:none;stroke:#1f77b4;stroke-linecap:square;stroke-width:1.5;\"/>\n   </g>\n   <g id=\"line2d_69\">\n    <path clip-path=\"url(#p406d168037)\" d=\"M 57.23 26.105207 \nL 76.76 29.904816 \nL 96.29 33.482276 \nL 115.82 36.973546 \nL 135.35 40.320269 \n\" style=\"fill:none;stroke:#ff7f0e;stroke-dasharray:5.55,2.4;stroke-dashoffset:0;stroke-width:1.5;\"/>\n   </g>\n   <g id=\"line2d_70\">\n    <path clip-path=\"url(#p406d168037)\" d=\"M 40.14125 13.377273 \nL 49.90625 26.260992 \nL 59.67125 60.307284 \nL 69.43625 63.766728 \nL 79.20125 93.256772 \nL 88.96625 96.918428 \nL 98.73125 116.311574 \nL 108.49625 126.442157 \nL 118.26125 127.817747 \nL 128.02625 127.207951 \nL 137.79125 136.922727 \nL 147.55625 115.811404 \n\" style=\"fill:none;stroke:#1f77b4;stroke-linecap:square;stroke-width:1.5;\"/>\n   </g>\n   <g id=\"line2d_71\">\n    <path clip-path=\"url(#p406d168037)\" d=\"M 57.23 26.105207 \nL 76.76 29.904816 \nL 96.29 33.482276 \nL 115.82 36.973546 \nL 135.35 40.320269 \n\" style=\"fill:none;stroke:#ff7f0e;stroke-dasharray:5.55,2.4;stroke-dashoffset:0;stroke-width:1.5;\"/>\n   </g>\n   <g id=\"line2d_72\">\n    <path clip-path=\"url(#p406d168037)\" d=\"M 40.14125 13.377273 \nL 49.90625 26.260992 \nL 59.67125 60.307284 \nL 69.43625 63.766728 \nL 79.20125 93.256772 \nL 88.96625 96.918428 \nL 98.73125 116.311574 \nL 108.49625 126.442157 \nL 118.26125 127.817747 \nL 128.02625 127.207951 \nL 137.79125 136.922727 \nL 147.55625 115.811404 \n\" style=\"fill:none;stroke:#1f77b4;stroke-linecap:square;stroke-width:1.5;\"/>\n   </g>\n   <g id=\"line2d_73\">\n    <path clip-path=\"url(#p406d168037)\" d=\"M 57.23 26.105207 \nL 76.76 29.904816 \nL 96.29 33.482276 \nL 115.82 36.973546 \nL 135.35 40.320269 \nL 154.88 43.544264 \n\" style=\"fill:none;stroke:#ff7f0e;stroke-dasharray:5.55,2.4;stroke-dashoffset:0;stroke-width:1.5;\"/>\n   </g>\n   <g id=\"line2d_74\">\n    <path clip-path=\"url(#p406d168037)\" d=\"M 40.14125 13.377273 \nL 49.90625 26.260992 \nL 59.67125 60.307284 \nL 69.43625 63.766728 \nL 79.20125 93.256772 \nL 88.96625 96.918428 \nL 98.73125 116.311574 \nL 108.49625 126.442157 \nL 118.26125 127.817747 \nL 128.02625 127.207951 \nL 137.79125 136.922727 \nL 147.55625 115.811404 \nL 157.32125 127.775655 \n\" style=\"fill:none;stroke:#1f77b4;stroke-linecap:square;stroke-width:1.5;\"/>\n   </g>\n   <g id=\"line2d_75\">\n    <path clip-path=\"url(#p406d168037)\" d=\"M 57.23 26.105207 \nL 76.76 29.904816 \nL 96.29 33.482276 \nL 115.82 36.973546 \nL 135.35 40.320269 \nL 154.88 43.544264 \n\" style=\"fill:none;stroke:#ff7f0e;stroke-dasharray:5.55,2.4;stroke-dashoffset:0;stroke-width:1.5;\"/>\n   </g>\n   <g id=\"line2d_76\">\n    <path clip-path=\"url(#p406d168037)\" d=\"M 40.14125 13.377273 \nL 49.90625 26.260992 \nL 59.67125 60.307284 \nL 69.43625 63.766728 \nL 79.20125 93.256772 \nL 88.96625 96.918428 \nL 98.73125 116.311574 \nL 108.49625 126.442157 \nL 118.26125 127.817747 \nL 128.02625 127.207951 \nL 137.79125 136.922727 \nL 147.55625 115.811404 \nL 157.32125 127.775655 \nL 167.08625 127.524174 \n\" style=\"fill:none;stroke:#1f77b4;stroke-linecap:square;stroke-width:1.5;\"/>\n   </g>\n   <g id=\"line2d_77\">\n    <path clip-path=\"url(#p406d168037)\" d=\"M 57.23 26.105207 \nL 76.76 29.904816 \nL 96.29 33.482276 \nL 115.82 36.973546 \nL 135.35 40.320269 \nL 154.88 43.544264 \n\" style=\"fill:none;stroke:#ff7f0e;stroke-dasharray:5.55,2.4;stroke-dashoffset:0;stroke-width:1.5;\"/>\n   </g>\n   <g id=\"line2d_78\">\n    <path clip-path=\"url(#p406d168037)\" d=\"M 40.14125 13.377273 \nL 49.90625 26.260992 \nL 59.67125 60.307284 \nL 69.43625 63.766728 \nL 79.20125 93.256772 \nL 88.96625 96.918428 \nL 98.73125 116.311574 \nL 108.49625 126.442157 \nL 118.26125 127.817747 \nL 128.02625 127.207951 \nL 137.79125 136.922727 \nL 147.55625 115.811404 \nL 157.32125 127.775655 \nL 167.08625 127.524174 \n\" style=\"fill:none;stroke:#1f77b4;stroke-linecap:square;stroke-width:1.5;\"/>\n   </g>\n   <g id=\"line2d_79\">\n    <path clip-path=\"url(#p406d168037)\" d=\"M 57.23 26.105207 \nL 76.76 29.904816 \nL 96.29 33.482276 \nL 115.82 36.973546 \nL 135.35 40.320269 \nL 154.88 43.544264 \nL 174.41 46.589336 \n\" style=\"fill:none;stroke:#ff7f0e;stroke-dasharray:5.55,2.4;stroke-dashoffset:0;stroke-width:1.5;\"/>\n   </g>\n   <g id=\"line2d_80\">\n    <path clip-path=\"url(#p406d168037)\" d=\"M 40.14125 13.377273 \nL 49.90625 26.260992 \nL 59.67125 60.307284 \nL 69.43625 63.766728 \nL 79.20125 93.256772 \nL 88.96625 96.918428 \nL 98.73125 116.311574 \nL 108.49625 126.442157 \nL 118.26125 127.817747 \nL 128.02625 127.207951 \nL 137.79125 136.922727 \nL 147.55625 115.811404 \nL 157.32125 127.775655 \nL 167.08625 127.524174 \nL 176.85125 123.684065 \n\" style=\"fill:none;stroke:#1f77b4;stroke-linecap:square;stroke-width:1.5;\"/>\n   </g>\n   <g id=\"line2d_81\">\n    <path clip-path=\"url(#p406d168037)\" d=\"M 57.23 26.105207 \nL 76.76 29.904816 \nL 96.29 33.482276 \nL 115.82 36.973546 \nL 135.35 40.320269 \nL 154.88 43.544264 \nL 174.41 46.589336 \n\" style=\"fill:none;stroke:#ff7f0e;stroke-dasharray:5.55,2.4;stroke-dashoffset:0;stroke-width:1.5;\"/>\n   </g>\n   <g id=\"line2d_82\">\n    <path clip-path=\"url(#p406d168037)\" d=\"M 40.14125 13.377273 \nL 49.90625 26.260992 \nL 59.67125 60.307284 \nL 69.43625 63.766728 \nL 79.20125 93.256772 \nL 88.96625 96.918428 \nL 98.73125 116.311574 \nL 108.49625 126.442157 \nL 118.26125 127.817747 \nL 128.02625 127.207951 \nL 137.79125 136.922727 \nL 147.55625 115.811404 \nL 157.32125 127.775655 \nL 167.08625 127.524174 \nL 176.85125 123.684065 \nL 186.61625 132.046561 \n\" style=\"fill:none;stroke:#1f77b4;stroke-linecap:square;stroke-width:1.5;\"/>\n   </g>\n   <g id=\"line2d_83\">\n    <path clip-path=\"url(#p406d168037)\" d=\"M 57.23 26.105207 \nL 76.76 29.904816 \nL 96.29 33.482276 \nL 115.82 36.973546 \nL 135.35 40.320269 \nL 154.88 43.544264 \nL 174.41 46.589336 \n\" style=\"fill:none;stroke:#ff7f0e;stroke-dasharray:5.55,2.4;stroke-dashoffset:0;stroke-width:1.5;\"/>\n   </g>\n   <g id=\"line2d_84\">\n    <path clip-path=\"url(#p406d168037)\" d=\"M 40.14125 13.377273 \nL 49.90625 26.260992 \nL 59.67125 60.307284 \nL 69.43625 63.766728 \nL 79.20125 93.256772 \nL 88.96625 96.918428 \nL 98.73125 116.311574 \nL 108.49625 126.442157 \nL 118.26125 127.817747 \nL 128.02625 127.207951 \nL 137.79125 136.922727 \nL 147.55625 115.811404 \nL 157.32125 127.775655 \nL 167.08625 127.524174 \nL 176.85125 123.684065 \nL 186.61625 132.046561 \n\" style=\"fill:none;stroke:#1f77b4;stroke-linecap:square;stroke-width:1.5;\"/>\n   </g>\n   <g id=\"line2d_85\">\n    <path clip-path=\"url(#p406d168037)\" d=\"M 57.23 26.105207 \nL 76.76 29.904816 \nL 96.29 33.482276 \nL 115.82 36.973546 \nL 135.35 40.320269 \nL 154.88 43.544264 \nL 174.41 46.589336 \nL 193.94 49.496004 \n\" style=\"fill:none;stroke:#ff7f0e;stroke-dasharray:5.55,2.4;stroke-dashoffset:0;stroke-width:1.5;\"/>\n   </g>\n   <g id=\"line2d_86\">\n    <path clip-path=\"url(#p406d168037)\" d=\"M 40.14125 13.377273 \nL 49.90625 26.260992 \nL 59.67125 60.307284 \nL 69.43625 63.766728 \nL 79.20125 93.256772 \nL 88.96625 96.918428 \nL 98.73125 116.311574 \nL 108.49625 126.442157 \nL 118.26125 127.817747 \nL 128.02625 127.207951 \nL 137.79125 136.922727 \nL 147.55625 115.811404 \nL 157.32125 127.775655 \nL 167.08625 127.524174 \nL 176.85125 123.684065 \nL 186.61625 132.046561 \nL 196.38125 124.441035 \n\" style=\"fill:none;stroke:#1f77b4;stroke-linecap:square;stroke-width:1.5;\"/>\n   </g>\n   <g id=\"line2d_87\">\n    <path clip-path=\"url(#p406d168037)\" d=\"M 57.23 26.105207 \nL 76.76 29.904816 \nL 96.29 33.482276 \nL 115.82 36.973546 \nL 135.35 40.320269 \nL 154.88 43.544264 \nL 174.41 46.589336 \nL 193.94 49.496004 \n\" style=\"fill:none;stroke:#ff7f0e;stroke-dasharray:5.55,2.4;stroke-dashoffset:0;stroke-width:1.5;\"/>\n   </g>\n   <g id=\"line2d_88\">\n    <path clip-path=\"url(#p406d168037)\" d=\"M 40.14125 13.377273 \nL 49.90625 26.260992 \nL 59.67125 60.307284 \nL 69.43625 63.766728 \nL 79.20125 93.256772 \nL 88.96625 96.918428 \nL 98.73125 116.311574 \nL 108.49625 126.442157 \nL 118.26125 127.817747 \nL 128.02625 127.207951 \nL 137.79125 136.922727 \nL 147.55625 115.811404 \nL 157.32125 127.775655 \nL 167.08625 127.524174 \nL 176.85125 123.684065 \nL 186.61625 132.046561 \nL 196.38125 124.441035 \nL 206.14625 126.694572 \n\" style=\"fill:none;stroke:#1f77b4;stroke-linecap:square;stroke-width:1.5;\"/>\n   </g>\n   <g id=\"line2d_89\">\n    <path clip-path=\"url(#p406d168037)\" d=\"M 57.23 26.105207 \nL 76.76 29.904816 \nL 96.29 33.482276 \nL 115.82 36.973546 \nL 135.35 40.320269 \nL 154.88 43.544264 \nL 174.41 46.589336 \nL 193.94 49.496004 \n\" style=\"fill:none;stroke:#ff7f0e;stroke-dasharray:5.55,2.4;stroke-dashoffset:0;stroke-width:1.5;\"/>\n   </g>\n   <g id=\"line2d_90\">\n    <path clip-path=\"url(#p406d168037)\" d=\"M 40.14125 13.377273 \nL 49.90625 26.260992 \nL 59.67125 60.307284 \nL 69.43625 63.766728 \nL 79.20125 93.256772 \nL 88.96625 96.918428 \nL 98.73125 116.311574 \nL 108.49625 126.442157 \nL 118.26125 127.817747 \nL 128.02625 127.207951 \nL 137.79125 136.922727 \nL 147.55625 115.811404 \nL 157.32125 127.775655 \nL 167.08625 127.524174 \nL 176.85125 123.684065 \nL 186.61625 132.046561 \nL 196.38125 124.441035 \nL 206.14625 126.694572 \n\" style=\"fill:none;stroke:#1f77b4;stroke-linecap:square;stroke-width:1.5;\"/>\n   </g>\n   <g id=\"line2d_91\">\n    <path clip-path=\"url(#p406d168037)\" d=\"M 57.23 26.105207 \nL 76.76 29.904816 \nL 96.29 33.482276 \nL 115.82 36.973546 \nL 135.35 40.320269 \nL 154.88 43.544264 \nL 174.41 46.589336 \nL 193.94 49.496004 \nL 213.47 52.16885 \n\" style=\"fill:none;stroke:#ff7f0e;stroke-dasharray:5.55,2.4;stroke-dashoffset:0;stroke-width:1.5;\"/>\n   </g>\n   <g id=\"line2d_92\">\n    <path clip-path=\"url(#p406d168037)\" d=\"M 40.14125 13.377273 \nL 49.90625 26.260992 \nL 59.67125 60.307284 \nL 69.43625 63.766728 \nL 79.20125 93.256772 \nL 88.96625 96.918428 \nL 98.73125 116.311574 \nL 108.49625 126.442157 \nL 118.26125 127.817747 \nL 128.02625 127.207951 \nL 137.79125 136.922727 \nL 147.55625 115.811404 \nL 157.32125 127.775655 \nL 167.08625 127.524174 \nL 176.85125 123.684065 \nL 186.61625 132.046561 \nL 196.38125 124.441035 \nL 206.14625 126.694572 \nL 215.91125 135.184329 \n\" style=\"fill:none;stroke:#1f77b4;stroke-linecap:square;stroke-width:1.5;\"/>\n   </g>\n   <g id=\"line2d_93\">\n    <path clip-path=\"url(#p406d168037)\" d=\"M 57.23 26.105207 \nL 76.76 29.904816 \nL 96.29 33.482276 \nL 115.82 36.973546 \nL 135.35 40.320269 \nL 154.88 43.544264 \nL 174.41 46.589336 \nL 193.94 49.496004 \nL 213.47 52.16885 \n\" style=\"fill:none;stroke:#ff7f0e;stroke-dasharray:5.55,2.4;stroke-dashoffset:0;stroke-width:1.5;\"/>\n   </g>\n   <g id=\"line2d_94\">\n    <path clip-path=\"url(#p406d168037)\" d=\"M 40.14125 13.377273 \nL 49.90625 26.260992 \nL 59.67125 60.307284 \nL 69.43625 63.766728 \nL 79.20125 93.256772 \nL 88.96625 96.918428 \nL 98.73125 116.311574 \nL 108.49625 126.442157 \nL 118.26125 127.817747 \nL 128.02625 127.207951 \nL 137.79125 136.922727 \nL 147.55625 115.811404 \nL 157.32125 127.775655 \nL 167.08625 127.524174 \nL 176.85125 123.684065 \nL 186.61625 132.046561 \nL 196.38125 124.441035 \nL 206.14625 126.694572 \nL 215.91125 135.184329 \nL 225.67625 117.921178 \n\" style=\"fill:none;stroke:#1f77b4;stroke-linecap:square;stroke-width:1.5;\"/>\n   </g>\n   <g id=\"line2d_95\">\n    <path clip-path=\"url(#p406d168037)\" d=\"M 57.23 26.105207 \nL 76.76 29.904816 \nL 96.29 33.482276 \nL 115.82 36.973546 \nL 135.35 40.320269 \nL 154.88 43.544264 \nL 174.41 46.589336 \nL 193.94 49.496004 \nL 213.47 52.16885 \n\" style=\"fill:none;stroke:#ff7f0e;stroke-dasharray:5.55,2.4;stroke-dashoffset:0;stroke-width:1.5;\"/>\n   </g>\n   <g id=\"line2d_96\">\n    <path clip-path=\"url(#p406d168037)\" d=\"M 40.14125 13.377273 \nL 49.90625 26.260992 \nL 59.67125 60.307284 \nL 69.43625 63.766728 \nL 79.20125 93.256772 \nL 88.96625 96.918428 \nL 98.73125 116.311574 \nL 108.49625 126.442157 \nL 118.26125 127.817747 \nL 128.02625 127.207951 \nL 137.79125 136.922727 \nL 147.55625 115.811404 \nL 157.32125 127.775655 \nL 167.08625 127.524174 \nL 176.85125 123.684065 \nL 186.61625 132.046561 \nL 196.38125 124.441035 \nL 206.14625 126.694572 \nL 215.91125 135.184329 \nL 225.67625 117.921178 \n\" style=\"fill:none;stroke:#1f77b4;stroke-linecap:square;stroke-width:1.5;\"/>\n   </g>\n   <g id=\"line2d_97\">\n    <path clip-path=\"url(#p406d168037)\" d=\"M 57.23 26.105207 \nL 76.76 29.904816 \nL 96.29 33.482276 \nL 115.82 36.973546 \nL 135.35 40.320269 \nL 154.88 43.544264 \nL 174.41 46.589336 \nL 193.94 49.496004 \nL 213.47 52.16885 \nL 233 54.586134 \n\" style=\"fill:none;stroke:#ff7f0e;stroke-dasharray:5.55,2.4;stroke-dashoffset:0;stroke-width:1.5;\"/>\n   </g>\n   <g id=\"patch_3\">\n    <path d=\"M 37.7 143.1 \nL 37.7 7.2 \n\" style=\"fill:none;stroke:#000000;stroke-linecap:square;stroke-linejoin:miter;stroke-width:0.8;\"/>\n   </g>\n   <g id=\"patch_4\">\n    <path d=\"M 233 143.1 \nL 233 7.2 \n\" style=\"fill:none;stroke:#000000;stroke-linecap:square;stroke-linejoin:miter;stroke-width:0.8;\"/>\n   </g>\n   <g id=\"patch_5\">\n    <path d=\"M 37.7 143.1 \nL 233 143.1 \n\" style=\"fill:none;stroke:#000000;stroke-linecap:square;stroke-linejoin:miter;stroke-width:0.8;\"/>\n   </g>\n   <g id=\"patch_6\">\n    <path d=\"M 37.7 7.2 \nL 233 7.2 \n\" style=\"fill:none;stroke:#000000;stroke-linecap:square;stroke-linejoin:miter;stroke-width:0.8;\"/>\n   </g>\n   <g id=\"legend_1\">\n    <g id=\"patch_7\">\n     <path d=\"M 146.409375 91.60625 \nL 226 91.60625 \nQ 228 91.60625 228 89.60625 \nL 228 60.69375 \nQ 228 58.69375 226 58.69375 \nL 146.409375 58.69375 \nQ 144.409375 58.69375 144.409375 60.69375 \nL 144.409375 89.60625 \nQ 144.409375 91.60625 146.409375 91.60625 \nz\n\" style=\"fill:#ffffff;opacity:0.8;stroke:#cccccc;stroke-linejoin:miter;\"/>\n    </g>\n    <g id=\"line2d_98\">\n     <path d=\"M 148.409375 66.792187 \nL 168.409375 66.792187 \n\" style=\"fill:none;stroke:#1f77b4;stroke-linecap:square;stroke-width:1.5;\"/>\n    </g>\n    <g id=\"line2d_99\"/>\n    <g id=\"text_11\">\n     <!-- train_loss -->\n     <defs>\n      <path d=\"M 18.3125 70.21875 \nL 18.3125 54.6875 \nL 36.8125 54.6875 \nL 36.8125 47.703125 \nL 18.3125 47.703125 \nL 18.3125 18.015625 \nQ 18.3125 11.328125 20.140625 9.421875 \nQ 21.96875 7.515625 27.59375 7.515625 \nL 36.8125 7.515625 \nL 36.8125 0 \nL 27.59375 0 \nQ 17.1875 0 13.234375 3.875 \nQ 9.28125 7.765625 9.28125 18.015625 \nL 9.28125 47.703125 \nL 2.6875 47.703125 \nL 2.6875 54.6875 \nL 9.28125 54.6875 \nL 9.28125 70.21875 \nz\n\" id=\"DejaVuSans-116\"/>\n      <path d=\"M 41.109375 46.296875 \nQ 39.59375 47.171875 37.8125 47.578125 \nQ 36.03125 48 33.890625 48 \nQ 26.265625 48 22.1875 43.046875 \nQ 18.109375 38.09375 18.109375 28.8125 \nL 18.109375 0 \nL 9.078125 0 \nL 9.078125 54.6875 \nL 18.109375 54.6875 \nL 18.109375 46.1875 \nQ 20.953125 51.171875 25.484375 53.578125 \nQ 30.03125 56 36.53125 56 \nQ 37.453125 56 38.578125 55.875 \nQ 39.703125 55.765625 41.0625 55.515625 \nz\n\" id=\"DejaVuSans-114\"/>\n      <path d=\"M 34.28125 27.484375 \nQ 23.390625 27.484375 19.1875 25 \nQ 14.984375 22.515625 14.984375 16.5 \nQ 14.984375 11.71875 18.140625 8.90625 \nQ 21.296875 6.109375 26.703125 6.109375 \nQ 34.1875 6.109375 38.703125 11.40625 \nQ 43.21875 16.703125 43.21875 25.484375 \nL 43.21875 27.484375 \nz\nM 52.203125 31.203125 \nL 52.203125 0 \nL 43.21875 0 \nL 43.21875 8.296875 \nQ 40.140625 3.328125 35.546875 0.953125 \nQ 30.953125 -1.421875 24.3125 -1.421875 \nQ 15.921875 -1.421875 10.953125 3.296875 \nQ 6 8.015625 6 15.921875 \nQ 6 25.140625 12.171875 29.828125 \nQ 18.359375 34.515625 30.609375 34.515625 \nL 43.21875 34.515625 \nL 43.21875 35.40625 \nQ 43.21875 41.609375 39.140625 45 \nQ 35.0625 48.390625 27.6875 48.390625 \nQ 23 48.390625 18.546875 47.265625 \nQ 14.109375 46.140625 10.015625 43.890625 \nL 10.015625 52.203125 \nQ 14.9375 54.109375 19.578125 55.046875 \nQ 24.21875 56 28.609375 56 \nQ 40.484375 56 46.34375 49.84375 \nQ 52.203125 43.703125 52.203125 31.203125 \nz\n\" id=\"DejaVuSans-97\"/>\n      <path d=\"M 9.421875 54.6875 \nL 18.40625 54.6875 \nL 18.40625 0 \nL 9.421875 0 \nz\nM 9.421875 75.984375 \nL 18.40625 75.984375 \nL 18.40625 64.59375 \nL 9.421875 64.59375 \nz\n\" id=\"DejaVuSans-105\"/>\n      <path d=\"M 54.890625 33.015625 \nL 54.890625 0 \nL 45.90625 0 \nL 45.90625 32.71875 \nQ 45.90625 40.484375 42.875 44.328125 \nQ 39.84375 48.1875 33.796875 48.1875 \nQ 26.515625 48.1875 22.3125 43.546875 \nQ 18.109375 38.921875 18.109375 30.90625 \nL 18.109375 0 \nL 9.078125 0 \nL 9.078125 54.6875 \nL 18.109375 54.6875 \nL 18.109375 46.1875 \nQ 21.34375 51.125 25.703125 53.5625 \nQ 30.078125 56 35.796875 56 \nQ 45.21875 56 50.046875 50.171875 \nQ 54.890625 44.34375 54.890625 33.015625 \nz\n\" id=\"DejaVuSans-110\"/>\n      <path d=\"M 50.984375 -16.609375 \nL 50.984375 -23.578125 \nL -0.984375 -23.578125 \nL -0.984375 -16.609375 \nz\n\" id=\"DejaVuSans-95\"/>\n      <path d=\"M 9.421875 75.984375 \nL 18.40625 75.984375 \nL 18.40625 0 \nL 9.421875 0 \nz\n\" id=\"DejaVuSans-108\"/>\n      <path d=\"M 44.28125 53.078125 \nL 44.28125 44.578125 \nQ 40.484375 46.53125 36.375 47.5 \nQ 32.28125 48.484375 27.875 48.484375 \nQ 21.1875 48.484375 17.84375 46.4375 \nQ 14.5 44.390625 14.5 40.28125 \nQ 14.5 37.15625 16.890625 35.375 \nQ 19.28125 33.59375 26.515625 31.984375 \nL 29.59375 31.296875 \nQ 39.15625 29.25 43.1875 25.515625 \nQ 47.21875 21.78125 47.21875 15.09375 \nQ 47.21875 7.46875 41.1875 3.015625 \nQ 35.15625 -1.421875 24.609375 -1.421875 \nQ 20.21875 -1.421875 15.453125 -0.5625 \nQ 10.6875 0.296875 5.421875 2 \nL 5.421875 11.28125 \nQ 10.40625 8.6875 15.234375 7.390625 \nQ 20.0625 6.109375 24.8125 6.109375 \nQ 31.15625 6.109375 34.5625 8.28125 \nQ 37.984375 10.453125 37.984375 14.40625 \nQ 37.984375 18.0625 35.515625 20.015625 \nQ 33.0625 21.96875 24.703125 23.78125 \nL 21.578125 24.515625 \nQ 13.234375 26.265625 9.515625 29.90625 \nQ 5.8125 33.546875 5.8125 39.890625 \nQ 5.8125 47.609375 11.28125 51.796875 \nQ 16.75 56 26.8125 56 \nQ 31.78125 56 36.171875 55.265625 \nQ 40.578125 54.546875 44.28125 53.078125 \nz\n\" id=\"DejaVuSans-115\"/>\n     </defs>\n     <g transform=\"translate(176.409375 70.292187)scale(0.1 -0.1)\">\n      <use xlink:href=\"#DejaVuSans-116\"/>\n      <use x=\"39.208984\" xlink:href=\"#DejaVuSans-114\"/>\n      <use x=\"80.322266\" xlink:href=\"#DejaVuSans-97\"/>\n      <use x=\"141.601562\" xlink:href=\"#DejaVuSans-105\"/>\n      <use x=\"169.384766\" xlink:href=\"#DejaVuSans-110\"/>\n      <use x=\"232.763672\" xlink:href=\"#DejaVuSans-95\"/>\n      <use x=\"282.763672\" xlink:href=\"#DejaVuSans-108\"/>\n      <use x=\"310.546875\" xlink:href=\"#DejaVuSans-111\"/>\n      <use x=\"371.728516\" xlink:href=\"#DejaVuSans-115\"/>\n      <use x=\"423.828125\" xlink:href=\"#DejaVuSans-115\"/>\n     </g>\n    </g>\n    <g id=\"line2d_100\">\n     <path d=\"M 148.409375 81.748437 \nL 168.409375 81.748437 \n\" style=\"fill:none;stroke:#ff7f0e;stroke-dasharray:5.55,2.4;stroke-dashoffset:0;stroke-width:1.5;\"/>\n    </g>\n    <g id=\"line2d_101\"/>\n    <g id=\"text_12\">\n     <!-- val_loss -->\n     <defs>\n      <path d=\"M 2.984375 54.6875 \nL 12.5 54.6875 \nL 29.59375 8.796875 \nL 46.6875 54.6875 \nL 56.203125 54.6875 \nL 35.6875 0 \nL 23.484375 0 \nz\n\" id=\"DejaVuSans-118\"/>\n     </defs>\n     <g transform=\"translate(176.409375 85.248437)scale(0.1 -0.1)\">\n      <use xlink:href=\"#DejaVuSans-118\"/>\n      <use x=\"59.179688\" xlink:href=\"#DejaVuSans-97\"/>\n      <use x=\"120.458984\" xlink:href=\"#DejaVuSans-108\"/>\n      <use x=\"148.242188\" xlink:href=\"#DejaVuSans-95\"/>\n      <use x=\"198.242188\" xlink:href=\"#DejaVuSans-108\"/>\n      <use x=\"226.025391\" xlink:href=\"#DejaVuSans-111\"/>\n      <use x=\"287.207031\" xlink:href=\"#DejaVuSans-115\"/>\n      <use x=\"339.306641\" xlink:href=\"#DejaVuSans-115\"/>\n     </g>\n    </g>\n   </g>\n  </g>\n </g>\n <defs>\n  <clipPath id=\"p406d168037\">\n   <rect height=\"135.9\" width=\"195.3\" x=\"37.7\" y=\"7.2\"/>\n  </clipPath>\n </defs>\n</svg>\n"
          },
          "metadata": {
            "needs_background": "light"
          }
        }
      ]
    },
    {
      "cell_type": "code",
      "source": [
        "%%shell\n",
        "jupyter nbconvert --to html 03_D2L_Linear_Neural_Networks_for_Regression.ipynb"
      ],
      "metadata": {
        "colab": {
          "base_uri": "https://localhost:8080/"
        },
        "id": "aOk2MMbL0zZ0",
        "outputId": "1e502f8a-885c-497f-ed60-50165ba4ccfc"
      },
      "execution_count": 61,
      "outputs": [
        {
          "output_type": "stream",
          "name": "stdout",
          "text": [
            "[NbConvertApp] Converting notebook 03_D2L_Linear_Neural_Networks_for_Regression.ipynb to html\n",
            "[NbConvertApp] Writing 503279 bytes to 03_D2L_Linear_Neural_Networks_for_Regression.html\n"
          ]
        },
        {
          "output_type": "execute_result",
          "data": {
            "text/plain": []
          },
          "metadata": {},
          "execution_count": 61
        }
      ]
    }
  ]
}